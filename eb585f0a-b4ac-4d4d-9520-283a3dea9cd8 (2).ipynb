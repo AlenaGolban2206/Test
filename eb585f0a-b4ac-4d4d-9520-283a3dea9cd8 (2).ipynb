{
 "cells": [
  {
   "cell_type": "markdown",
   "metadata": {},
   "source": [
    "<div class=\"alert alert-success\">\n",
    "<font size=\"4\"><b>✔️ Комментарий ревьюера v4</b></font>\n",
    "    <br /> \n",
    "    <font size=\"3\", color = \"black\">\n",
    "<br />\n",
    "И снова добрый день! 🙂\n",
    "\n",
    "Всё теперь вычисляется корректно, причин для ещё одной  доработки не вижу.\n",
    "\n",
    "Если захочешь ещё поупрожняться - рекомендую попробовать добавить <a href=\"https://scikit-learn.org/stable/modules/generated/sklearn.preprocessing.PolynomialFeatures.html\">sklearn.preprocessing.PolynomialFeatures</a> в данные - линейная модель к полиномиальным фичам весьма чувствительна, итоговые результаты могут притерпеть интересные изменения 😉\n",
    "\n",
    "На этом всё. Успехов с последующими заданиями!"
   ]
  },
  {
   "cell_type": "markdown",
   "metadata": {},
   "source": [
    "<div class=\"alert alert-info\">\n",
    "<font size=\"4\">🍕<b> Комментарий ревьюера v3</b></font>\n",
    "    <br /> \n",
    "    <font size=\"3\", color = \"black\">\n",
    "<br />\n",
    "Приветствую снова!\n",
    "\n",
    "Ответ на твой вопрос почему везде отрицательные значения дал ниже. Если вкратце, ты удаляла пропуски, а они не удалились. Почему так и что с этим делать - в моём комментарии под dropna.\n",
    "\n",
    "В целом, кажется, после устранения этого нюансы уже не будет никаких преград для зачёта проекта :)"
   ]
  },
  {
   "cell_type": "markdown",
   "metadata": {},
   "source": [
    "<div class=\"alert alert-info\" style=\"background-color: orange;\">\n",
    "<font size=\"4\"><b> Комментарий студента 3</b></font>\n",
    "    <br /> \n",
    "    <font size=\"3\", color = \"black\">\n",
    "<br />\n",
    "Всё, наконец-то вышло что-то путное, мне очень понравилось ревью, объяснения очень понятные, не везде так везет,спасибо огромное!!!\n",
    "    </font>\n",
    "</div>"
   ]
  },
  {
   "cell_type": "markdown",
   "metadata": {},
   "source": [
    "<div class=\"alert alert-info\">\n",
    "<font size=\"4\">🍕<b> Комментарий ревьюера v4</b></font>\n",
    "    <br /> \n",
    "    <font size=\"3\", color = \"black\">\n",
    "<br />\n",
    "Спасибо! Не все студенты пишут приятный добрый фидбек, моё настроение улучшилось 😊"
   ]
  },
  {
   "cell_type": "markdown",
   "metadata": {},
   "source": [
    "<div class=\"alert alert-info\">\n",
    "<font size=\"4\">🍕<b> Комментарий ревьюера v2</b></font>\n",
    "    <br /> \n",
    "    <font size=\"3\", color = \"black\">\n",
    "<br />\n",
    "Приветствую ещё раз!\n",
    "\n",
    "Попытался пояснить что хотел от тебя во второй части красного комментария. Надеюсь, стало яснее. Теперь жду, надеюсь, последнюю отправку твоего проекта на ревью :)"
   ]
  },
  {
   "cell_type": "markdown",
   "metadata": {},
   "source": [
    "<div class=\"alert alert-info\" style=\"background-color: orange;\">\n",
    "<font size=\"4\"><b> Комментарий студента 2</b></font>\n",
    "    <br /> \n",
    "    <font size=\"3\", color = \"black\">\n",
    "<br />\n",
    "Такс, я всё поправила, остался один вопрос небольшой, буду рада ответу    \n",
    "\n",
    "Спасибо большое за проверку и удачи с твоим проектом!\n",
    "    </font>\n",
    "</div>"
   ]
  },
  {
   "cell_type": "markdown",
   "metadata": {},
   "source": [
    "<div class=\"alert alert-info\">\n",
    "<font size=\"4\"><b>Комментарий ревьюера</b></font>\n",
    "    <br /> \n",
    "    <font size=\"3\", color = \"black\">\n",
    "<br />\n",
    "    Привет, Алёна! Спасибо, что прислала задание :) <br>Меня зовут Никита Сон и я буду проверять твой проект. Предлагаю обращаться друг к другу на ты, как это принято в Практикуме, если ты не против. Но если хочешь на Вы - не буду возражать 🙂\n",
    "        \n",
    "Поехали 🚀\n",
    "    <br />\n",
    "\n",
    "Мои комментарии обозначены пометкой <b>Комментарий ревьюера</b>. При внесении правок в проект, пожалуйста, не меняй и не удаляй их т.к. дальнейшая проверка будет происходить в том числе на основе того, исправлены замечания в комментариях или нет. Зато ты всегда можешь оставить свои комментарии для меня :)\n",
    "    </font>\n",
    "</div>\n",
    "\n",
    "<div class=\"alert alert-success\">\n",
    "<font size=\"4\"><b>✔️ Комментарий ревьюера</b></font>\n",
    "    <br /> \n",
    "    <font size=\"3\", color = \"black\">\n",
    "<br />\n",
    "В зелёных блоках будут позитивные комментарии\n",
    "<br />\n",
    "    </font>\n",
    "</div>\n",
    "\n",
    "<div class=\"alert alert-warning\">\n",
    "<font size=\"4\"><b>⚠️ Комментарий ревьюера</b></font>\n",
    "    <br /> \n",
    "    <font size=\"3\", color = \"black\">\n",
    "<br />\n",
    "В жёлтых - некритичные замечания\n",
    "    </font>\n",
    "</div>\n",
    "\n",
    "<div class=\"alert alert-danger\">\n",
    "<font size=\"4\"><b>❌ Комментарий ревьюера</b></font>\n",
    "    <br /> \n",
    "    <font size=\"3\", color = \"black\">\n",
    "<br /> \n",
    "В красных - важные замечания, которые надо обязательно устранить\n",
    "    </font>\n",
    "</div>\n",
    "\n",
    "<div class=\"alert alert-info\">\n",
    "<font size=\"4\">🍕<b> Комментарий ревьюера</b></font>\n",
    "    <br /> \n",
    "    <font size=\"3\", color = \"black\">\n",
    "<br /> \n",
    "В синих с пиццей - различные нейтральные сообщения, советы на будущее и прочее.\n",
    "    </font>\n",
    "</div>"
   ]
  },
  {
   "cell_type": "markdown",
   "metadata": {},
   "source": [
    "<div class=\"alert alert-info\" style=\"background-color: orange;\">\n",
    "<font size=\"4\"><b> Комментарий студента 1</b></font>\n",
    "    <br /> \n",
    "    <font size=\"3\", color = \"black\">\n",
    "<br />\n",
    "Привет! На ты удобно, буду рада если ты ответишь на пару моих вопросов помимо проекта:)  \n",
    "Я составила список вопросов в общем и целом и была бы очень рада твоим полным ответам на них:\n",
    "\n",
    "1)Расскажи, пожалуйста, про твой путь в ДС: образование, должности, нынешний статус  \n",
    "2)У меня менеджерское образование(УЦП) и в теме я с нуля, насколько таких кандидатов рассматривают на стажерские/джуниорские позиции на твой взгляд?  \n",
    "3)В обучении было много всего математического, что трудно проходится и быстро забывается, что тебе лично пригождается в работе?   Как оценить свою мат базу, какие темы самые частоиспользуемые? (Была бы рада интересным статьям)  \n",
    "4)Правда ли, что сейчас почти на всех собесах встречается лайв кодинг и на каком уровне, если да? Типа прям простыню надо написать, или показать,что ты догадываешься как работают циклы и строятся модели по типу как в проекте?  \n",
    "5)Используешь ли ты нейронки в работе и как? Как к этому вообще относятся работодатели сейчас?  \n",
    "6)В каких моментах в твоей работе встречается рутина? Какое примерно процентное соотношение с тем, что тебе реально интересно        \n",
    "7)Какой обман ты встречал после трудоустройства в среде? К примеру, на моей работе мне обещали творчество, по итогу творчество сводится к тому, чтобы написать hello ... или dear....  \n",
    "8)Где кончаются перспективы ДС? Какой потолок для среднестатистического человека? Какие кросс-направления можно рассмотреть?  \n",
    "9)Как смотрят на работе на прохождение курсов (имеется в виду, вот закончу я курс от Яндекса и приду на собес в компанию, а там меня спросят об опыте, а я скажу - курсы от Яндекса)? Как на \"яснопонятно\" или это что-то вЕсит?  \n",
    "10)Мы делаем проекты, но у меня всё равно создается ощущение, что работодатель посмотрит на них и улыбнется, насколько тщательно их просматривают на твой взгляд? Лучше больше, но качественней или всё таки брать надо числом?  \n",
    "Это первый проект, который я очень сильно хочу выложить, мне кажется, он не очень простой и тут достойный уровень. Может ты бы посоветовал ещё что-то добавить?  \n",
    "11)Какой аспект самый важный, когда выкладваешь проект на Гитхаб, чтобы запомнился?   \n",
    "12)Чему обучаться ДС на Питоне? Уходить больше в бэкенд или какие-то другие области? Как писать более лаконичный код?Я чувствую, чтодругие студенты и соискатели меня превосходят, но я могу разобраться в материалах только отсюда, в других источниках читаю и забываю  \n",
    "13)\"Сезон вакансий\" такой же как и у других? Конец лета и середина зимы?  \n",
    "14)Какие каверзные вопросы/задания встречал на собесах?  \n",
    "15)Дай личный совет относительно пути в профессии, пожалуйста:)          \n",
    "    </font>\n",
    "</div>"
   ]
  },
  {
   "cell_type": "markdown",
   "metadata": {},
   "source": [
    "<div class=\"alert alert-info\">\n",
    "<font size=\"4\">🍕<b> Комментарий ревьюера v2</b></font>\n",
    "    <br /> \n",
    "    <font size=\"3\", color = \"black\">\n",
    "<br />\n",
    "Столько вопросов, столько нераскрытых тем, а у меня работа горит, и проект тоже скоро сгорит, так что постараюсь буду кратко и не по порядку списка, могу что-то упустить.\n",
    "\n",
    "Я работаю ds в коллекторской организации, строю модели, прогнозирующие сборы с уже имеющихся должников, целесообразность покупки новых портфелей должников, и тому подобное. Нейронки тут не используются потому что градиентный бустинг с табличными данными работает точно не хуже, а ресурсов использует не больше. Ну так как компания небольшая и не то чтобы очень технически продвинутая, ещё и немного it-разнорабочий, автоматизирующий многие делавшиеся до этого вручную процессы, благо питон тут кроме меня знает толькой мой коллега, второй ds :) Ранее работал много где, рамблер, хэдхантер, сбер. До ds был обычным разработчиком, причём на c++, потом перешёл на должность разработчик-математик, то есть писал код, в основном считающий какие-то статистики, имитирующий случайные процессы и пр, потом уже перешёл в ds. А до работы закончил сначала физмат школу, потому факультет аэрофизики и космичесских исследований МФТИ :)\n",
    "\n",
    "На тему рассмотрения таких кандидатов, всё очень зависит от конкретного места. В целом, не буду скрывать, в мире it есть и эйджизм, и сексизм, и снисходительное отношение к выпускникам курсов, но я бы сказал, что этого всё-таки меньше, чем в большинстве других сфер деятельности. Опять же, я выпустил 3 когорты студентов как наставник, и ребята делятся уже своими успехами. Вот недавно паренёк, работавший до своих 45 в какой-то научной организации, вышел на ds-работу уже спустя 3 месяца после курса. Да, он изначально даже несколько потерял в зарплате, но убеждён, что он наверстает, он уже на хабре статьи публикует, что тоже показатель некоторого успеха. И я знаю почему именно у него получилось лучше и быстрее всех сменить свою деятельность: он проникся моими словами, что курс - не есть весь дата саенс, хотите быть лучше \"перспективной молодёжи\" - старайтесь как можно больше учиться вне тренажёра и проектов. Ну он и постоянно какие-то интересные статьи находил и кидал для всех в чат. Стараться как можно больше времени уделять не только на курсе (хотя я прекрасно понимаю, что это очень непросто) - это и есть мои совет и пожелание :) И в общем считаю, что не только у него, но и вообще у всех людей в дс гипотетически потолка нет :)\n",
    "\n",
    "В целом, мне сложно оценивать на тему взгляда работодателя на код кандидата, потому что я сам несколько сторонюсь участия в наборе новых людей. Отчасти потому что свой же код считаю не супер крутым, что порождает мысли на тему \"как я могу вообще судить других?\") В целом, конечно, лучше кода выкладывать меньше, но более качественного. При этом, я могу понять почему работодель именно на проекты курса может смотреть со скепсисом (\"да всё равно все у всех списывали\"), поэтому рассчитывать на них как на большой буст, наверное не стоит, вот если придумаешь что-нибудь своё, например, какую-нибудь утилиту, которая может тебе помочь на текущей работе (а я убеждён, что нет такой сферы где дс или отдельно взятый питон не может помочь) - вот это будет крутотень. Как научиться хорошо и красиво кодить? Как говорится, practice makes perfect.\n",
    "\n",
    "Лайв кодинг на собесах встречается часто, и тут тк цейтнот смотрят в первую очередь именно на ход твоей мысли, понимаешь ли ты в целом как подойти к той или иной задаче. Конечно, это не значит, что можно на всё забить и, например, переменные начать называть a,b,c,d, но глобально не цепляются к не очень важным недочётам.\n",
    "\n",
    "Если честно, глубокие познания математики пригождаются чаще всего на собеседованиях )) Конечно, лучше иметь примерное представление о том как модели работают, но понимать логику градиентного спуска != уметь вычислять градиенты на листке бумаги, поэтому мне даже сложно сказать что тебе можно подтянуть. Считаю, для стажёров/джунов математика в целом далеко не так важна, это можно делать уже после, чтобы перешагивать на следующую ступень.\n",
    "\n",
    "Каверзные вопросы и обманы... Не знаю, сходу сложно сказать, возможно ИТ сфера достаточно хорошая, что каких-то явно плохих явлений немного, может мне везло. Могу только рассказать 2 истории: однажды на собеседовании в одну большую известную компанию досталься настолько непробиваемый собеседщик, что я ему не смог объяснить почему моя логика верна (а там задача то была тривиальнейшая, я потом всем друзьям рассказл её и свою логику, все согласились, что она верна, а вот собеседник так и не понял). Ну и ещё был \"прикол\", когда устроился разработчиком с++/питон, а на третий день мне дали писать код на джаваскрипте, которого я не знал, и в итоге меня уволили )))"
   ]
  },
  {
   "cell_type": "markdown",
   "metadata": {},
   "source": [
    "<div class=\"alert alert-info\" style=\"background-color: orange;\">\n",
    "<font size=\"4\"><b> Комментарий студента 2</b></font>\n",
    "    <br /> \n",
    "    <font size=\"3\", color = \"black\">\n",
    "<br />\n",
    "Спасибо громное за развернутый ответ!   \n",
    "        \n",
    "Не знала, что уже до ДС в этом деле дошли, было интересно  \n",
    "         \n",
    "Про увольнение смешно:)\n",
    "    </font>\n",
    "</div>"
   ]
  },
  {
   "cell_type": "markdown",
   "metadata": {},
   "source": [
    "# Выбор локации для скважины"
   ]
  },
  {
   "cell_type": "markdown",
   "metadata": {},
   "source": [
    "Допустим, вы работаете в добывающей компании «ГлавРосГосНефть». Нужно решить, где бурить новую скважину.\n",
    "\n",
    "Вам предоставлены пробы нефти в трёх регионах: в каждом 100 000 месторождений, где измерили качество нефти и объём её запасов. Постройте модель машинного обучения, которая поможет определить регион, где добыча принесёт наибольшую прибыль. Проанализируйте возможную прибыль и риски техникой *Bootstrap.*\n",
    "\n",
    "Шаги для выбора локации:\n",
    "\n",
    "- В избранном регионе ищут месторождения, для каждого определяют значения признаков;\n",
    "- Строят модель и оценивают объём запасов;\n",
    "- Выбирают месторождения с самым высокими оценками значений. Количество месторождений зависит от бюджета компании и стоимости разработки одной скважины;\n",
    "- Прибыль равна суммарной прибыли отобранных месторождений."
   ]
  },
  {
   "cell_type": "markdown",
   "metadata": {},
   "source": [
    "## Загрузка и подготовка данных"
   ]
  },
  {
   "cell_type": "code",
   "execution_count": 1,
   "metadata": {},
   "outputs": [
    {
     "name": "stdout",
     "output_type": "stream",
     "text": [
      "Requirement already satisfied: phik in /opt/conda/lib/python3.9/site-packages (0.12.5)\n",
      "Requirement already satisfied: numpy>=1.18.0 in /opt/conda/lib/python3.9/site-packages (from phik) (1.21.1)\n",
      "Requirement already satisfied: joblib>=0.14.1 in /opt/conda/lib/python3.9/site-packages (from phik) (1.5.1)\n",
      "Requirement already satisfied: matplotlib>=2.2.3 in /opt/conda/lib/python3.9/site-packages (from phik) (3.3.4)\n",
      "Requirement already satisfied: pandas>=0.25.1 in /opt/conda/lib/python3.9/site-packages (from phik) (1.2.4)\n",
      "Requirement already satisfied: scipy>=1.5.2 in /opt/conda/lib/python3.9/site-packages (from phik) (1.9.1)\n",
      "Requirement already satisfied: pyparsing!=2.0.4,!=2.1.2,!=2.1.6,>=2.0.3 in /opt/conda/lib/python3.9/site-packages (from matplotlib>=2.2.3->phik) (2.4.7)\n",
      "Requirement already satisfied: pillow>=6.2.0 in /opt/conda/lib/python3.9/site-packages (from matplotlib>=2.2.3->phik) (8.4.0)\n",
      "Requirement already satisfied: kiwisolver>=1.0.1 in /opt/conda/lib/python3.9/site-packages (from matplotlib>=2.2.3->phik) (1.4.4)\n",
      "Requirement already satisfied: cycler>=0.10 in /opt/conda/lib/python3.9/site-packages (from matplotlib>=2.2.3->phik) (0.11.0)\n",
      "Requirement already satisfied: python-dateutil>=2.1 in /opt/conda/lib/python3.9/site-packages (from matplotlib>=2.2.3->phik) (2.8.1)\n",
      "Requirement already satisfied: pytz>=2017.3 in /opt/conda/lib/python3.9/site-packages (from pandas>=0.25.1->phik) (2021.1)\n",
      "Requirement already satisfied: six>=1.5 in /opt/conda/lib/python3.9/site-packages (from python-dateutil>=2.1->matplotlib>=2.2.3->phik) (1.16.0)\n",
      "Requirement already satisfied: scikit-learn in /opt/conda/lib/python3.9/site-packages (1.6.1)\n",
      "Requirement already satisfied: joblib>=1.2.0 in /opt/conda/lib/python3.9/site-packages (from scikit-learn) (1.5.1)\n",
      "Requirement already satisfied: scipy>=1.6.0 in /opt/conda/lib/python3.9/site-packages (from scikit-learn) (1.9.1)\n",
      "Requirement already satisfied: threadpoolctl>=3.1.0 in /opt/conda/lib/python3.9/site-packages (from scikit-learn) (3.1.0)\n",
      "Requirement already satisfied: numpy>=1.19.5 in /opt/conda/lib/python3.9/site-packages (from scikit-learn) (1.21.1)\n"
     ]
    }
   ],
   "source": [
    "import pandas as pd\n",
    "import numpy as np\n",
    "import matplotlib.pyplot as plt\n",
    "from scipy import stats as st\n",
    "import seaborn as sns\n",
    "!pip install phik\n",
    "!pip install -U scikit-learn\n",
    "\n",
    "\n",
    "from sklearn.model_selection import train_test_split\n",
    "from sklearn.linear_model import LinearRegression\n",
    "from sklearn.pipeline import Pipeline\n",
    "from sklearn.preprocessing import StandardScaler\n",
    "from sklearn.compose import ColumnTransformer\n",
    "from sklearn.impute import SimpleImputer\n",
    "\n",
    "\n",
    "\n",
    "from sklearn.metrics import mean_squared_error"
   ]
  },
  {
   "cell_type": "markdown",
   "metadata": {},
   "source": [
    "<div class=\"alert alert-success\">\n",
    "<font size=\"4\"><b>✔️ Комментарий ревьюера</b></font>\n",
    "    <br /> \n",
    "    <font size=\"3\", color = \"black\">\n",
    "<br />\n",
    "Спасибо, что не перекладываешь установку либ на ревьюера :)"
   ]
  },
  {
   "cell_type": "markdown",
   "metadata": {},
   "source": [
    "<div class=\"alert alert-info\" style=\"background-color: orange;\">\n",
    "<font size=\"4\"><b> Комментарий студента 1</b></font>\n",
    "    <br /> \n",
    "    <font size=\"3\", color = \"black\">\n",
    "<br />\n",
    ";)          \n",
    "    </font>\n",
    "</div>"
   ]
  },
  {
   "cell_type": "markdown",
   "metadata": {},
   "source": [
    "**Выгрузка данных**"
   ]
  },
  {
   "cell_type": "code",
   "execution_count": 2,
   "metadata": {},
   "outputs": [
    {
     "data": {
      "text/html": [
       "<div>\n",
       "<style scoped>\n",
       "    .dataframe tbody tr th:only-of-type {\n",
       "        vertical-align: middle;\n",
       "    }\n",
       "\n",
       "    .dataframe tbody tr th {\n",
       "        vertical-align: top;\n",
       "    }\n",
       "\n",
       "    .dataframe thead th {\n",
       "        text-align: right;\n",
       "    }\n",
       "</style>\n",
       "<table border=\"1\" class=\"dataframe\">\n",
       "  <thead>\n",
       "    <tr style=\"text-align: right;\">\n",
       "      <th></th>\n",
       "      <th>id</th>\n",
       "      <th>f0</th>\n",
       "      <th>f1</th>\n",
       "      <th>f2</th>\n",
       "      <th>product</th>\n",
       "    </tr>\n",
       "  </thead>\n",
       "  <tbody>\n",
       "    <tr>\n",
       "      <th>0</th>\n",
       "      <td>txEyH</td>\n",
       "      <td>0.705745</td>\n",
       "      <td>-0.497823</td>\n",
       "      <td>1.221170</td>\n",
       "      <td>105.280062</td>\n",
       "    </tr>\n",
       "    <tr>\n",
       "      <th>1</th>\n",
       "      <td>2acmU</td>\n",
       "      <td>1.334711</td>\n",
       "      <td>-0.340164</td>\n",
       "      <td>4.365080</td>\n",
       "      <td>73.037750</td>\n",
       "    </tr>\n",
       "    <tr>\n",
       "      <th>2</th>\n",
       "      <td>409Wp</td>\n",
       "      <td>1.022732</td>\n",
       "      <td>0.151990</td>\n",
       "      <td>1.419926</td>\n",
       "      <td>85.265647</td>\n",
       "    </tr>\n",
       "    <tr>\n",
       "      <th>3</th>\n",
       "      <td>iJLyR</td>\n",
       "      <td>-0.032172</td>\n",
       "      <td>0.139033</td>\n",
       "      <td>2.978566</td>\n",
       "      <td>168.620776</td>\n",
       "    </tr>\n",
       "    <tr>\n",
       "      <th>4</th>\n",
       "      <td>Xdl7t</td>\n",
       "      <td>1.988431</td>\n",
       "      <td>0.155413</td>\n",
       "      <td>4.751769</td>\n",
       "      <td>154.036647</td>\n",
       "    </tr>\n",
       "  </tbody>\n",
       "</table>\n",
       "</div>"
      ],
      "text/plain": [
       "      id        f0        f1        f2     product\n",
       "0  txEyH  0.705745 -0.497823  1.221170  105.280062\n",
       "1  2acmU  1.334711 -0.340164  4.365080   73.037750\n",
       "2  409Wp  1.022732  0.151990  1.419926   85.265647\n",
       "3  iJLyR -0.032172  0.139033  2.978566  168.620776\n",
       "4  Xdl7t  1.988431  0.155413  4.751769  154.036647"
      ]
     },
     "execution_count": 2,
     "metadata": {},
     "output_type": "execute_result"
    }
   ],
   "source": [
    "reg0=pd.read_csv('/datasets/geo_data_0.csv')\n",
    "reg0.head()#загрузка дф"
   ]
  },
  {
   "cell_type": "code",
   "execution_count": 3,
   "metadata": {},
   "outputs": [
    {
     "data": {
      "text/html": [
       "<div>\n",
       "<style scoped>\n",
       "    .dataframe tbody tr th:only-of-type {\n",
       "        vertical-align: middle;\n",
       "    }\n",
       "\n",
       "    .dataframe tbody tr th {\n",
       "        vertical-align: top;\n",
       "    }\n",
       "\n",
       "    .dataframe thead th {\n",
       "        text-align: right;\n",
       "    }\n",
       "</style>\n",
       "<table border=\"1\" class=\"dataframe\">\n",
       "  <thead>\n",
       "    <tr style=\"text-align: right;\">\n",
       "      <th></th>\n",
       "      <th>id</th>\n",
       "      <th>f0</th>\n",
       "      <th>f1</th>\n",
       "      <th>f2</th>\n",
       "      <th>product</th>\n",
       "    </tr>\n",
       "  </thead>\n",
       "  <tbody>\n",
       "    <tr>\n",
       "      <th>0</th>\n",
       "      <td>kBEdx</td>\n",
       "      <td>-15.001348</td>\n",
       "      <td>-8.276000</td>\n",
       "      <td>-0.005876</td>\n",
       "      <td>3.179103</td>\n",
       "    </tr>\n",
       "    <tr>\n",
       "      <th>1</th>\n",
       "      <td>62mP7</td>\n",
       "      <td>14.272088</td>\n",
       "      <td>-3.475083</td>\n",
       "      <td>0.999183</td>\n",
       "      <td>26.953261</td>\n",
       "    </tr>\n",
       "    <tr>\n",
       "      <th>2</th>\n",
       "      <td>vyE1P</td>\n",
       "      <td>6.263187</td>\n",
       "      <td>-5.948386</td>\n",
       "      <td>5.001160</td>\n",
       "      <td>134.766305</td>\n",
       "    </tr>\n",
       "    <tr>\n",
       "      <th>3</th>\n",
       "      <td>KcrkZ</td>\n",
       "      <td>-13.081196</td>\n",
       "      <td>-11.506057</td>\n",
       "      <td>4.999415</td>\n",
       "      <td>137.945408</td>\n",
       "    </tr>\n",
       "    <tr>\n",
       "      <th>4</th>\n",
       "      <td>AHL4O</td>\n",
       "      <td>12.702195</td>\n",
       "      <td>-8.147433</td>\n",
       "      <td>5.004363</td>\n",
       "      <td>134.766305</td>\n",
       "    </tr>\n",
       "  </tbody>\n",
       "</table>\n",
       "</div>"
      ],
      "text/plain": [
       "      id         f0         f1        f2     product\n",
       "0  kBEdx -15.001348  -8.276000 -0.005876    3.179103\n",
       "1  62mP7  14.272088  -3.475083  0.999183   26.953261\n",
       "2  vyE1P   6.263187  -5.948386  5.001160  134.766305\n",
       "3  KcrkZ -13.081196 -11.506057  4.999415  137.945408\n",
       "4  AHL4O  12.702195  -8.147433  5.004363  134.766305"
      ]
     },
     "execution_count": 3,
     "metadata": {},
     "output_type": "execute_result"
    }
   ],
   "source": [
    "reg1=pd.read_csv('/datasets/geo_data_1.csv')\n",
    "reg1.head()#загрузка дф"
   ]
  },
  {
   "cell_type": "code",
   "execution_count": 4,
   "metadata": {},
   "outputs": [
    {
     "data": {
      "text/html": [
       "<div>\n",
       "<style scoped>\n",
       "    .dataframe tbody tr th:only-of-type {\n",
       "        vertical-align: middle;\n",
       "    }\n",
       "\n",
       "    .dataframe tbody tr th {\n",
       "        vertical-align: top;\n",
       "    }\n",
       "\n",
       "    .dataframe thead th {\n",
       "        text-align: right;\n",
       "    }\n",
       "</style>\n",
       "<table border=\"1\" class=\"dataframe\">\n",
       "  <thead>\n",
       "    <tr style=\"text-align: right;\">\n",
       "      <th></th>\n",
       "      <th>id</th>\n",
       "      <th>f0</th>\n",
       "      <th>f1</th>\n",
       "      <th>f2</th>\n",
       "      <th>product</th>\n",
       "    </tr>\n",
       "  </thead>\n",
       "  <tbody>\n",
       "    <tr>\n",
       "      <th>0</th>\n",
       "      <td>fwXo0</td>\n",
       "      <td>-1.146987</td>\n",
       "      <td>0.963328</td>\n",
       "      <td>-0.828965</td>\n",
       "      <td>27.758673</td>\n",
       "    </tr>\n",
       "    <tr>\n",
       "      <th>1</th>\n",
       "      <td>WJtFt</td>\n",
       "      <td>0.262778</td>\n",
       "      <td>0.269839</td>\n",
       "      <td>-2.530187</td>\n",
       "      <td>56.069697</td>\n",
       "    </tr>\n",
       "    <tr>\n",
       "      <th>2</th>\n",
       "      <td>ovLUW</td>\n",
       "      <td>0.194587</td>\n",
       "      <td>0.289035</td>\n",
       "      <td>-5.586433</td>\n",
       "      <td>62.871910</td>\n",
       "    </tr>\n",
       "    <tr>\n",
       "      <th>3</th>\n",
       "      <td>q6cA6</td>\n",
       "      <td>2.236060</td>\n",
       "      <td>-0.553760</td>\n",
       "      <td>0.930038</td>\n",
       "      <td>114.572842</td>\n",
       "    </tr>\n",
       "    <tr>\n",
       "      <th>4</th>\n",
       "      <td>WPMUX</td>\n",
       "      <td>-0.515993</td>\n",
       "      <td>1.716266</td>\n",
       "      <td>5.899011</td>\n",
       "      <td>149.600746</td>\n",
       "    </tr>\n",
       "  </tbody>\n",
       "</table>\n",
       "</div>"
      ],
      "text/plain": [
       "      id        f0        f1        f2     product\n",
       "0  fwXo0 -1.146987  0.963328 -0.828965   27.758673\n",
       "1  WJtFt  0.262778  0.269839 -2.530187   56.069697\n",
       "2  ovLUW  0.194587  0.289035 -5.586433   62.871910\n",
       "3  q6cA6  2.236060 -0.553760  0.930038  114.572842\n",
       "4  WPMUX -0.515993  1.716266  5.899011  149.600746"
      ]
     },
     "execution_count": 4,
     "metadata": {},
     "output_type": "execute_result"
    }
   ],
   "source": [
    "reg2=pd.read_csv('/datasets/geo_data_2.csv')\n",
    "reg2.head()#загрузка дф"
   ]
  },
  {
   "cell_type": "markdown",
   "metadata": {},
   "source": [
    "**Подготовка данных**"
   ]
  },
  {
   "cell_type": "code",
   "execution_count": 5,
   "metadata": {},
   "outputs": [
    {
     "data": {
      "text/plain": [
       "'DataFrame:reg0'"
      ]
     },
     "metadata": {},
     "output_type": "display_data"
    },
    {
     "name": "stdout",
     "output_type": "stream",
     "text": [
      "<class 'pandas.core.frame.DataFrame'>\n",
      "RangeIndex: 100000 entries, 0 to 99999\n",
      "Data columns (total 5 columns):\n",
      " #   Column   Non-Null Count   Dtype  \n",
      "---  ------   --------------   -----  \n",
      " 0   id       100000 non-null  object \n",
      " 1   f0       100000 non-null  float64\n",
      " 2   f1       100000 non-null  float64\n",
      " 3   f2       100000 non-null  float64\n",
      " 4   product  100000 non-null  float64\n",
      "dtypes: float64(4), object(1)\n",
      "memory usage: 3.8+ MB\n"
     ]
    },
    {
     "data": {
      "text/plain": [
       "None"
      ]
     },
     "metadata": {},
     "output_type": "display_data"
    },
    {
     "data": {
      "text/plain": [
       "'DataFrame:reg1'"
      ]
     },
     "metadata": {},
     "output_type": "display_data"
    },
    {
     "name": "stdout",
     "output_type": "stream",
     "text": [
      "<class 'pandas.core.frame.DataFrame'>\n",
      "RangeIndex: 100000 entries, 0 to 99999\n",
      "Data columns (total 5 columns):\n",
      " #   Column   Non-Null Count   Dtype  \n",
      "---  ------   --------------   -----  \n",
      " 0   id       100000 non-null  object \n",
      " 1   f0       100000 non-null  float64\n",
      " 2   f1       100000 non-null  float64\n",
      " 3   f2       100000 non-null  float64\n",
      " 4   product  100000 non-null  float64\n",
      "dtypes: float64(4), object(1)\n",
      "memory usage: 3.8+ MB\n"
     ]
    },
    {
     "data": {
      "text/plain": [
       "None"
      ]
     },
     "metadata": {},
     "output_type": "display_data"
    },
    {
     "data": {
      "text/plain": [
       "'DataFrame:reg2'"
      ]
     },
     "metadata": {},
     "output_type": "display_data"
    },
    {
     "name": "stdout",
     "output_type": "stream",
     "text": [
      "<class 'pandas.core.frame.DataFrame'>\n",
      "RangeIndex: 100000 entries, 0 to 99999\n",
      "Data columns (total 5 columns):\n",
      " #   Column   Non-Null Count   Dtype  \n",
      "---  ------   --------------   -----  \n",
      " 0   id       100000 non-null  object \n",
      " 1   f0       100000 non-null  float64\n",
      " 2   f1       100000 non-null  float64\n",
      " 3   f2       100000 non-null  float64\n",
      " 4   product  100000 non-null  float64\n",
      "dtypes: float64(4), object(1)\n",
      "memory usage: 3.8+ MB\n"
     ]
    },
    {
     "data": {
      "text/plain": [
       "None"
      ]
     },
     "metadata": {},
     "output_type": "display_data"
    }
   ],
   "source": [
    "regs={'reg0':reg0, 'reg1':reg1, 'reg2':reg2}\n",
    "\n",
    "for name,df in regs.items():\n",
    "    display (f\"DataFrame:{name}\")\n",
    "    display (df.info())  "
   ]
  },
  {
   "cell_type": "markdown",
   "metadata": {},
   "source": [
    "Типы данных корректны"
   ]
  },
  {
   "cell_type": "code",
   "execution_count": 6,
   "metadata": {},
   "outputs": [
    {
     "data": {
      "text/plain": [
       "'DataFrame:reg0'"
      ]
     },
     "metadata": {},
     "output_type": "display_data"
    },
    {
     "data": {
      "text/plain": [
       "id         0\n",
       "f0         0\n",
       "f1         0\n",
       "f2         0\n",
       "product    0\n",
       "dtype: int64"
      ]
     },
     "metadata": {},
     "output_type": "display_data"
    },
    {
     "data": {
      "text/plain": [
       "'DataFrame:reg1'"
      ]
     },
     "metadata": {},
     "output_type": "display_data"
    },
    {
     "data": {
      "text/plain": [
       "id         0\n",
       "f0         0\n",
       "f1         0\n",
       "f2         0\n",
       "product    0\n",
       "dtype: int64"
      ]
     },
     "metadata": {},
     "output_type": "display_data"
    },
    {
     "data": {
      "text/plain": [
       "'DataFrame:reg2'"
      ]
     },
     "metadata": {},
     "output_type": "display_data"
    },
    {
     "data": {
      "text/plain": [
       "id         0\n",
       "f0         0\n",
       "f1         0\n",
       "f2         0\n",
       "product    0\n",
       "dtype: int64"
      ]
     },
     "metadata": {},
     "output_type": "display_data"
    }
   ],
   "source": [
    "for name,df in regs.items(): #ищу пропуски\n",
    "    display (f\"DataFrame:{name}\")\n",
    "    display(df.isna().sum())"
   ]
  },
  {
   "cell_type": "markdown",
   "metadata": {},
   "source": [
    "Пропусков нет"
   ]
  },
  {
   "cell_type": "markdown",
   "metadata": {},
   "source": [
    "Проверять на уникальные значения столбцы с числовыми значениями или id мы не будем. Но предлагаю привести idк единому формату на случай дубликатов"
   ]
  },
  {
   "cell_type": "code",
   "execution_count": 7,
   "metadata": {},
   "outputs": [],
   "source": [
    "#for name, df in regs.items():\n",
    "    #string_cols = df.select_dtypes(include=['object']).columns\n",
    "    #for column in string_cols:\n",
    "        #if 'id' in column:\n",
    "            #df[column] = df[column].str.lower()\n",
    "            #привожу значения столбца ид к нижнему регистру\n",
    "\n",
    "#for name, df in regs.items():\n",
    "    #display(f\"DataFrame {name}:\")\n",
    "    #display(df.head())"
   ]
  },
  {
   "cell_type": "markdown",
   "metadata": {},
   "source": [
    "<div class=\"alert alert-warning\">\n",
    "<font size=\"4\"><b>⚠️ Комментарий ревьюера</b></font>\n",
    "    <br /> \n",
    "    <font size=\"3\", color = \"black\">\n",
    "<br />\n",
    "Если у одной скважины id AbcDEF, а у другой - aBCdef, точно ли мы можем быть уверены, что это одна и та же скважина? Приведение id к нижнему регистру - потенциально небезопасная операция."
   ]
  },
  {
   "cell_type": "markdown",
   "metadata": {},
   "source": [
    "<div class=\"alert alert-info\" style=\"background-color: orange;\">\n",
    "<font size=\"4\"><b> Комментарий студента 1</b></font>\n",
    "    <br /> \n",
    "    <font size=\"3\", color = \"black\">\n",
    "<br />\n",
    "Вообще я рассчитывала, что безопасная, но ты прав, уберу        \n",
    "    </font>\n",
    "</div>"
   ]
  },
  {
   "cell_type": "markdown",
   "metadata": {},
   "source": [
    "Глядя на данные, меня смущают столбцы f0 и f1 в таблице regs1, но посмотрим дальше, что с ними делать"
   ]
  },
  {
   "cell_type": "markdown",
   "metadata": {},
   "source": [
    "Привели все столбцы к нижнему регистру, ищем дубликаты"
   ]
  },
  {
   "cell_type": "code",
   "execution_count": 8,
   "metadata": {},
   "outputs": [
    {
     "data": {
      "text/plain": [
       "'DataFrame reg0:'"
      ]
     },
     "metadata": {},
     "output_type": "display_data"
    },
    {
     "data": {
      "text/plain": [
       "0"
      ]
     },
     "metadata": {},
     "output_type": "display_data"
    },
    {
     "data": {
      "text/plain": [
       "'DataFrame reg1:'"
      ]
     },
     "metadata": {},
     "output_type": "display_data"
    },
    {
     "data": {
      "text/plain": [
       "0"
      ]
     },
     "metadata": {},
     "output_type": "display_data"
    },
    {
     "data": {
      "text/plain": [
       "'DataFrame reg2:'"
      ]
     },
     "metadata": {},
     "output_type": "display_data"
    },
    {
     "data": {
      "text/plain": [
       "0"
      ]
     },
     "metadata": {},
     "output_type": "display_data"
    }
   ],
   "source": [
    "for name, df in regs.items():\n",
    "    display(f\"DataFrame {name}:\")\n",
    "    display (df.duplicated().sum())\n",
    "    #ищу дубликаты"
   ]
  },
  {
   "cell_type": "markdown",
   "metadata": {},
   "source": [
    "Ура, дубликатов нет"
   ]
  },
  {
   "cell_type": "markdown",
   "metadata": {},
   "source": [
    "<div class=\"alert alert-info\">\n",
    "<font size=\"4\">🍕<b> Комментарий ревьюера</b></font>\n",
    "    <br /> \n",
    "    <font size=\"3\", color = \"black\">\n",
    "<br />\n",
    "Несмотря на то, что нет явных дубликатов, в данных текущего проекта есть неявные - скважины с одинаковым id. Такое тоже желательно обнаруживать."
   ]
  },
  {
   "cell_type": "markdown",
   "metadata": {},
   "source": [
    "**Статистический анализ данных**"
   ]
  },
  {
   "cell_type": "code",
   "execution_count": 9,
   "metadata": {},
   "outputs": [
    {
     "data": {
      "text/plain": [
       "'DataFrame reg0:'"
      ]
     },
     "metadata": {},
     "output_type": "display_data"
    },
    {
     "data": {
      "text/html": [
       "<div>\n",
       "<style scoped>\n",
       "    .dataframe tbody tr th:only-of-type {\n",
       "        vertical-align: middle;\n",
       "    }\n",
       "\n",
       "    .dataframe tbody tr th {\n",
       "        vertical-align: top;\n",
       "    }\n",
       "\n",
       "    .dataframe thead th {\n",
       "        text-align: right;\n",
       "    }\n",
       "</style>\n",
       "<table border=\"1\" class=\"dataframe\">\n",
       "  <thead>\n",
       "    <tr style=\"text-align: right;\">\n",
       "      <th></th>\n",
       "      <th>f0</th>\n",
       "      <th>f1</th>\n",
       "      <th>f2</th>\n",
       "      <th>product</th>\n",
       "    </tr>\n",
       "  </thead>\n",
       "  <tbody>\n",
       "    <tr>\n",
       "      <th>count</th>\n",
       "      <td>100000.000000</td>\n",
       "      <td>100000.000000</td>\n",
       "      <td>100000.000000</td>\n",
       "      <td>100000.000000</td>\n",
       "    </tr>\n",
       "    <tr>\n",
       "      <th>mean</th>\n",
       "      <td>0.500419</td>\n",
       "      <td>0.250143</td>\n",
       "      <td>2.502647</td>\n",
       "      <td>92.500000</td>\n",
       "    </tr>\n",
       "    <tr>\n",
       "      <th>std</th>\n",
       "      <td>0.871832</td>\n",
       "      <td>0.504433</td>\n",
       "      <td>3.248248</td>\n",
       "      <td>44.288691</td>\n",
       "    </tr>\n",
       "    <tr>\n",
       "      <th>min</th>\n",
       "      <td>-1.408605</td>\n",
       "      <td>-0.848218</td>\n",
       "      <td>-12.088328</td>\n",
       "      <td>0.000000</td>\n",
       "    </tr>\n",
       "    <tr>\n",
       "      <th>25%</th>\n",
       "      <td>-0.072580</td>\n",
       "      <td>-0.200881</td>\n",
       "      <td>0.287748</td>\n",
       "      <td>56.497507</td>\n",
       "    </tr>\n",
       "    <tr>\n",
       "      <th>50%</th>\n",
       "      <td>0.502360</td>\n",
       "      <td>0.250252</td>\n",
       "      <td>2.515969</td>\n",
       "      <td>91.849972</td>\n",
       "    </tr>\n",
       "    <tr>\n",
       "      <th>75%</th>\n",
       "      <td>1.073581</td>\n",
       "      <td>0.700646</td>\n",
       "      <td>4.715088</td>\n",
       "      <td>128.564089</td>\n",
       "    </tr>\n",
       "    <tr>\n",
       "      <th>max</th>\n",
       "      <td>2.362331</td>\n",
       "      <td>1.343769</td>\n",
       "      <td>16.003790</td>\n",
       "      <td>185.364347</td>\n",
       "    </tr>\n",
       "  </tbody>\n",
       "</table>\n",
       "</div>"
      ],
      "text/plain": [
       "                  f0             f1             f2        product\n",
       "count  100000.000000  100000.000000  100000.000000  100000.000000\n",
       "mean        0.500419       0.250143       2.502647      92.500000\n",
       "std         0.871832       0.504433       3.248248      44.288691\n",
       "min        -1.408605      -0.848218     -12.088328       0.000000\n",
       "25%        -0.072580      -0.200881       0.287748      56.497507\n",
       "50%         0.502360       0.250252       2.515969      91.849972\n",
       "75%         1.073581       0.700646       4.715088     128.564089\n",
       "max         2.362331       1.343769      16.003790     185.364347"
      ]
     },
     "metadata": {},
     "output_type": "display_data"
    },
    {
     "data": {
      "text/plain": [
       "'DataFrame reg1:'"
      ]
     },
     "metadata": {},
     "output_type": "display_data"
    },
    {
     "data": {
      "text/html": [
       "<div>\n",
       "<style scoped>\n",
       "    .dataframe tbody tr th:only-of-type {\n",
       "        vertical-align: middle;\n",
       "    }\n",
       "\n",
       "    .dataframe tbody tr th {\n",
       "        vertical-align: top;\n",
       "    }\n",
       "\n",
       "    .dataframe thead th {\n",
       "        text-align: right;\n",
       "    }\n",
       "</style>\n",
       "<table border=\"1\" class=\"dataframe\">\n",
       "  <thead>\n",
       "    <tr style=\"text-align: right;\">\n",
       "      <th></th>\n",
       "      <th>f0</th>\n",
       "      <th>f1</th>\n",
       "      <th>f2</th>\n",
       "      <th>product</th>\n",
       "    </tr>\n",
       "  </thead>\n",
       "  <tbody>\n",
       "    <tr>\n",
       "      <th>count</th>\n",
       "      <td>100000.000000</td>\n",
       "      <td>100000.000000</td>\n",
       "      <td>100000.000000</td>\n",
       "      <td>100000.000000</td>\n",
       "    </tr>\n",
       "    <tr>\n",
       "      <th>mean</th>\n",
       "      <td>1.141296</td>\n",
       "      <td>-4.796579</td>\n",
       "      <td>2.494541</td>\n",
       "      <td>68.825000</td>\n",
       "    </tr>\n",
       "    <tr>\n",
       "      <th>std</th>\n",
       "      <td>8.965932</td>\n",
       "      <td>5.119872</td>\n",
       "      <td>1.703572</td>\n",
       "      <td>45.944423</td>\n",
       "    </tr>\n",
       "    <tr>\n",
       "      <th>min</th>\n",
       "      <td>-31.609576</td>\n",
       "      <td>-26.358598</td>\n",
       "      <td>-0.018144</td>\n",
       "      <td>0.000000</td>\n",
       "    </tr>\n",
       "    <tr>\n",
       "      <th>25%</th>\n",
       "      <td>-6.298551</td>\n",
       "      <td>-8.267985</td>\n",
       "      <td>1.000021</td>\n",
       "      <td>26.953261</td>\n",
       "    </tr>\n",
       "    <tr>\n",
       "      <th>50%</th>\n",
       "      <td>1.153055</td>\n",
       "      <td>-4.813172</td>\n",
       "      <td>2.011479</td>\n",
       "      <td>57.085625</td>\n",
       "    </tr>\n",
       "    <tr>\n",
       "      <th>75%</th>\n",
       "      <td>8.621015</td>\n",
       "      <td>-1.332816</td>\n",
       "      <td>3.999904</td>\n",
       "      <td>107.813044</td>\n",
       "    </tr>\n",
       "    <tr>\n",
       "      <th>max</th>\n",
       "      <td>29.421755</td>\n",
       "      <td>18.734063</td>\n",
       "      <td>5.019721</td>\n",
       "      <td>137.945408</td>\n",
       "    </tr>\n",
       "  </tbody>\n",
       "</table>\n",
       "</div>"
      ],
      "text/plain": [
       "                  f0             f1             f2        product\n",
       "count  100000.000000  100000.000000  100000.000000  100000.000000\n",
       "mean        1.141296      -4.796579       2.494541      68.825000\n",
       "std         8.965932       5.119872       1.703572      45.944423\n",
       "min       -31.609576     -26.358598      -0.018144       0.000000\n",
       "25%        -6.298551      -8.267985       1.000021      26.953261\n",
       "50%         1.153055      -4.813172       2.011479      57.085625\n",
       "75%         8.621015      -1.332816       3.999904     107.813044\n",
       "max        29.421755      18.734063       5.019721     137.945408"
      ]
     },
     "metadata": {},
     "output_type": "display_data"
    },
    {
     "data": {
      "text/plain": [
       "'DataFrame reg2:'"
      ]
     },
     "metadata": {},
     "output_type": "display_data"
    },
    {
     "data": {
      "text/html": [
       "<div>\n",
       "<style scoped>\n",
       "    .dataframe tbody tr th:only-of-type {\n",
       "        vertical-align: middle;\n",
       "    }\n",
       "\n",
       "    .dataframe tbody tr th {\n",
       "        vertical-align: top;\n",
       "    }\n",
       "\n",
       "    .dataframe thead th {\n",
       "        text-align: right;\n",
       "    }\n",
       "</style>\n",
       "<table border=\"1\" class=\"dataframe\">\n",
       "  <thead>\n",
       "    <tr style=\"text-align: right;\">\n",
       "      <th></th>\n",
       "      <th>f0</th>\n",
       "      <th>f1</th>\n",
       "      <th>f2</th>\n",
       "      <th>product</th>\n",
       "    </tr>\n",
       "  </thead>\n",
       "  <tbody>\n",
       "    <tr>\n",
       "      <th>count</th>\n",
       "      <td>100000.000000</td>\n",
       "      <td>100000.000000</td>\n",
       "      <td>100000.000000</td>\n",
       "      <td>100000.000000</td>\n",
       "    </tr>\n",
       "    <tr>\n",
       "      <th>mean</th>\n",
       "      <td>0.002023</td>\n",
       "      <td>-0.002081</td>\n",
       "      <td>2.495128</td>\n",
       "      <td>95.000000</td>\n",
       "    </tr>\n",
       "    <tr>\n",
       "      <th>std</th>\n",
       "      <td>1.732045</td>\n",
       "      <td>1.730417</td>\n",
       "      <td>3.473445</td>\n",
       "      <td>44.749921</td>\n",
       "    </tr>\n",
       "    <tr>\n",
       "      <th>min</th>\n",
       "      <td>-8.760004</td>\n",
       "      <td>-7.084020</td>\n",
       "      <td>-11.970335</td>\n",
       "      <td>0.000000</td>\n",
       "    </tr>\n",
       "    <tr>\n",
       "      <th>25%</th>\n",
       "      <td>-1.162288</td>\n",
       "      <td>-1.174820</td>\n",
       "      <td>0.130359</td>\n",
       "      <td>59.450441</td>\n",
       "    </tr>\n",
       "    <tr>\n",
       "      <th>50%</th>\n",
       "      <td>0.009424</td>\n",
       "      <td>-0.009482</td>\n",
       "      <td>2.484236</td>\n",
       "      <td>94.925613</td>\n",
       "    </tr>\n",
       "    <tr>\n",
       "      <th>75%</th>\n",
       "      <td>1.158535</td>\n",
       "      <td>1.163678</td>\n",
       "      <td>4.858794</td>\n",
       "      <td>130.595027</td>\n",
       "    </tr>\n",
       "    <tr>\n",
       "      <th>max</th>\n",
       "      <td>7.238262</td>\n",
       "      <td>7.844801</td>\n",
       "      <td>16.739402</td>\n",
       "      <td>190.029838</td>\n",
       "    </tr>\n",
       "  </tbody>\n",
       "</table>\n",
       "</div>"
      ],
      "text/plain": [
       "                  f0             f1             f2        product\n",
       "count  100000.000000  100000.000000  100000.000000  100000.000000\n",
       "mean        0.002023      -0.002081       2.495128      95.000000\n",
       "std         1.732045       1.730417       3.473445      44.749921\n",
       "min        -8.760004      -7.084020     -11.970335       0.000000\n",
       "25%        -1.162288      -1.174820       0.130359      59.450441\n",
       "50%         0.009424      -0.009482       2.484236      94.925613\n",
       "75%         1.158535       1.163678       4.858794     130.595027\n",
       "max         7.238262       7.844801      16.739402     190.029838"
      ]
     },
     "metadata": {},
     "output_type": "display_data"
    }
   ],
   "source": [
    "for name, df in regs.items():\n",
    "    display(f\"DataFrame {name}:\")\n",
    "    display (df.describe())\n",
    "    #вывожу описание данных"
   ]
  },
  {
   "cell_type": "markdown",
   "metadata": {},
   "source": [
    "#Предлагаю написать функцию, чтобы избавиться от выбросов, если таковые есть:"
   ]
  },
  {
   "cell_type": "code",
   "execution_count": 10,
   "metadata": {},
   "outputs": [],
   "source": [
    "#def remove_outs(df, column):\n",
    "    #Q1=df[column].quantile(0.25)\n",
    "    #Q3=df[column].quantile(0.75)\n",
    "    #Q_tot=Q3-Q1\n",
    "    \n",
    "    #lower=Q1-1.5*Q_tot\n",
    "    #upper=Q3+1.5*Q_tot\n",
    "    \n",
    "    #return df[(df[column]>=lower)&(df[column]<=upper)]\n",
    "#пишу функцию для избавления от выбросов"
   ]
  },
  {
   "cell_type": "code",
   "execution_count": 11,
   "metadata": {},
   "outputs": [],
   "source": [
    "#reg0=remove_outs(reg0, 'f0')\n",
    "#reg0=remove_outs(reg0, 'f1')\n",
    "#reg0=remove_outs(reg0, 'f2')\n",
    "#reg0=remove_outs(reg0, 'product')\n",
    "#применяю функцию"
   ]
  },
  {
   "cell_type": "code",
   "execution_count": 12,
   "metadata": {},
   "outputs": [],
   "source": [
    "#reg1=remove_outs(reg1, 'f0')\n",
    "#reg1=remove_outs(reg1, 'f1')\n",
    "#reg1=remove_outs(reg1, 'f2')\n",
    "#reg1=remove_outs(reg1, 'product')\n",
    "#применяю функцию"
   ]
  },
  {
   "cell_type": "code",
   "execution_count": 13,
   "metadata": {},
   "outputs": [],
   "source": [
    "#reg2=remove_outs(reg2, 'f0')\n",
    "#reg2=remove_outs(reg2, 'f1')\n",
    "#reg2=remove_outs(reg2, 'f2')\n",
    "#reg2=remove_outs(reg2, 'product')\n",
    "#применяю функцию"
   ]
  },
  {
   "cell_type": "code",
   "execution_count": 14,
   "metadata": {},
   "outputs": [],
   "source": [
    "#for name, df in regs.items():\n",
    "    #display(f\"DataFrame {name}:\")\n",
    "    #display (df.describe())\n",
    "    #проверяю описание снова"
   ]
  },
  {
   "cell_type": "markdown",
   "metadata": {},
   "source": [
    "<div class=\"alert alert-warning\">\n",
    "<font size=\"4\"><b>⚠️ Комментарий ревьюера</b></font>\n",
    "    <br /> \n",
    "    <font size=\"3\", color = \"black\">\n",
    "<br />\n",
    "Объявлять все данные, выходящие за интерквартильный размах выбросами, мешиющими обучению - затея не очень классная. Представь, что ты решаешь задачу предсказания стоимости квартиры. Будет ли выбросом квартира с огромной площадью в центре Москвы с очень большой стоимостью мешать обучению модели? Нет, тут всё очень даже логично. Да, таких будет, вероятно, немного, но такие же существуют, и с ними тоже надо уметь работать, а если их выкинуть из обучения, то существует вероятность того, что твоя модель будет занижать стоимость таких квартир, и владельцы элитного жилья с тобой сотрудничать не будут.\n",
    "\n",
    "В нашем случае удалённые от центра распределения точки - это просто хвосты распределения, о чём можно судить потому что 1) они лежат достаточно близко к \"усам\" ящика, и весьма большими количествами, такими скажем \"косяками\", а не отдельными точками, сильно от \"усов\" удалёнными 2) если построить гистограммы признаков, тебя ничего не смутит, ты и сам скажешь, что мол \"ну это просто хвост распределения\""
   ]
  },
  {
   "cell_type": "markdown",
   "metadata": {},
   "source": [
    "<div class=\"alert alert-info\" style=\"background-color: orange;\">\n",
    "<font size=\"4\"><b> Комментарий студента 1</b></font>\n",
    "    <br /> \n",
    "    <font size=\"3\", color = \"black\">\n",
    "<br />\n",
    "Убрала  \n",
    "    </font>\n",
    "</div>"
   ]
  },
  {
   "cell_type": "code",
   "execution_count": 15,
   "metadata": {},
   "outputs": [],
   "source": [
    "def plot_numerical_feature(df, column_name, bins=30, figsize=(16, 6), \n",
    "                           hist_title_prefix='Показатели', \n",
    "                           boxplot_title_prefix='Гистограмма для',\n",
    "                           xlabel_hist=None, ylabel_hist='Количество',\n",
    "                           ylabel_boxplot=None):\n",
    "\n",
    "    if column_name not in df.columns:\n",
    "        print(f\"Столбец '{column_name}' не найден в DataFrame.\")\n",
    "        return\n",
    "\n",
    "    fig, (ax1)=plt.subplots(1, figsize=figsize)\n",
    "    \n",
    "    ax1.hist(df[column_name], bins=bins, edgecolor='black')\n",
    "    ax1.set_title(f'{hist_title_prefix} {column_name.lower()}', fontsize=15)\n",
    "    ax1.set_xlabel(xlabel_hist if xlabel_hist else column_name, fontsize=12)\n",
    "    ax1.set_ylabel(ylabel_hist, fontsize=12)\n",
    "    ax1.grid(True, alpha=0.5)\n",
    "    \n",
    "    #собственая функция для гистограмм"
   ]
  },
  {
   "cell_type": "code",
   "execution_count": 16,
   "metadata": {},
   "outputs": [
    {
     "data": {
      "image/png": "[encoded data removed]",
      "text/plain": [
       "<Figure size 1152x432 with 1 Axes>"
      ]
     },
     "metadata": {
      "needs_background": "light"
     },
     "output_type": "display_data"
    },
    {
     "data": {
      "image/png": "[encoded data removed]",
      "text/plain": [
       "<Figure size 1152x432 with 1 Axes>"
      ]
     },
     "metadata": {
      "needs_background": "light"
     },
     "output_type": "display_data"
    },
    {
     "data": {
      "image/png": "[encoded data removed]",
      "text/plain": [
       "<Figure size 1152x432 with 1 Axes>"
      ]
     },
     "metadata": {
      "needs_background": "light"
     },
     "output_type": "display_data"
    },
    {
     "data": {
      "image/png": "[encoded data removed]",
      "text/plain": [
       "<Figure size 1152x432 with 1 Axes>"
      ]
     },
     "metadata": {
      "needs_background": "light"
     },
     "output_type": "display_data"
    }
   ],
   "source": [
    "plot_numerical_feature(reg0, 'f0'),\n",
    "plot_numerical_feature(reg0, 'f1'),\n",
    "plot_numerical_feature(reg0, 'f2'),\n",
    "plot_numerical_feature(reg0, 'product')\n",
    "#применяю функцию"
   ]
  },
  {
   "cell_type": "markdown",
   "metadata": {},
   "source": [
    "<div class=\"alert alert-success\">\n",
    "<font size=\"4\"><b>✔️ Комментарий ревьюера</b></font>\n",
    "    <br /> \n",
    "    <font size=\"3\", color = \"black\">\n",
    "<br />\n",
    "Я ревьюер простой: вижу графики признаков - пишу зелёный комментарий\n",
    "\n",
    "На будущее: бери побольше корзин гистограммы, чтобы она не выглядела как из кубиков лего дупло"
   ]
  },
  {
   "cell_type": "markdown",
   "metadata": {},
   "source": [
    "<div class=\"alert alert-info\" style=\"background-color: orange;\">\n",
    "<font size=\"4\"><b> Комментарий студента 1</b></font>\n",
    "    <br /> \n",
    "    <font size=\"3\", color = \"black\">\n",
    "<br />\n",
    "Сделала       \n",
    "    </font>\n",
    "</div>"
   ]
  },
  {
   "cell_type": "code",
   "execution_count": 17,
   "metadata": {},
   "outputs": [
    {
     "data": {
      "image/png": "[encoded data removed]",
      "text/plain": [
       "<Figure size 1152x432 with 1 Axes>"
      ]
     },
     "metadata": {
      "needs_background": "light"
     },
     "output_type": "display_data"
    },
    {
     "data": {
      "image/png": "[encoded data removed]",
      "text/plain": [
       "<Figure size 1152x432 with 1 Axes>"
      ]
     },
     "metadata": {
      "needs_background": "light"
     },
     "output_type": "display_data"
    },
    {
     "data": {
      "image/png": "[encoded data removed]",
      "text/plain": [
       "<Figure size 1152x432 with 1 Axes>"
      ]
     },
     "metadata": {
      "needs_background": "light"
     },
     "output_type": "display_data"
    },
    {
     "data": {
      "image/png": "[encoded data removed]",
      "text/plain": [
       "<Figure size 1152x432 with 1 Axes>"
      ]
     },
     "metadata": {
      "needs_background": "light"
     },
     "output_type": "display_data"
    }
   ],
   "source": [
    "plot_numerical_feature(reg1, 'f0'),\n",
    "plot_numerical_feature(reg1, 'f1'),\n",
    "plot_numerical_feature(reg1, 'f2'),\n",
    "plot_numerical_feature(reg1, 'product')\n",
    "#применяю функцию"
   ]
  },
  {
   "cell_type": "code",
   "execution_count": 18,
   "metadata": {},
   "outputs": [
    {
     "data": {
      "image/png": "[encoded data removed]",
      "text/plain": [
       "<Figure size 1152x432 with 1 Axes>"
      ]
     },
     "metadata": {
      "needs_background": "light"
     },
     "output_type": "display_data"
    },
    {
     "data": {
      "image/png": "[encoded data removed]",
      "text/plain": [
       "<Figure size 1152x432 with 1 Axes>"
      ]
     },
     "metadata": {
      "needs_background": "light"
     },
     "output_type": "display_data"
    },
    {
     "data": {
      "image/png": "[encoded data removed]",
      "text/plain": [
       "<Figure size 1152x432 with 1 Axes>"
      ]
     },
     "metadata": {
      "needs_background": "light"
     },
     "output_type": "display_data"
    },
    {
     "data": {
      "image/png": "[encoded data removed]",
      "text/plain": [
       "<Figure size 1152x432 with 1 Axes>"
      ]
     },
     "metadata": {
      "needs_background": "light"
     },
     "output_type": "display_data"
    }
   ],
   "source": [
    "plot_numerical_feature(reg2, 'f0'),\n",
    "plot_numerical_feature(reg2, 'f1'),\n",
    "plot_numerical_feature(reg2, 'f2'),\n",
    "plot_numerical_feature(reg2, 'product')\n",
    "#применяю функцию"
   ]
  },
  {
   "cell_type": "code",
   "execution_count": 19,
   "metadata": {},
   "outputs": [
    {
     "data": {
      "text/plain": [
       "<AxesSubplot:>"
      ]
     },
     "execution_count": 19,
     "metadata": {},
     "output_type": "execute_result"
    },
    {
     "data": {
      "image/png": "[encoded data removed]",
      "text/plain": [
       "<Figure size 720x720 with 2 Axes>"
      ]
     },
     "metadata": {
      "needs_background": "light"
     },
     "output_type": "display_data"
    }
   ],
   "source": [
    "plt.figure(figsize=(10,10))\n",
    "sns.heatmap((reg0.drop('id', axis=1)).corr(method='spearman'),annot=True, fmt='.2f')\n",
    "#строю тепловую матрицу корреляции"
   ]
  },
  {
   "cell_type": "markdown",
   "metadata": {},
   "source": [
    "<div class=\"alert alert-success\">\n",
    "<font size=\"4\"><b>✔️ Комментарий ревьюера</b></font>\n",
    "    <br /> \n",
    "    <font size=\"3\", color = \"black\">\n",
    "<br />\n",
    "Классно, что не забыла про корреляционный анализ, ведь в свете обучения линейных моделей нам важно, чтобы не было мультиколлинеарности"
   ]
  },
  {
   "cell_type": "markdown",
   "metadata": {},
   "source": [
    "<div class=\"alert alert-info\">\n",
    "<font size=\"4\">🍕<b> Комментарий ревьюера</b></font>\n",
    "    <br /> \n",
    "    <font size=\"3\", color = \"black\">\n",
    "        <b></b>\n",
    "\n",
    "Метод `.corr()` по умолчанию вычисляет коэффициент корреляции Пирсона, который по своей идее создан для нормальнораспределённых величин, а у нас в данные далеко не все такие. Лучше бы было вычислять коэффициент Спирмена (`.corr(method='spearman')`.\n",
    "\n",
    "Ну или можно использовать phik, который ты же зачем-то установила и импортировала."
   ]
  },
  {
   "cell_type": "markdown",
   "metadata": {},
   "source": [
    "<div class=\"alert alert-info\" style=\"background-color: orange;\">\n",
    "<font size=\"4\"><b> Комментарий студента 1</b></font>\n",
    "    <br /> \n",
    "    <font size=\"3\", color = \"black\">\n",
    "<br />\n",
    "Сделала, phik удалила  \n",
    "        \n",
    "Я часто копирую библиотеки и остальное с предыдущих проектов, забыла удалить просто\n",
    "    </font>\n",
    "</div>"
   ]
  },
  {
   "cell_type": "code",
   "execution_count": 20,
   "metadata": {},
   "outputs": [
    {
     "data": {
      "text/plain": [
       "<AxesSubplot:>"
      ]
     },
     "execution_count": 20,
     "metadata": {},
     "output_type": "execute_result"
    },
    {
     "data": {
      "image/png": "[encoded data removed]",
      "text/plain": [
       "<Figure size 720x720 with 2 Axes>"
      ]
     },
     "metadata": {
      "needs_background": "light"
     },
     "output_type": "display_data"
    }
   ],
   "source": [
    "plt.figure(figsize=(10,10))\n",
    "sns.heatmap((reg1.drop('id', axis=1)).corr(),annot=True, fmt='.2f')\n",
    "#строю тепловую матрицу корреляции"
   ]
  },
  {
   "cell_type": "markdown",
   "metadata": {},
   "source": [
    "Анализ выполнен, всё в порядке"
   ]
  },
  {
   "cell_type": "code",
   "execution_count": 21,
   "metadata": {},
   "outputs": [],
   "source": [
    "#reg1=reg1.drop('f2', axis=1)\n",
    "#reg1.head()\n",
    "#удаляю признак"
   ]
  },
  {
   "cell_type": "markdown",
   "metadata": {},
   "source": [
    "<div class=\"alert alert-danger\">\n",
    "<font size=\"4\"><b>❌ Комментарий ревьюера</b></font>\n",
    "    <br /> \n",
    "    <font size=\"3\", color = \"black\">\n",
    "<br />\n",
    "Для линейной модели критическое влияние на обучение может иметь сильная корреляция фичей друг с другом, фичи и таргета же наоборот - только помогает хорошо ей обучиться. Так что если ты удаляешь из-за \"мультиколлинеарности\", то зря, мультиколлинеарность - это именно линейная заивисимость двух фичей.\n",
    "\n",
    "Другой вопрос, что такая сильная корреляция пораждает мысли об утечке данных. В реальном проекте такое нажо обсуждать с поставщиком данных, но у нас учебный проект и такой возможности нет, поэтому в качестве представителя заказчика выступает ревьюер, который говорит так: данные точно корректные, утечки нет, признак f2 стоит оставить.\n",
    "\n",
    "На самом деле суть просто в том, что данные синтетические, и автор задачи тут переборщил..."
   ]
  },
  {
   "cell_type": "markdown",
   "metadata": {},
   "source": [
    "<div class=\"alert alert-info\" style=\"background-color: orange;\">\n",
    "<font size=\"4\"><b> Комментарий студента 1</b></font>\n",
    "    <br /> \n",
    "    <font size=\"3\", color = \"black\">\n",
    "<br />\n",
    "На самом деле за всё время я так и не сильно разобралась с корреляционным анализом, сложно дается с точки зрения именно анализа признаков и их взаимосвязей, спасибо, что отметил этот момент  \n",
    "  \n",
    "Я правильно понимаю, что если бы была модель классификации, тогда такой признак точно бы пришлось удалить в таком случае?\n",
    "    </font>\n",
    "</div>"
   ]
  },
  {
   "cell_type": "markdown",
   "metadata": {},
   "source": [
    "<div class=\"alert alert-info\">\n",
    "<font size=\"4\">🍕<b> Комментарий ревьюера v2</b></font>\n",
    "    <br /> \n",
    "    <font size=\"3\", color = \"black\">\n",
    "        <b></b>\n",
    "\n",
    "Нет, не важно регрессия или классификация. Сильная связь фичи с другой фичёй - зло. Фичи и таргета - добро"
   ]
  },
  {
   "cell_type": "markdown",
   "metadata": {},
   "source": [
    "<div class=\"alert alert-info\" style=\"background-color: orange;\">\n",
    "<font size=\"4\"><b> Комментарий студента 2</b></font>\n",
    "    <br /> \n",
    "    <font size=\"3\", color = \"black\">\n",
    "<br />\n",
    "Доходчиво, запомню на всю жизнь, спасибо!\n",
    "    </font>\n",
    "</div>"
   ]
  },
  {
   "cell_type": "code",
   "execution_count": 22,
   "metadata": {},
   "outputs": [
    {
     "data": {
      "text/plain": [
       "<AxesSubplot:>"
      ]
     },
     "execution_count": 22,
     "metadata": {},
     "output_type": "execute_result"
    },
    {
     "data": {
      "image/png": "[encoded data removed]",
      "text/plain": [
       "<Figure size 720x720 with 2 Axes>"
      ]
     },
     "metadata": {
      "needs_background": "light"
     },
     "output_type": "display_data"
    }
   ],
   "source": [
    "plt.figure(figsize=(10,10))\n",
    "sns.heatmap((reg1.drop('id', axis=1)).corr(),annot=True, fmt='.2f')\n",
    "#строю тепловую матрицу корреляции"
   ]
  },
  {
   "cell_type": "code",
   "execution_count": 23,
   "metadata": {},
   "outputs": [
    {
     "data": {
      "text/plain": [
       "<AxesSubplot:>"
      ]
     },
     "execution_count": 23,
     "metadata": {},
     "output_type": "execute_result"
    },
    {
     "data": {
      "image/png": "[encoded data removed]",
      "text/plain": [
       "<Figure size 720x720 with 2 Axes>"
      ]
     },
     "metadata": {
      "needs_background": "light"
     },
     "output_type": "display_data"
    }
   ],
   "source": [
    "plt.figure(figsize=(10,10))\n",
    "sns.heatmap((reg2.drop('id', axis=1)).corr(),annot=True, fmt='.2f')\n",
    "#строю тепловую матрицу корреляции"
   ]
  },
  {
   "cell_type": "markdown",
   "metadata": {},
   "source": [
    "Анализ коллениарности выполнен, мультиколлениарности не обнаружено."
   ]
  },
  {
   "cell_type": "markdown",
   "metadata": {},
   "source": [
    "## Обучение и проверка модели"
   ]
  },
  {
   "cell_type": "code",
   "execution_count": 24,
   "metadata": {},
   "outputs": [
    {
     "data": {
      "text/plain": [
       "'Dataframe: reg0'"
      ]
     },
     "metadata": {},
     "output_type": "display_data"
    },
    {
     "data": {
      "text/plain": [
       "'Средний запас: 92.60607855442031'"
      ]
     },
     "metadata": {},
     "output_type": "display_data"
    },
    {
     "data": {
      "text/plain": [
       "'RMSE: 37.716891872873354'"
      ]
     },
     "metadata": {},
     "output_type": "display_data"
    },
    {
     "data": {
      "text/plain": [
       "'____________________________'"
      ]
     },
     "metadata": {},
     "output_type": "display_data"
    },
    {
     "data": {
      "text/plain": [
       "'Dataframe: reg1'"
      ]
     },
     "metadata": {},
     "output_type": "display_data"
    },
    {
     "data": {
      "text/plain": [
       "'Средний запас: 68.92028765546911'"
      ]
     },
     "metadata": {},
     "output_type": "display_data"
    },
    {
     "data": {
      "text/plain": [
       "'RMSE: 0.8891203260297126'"
      ]
     },
     "metadata": {},
     "output_type": "display_data"
    },
    {
     "data": {
      "text/plain": [
       "'____________________________'"
      ]
     },
     "metadata": {},
     "output_type": "display_data"
    },
    {
     "data": {
      "text/plain": [
       "'Dataframe: reg2'"
      ]
     },
     "metadata": {},
     "output_type": "display_data"
    },
    {
     "data": {
      "text/plain": [
       "'Средний запас: 94.79939858100545'"
      ]
     },
     "metadata": {},
     "output_type": "display_data"
    },
    {
     "data": {
      "text/plain": [
       "'RMSE: 39.93998364513211'"
      ]
     },
     "metadata": {},
     "output_type": "display_data"
    },
    {
     "data": {
      "text/plain": [
       "'____________________________'"
      ]
     },
     "metadata": {},
     "output_type": "display_data"
    }
   ],
   "source": [
    "RANDOM_STATE=43\n",
    "\n",
    "dfs={'reg0':reg0, 'reg1':reg1, 'reg2':reg2}\n",
    "\n",
    "for name,df in dfs.items():\n",
    "    features = df.drop(['id','product'], axis = 1)\n",
    "    target = df['product']\n",
    "    features_train,features_valid,target_train,target_valid = train_test_split(features,target,test_size = 0.25,\n",
    "                                                                           random_state = RANDOM_STATE)\n",
    "    valid_indices=features_valid.index\n",
    "    \n",
    "    un_pipe=Pipeline([(\n",
    "    'Scaler', StandardScaler()),\n",
    "    ('model', LinearRegression())])\n",
    "    \n",
    "    un_pipe.fit(features_train,target_train)\n",
    "    \n",
    "    target_pred=un_pipe.predict(features_valid)\n",
    "    pred_mean=target_pred.mean()\n",
    "    RMSE=np.sqrt(mean_squared_error(target_valid, target_pred))\n",
    "    df['target_pred']=np.nan\n",
    "    df.loc[valid_indices, 'target_pred']=target_pred\n",
    "    \n",
    "    display(f'Dataframe: {name}')\n",
    "    display(f'Средний запас: {pred_mean}') \n",
    "    display(f'RMSE: {RMSE}')\n",
    "    display('____________________________')\n",
    "    \n",
    "  #создаю модель для оценки среднего запаса и RMSE  "
   ]
  },
  {
   "cell_type": "markdown",
   "metadata": {},
   "source": [
    "<div class=\"alert alert-success\">\n",
    "<font size=\"4\"><b>✔️ Комментарий ревьюера</b></font>\n",
    "    <br /> \n",
    "    <font size=\"3\", color = \"black\">\n",
    "<br />\n",
    "Здорово, что оформила код в цикл. Куда лучше, чем плодить три практически идентичных блоков кода."
   ]
  },
  {
   "cell_type": "markdown",
   "metadata": {},
   "source": [
    "<div class=\"alert alert-info\" style=\"background-color: orange;\">\n",
    "<font size=\"4\"><b> Комментарий студента 1</b></font>\n",
    "    <br /> \n",
    "    <font size=\"3\", color = \"black\">\n",
    "<br />\n",
    "Да, вообще нам сказали пытаться чаще строить свои функции и я хотела их сделать, так как они у меня страдают, но потом посмотрела и подумала, что циклы более удачная идея         \n",
    "    </font>\n",
    "</div>"
   ]
  },
  {
   "cell_type": "markdown",
   "metadata": {},
   "source": [
    "**Вывод:**  \n",
    "reg1 занимает последнее место по обоим показтелям.   \n",
    "У reg2 больше запасы, но и выше риски. Я бы выбрала золотую середину - reg0, хотя разница в рисках с reg2 не такая уж и большая."
   ]
  },
  {
   "cell_type": "code",
   "execution_count": 25,
   "metadata": {},
   "outputs": [],
   "source": [
    "regs = {'reg0': reg0,'reg1': reg1,'reg2': reg2}\n",
    "#перезаписываю словарь с геоданными"
   ]
  },
  {
   "cell_type": "markdown",
   "metadata": {},
   "source": [
    "## Подготовка к расчёту прибыли"
   ]
  },
  {
   "cell_type": "code",
   "execution_count": 26,
   "metadata": {},
   "outputs": [],
   "source": [
    "budget=10000000000\n",
    "one_bar=450000\n",
    "perc_of_lost=0.025\n",
    "all_points=500\n",
    "best_points=200\n",
    "#записываю переменные"
   ]
  },
  {
   "cell_type": "markdown",
   "metadata": {},
   "source": [
    "Расчет на 200 точек"
   ]
  },
  {
   "cell_type": "code",
   "execution_count": 27,
   "metadata": {},
   "outputs": [
    {
     "data": {
      "text/plain": [
       "'Чтобы выйти в ноль нужно добыть 22222.22 бара.'"
      ]
     },
     "metadata": {},
     "output_type": "display_data"
    }
   ],
   "source": [
    "prof_per_bar_unique=round((budget/one_bar),2)\n",
    "display(f'Чтобы выйти в ноль нужно добыть {prof_per_bar_unique} бара.')\n",
    "#считаю объяем для безубыточной разработки"
   ]
  },
  {
   "cell_type": "code",
   "execution_count": 28,
   "metadata": {},
   "outputs": [
    {
     "data": {
      "text/plain": [
       "'Каждая скважина должна приносить 50000000.0 р.'"
      ]
     },
     "metadata": {},
     "output_type": "display_data"
    }
   ],
   "source": [
    "prof_per_best_p=round((budget/best_points),2)\n",
    "display(f'Каждая скважина должна приносить {prof_per_best_p} р.')\n",
    "#считаю прибыль для безубыточной разработки"
   ]
  },
  {
   "cell_type": "code",
   "execution_count": 29,
   "metadata": {},
   "outputs": [
    {
     "data": {
      "text/plain": [
       "' Каждая скважина должна добывать 111.11 баррелей минимум.'"
      ]
     },
     "metadata": {},
     "output_type": "display_data"
    }
   ],
   "source": [
    "bar_per_best_p=prof_per_best_p/one_bar\n",
    "display(f' Каждая скважина должна добывать {round(bar_per_best_p,2)} баррелей минимум.')\n",
    "#считаю количество для безубыточной разработки"
   ]
  },
  {
   "cell_type": "markdown",
   "metadata": {},
   "source": [
    "<div class=\"alert alert-success\">\n",
    "<font size=\"4\"><b>✔️ Комментарий ревьюера</b></font>\n",
    "    <br /> \n",
    "    <font size=\"3\", color = \"black\">\n",
    "<br />\n",
    "Расчёт точки безубыточности корректен. Только пару знаков после запятой можно и оставить. Зачем округлять до целого?"
   ]
  },
  {
   "cell_type": "markdown",
   "metadata": {},
   "source": [
    "<div class=\"alert alert-info\" style=\"background-color: orange;\">\n",
    "<font size=\"4\"><b> Комментарий студента 1</b></font>\n",
    "    <br /> \n",
    "    <font size=\"3\", color = \"black\">\n",
    "<br />\n",
    "Для убедительности:)   \n",
    "        \n",
    "Поправила\n",
    "    </font>\n",
    "</div>"
   ]
  },
  {
   "cell_type": "code",
   "execution_count": 30,
   "metadata": {},
   "outputs": [
    {
     "data": {
      "text/plain": [
       "'Среднее фактическое значение добычи по региону 0: 93 баррелей'"
      ]
     },
     "metadata": {},
     "output_type": "display_data"
    },
    {
     "data": {
      "text/plain": [
       "'Среднее фактическое значение добычи по региону 1: 69 баррелей'"
      ]
     },
     "metadata": {},
     "output_type": "display_data"
    },
    {
     "data": {
      "text/plain": [
       "'Среднее фактическое значение добычи по региону 2: 95 баррелей'"
      ]
     },
     "metadata": {},
     "output_type": "display_data"
    }
   ],
   "source": [
    "mean_pr_reg0=round(reg0['product'].mean())\n",
    "mean_pr_reg1=round(reg1['product'].mean())\n",
    "mean_pr_reg2=round(reg2['product'].mean())\n",
    "display(f'Среднее фактическое значение добычи по региону 0: {mean_pr_reg0} баррелей')\n",
    "display(f'Среднее фактическое значение добычи по региону 1: {mean_pr_reg1} баррелей')\n",
    "display(f'Среднее фактическое значение добычи по региону 2: {mean_pr_reg2} баррелей')\n",
    "#считаю среднюю добычу баррелей по региону"
   ]
  },
  {
   "cell_type": "markdown",
   "metadata": {},
   "source": [
    "**Вывод:**   \n",
    "'Чтобы выйти в ноль нужно добыть 22222 бара.'  \n",
    "'Каждая скважина должна приносить 50000000 р.'  \n",
    "' Каждая скважина должна добывать 111 баррелей минимум.'\n",
    "\n",
    "'Среднее фактическое значение добычи по региону 0: 93 баррелей'  \n",
    "'Среднее фактическое значение добычи по региону 1: 69 баррелей'  \n",
    "'Среднее фактическое значение добычи по региону 2: 95 баррелей'\n",
    "\n",
    "Интереснее всего выглядит регион 2, но до минимума ни одна скважина не дотягивает."
   ]
  },
  {
   "cell_type": "markdown",
   "metadata": {},
   "source": [
    "## Расчёт прибыли и рисков "
   ]
  },
  {
   "cell_type": "markdown",
   "metadata": {},
   "source": [
    "**Расчет прибыли**"
   ]
  },
  {
   "cell_type": "code",
   "execution_count": 31,
   "metadata": {},
   "outputs": [],
   "source": [
    "def profit_local(df, name): \n",
    "    max_point=df['target_pred'].max()\n",
    "    index=df[df['target_pred']==max_point].index[0]\n",
    "    prod_fact=df.loc[index,'product']\n",
    "    target_prod_sum=prod_fact.sum()\n",
    "    final_profit=round(target_prod_sum*one_bar)\n",
    "    display(f' Прибыль для полученного объёма сырья скважины из региона {name}: {final_profit} рублей')\n",
    "    #функция для локальной прибыли скважин"
   ]
  },
  {
   "cell_type": "code",
   "execution_count": 32,
   "metadata": {},
   "outputs": [],
   "source": [
    "def profit(target, preds, count):\n",
    "    preds_sorted=preds.sort_values(ascending=False)\n",
    "    chosen=target[preds_sorted.index][:count]\n",
    "    final=(chosen.sum())*one_bar-budget\n",
    "    return final\n",
    "#функция для прибыли скважин по региону"
   ]
  },
  {
   "cell_type": "code",
   "execution_count": 33,
   "metadata": {},
   "outputs": [
    {
     "data": {
      "text/plain": [
       "' Прибыль для полученного объёма сырья скважины из региона reg0: 55764252 рублей'"
      ]
     },
     "metadata": {},
     "output_type": "display_data"
    },
    {
     "data": {
      "text/plain": [
       "' Прибыль для полученного объёма сырья скважины из региона reg1: 62075433 рублей'"
      ]
     },
     "metadata": {},
     "output_type": "display_data"
    },
    {
     "data": {
      "text/plain": [
       "' Прибыль для полученного объёма сырья скважины из региона reg2: 69328349 рублей'"
      ]
     },
     "metadata": {},
     "output_type": "display_data"
    }
   ],
   "source": [
    "for name, df in regs.items():\n",
    "    profit_local(df, name) \n",
    "    #применяю функцию"
   ]
  },
  {
   "cell_type": "code",
   "execution_count": 34,
   "metadata": {},
   "outputs": [
    {
     "data": {
      "text/html": [
       "<div>\n",
       "<style scoped>\n",
       "    .dataframe tbody tr th:only-of-type {\n",
       "        vertical-align: middle;\n",
       "    }\n",
       "\n",
       "    .dataframe tbody tr th {\n",
       "        vertical-align: top;\n",
       "    }\n",
       "\n",
       "    .dataframe thead th {\n",
       "        text-align: right;\n",
       "    }\n",
       "</style>\n",
       "<table border=\"1\" class=\"dataframe\">\n",
       "  <thead>\n",
       "    <tr style=\"text-align: right;\">\n",
       "      <th></th>\n",
       "      <th>id</th>\n",
       "      <th>f0</th>\n",
       "      <th>f1</th>\n",
       "      <th>f2</th>\n",
       "      <th>product</th>\n",
       "      <th>target_pred</th>\n",
       "    </tr>\n",
       "  </thead>\n",
       "  <tbody>\n",
       "    <tr>\n",
       "      <th>0</th>\n",
       "      <td>txEyH</td>\n",
       "      <td>0.705745</td>\n",
       "      <td>-0.497823</td>\n",
       "      <td>1.221170</td>\n",
       "      <td>105.280062</td>\n",
       "      <td>NaN</td>\n",
       "    </tr>\n",
       "    <tr>\n",
       "      <th>1</th>\n",
       "      <td>2acmU</td>\n",
       "      <td>1.334711</td>\n",
       "      <td>-0.340164</td>\n",
       "      <td>4.365080</td>\n",
       "      <td>73.037750</td>\n",
       "      <td>116.267013</td>\n",
       "    </tr>\n",
       "    <tr>\n",
       "      <th>2</th>\n",
       "      <td>409Wp</td>\n",
       "      <td>1.022732</td>\n",
       "      <td>0.151990</td>\n",
       "      <td>1.419926</td>\n",
       "      <td>85.265647</td>\n",
       "      <td>NaN</td>\n",
       "    </tr>\n",
       "    <tr>\n",
       "      <th>3</th>\n",
       "      <td>iJLyR</td>\n",
       "      <td>-0.032172</td>\n",
       "      <td>0.139033</td>\n",
       "      <td>2.978566</td>\n",
       "      <td>168.620776</td>\n",
       "      <td>NaN</td>\n",
       "    </tr>\n",
       "    <tr>\n",
       "      <th>4</th>\n",
       "      <td>Xdl7t</td>\n",
       "      <td>1.988431</td>\n",
       "      <td>0.155413</td>\n",
       "      <td>4.751769</td>\n",
       "      <td>154.036647</td>\n",
       "      <td>NaN</td>\n",
       "    </tr>\n",
       "  </tbody>\n",
       "</table>\n",
       "</div>"
      ],
      "text/plain": [
       "      id        f0        f1        f2     product  target_pred\n",
       "0  txEyH  0.705745 -0.497823  1.221170  105.280062          NaN\n",
       "1  2acmU  1.334711 -0.340164  4.365080   73.037750   116.267013\n",
       "2  409Wp  1.022732  0.151990  1.419926   85.265647          NaN\n",
       "3  iJLyR -0.032172  0.139033  2.978566  168.620776          NaN\n",
       "4  Xdl7t  1.988431  0.155413  4.751769  154.036647          NaN"
      ]
     },
     "execution_count": 34,
     "metadata": {},
     "output_type": "execute_result"
    }
   ],
   "source": [
    "regs['reg0'].head()"
   ]
  },
  {
   "cell_type": "code",
   "execution_count": 35,
   "metadata": {},
   "outputs": [
    {
     "data": {
      "text/html": [
       "<div>\n",
       "<style scoped>\n",
       "    .dataframe tbody tr th:only-of-type {\n",
       "        vertical-align: middle;\n",
       "    }\n",
       "\n",
       "    .dataframe tbody tr th {\n",
       "        vertical-align: top;\n",
       "    }\n",
       "\n",
       "    .dataframe thead th {\n",
       "        text-align: right;\n",
       "    }\n",
       "</style>\n",
       "<table border=\"1\" class=\"dataframe\">\n",
       "  <thead>\n",
       "    <tr style=\"text-align: right;\">\n",
       "      <th></th>\n",
       "      <th>id</th>\n",
       "      <th>f0</th>\n",
       "      <th>f1</th>\n",
       "      <th>f2</th>\n",
       "      <th>product</th>\n",
       "      <th>target_pred</th>\n",
       "      <th>profit_local</th>\n",
       "    </tr>\n",
       "  </thead>\n",
       "  <tbody>\n",
       "    <tr>\n",
       "      <th>0</th>\n",
       "      <td>txEyH</td>\n",
       "      <td>0.705745</td>\n",
       "      <td>-0.497823</td>\n",
       "      <td>1.221170</td>\n",
       "      <td>105.280062</td>\n",
       "      <td>NaN</td>\n",
       "      <td>NaN</td>\n",
       "    </tr>\n",
       "    <tr>\n",
       "      <th>1</th>\n",
       "      <td>2acmU</td>\n",
       "      <td>1.334711</td>\n",
       "      <td>-0.340164</td>\n",
       "      <td>4.365080</td>\n",
       "      <td>73.037750</td>\n",
       "      <td>116.267013</td>\n",
       "      <td>5.232016e+07</td>\n",
       "    </tr>\n",
       "    <tr>\n",
       "      <th>2</th>\n",
       "      <td>409Wp</td>\n",
       "      <td>1.022732</td>\n",
       "      <td>0.151990</td>\n",
       "      <td>1.419926</td>\n",
       "      <td>85.265647</td>\n",
       "      <td>NaN</td>\n",
       "      <td>NaN</td>\n",
       "    </tr>\n",
       "    <tr>\n",
       "      <th>3</th>\n",
       "      <td>iJLyR</td>\n",
       "      <td>-0.032172</td>\n",
       "      <td>0.139033</td>\n",
       "      <td>2.978566</td>\n",
       "      <td>168.620776</td>\n",
       "      <td>NaN</td>\n",
       "      <td>NaN</td>\n",
       "    </tr>\n",
       "    <tr>\n",
       "      <th>4</th>\n",
       "      <td>Xdl7t</td>\n",
       "      <td>1.988431</td>\n",
       "      <td>0.155413</td>\n",
       "      <td>4.751769</td>\n",
       "      <td>154.036647</td>\n",
       "      <td>NaN</td>\n",
       "      <td>NaN</td>\n",
       "    </tr>\n",
       "  </tbody>\n",
       "</table>\n",
       "</div>"
      ],
      "text/plain": [
       "      id        f0        f1        f2     product  target_pred  profit_local\n",
       "0  txEyH  0.705745 -0.497823  1.221170  105.280062          NaN           NaN\n",
       "1  2acmU  1.334711 -0.340164  4.365080   73.037750   116.267013  5.232016e+07\n",
       "2  409Wp  1.022732  0.151990  1.419926   85.265647          NaN           NaN\n",
       "3  iJLyR -0.032172  0.139033  2.978566  168.620776          NaN           NaN\n",
       "4  Xdl7t  1.988431  0.155413  4.751769  154.036647          NaN           NaN"
      ]
     },
     "metadata": {},
     "output_type": "display_data"
    },
    {
     "data": {
      "text/html": [
       "<div>\n",
       "<style scoped>\n",
       "    .dataframe tbody tr th:only-of-type {\n",
       "        vertical-align: middle;\n",
       "    }\n",
       "\n",
       "    .dataframe tbody tr th {\n",
       "        vertical-align: top;\n",
       "    }\n",
       "\n",
       "    .dataframe thead th {\n",
       "        text-align: right;\n",
       "    }\n",
       "</style>\n",
       "<table border=\"1\" class=\"dataframe\">\n",
       "  <thead>\n",
       "    <tr style=\"text-align: right;\">\n",
       "      <th></th>\n",
       "      <th>id</th>\n",
       "      <th>f0</th>\n",
       "      <th>f1</th>\n",
       "      <th>f2</th>\n",
       "      <th>product</th>\n",
       "      <th>target_pred</th>\n",
       "      <th>profit_local</th>\n",
       "    </tr>\n",
       "  </thead>\n",
       "  <tbody>\n",
       "    <tr>\n",
       "      <th>0</th>\n",
       "      <td>kBEdx</td>\n",
       "      <td>-15.001348</td>\n",
       "      <td>-8.276000</td>\n",
       "      <td>-0.005876</td>\n",
       "      <td>3.179103</td>\n",
       "      <td>NaN</td>\n",
       "      <td>NaN</td>\n",
       "    </tr>\n",
       "    <tr>\n",
       "      <th>1</th>\n",
       "      <td>62mP7</td>\n",
       "      <td>14.272088</td>\n",
       "      <td>-3.475083</td>\n",
       "      <td>0.999183</td>\n",
       "      <td>26.953261</td>\n",
       "      <td>26.591918</td>\n",
       "      <td>1.196636e+07</td>\n",
       "    </tr>\n",
       "    <tr>\n",
       "      <th>2</th>\n",
       "      <td>vyE1P</td>\n",
       "      <td>6.263187</td>\n",
       "      <td>-5.948386</td>\n",
       "      <td>5.001160</td>\n",
       "      <td>134.766305</td>\n",
       "      <td>NaN</td>\n",
       "      <td>NaN</td>\n",
       "    </tr>\n",
       "    <tr>\n",
       "      <th>3</th>\n",
       "      <td>KcrkZ</td>\n",
       "      <td>-13.081196</td>\n",
       "      <td>-11.506057</td>\n",
       "      <td>4.999415</td>\n",
       "      <td>137.945408</td>\n",
       "      <td>NaN</td>\n",
       "      <td>NaN</td>\n",
       "    </tr>\n",
       "    <tr>\n",
       "      <th>4</th>\n",
       "      <td>AHL4O</td>\n",
       "      <td>12.702195</td>\n",
       "      <td>-8.147433</td>\n",
       "      <td>5.004363</td>\n",
       "      <td>134.766305</td>\n",
       "      <td>NaN</td>\n",
       "      <td>NaN</td>\n",
       "    </tr>\n",
       "  </tbody>\n",
       "</table>\n",
       "</div>"
      ],
      "text/plain": [
       "      id         f0         f1        f2     product  target_pred  \\\n",
       "0  kBEdx -15.001348  -8.276000 -0.005876    3.179103          NaN   \n",
       "1  62mP7  14.272088  -3.475083  0.999183   26.953261    26.591918   \n",
       "2  vyE1P   6.263187  -5.948386  5.001160  134.766305          NaN   \n",
       "3  KcrkZ -13.081196 -11.506057  4.999415  137.945408          NaN   \n",
       "4  AHL4O  12.702195  -8.147433  5.004363  134.766305          NaN   \n",
       "\n",
       "   profit_local  \n",
       "0           NaN  \n",
       "1  1.196636e+07  \n",
       "2           NaN  \n",
       "3           NaN  \n",
       "4           NaN  "
      ]
     },
     "metadata": {},
     "output_type": "display_data"
    },
    {
     "data": {
      "text/html": [
       "<div>\n",
       "<style scoped>\n",
       "    .dataframe tbody tr th:only-of-type {\n",
       "        vertical-align: middle;\n",
       "    }\n",
       "\n",
       "    .dataframe tbody tr th {\n",
       "        vertical-align: top;\n",
       "    }\n",
       "\n",
       "    .dataframe thead th {\n",
       "        text-align: right;\n",
       "    }\n",
       "</style>\n",
       "<table border=\"1\" class=\"dataframe\">\n",
       "  <thead>\n",
       "    <tr style=\"text-align: right;\">\n",
       "      <th></th>\n",
       "      <th>id</th>\n",
       "      <th>f0</th>\n",
       "      <th>f1</th>\n",
       "      <th>f2</th>\n",
       "      <th>product</th>\n",
       "      <th>target_pred</th>\n",
       "      <th>profit_local</th>\n",
       "    </tr>\n",
       "  </thead>\n",
       "  <tbody>\n",
       "    <tr>\n",
       "      <th>0</th>\n",
       "      <td>fwXo0</td>\n",
       "      <td>-1.146987</td>\n",
       "      <td>0.963328</td>\n",
       "      <td>-0.828965</td>\n",
       "      <td>27.758673</td>\n",
       "      <td>NaN</td>\n",
       "      <td>NaN</td>\n",
       "    </tr>\n",
       "    <tr>\n",
       "      <th>1</th>\n",
       "      <td>WJtFt</td>\n",
       "      <td>0.262778</td>\n",
       "      <td>0.269839</td>\n",
       "      <td>-2.530187</td>\n",
       "      <td>56.069697</td>\n",
       "      <td>66.163121</td>\n",
       "      <td>2.977340e+07</td>\n",
       "    </tr>\n",
       "    <tr>\n",
       "      <th>2</th>\n",
       "      <td>ovLUW</td>\n",
       "      <td>0.194587</td>\n",
       "      <td>0.289035</td>\n",
       "      <td>-5.586433</td>\n",
       "      <td>62.871910</td>\n",
       "      <td>NaN</td>\n",
       "      <td>NaN</td>\n",
       "    </tr>\n",
       "    <tr>\n",
       "      <th>3</th>\n",
       "      <td>q6cA6</td>\n",
       "      <td>2.236060</td>\n",
       "      <td>-0.553760</td>\n",
       "      <td>0.930038</td>\n",
       "      <td>114.572842</td>\n",
       "      <td>NaN</td>\n",
       "      <td>NaN</td>\n",
       "    </tr>\n",
       "    <tr>\n",
       "      <th>4</th>\n",
       "      <td>WPMUX</td>\n",
       "      <td>-0.515993</td>\n",
       "      <td>1.716266</td>\n",
       "      <td>5.899011</td>\n",
       "      <td>149.600746</td>\n",
       "      <td>NaN</td>\n",
       "      <td>NaN</td>\n",
       "    </tr>\n",
       "  </tbody>\n",
       "</table>\n",
       "</div>"
      ],
      "text/plain": [
       "      id        f0        f1        f2     product  target_pred  profit_local\n",
       "0  fwXo0 -1.146987  0.963328 -0.828965   27.758673          NaN           NaN\n",
       "1  WJtFt  0.262778  0.269839 -2.530187   56.069697    66.163121  2.977340e+07\n",
       "2  ovLUW  0.194587  0.289035 -5.586433   62.871910          NaN           NaN\n",
       "3  q6cA6  2.236060 -0.553760  0.930038  114.572842          NaN           NaN\n",
       "4  WPMUX -0.515993  1.716266  5.899011  149.600746          NaN           NaN"
      ]
     },
     "metadata": {},
     "output_type": "display_data"
    }
   ],
   "source": [
    "for name, df in regs.items():\n",
    "    df['profit_local']=df['target_pred']*450000\n",
    "    display(df.head())\n",
    "    #создаю новый столбец с результатами по выручке от скважин"
   ]
  },
  {
   "cell_type": "code",
   "execution_count": 36,
   "metadata": {},
   "outputs": [
    {
     "data": {
      "text/html": [
       "<div>\n",
       "<style scoped>\n",
       "    .dataframe tbody tr th:only-of-type {\n",
       "        vertical-align: middle;\n",
       "    }\n",
       "\n",
       "    .dataframe tbody tr th {\n",
       "        vertical-align: top;\n",
       "    }\n",
       "\n",
       "    .dataframe thead th {\n",
       "        text-align: right;\n",
       "    }\n",
       "</style>\n",
       "<table border=\"1\" class=\"dataframe\">\n",
       "  <thead>\n",
       "    <tr style=\"text-align: right;\">\n",
       "      <th></th>\n",
       "      <th>Регион</th>\n",
       "      <th>Суммарная прибыль</th>\n",
       "      <th>Количество записей</th>\n",
       "      <th>Средняя прибыль</th>\n",
       "    </tr>\n",
       "  </thead>\n",
       "  <tbody>\n",
       "    <tr>\n",
       "      <th>0</th>\n",
       "      <td>reg0</td>\n",
       "      <td>1.041818e+12</td>\n",
       "      <td>100000</td>\n",
       "      <td>4.167274e+07</td>\n",
       "    </tr>\n",
       "    <tr>\n",
       "      <th>1</th>\n",
       "      <td>reg1</td>\n",
       "      <td>7.753532e+11</td>\n",
       "      <td>100000</td>\n",
       "      <td>3.101413e+07</td>\n",
       "    </tr>\n",
       "    <tr>\n",
       "      <th>2</th>\n",
       "      <td>reg2</td>\n",
       "      <td>1.066493e+12</td>\n",
       "      <td>100000</td>\n",
       "      <td>4.265973e+07</td>\n",
       "    </tr>\n",
       "  </tbody>\n",
       "</table>\n",
       "</div>"
      ],
      "text/plain": [
       "  Регион  Суммарная прибыль  Количество записей  Средняя прибыль\n",
       "0   reg0       1.041818e+12              100000     4.167274e+07\n",
       "1   reg1       7.753532e+11              100000     3.101413e+07\n",
       "2   reg2       1.066493e+12              100000     4.265973e+07"
      ]
     },
     "metadata": {},
     "output_type": "display_data"
    }
   ],
   "source": [
    "results=[]\n",
    "for name, df in regs.items():\n",
    "    total_profit = df['profit_local'].sum()\n",
    "    results.append({'Регион': name,\n",
    "        'Суммарная прибыль': total_profit,\n",
    "        'Количество записей': len(df),\n",
    "        'Средняя прибыль': df['profit_local'].mean()\n",
    "    })\n",
    "\n",
    "\n",
    "results_df = pd.DataFrame(results)\n",
    "display(results_df)\n",
    "#вывожу таблицу с общими результатами  "
   ]
  },
  {
   "cell_type": "markdown",
   "metadata": {},
   "source": [
    "Пока что лидеры - 0 и 2 регионы"
   ]
  },
  {
   "cell_type": "markdown",
   "metadata": {},
   "source": [
    "**Риски**"
   ]
  },
  {
   "cell_type": "code",
   "execution_count": 37,
   "metadata": {},
   "outputs": [
    {
     "data": {
      "text/html": [
       "<div>\n",
       "<style scoped>\n",
       "    .dataframe tbody tr th:only-of-type {\n",
       "        vertical-align: middle;\n",
       "    }\n",
       "\n",
       "    .dataframe tbody tr th {\n",
       "        vertical-align: top;\n",
       "    }\n",
       "\n",
       "    .dataframe thead th {\n",
       "        text-align: right;\n",
       "    }\n",
       "</style>\n",
       "<table border=\"1\" class=\"dataframe\">\n",
       "  <thead>\n",
       "    <tr style=\"text-align: right;\">\n",
       "      <th></th>\n",
       "      <th>id</th>\n",
       "      <th>f0</th>\n",
       "      <th>f1</th>\n",
       "      <th>f2</th>\n",
       "      <th>product</th>\n",
       "      <th>target_pred</th>\n",
       "      <th>profit_local</th>\n",
       "    </tr>\n",
       "  </thead>\n",
       "  <tbody>\n",
       "    <tr>\n",
       "      <th>1</th>\n",
       "      <td>2acmU</td>\n",
       "      <td>1.334711</td>\n",
       "      <td>-0.340164</td>\n",
       "      <td>4.365080</td>\n",
       "      <td>73.037750</td>\n",
       "      <td>116.267013</td>\n",
       "      <td>5.232016e+07</td>\n",
       "    </tr>\n",
       "    <tr>\n",
       "      <th>6</th>\n",
       "      <td>tL6pL</td>\n",
       "      <td>0.645075</td>\n",
       "      <td>0.530656</td>\n",
       "      <td>1.780266</td>\n",
       "      <td>49.055285</td>\n",
       "      <td>84.396763</td>\n",
       "      <td>3.797854e+07</td>\n",
       "    </tr>\n",
       "    <tr>\n",
       "      <th>9</th>\n",
       "      <td>OLuZU</td>\n",
       "      <td>2.173381</td>\n",
       "      <td>0.563698</td>\n",
       "      <td>9.441852</td>\n",
       "      <td>127.910945</td>\n",
       "      <td>139.997207</td>\n",
       "      <td>6.299874e+07</td>\n",
       "    </tr>\n",
       "    <tr>\n",
       "      <th>10</th>\n",
       "      <td>b8WQ6</td>\n",
       "      <td>0.371066</td>\n",
       "      <td>-0.036585</td>\n",
       "      <td>0.009208</td>\n",
       "      <td>70.326617</td>\n",
       "      <td>79.748709</td>\n",
       "      <td>3.588692e+07</td>\n",
       "    </tr>\n",
       "    <tr>\n",
       "      <th>12</th>\n",
       "      <td>zIYPq</td>\n",
       "      <td>-0.276476</td>\n",
       "      <td>0.924865</td>\n",
       "      <td>0.095584</td>\n",
       "      <td>89.158678</td>\n",
       "      <td>64.333178</td>\n",
       "      <td>2.894993e+07</td>\n",
       "    </tr>\n",
       "    <tr>\n",
       "      <th>30</th>\n",
       "      <td>jnQyF</td>\n",
       "      <td>-1.126401</td>\n",
       "      <td>0.007046</td>\n",
       "      <td>-0.657548</td>\n",
       "      <td>87.078211</td>\n",
       "      <td>69.215199</td>\n",
       "      <td>3.114684e+07</td>\n",
       "    </tr>\n",
       "    <tr>\n",
       "      <th>40</th>\n",
       "      <td>PXZCd</td>\n",
       "      <td>0.364794</td>\n",
       "      <td>0.845560</td>\n",
       "      <td>5.183734</td>\n",
       "      <td>104.653180</td>\n",
       "      <td>101.309995</td>\n",
       "      <td>4.558950e+07</td>\n",
       "    </tr>\n",
       "    <tr>\n",
       "      <th>41</th>\n",
       "      <td>u8Y1U</td>\n",
       "      <td>0.595683</td>\n",
       "      <td>-0.387270</td>\n",
       "      <td>6.572725</td>\n",
       "      <td>165.818728</td>\n",
       "      <td>128.734503</td>\n",
       "      <td>5.793053e+07</td>\n",
       "    </tr>\n",
       "    <tr>\n",
       "      <th>42</th>\n",
       "      <td>3TANG</td>\n",
       "      <td>-0.443525</td>\n",
       "      <td>0.598654</td>\n",
       "      <td>2.538232</td>\n",
       "      <td>60.549433</td>\n",
       "      <td>84.405110</td>\n",
       "      <td>3.798230e+07</td>\n",
       "    </tr>\n",
       "    <tr>\n",
       "      <th>43</th>\n",
       "      <td>nCqKF</td>\n",
       "      <td>0.528174</td>\n",
       "      <td>0.767072</td>\n",
       "      <td>6.318515</td>\n",
       "      <td>61.335115</td>\n",
       "      <td>110.491527</td>\n",
       "      <td>4.972119e+07</td>\n",
       "    </tr>\n",
       "    <tr>\n",
       "      <th>45</th>\n",
       "      <td>brqzz</td>\n",
       "      <td>1.900076</td>\n",
       "      <td>0.062369</td>\n",
       "      <td>2.783304</td>\n",
       "      <td>110.093615</td>\n",
       "      <td>102.252403</td>\n",
       "      <td>4.601358e+07</td>\n",
       "    </tr>\n",
       "    <tr>\n",
       "      <th>51</th>\n",
       "      <td>VluBu</td>\n",
       "      <td>0.211508</td>\n",
       "      <td>1.087495</td>\n",
       "      <td>4.899277</td>\n",
       "      <td>74.361936</td>\n",
       "      <td>95.451335</td>\n",
       "      <td>4.295310e+07</td>\n",
       "    </tr>\n",
       "    <tr>\n",
       "      <th>53</th>\n",
       "      <td>CslzZ</td>\n",
       "      <td>-0.862828</td>\n",
       "      <td>0.447806</td>\n",
       "      <td>7.922039</td>\n",
       "      <td>149.581926</td>\n",
       "      <td>120.423930</td>\n",
       "      <td>5.419077e+07</td>\n",
       "    </tr>\n",
       "    <tr>\n",
       "      <th>54</th>\n",
       "      <td>CtLdb</td>\n",
       "      <td>1.678708</td>\n",
       "      <td>-0.197401</td>\n",
       "      <td>-1.288967</td>\n",
       "      <td>92.937962</td>\n",
       "      <td>78.305874</td>\n",
       "      <td>3.523764e+07</td>\n",
       "    </tr>\n",
       "    <tr>\n",
       "      <th>60</th>\n",
       "      <td>F2uKY</td>\n",
       "      <td>1.855593</td>\n",
       "      <td>-0.105430</td>\n",
       "      <td>1.477041</td>\n",
       "      <td>110.001612</td>\n",
       "      <td>95.863313</td>\n",
       "      <td>4.313849e+07</td>\n",
       "    </tr>\n",
       "    <tr>\n",
       "      <th>63</th>\n",
       "      <td>0WHqb</td>\n",
       "      <td>-1.051261</td>\n",
       "      <td>0.255329</td>\n",
       "      <td>6.343111</td>\n",
       "      <td>153.813043</td>\n",
       "      <td>112.057739</td>\n",
       "      <td>5.042598e+07</td>\n",
       "    </tr>\n",
       "    <tr>\n",
       "      <th>65</th>\n",
       "      <td>EDOXV</td>\n",
       "      <td>1.571555</td>\n",
       "      <td>-0.129530</td>\n",
       "      <td>2.360012</td>\n",
       "      <td>97.071130</td>\n",
       "      <td>100.966801</td>\n",
       "      <td>4.543506e+07</td>\n",
       "    </tr>\n",
       "    <tr>\n",
       "      <th>66</th>\n",
       "      <td>WdnTQ</td>\n",
       "      <td>1.804192</td>\n",
       "      <td>-0.045398</td>\n",
       "      <td>9.471973</td>\n",
       "      <td>162.099911</td>\n",
       "      <td>147.444168</td>\n",
       "      <td>6.634988e+07</td>\n",
       "    </tr>\n",
       "    <tr>\n",
       "      <th>90</th>\n",
       "      <td>pstPK</td>\n",
       "      <td>0.696098</td>\n",
       "      <td>-0.470783</td>\n",
       "      <td>2.537332</td>\n",
       "      <td>51.746704</td>\n",
       "      <td>103.726644</td>\n",
       "      <td>4.667699e+07</td>\n",
       "    </tr>\n",
       "    <tr>\n",
       "      <th>93</th>\n",
       "      <td>fOja0</td>\n",
       "      <td>-0.786870</td>\n",
       "      <td>0.703557</td>\n",
       "      <td>9.823287</td>\n",
       "      <td>127.567652</td>\n",
       "      <td>129.601664</td>\n",
       "      <td>5.832075e+07</td>\n",
       "    </tr>\n",
       "    <tr>\n",
       "      <th>94</th>\n",
       "      <td>39Fwq</td>\n",
       "      <td>0.723692</td>\n",
       "      <td>-0.231865</td>\n",
       "      <td>7.392999</td>\n",
       "      <td>169.201095</td>\n",
       "      <td>132.408606</td>\n",
       "      <td>5.958387e+07</td>\n",
       "    </tr>\n",
       "    <tr>\n",
       "      <th>96</th>\n",
       "      <td>6bstl</td>\n",
       "      <td>0.332135</td>\n",
       "      <td>-0.140657</td>\n",
       "      <td>2.808669</td>\n",
       "      <td>63.864110</td>\n",
       "      <td>99.501326</td>\n",
       "      <td>4.477560e+07</td>\n",
       "    </tr>\n",
       "    <tr>\n",
       "      <th>99</th>\n",
       "      <td>vT7FD</td>\n",
       "      <td>1.929955</td>\n",
       "      <td>0.116360</td>\n",
       "      <td>-1.044324</td>\n",
       "      <td>158.819062</td>\n",
       "      <td>76.407470</td>\n",
       "      <td>3.438336e+07</td>\n",
       "    </tr>\n",
       "    <tr>\n",
       "      <th>102</th>\n",
       "      <td>4yImP</td>\n",
       "      <td>0.405894</td>\n",
       "      <td>0.841559</td>\n",
       "      <td>2.645905</td>\n",
       "      <td>27.553026</td>\n",
       "      <td>84.815345</td>\n",
       "      <td>3.816691e+07</td>\n",
       "    </tr>\n",
       "    <tr>\n",
       "      <th>104</th>\n",
       "      <td>TXkDD</td>\n",
       "      <td>-0.000177</td>\n",
       "      <td>0.534243</td>\n",
       "      <td>0.095797</td>\n",
       "      <td>74.954609</td>\n",
       "      <td>70.877420</td>\n",
       "      <td>3.189484e+07</td>\n",
       "    </tr>\n",
       "    <tr>\n",
       "      <th>112</th>\n",
       "      <td>PV2KF</td>\n",
       "      <td>0.630917</td>\n",
       "      <td>-0.403822</td>\n",
       "      <td>0.268646</td>\n",
       "      <td>106.476395</td>\n",
       "      <td>87.607714</td>\n",
       "      <td>3.942347e+07</td>\n",
       "    </tr>\n",
       "    <tr>\n",
       "      <th>118</th>\n",
       "      <td>r1CDH</td>\n",
       "      <td>1.037816</td>\n",
       "      <td>-0.163486</td>\n",
       "      <td>-3.675182</td>\n",
       "      <td>25.001260</td>\n",
       "      <td>59.755243</td>\n",
       "      <td>2.688986e+07</td>\n",
       "    </tr>\n",
       "    <tr>\n",
       "      <th>137</th>\n",
       "      <td>IgfkE</td>\n",
       "      <td>0.813957</td>\n",
       "      <td>-0.563044</td>\n",
       "      <td>6.742360</td>\n",
       "      <td>167.741299</td>\n",
       "      <td>133.141967</td>\n",
       "      <td>5.991388e+07</td>\n",
       "    </tr>\n",
       "    <tr>\n",
       "      <th>139</th>\n",
       "      <td>CGari</td>\n",
       "      <td>0.888760</td>\n",
       "      <td>0.519165</td>\n",
       "      <td>8.920741</td>\n",
       "      <td>150.791471</td>\n",
       "      <td>132.454553</td>\n",
       "      <td>5.960455e+07</td>\n",
       "    </tr>\n",
       "    <tr>\n",
       "      <th>140</th>\n",
       "      <td>3fJpC</td>\n",
       "      <td>-0.461609</td>\n",
       "      <td>1.116884</td>\n",
       "      <td>-1.656309</td>\n",
       "      <td>41.686794</td>\n",
       "      <td>49.404604</td>\n",
       "      <td>2.223207e+07</td>\n",
       "    </tr>\n",
       "  </tbody>\n",
       "</table>\n",
       "</div>"
      ],
      "text/plain": [
       "        id        f0        f1        f2     product  target_pred  \\\n",
       "1    2acmU  1.334711 -0.340164  4.365080   73.037750   116.267013   \n",
       "6    tL6pL  0.645075  0.530656  1.780266   49.055285    84.396763   \n",
       "9    OLuZU  2.173381  0.563698  9.441852  127.910945   139.997207   \n",
       "10   b8WQ6  0.371066 -0.036585  0.009208   70.326617    79.748709   \n",
       "12   zIYPq -0.276476  0.924865  0.095584   89.158678    64.333178   \n",
       "30   jnQyF -1.126401  0.007046 -0.657548   87.078211    69.215199   \n",
       "40   PXZCd  0.364794  0.845560  5.183734  104.653180   101.309995   \n",
       "41   u8Y1U  0.595683 -0.387270  6.572725  165.818728   128.734503   \n",
       "42   3TANG -0.443525  0.598654  2.538232   60.549433    84.405110   \n",
       "43   nCqKF  0.528174  0.767072  6.318515   61.335115   110.491527   \n",
       "45   brqzz  1.900076  0.062369  2.783304  110.093615   102.252403   \n",
       "51   VluBu  0.211508  1.087495  4.899277   74.361936    95.451335   \n",
       "53   CslzZ -0.862828  0.447806  7.922039  149.581926   120.423930   \n",
       "54   CtLdb  1.678708 -0.197401 -1.288967   92.937962    78.305874   \n",
       "60   F2uKY  1.855593 -0.105430  1.477041  110.001612    95.863313   \n",
       "63   0WHqb -1.051261  0.255329  6.343111  153.813043   112.057739   \n",
       "65   EDOXV  1.571555 -0.129530  2.360012   97.071130   100.966801   \n",
       "66   WdnTQ  1.804192 -0.045398  9.471973  162.099911   147.444168   \n",
       "90   pstPK  0.696098 -0.470783  2.537332   51.746704   103.726644   \n",
       "93   fOja0 -0.786870  0.703557  9.823287  127.567652   129.601664   \n",
       "94   39Fwq  0.723692 -0.231865  7.392999  169.201095   132.408606   \n",
       "96   6bstl  0.332135 -0.140657  2.808669   63.864110    99.501326   \n",
       "99   vT7FD  1.929955  0.116360 -1.044324  158.819062    76.407470   \n",
       "102  4yImP  0.405894  0.841559  2.645905   27.553026    84.815345   \n",
       "104  TXkDD -0.000177  0.534243  0.095797   74.954609    70.877420   \n",
       "112  PV2KF  0.630917 -0.403822  0.268646  106.476395    87.607714   \n",
       "118  r1CDH  1.037816 -0.163486 -3.675182   25.001260    59.755243   \n",
       "137  IgfkE  0.813957 -0.563044  6.742360  167.741299   133.141967   \n",
       "139  CGari  0.888760  0.519165  8.920741  150.791471   132.454553   \n",
       "140  3fJpC -0.461609  1.116884 -1.656309   41.686794    49.404604   \n",
       "\n",
       "     profit_local  \n",
       "1    5.232016e+07  \n",
       "6    3.797854e+07  \n",
       "9    6.299874e+07  \n",
       "10   3.588692e+07  \n",
       "12   2.894993e+07  \n",
       "30   3.114684e+07  \n",
       "40   4.558950e+07  \n",
       "41   5.793053e+07  \n",
       "42   3.798230e+07  \n",
       "43   4.972119e+07  \n",
       "45   4.601358e+07  \n",
       "51   4.295310e+07  \n",
       "53   5.419077e+07  \n",
       "54   3.523764e+07  \n",
       "60   4.313849e+07  \n",
       "63   5.042598e+07  \n",
       "65   4.543506e+07  \n",
       "66   6.634988e+07  \n",
       "90   4.667699e+07  \n",
       "93   5.832075e+07  \n",
       "94   5.958387e+07  \n",
       "96   4.477560e+07  \n",
       "99   3.438336e+07  \n",
       "102  3.816691e+07  \n",
       "104  3.189484e+07  \n",
       "112  3.942347e+07  \n",
       "118  2.688986e+07  \n",
       "137  5.991388e+07  \n",
       "139  5.960455e+07  \n",
       "140  2.223207e+07  "
      ]
     },
     "metadata": {},
     "output_type": "display_data"
    },
    {
     "data": {
      "text/html": [
       "<div>\n",
       "<style scoped>\n",
       "    .dataframe tbody tr th:only-of-type {\n",
       "        vertical-align: middle;\n",
       "    }\n",
       "\n",
       "    .dataframe tbody tr th {\n",
       "        vertical-align: top;\n",
       "    }\n",
       "\n",
       "    .dataframe thead th {\n",
       "        text-align: right;\n",
       "    }\n",
       "</style>\n",
       "<table border=\"1\" class=\"dataframe\">\n",
       "  <thead>\n",
       "    <tr style=\"text-align: right;\">\n",
       "      <th></th>\n",
       "      <th>id</th>\n",
       "      <th>f0</th>\n",
       "      <th>f1</th>\n",
       "      <th>f2</th>\n",
       "      <th>product</th>\n",
       "      <th>target_pred</th>\n",
       "      <th>profit_local</th>\n",
       "    </tr>\n",
       "  </thead>\n",
       "  <tbody>\n",
       "    <tr>\n",
       "      <th>1</th>\n",
       "      <td>62mP7</td>\n",
       "      <td>14.272088</td>\n",
       "      <td>-3.475083</td>\n",
       "      <td>0.999183</td>\n",
       "      <td>26.953261</td>\n",
       "      <td>26.591918</td>\n",
       "      <td>1.196636e+07</td>\n",
       "    </tr>\n",
       "    <tr>\n",
       "      <th>6</th>\n",
       "      <td>h5Ujo</td>\n",
       "      <td>-11.142655</td>\n",
       "      <td>-10.133399</td>\n",
       "      <td>4.002382</td>\n",
       "      <td>110.992147</td>\n",
       "      <td>111.358594</td>\n",
       "      <td>5.011137e+07</td>\n",
       "    </tr>\n",
       "    <tr>\n",
       "      <th>9</th>\n",
       "      <td>jG6Gi</td>\n",
       "      <td>1.069227</td>\n",
       "      <td>-11.025667</td>\n",
       "      <td>4.997844</td>\n",
       "      <td>137.945408</td>\n",
       "      <td>136.433906</td>\n",
       "      <td>6.139526e+07</td>\n",
       "    </tr>\n",
       "    <tr>\n",
       "      <th>10</th>\n",
       "      <td>7uHUe</td>\n",
       "      <td>11.777049</td>\n",
       "      <td>-5.334084</td>\n",
       "      <td>2.003033</td>\n",
       "      <td>53.906522</td>\n",
       "      <td>54.047701</td>\n",
       "      <td>2.432147e+07</td>\n",
       "    </tr>\n",
       "    <tr>\n",
       "      <th>12</th>\n",
       "      <td>cB8re</td>\n",
       "      <td>7.736313</td>\n",
       "      <td>-6.093374</td>\n",
       "      <td>3.982531</td>\n",
       "      <td>107.813044</td>\n",
       "      <td>107.998943</td>\n",
       "      <td>4.859952e+07</td>\n",
       "    </tr>\n",
       "    <tr>\n",
       "      <th>30</th>\n",
       "      <td>YVVPX</td>\n",
       "      <td>11.726927</td>\n",
       "      <td>-4.285120</td>\n",
       "      <td>1.003547</td>\n",
       "      <td>26.953261</td>\n",
       "      <td>27.095957</td>\n",
       "      <td>1.219318e+07</td>\n",
       "    </tr>\n",
       "    <tr>\n",
       "      <th>40</th>\n",
       "      <td>qytqc</td>\n",
       "      <td>8.706025</td>\n",
       "      <td>-1.677798</td>\n",
       "      <td>5.002392</td>\n",
       "      <td>134.766305</td>\n",
       "      <td>135.251003</td>\n",
       "      <td>6.086295e+07</td>\n",
       "    </tr>\n",
       "    <tr>\n",
       "      <th>41</th>\n",
       "      <td>GrqpD</td>\n",
       "      <td>-4.758592</td>\n",
       "      <td>-18.409826</td>\n",
       "      <td>3.007507</td>\n",
       "      <td>84.038886</td>\n",
       "      <td>83.794417</td>\n",
       "      <td>3.770749e+07</td>\n",
       "    </tr>\n",
       "    <tr>\n",
       "      <th>42</th>\n",
       "      <td>MLsxX</td>\n",
       "      <td>-8.152442</td>\n",
       "      <td>-2.061445</td>\n",
       "      <td>0.985784</td>\n",
       "      <td>30.132364</td>\n",
       "      <td>29.454771</td>\n",
       "      <td>1.325465e+07</td>\n",
       "    </tr>\n",
       "    <tr>\n",
       "      <th>43</th>\n",
       "      <td>bBa22</td>\n",
       "      <td>-8.140922</td>\n",
       "      <td>-6.899974</td>\n",
       "      <td>1.004955</td>\n",
       "      <td>30.132364</td>\n",
       "      <td>30.071919</td>\n",
       "      <td>1.353236e+07</td>\n",
       "    </tr>\n",
       "    <tr>\n",
       "      <th>45</th>\n",
       "      <td>XIVZM</td>\n",
       "      <td>-8.688924</td>\n",
       "      <td>-11.038716</td>\n",
       "      <td>-0.001724</td>\n",
       "      <td>3.179103</td>\n",
       "      <td>3.108101</td>\n",
       "      <td>1.398646e+06</td>\n",
       "    </tr>\n",
       "    <tr>\n",
       "      <th>51</th>\n",
       "      <td>5IdNU</td>\n",
       "      <td>-16.330562</td>\n",
       "      <td>-3.434733</td>\n",
       "      <td>5.005144</td>\n",
       "      <td>137.945408</td>\n",
       "      <td>138.995088</td>\n",
       "      <td>6.254779e+07</td>\n",
       "    </tr>\n",
       "    <tr>\n",
       "      <th>53</th>\n",
       "      <td>vPO9F</td>\n",
       "      <td>9.831631</td>\n",
       "      <td>-3.825114</td>\n",
       "      <td>3.000623</td>\n",
       "      <td>80.859783</td>\n",
       "      <td>81.183880</td>\n",
       "      <td>3.653275e+07</td>\n",
       "    </tr>\n",
       "    <tr>\n",
       "      <th>54</th>\n",
       "      <td>86e7T</td>\n",
       "      <td>0.153587</td>\n",
       "      <td>-5.519640</td>\n",
       "      <td>1.000867</td>\n",
       "      <td>26.953261</td>\n",
       "      <td>28.729072</td>\n",
       "      <td>1.292808e+07</td>\n",
       "    </tr>\n",
       "    <tr>\n",
       "      <th>60</th>\n",
       "      <td>2edYH</td>\n",
       "      <td>-4.846277</td>\n",
       "      <td>-4.197838</td>\n",
       "      <td>0.996254</td>\n",
       "      <td>30.132364</td>\n",
       "      <td>29.302315</td>\n",
       "      <td>1.318604e+07</td>\n",
       "    </tr>\n",
       "    <tr>\n",
       "      <th>63</th>\n",
       "      <td>G6WCj</td>\n",
       "      <td>6.822701</td>\n",
       "      <td>3.104979</td>\n",
       "      <td>-0.000723</td>\n",
       "      <td>0.000000</td>\n",
       "      <td>0.585689</td>\n",
       "      <td>2.635601e+05</td>\n",
       "    </tr>\n",
       "    <tr>\n",
       "      <th>65</th>\n",
       "      <td>EI98u</td>\n",
       "      <td>7.184774</td>\n",
       "      <td>-3.550479</td>\n",
       "      <td>3.008306</td>\n",
       "      <td>80.859783</td>\n",
       "      <td>81.769219</td>\n",
       "      <td>3.679615e+07</td>\n",
       "    </tr>\n",
       "    <tr>\n",
       "      <th>66</th>\n",
       "      <td>cpJzM</td>\n",
       "      <td>-14.319030</td>\n",
       "      <td>-3.291978</td>\n",
       "      <td>3.000274</td>\n",
       "      <td>84.038886</td>\n",
       "      <td>84.667497</td>\n",
       "      <td>3.810037e+07</td>\n",
       "    </tr>\n",
       "    <tr>\n",
       "      <th>90</th>\n",
       "      <td>gz9cw</td>\n",
       "      <td>-2.658889</td>\n",
       "      <td>-7.778504</td>\n",
       "      <td>1.996045</td>\n",
       "      <td>57.085625</td>\n",
       "      <td>56.005629</td>\n",
       "      <td>2.520253e+07</td>\n",
       "    </tr>\n",
       "    <tr>\n",
       "      <th>93</th>\n",
       "      <td>GVqKx</td>\n",
       "      <td>4.156800</td>\n",
       "      <td>-8.562170</td>\n",
       "      <td>2.987047</td>\n",
       "      <td>80.859783</td>\n",
       "      <td>81.741460</td>\n",
       "      <td>3.678366e+07</td>\n",
       "    </tr>\n",
       "    <tr>\n",
       "      <th>94</th>\n",
       "      <td>hDxwD</td>\n",
       "      <td>5.009519</td>\n",
       "      <td>-8.417842</td>\n",
       "      <td>0.992427</td>\n",
       "      <td>26.953261</td>\n",
       "      <td>27.858216</td>\n",
       "      <td>1.253620e+07</td>\n",
       "    </tr>\n",
       "    <tr>\n",
       "      <th>96</th>\n",
       "      <td>FFBRr</td>\n",
       "      <td>-9.631558</td>\n",
       "      <td>-3.142134</td>\n",
       "      <td>-0.000449</td>\n",
       "      <td>3.179103</td>\n",
       "      <td>3.112508</td>\n",
       "      <td>1.400629e+06</td>\n",
       "    </tr>\n",
       "    <tr>\n",
       "      <th>99</th>\n",
       "      <td>n93UD</td>\n",
       "      <td>18.452972</td>\n",
       "      <td>-8.879619</td>\n",
       "      <td>4.003719</td>\n",
       "      <td>107.813044</td>\n",
       "      <td>107.073824</td>\n",
       "      <td>4.818322e+07</td>\n",
       "    </tr>\n",
       "    <tr>\n",
       "      <th>102</th>\n",
       "      <td>GvSbg</td>\n",
       "      <td>-17.675213</td>\n",
       "      <td>-7.858453</td>\n",
       "      <td>3.998679</td>\n",
       "      <td>110.992147</td>\n",
       "      <td>112.158632</td>\n",
       "      <td>5.047138e+07</td>\n",
       "    </tr>\n",
       "    <tr>\n",
       "      <th>104</th>\n",
       "      <td>TIR8q</td>\n",
       "      <td>6.379550</td>\n",
       "      <td>0.441583</td>\n",
       "      <td>4.011193</td>\n",
       "      <td>107.813044</td>\n",
       "      <td>108.830302</td>\n",
       "      <td>4.897364e+07</td>\n",
       "    </tr>\n",
       "    <tr>\n",
       "      <th>112</th>\n",
       "      <td>2jAi6</td>\n",
       "      <td>-12.602307</td>\n",
       "      <td>-7.891136</td>\n",
       "      <td>1.000332</td>\n",
       "      <td>30.132364</td>\n",
       "      <td>30.615608</td>\n",
       "      <td>1.377702e+07</td>\n",
       "    </tr>\n",
       "    <tr>\n",
       "      <th>118</th>\n",
       "      <td>Sr78r</td>\n",
       "      <td>-13.446553</td>\n",
       "      <td>-3.766930</td>\n",
       "      <td>2.988693</td>\n",
       "      <td>84.038886</td>\n",
       "      <td>84.238803</td>\n",
       "      <td>3.790746e+07</td>\n",
       "    </tr>\n",
       "    <tr>\n",
       "      <th>137</th>\n",
       "      <td>c25qI</td>\n",
       "      <td>-13.267862</td>\n",
       "      <td>-4.721011</td>\n",
       "      <td>-0.006578</td>\n",
       "      <td>3.179103</td>\n",
       "      <td>3.508294</td>\n",
       "      <td>1.578732e+06</td>\n",
       "    </tr>\n",
       "    <tr>\n",
       "      <th>139</th>\n",
       "      <td>CWkmb</td>\n",
       "      <td>-3.525064</td>\n",
       "      <td>0.219663</td>\n",
       "      <td>2.996127</td>\n",
       "      <td>84.038886</td>\n",
       "      <td>82.915361</td>\n",
       "      <td>3.731191e+07</td>\n",
       "    </tr>\n",
       "    <tr>\n",
       "      <th>140</th>\n",
       "      <td>4FgRL</td>\n",
       "      <td>2.012299</td>\n",
       "      <td>3.307923</td>\n",
       "      <td>1.004330</td>\n",
       "      <td>26.953261</td>\n",
       "      <td>28.366323</td>\n",
       "      <td>1.276485e+07</td>\n",
       "    </tr>\n",
       "  </tbody>\n",
       "</table>\n",
       "</div>"
      ],
      "text/plain": [
       "        id         f0         f1        f2     product  target_pred  \\\n",
       "1    62mP7  14.272088  -3.475083  0.999183   26.953261    26.591918   \n",
       "6    h5Ujo -11.142655 -10.133399  4.002382  110.992147   111.358594   \n",
       "9    jG6Gi   1.069227 -11.025667  4.997844  137.945408   136.433906   \n",
       "10   7uHUe  11.777049  -5.334084  2.003033   53.906522    54.047701   \n",
       "12   cB8re   7.736313  -6.093374  3.982531  107.813044   107.998943   \n",
       "30   YVVPX  11.726927  -4.285120  1.003547   26.953261    27.095957   \n",
       "40   qytqc   8.706025  -1.677798  5.002392  134.766305   135.251003   \n",
       "41   GrqpD  -4.758592 -18.409826  3.007507   84.038886    83.794417   \n",
       "42   MLsxX  -8.152442  -2.061445  0.985784   30.132364    29.454771   \n",
       "43   bBa22  -8.140922  -6.899974  1.004955   30.132364    30.071919   \n",
       "45   XIVZM  -8.688924 -11.038716 -0.001724    3.179103     3.108101   \n",
       "51   5IdNU -16.330562  -3.434733  5.005144  137.945408   138.995088   \n",
       "53   vPO9F   9.831631  -3.825114  3.000623   80.859783    81.183880   \n",
       "54   86e7T   0.153587  -5.519640  1.000867   26.953261    28.729072   \n",
       "60   2edYH  -4.846277  -4.197838  0.996254   30.132364    29.302315   \n",
       "63   G6WCj   6.822701   3.104979 -0.000723    0.000000     0.585689   \n",
       "65   EI98u   7.184774  -3.550479  3.008306   80.859783    81.769219   \n",
       "66   cpJzM -14.319030  -3.291978  3.000274   84.038886    84.667497   \n",
       "90   gz9cw  -2.658889  -7.778504  1.996045   57.085625    56.005629   \n",
       "93   GVqKx   4.156800  -8.562170  2.987047   80.859783    81.741460   \n",
       "94   hDxwD   5.009519  -8.417842  0.992427   26.953261    27.858216   \n",
       "96   FFBRr  -9.631558  -3.142134 -0.000449    3.179103     3.112508   \n",
       "99   n93UD  18.452972  -8.879619  4.003719  107.813044   107.073824   \n",
       "102  GvSbg -17.675213  -7.858453  3.998679  110.992147   112.158632   \n",
       "104  TIR8q   6.379550   0.441583  4.011193  107.813044   108.830302   \n",
       "112  2jAi6 -12.602307  -7.891136  1.000332   30.132364    30.615608   \n",
       "118  Sr78r -13.446553  -3.766930  2.988693   84.038886    84.238803   \n",
       "137  c25qI -13.267862  -4.721011 -0.006578    3.179103     3.508294   \n",
       "139  CWkmb  -3.525064   0.219663  2.996127   84.038886    82.915361   \n",
       "140  4FgRL   2.012299   3.307923  1.004330   26.953261    28.366323   \n",
       "\n",
       "     profit_local  \n",
       "1    1.196636e+07  \n",
       "6    5.011137e+07  \n",
       "9    6.139526e+07  \n",
       "10   2.432147e+07  \n",
       "12   4.859952e+07  \n",
       "30   1.219318e+07  \n",
       "40   6.086295e+07  \n",
       "41   3.770749e+07  \n",
       "42   1.325465e+07  \n",
       "43   1.353236e+07  \n",
       "45   1.398646e+06  \n",
       "51   6.254779e+07  \n",
       "53   3.653275e+07  \n",
       "54   1.292808e+07  \n",
       "60   1.318604e+07  \n",
       "63   2.635601e+05  \n",
       "65   3.679615e+07  \n",
       "66   3.810037e+07  \n",
       "90   2.520253e+07  \n",
       "93   3.678366e+07  \n",
       "94   1.253620e+07  \n",
       "96   1.400629e+06  \n",
       "99   4.818322e+07  \n",
       "102  5.047138e+07  \n",
       "104  4.897364e+07  \n",
       "112  1.377702e+07  \n",
       "118  3.790746e+07  \n",
       "137  1.578732e+06  \n",
       "139  3.731191e+07  \n",
       "140  1.276485e+07  "
      ]
     },
     "metadata": {},
     "output_type": "display_data"
    },
    {
     "data": {
      "text/html": [
       "<div>\n",
       "<style scoped>\n",
       "    .dataframe tbody tr th:only-of-type {\n",
       "        vertical-align: middle;\n",
       "    }\n",
       "\n",
       "    .dataframe tbody tr th {\n",
       "        vertical-align: top;\n",
       "    }\n",
       "\n",
       "    .dataframe thead th {\n",
       "        text-align: right;\n",
       "    }\n",
       "</style>\n",
       "<table border=\"1\" class=\"dataframe\">\n",
       "  <thead>\n",
       "    <tr style=\"text-align: right;\">\n",
       "      <th></th>\n",
       "      <th>id</th>\n",
       "      <th>f0</th>\n",
       "      <th>f1</th>\n",
       "      <th>f2</th>\n",
       "      <th>product</th>\n",
       "      <th>target_pred</th>\n",
       "      <th>profit_local</th>\n",
       "    </tr>\n",
       "  </thead>\n",
       "  <tbody>\n",
       "    <tr>\n",
       "      <th>1</th>\n",
       "      <td>WJtFt</td>\n",
       "      <td>0.262778</td>\n",
       "      <td>0.269839</td>\n",
       "      <td>-2.530187</td>\n",
       "      <td>56.069697</td>\n",
       "      <td>66.163121</td>\n",
       "      <td>2.977340e+07</td>\n",
       "    </tr>\n",
       "    <tr>\n",
       "      <th>6</th>\n",
       "      <td>WBHRv</td>\n",
       "      <td>-0.574891</td>\n",
       "      <td>0.317727</td>\n",
       "      <td>1.773745</td>\n",
       "      <td>45.641478</td>\n",
       "      <td>90.838070</td>\n",
       "      <td>4.087713e+07</td>\n",
       "    </tr>\n",
       "    <tr>\n",
       "      <th>9</th>\n",
       "      <td>OilcN</td>\n",
       "      <td>-1.214452</td>\n",
       "      <td>-0.439314</td>\n",
       "      <td>5.922514</td>\n",
       "      <td>52.954532</td>\n",
       "      <td>114.639925</td>\n",
       "      <td>5.158797e+07</td>\n",
       "    </tr>\n",
       "    <tr>\n",
       "      <th>10</th>\n",
       "      <td>myq2g</td>\n",
       "      <td>0.628659</td>\n",
       "      <td>-2.120049</td>\n",
       "      <td>5.362437</td>\n",
       "      <td>166.799132</td>\n",
       "      <td>111.454475</td>\n",
       "      <td>5.015451e+07</td>\n",
       "    </tr>\n",
       "    <tr>\n",
       "      <th>12</th>\n",
       "      <td>bKDo0</td>\n",
       "      <td>-0.960453</td>\n",
       "      <td>-0.127113</td>\n",
       "      <td>7.764734</td>\n",
       "      <td>96.910855</td>\n",
       "      <td>125.191325</td>\n",
       "      <td>5.633610e+07</td>\n",
       "    </tr>\n",
       "    <tr>\n",
       "      <th>30</th>\n",
       "      <td>PMtzo</td>\n",
       "      <td>1.749419</td>\n",
       "      <td>2.974820</td>\n",
       "      <td>1.663992</td>\n",
       "      <td>145.730271</td>\n",
       "      <td>90.136165</td>\n",
       "      <td>4.056127e+07</td>\n",
       "    </tr>\n",
       "    <tr>\n",
       "      <th>40</th>\n",
       "      <td>Xps9D</td>\n",
       "      <td>1.358587</td>\n",
       "      <td>-2.390462</td>\n",
       "      <td>6.647354</td>\n",
       "      <td>168.284897</td>\n",
       "      <td>118.821040</td>\n",
       "      <td>5.346947e+07</td>\n",
       "    </tr>\n",
       "    <tr>\n",
       "      <th>41</th>\n",
       "      <td>XYtEF</td>\n",
       "      <td>-0.614305</td>\n",
       "      <td>1.087368</td>\n",
       "      <td>1.431449</td>\n",
       "      <td>74.542091</td>\n",
       "      <td>88.859434</td>\n",
       "      <td>3.998675e+07</td>\n",
       "    </tr>\n",
       "    <tr>\n",
       "      <th>42</th>\n",
       "      <td>5LlUY</td>\n",
       "      <td>1.296823</td>\n",
       "      <td>-2.968636</td>\n",
       "      <td>3.975150</td>\n",
       "      <td>66.566817</td>\n",
       "      <td>103.516650</td>\n",
       "      <td>4.658249e+07</td>\n",
       "    </tr>\n",
       "    <tr>\n",
       "      <th>43</th>\n",
       "      <td>G76Yc</td>\n",
       "      <td>0.507722</td>\n",
       "      <td>2.067010</td>\n",
       "      <td>3.584778</td>\n",
       "      <td>132.166516</td>\n",
       "      <td>101.174063</td>\n",
       "      <td>4.552833e+07</td>\n",
       "    </tr>\n",
       "    <tr>\n",
       "      <th>45</th>\n",
       "      <td>NYpGH</td>\n",
       "      <td>2.020119</td>\n",
       "      <td>0.350512</td>\n",
       "      <td>0.589535</td>\n",
       "      <td>45.091475</td>\n",
       "      <td>84.032819</td>\n",
       "      <td>3.781477e+07</td>\n",
       "    </tr>\n",
       "    <tr>\n",
       "      <th>51</th>\n",
       "      <td>1vUJf</td>\n",
       "      <td>1.613059</td>\n",
       "      <td>3.712568</td>\n",
       "      <td>8.829174</td>\n",
       "      <td>141.556707</td>\n",
       "      <td>131.192640</td>\n",
       "      <td>5.903669e+07</td>\n",
       "    </tr>\n",
       "    <tr>\n",
       "      <th>53</th>\n",
       "      <td>SAYyn</td>\n",
       "      <td>0.499411</td>\n",
       "      <td>0.935479</td>\n",
       "      <td>1.699167</td>\n",
       "      <td>34.462992</td>\n",
       "      <td>90.390262</td>\n",
       "      <td>4.067562e+07</td>\n",
       "    </tr>\n",
       "    <tr>\n",
       "      <th>54</th>\n",
       "      <td>yk8lT</td>\n",
       "      <td>-0.398750</td>\n",
       "      <td>2.087542</td>\n",
       "      <td>5.781155</td>\n",
       "      <td>100.752272</td>\n",
       "      <td>113.769286</td>\n",
       "      <td>5.119618e+07</td>\n",
       "    </tr>\n",
       "    <tr>\n",
       "      <th>60</th>\n",
       "      <td>1gG2P</td>\n",
       "      <td>0.194184</td>\n",
       "      <td>-2.154246</td>\n",
       "      <td>3.555571</td>\n",
       "      <td>113.943856</td>\n",
       "      <td>101.100800</td>\n",
       "      <td>4.549536e+07</td>\n",
       "    </tr>\n",
       "    <tr>\n",
       "      <th>63</th>\n",
       "      <td>IDkMX</td>\n",
       "      <td>-2.488389</td>\n",
       "      <td>-0.249375</td>\n",
       "      <td>-0.630196</td>\n",
       "      <td>72.764888</td>\n",
       "      <td>77.082930</td>\n",
       "      <td>3.468732e+07</td>\n",
       "    </tr>\n",
       "    <tr>\n",
       "      <th>65</th>\n",
       "      <td>c7uIs</td>\n",
       "      <td>0.528424</td>\n",
       "      <td>2.458408</td>\n",
       "      <td>-2.342951</td>\n",
       "      <td>48.611399</td>\n",
       "      <td>67.186906</td>\n",
       "      <td>3.023411e+07</td>\n",
       "    </tr>\n",
       "    <tr>\n",
       "      <th>66</th>\n",
       "      <td>clzaw</td>\n",
       "      <td>-1.587313</td>\n",
       "      <td>1.870711</td>\n",
       "      <td>1.567962</td>\n",
       "      <td>86.220793</td>\n",
       "      <td>89.631028</td>\n",
       "      <td>4.033396e+07</td>\n",
       "    </tr>\n",
       "    <tr>\n",
       "      <th>90</th>\n",
       "      <td>i9rMC</td>\n",
       "      <td>-1.002828</td>\n",
       "      <td>-2.178927</td>\n",
       "      <td>1.437814</td>\n",
       "      <td>107.036676</td>\n",
       "      <td>88.969700</td>\n",
       "      <td>4.003636e+07</td>\n",
       "    </tr>\n",
       "    <tr>\n",
       "      <th>93</th>\n",
       "      <td>Whvm8</td>\n",
       "      <td>-0.031193</td>\n",
       "      <td>0.082237</td>\n",
       "      <td>3.648370</td>\n",
       "      <td>54.402278</td>\n",
       "      <td>101.585340</td>\n",
       "      <td>4.571340e+07</td>\n",
       "    </tr>\n",
       "    <tr>\n",
       "      <th>94</th>\n",
       "      <td>XAMxe</td>\n",
       "      <td>-0.107967</td>\n",
       "      <td>2.333448</td>\n",
       "      <td>-3.158896</td>\n",
       "      <td>35.480858</td>\n",
       "      <td>62.516581</td>\n",
       "      <td>2.813246e+07</td>\n",
       "    </tr>\n",
       "    <tr>\n",
       "      <th>96</th>\n",
       "      <td>a0qWE</td>\n",
       "      <td>-2.227204</td>\n",
       "      <td>0.624627</td>\n",
       "      <td>-0.804711</td>\n",
       "      <td>77.504331</td>\n",
       "      <td>76.061844</td>\n",
       "      <td>3.422783e+07</td>\n",
       "    </tr>\n",
       "    <tr>\n",
       "      <th>99</th>\n",
       "      <td>QMk6k</td>\n",
       "      <td>2.490791</td>\n",
       "      <td>-3.454526</td>\n",
       "      <td>1.841053</td>\n",
       "      <td>40.063656</td>\n",
       "      <td>91.286762</td>\n",
       "      <td>4.107904e+07</td>\n",
       "    </tr>\n",
       "    <tr>\n",
       "      <th>102</th>\n",
       "      <td>lmXjE</td>\n",
       "      <td>-1.153775</td>\n",
       "      <td>0.166039</td>\n",
       "      <td>1.704518</td>\n",
       "      <td>8.382735</td>\n",
       "      <td>90.448244</td>\n",
       "      <td>4.070171e+07</td>\n",
       "    </tr>\n",
       "    <tr>\n",
       "      <th>104</th>\n",
       "      <td>Ydvag</td>\n",
       "      <td>1.858746</td>\n",
       "      <td>3.647663</td>\n",
       "      <td>-0.725089</td>\n",
       "      <td>135.150550</td>\n",
       "      <td>76.426270</td>\n",
       "      <td>3.439182e+07</td>\n",
       "    </tr>\n",
       "    <tr>\n",
       "      <th>112</th>\n",
       "      <td>DBvsK</td>\n",
       "      <td>1.018021</td>\n",
       "      <td>1.047717</td>\n",
       "      <td>1.464721</td>\n",
       "      <td>132.830486</td>\n",
       "      <td>89.040643</td>\n",
       "      <td>4.006829e+07</td>\n",
       "    </tr>\n",
       "    <tr>\n",
       "      <th>118</th>\n",
       "      <td>CF27C</td>\n",
       "      <td>-1.721889</td>\n",
       "      <td>-1.474158</td>\n",
       "      <td>5.188766</td>\n",
       "      <td>138.707577</td>\n",
       "      <td>110.459812</td>\n",
       "      <td>4.970692e+07</td>\n",
       "    </tr>\n",
       "    <tr>\n",
       "      <th>137</th>\n",
       "      <td>4kHZD</td>\n",
       "      <td>0.248774</td>\n",
       "      <td>0.373614</td>\n",
       "      <td>-0.238604</td>\n",
       "      <td>81.678977</td>\n",
       "      <td>79.296583</td>\n",
       "      <td>3.568346e+07</td>\n",
       "    </tr>\n",
       "    <tr>\n",
       "      <th>139</th>\n",
       "      <td>aA5iP</td>\n",
       "      <td>-0.095977</td>\n",
       "      <td>-0.614826</td>\n",
       "      <td>4.001924</td>\n",
       "      <td>51.647273</td>\n",
       "      <td>103.627587</td>\n",
       "      <td>4.663241e+07</td>\n",
       "    </tr>\n",
       "    <tr>\n",
       "      <th>140</th>\n",
       "      <td>FlH4n</td>\n",
       "      <td>0.115953</td>\n",
       "      <td>0.321527</td>\n",
       "      <td>4.640658</td>\n",
       "      <td>60.820823</td>\n",
       "      <td>107.267097</td>\n",
       "      <td>4.827019e+07</td>\n",
       "    </tr>\n",
       "  </tbody>\n",
       "</table>\n",
       "</div>"
      ],
      "text/plain": [
       "        id        f0        f1        f2     product  target_pred  \\\n",
       "1    WJtFt  0.262778  0.269839 -2.530187   56.069697    66.163121   \n",
       "6    WBHRv -0.574891  0.317727  1.773745   45.641478    90.838070   \n",
       "9    OilcN -1.214452 -0.439314  5.922514   52.954532   114.639925   \n",
       "10   myq2g  0.628659 -2.120049  5.362437  166.799132   111.454475   \n",
       "12   bKDo0 -0.960453 -0.127113  7.764734   96.910855   125.191325   \n",
       "30   PMtzo  1.749419  2.974820  1.663992  145.730271    90.136165   \n",
       "40   Xps9D  1.358587 -2.390462  6.647354  168.284897   118.821040   \n",
       "41   XYtEF -0.614305  1.087368  1.431449   74.542091    88.859434   \n",
       "42   5LlUY  1.296823 -2.968636  3.975150   66.566817   103.516650   \n",
       "43   G76Yc  0.507722  2.067010  3.584778  132.166516   101.174063   \n",
       "45   NYpGH  2.020119  0.350512  0.589535   45.091475    84.032819   \n",
       "51   1vUJf  1.613059  3.712568  8.829174  141.556707   131.192640   \n",
       "53   SAYyn  0.499411  0.935479  1.699167   34.462992    90.390262   \n",
       "54   yk8lT -0.398750  2.087542  5.781155  100.752272   113.769286   \n",
       "60   1gG2P  0.194184 -2.154246  3.555571  113.943856   101.100800   \n",
       "63   IDkMX -2.488389 -0.249375 -0.630196   72.764888    77.082930   \n",
       "65   c7uIs  0.528424  2.458408 -2.342951   48.611399    67.186906   \n",
       "66   clzaw -1.587313  1.870711  1.567962   86.220793    89.631028   \n",
       "90   i9rMC -1.002828 -2.178927  1.437814  107.036676    88.969700   \n",
       "93   Whvm8 -0.031193  0.082237  3.648370   54.402278   101.585340   \n",
       "94   XAMxe -0.107967  2.333448 -3.158896   35.480858    62.516581   \n",
       "96   a0qWE -2.227204  0.624627 -0.804711   77.504331    76.061844   \n",
       "99   QMk6k  2.490791 -3.454526  1.841053   40.063656    91.286762   \n",
       "102  lmXjE -1.153775  0.166039  1.704518    8.382735    90.448244   \n",
       "104  Ydvag  1.858746  3.647663 -0.725089  135.150550    76.426270   \n",
       "112  DBvsK  1.018021  1.047717  1.464721  132.830486    89.040643   \n",
       "118  CF27C -1.721889 -1.474158  5.188766  138.707577   110.459812   \n",
       "137  4kHZD  0.248774  0.373614 -0.238604   81.678977    79.296583   \n",
       "139  aA5iP -0.095977 -0.614826  4.001924   51.647273   103.627587   \n",
       "140  FlH4n  0.115953  0.321527  4.640658   60.820823   107.267097   \n",
       "\n",
       "     profit_local  \n",
       "1    2.977340e+07  \n",
       "6    4.087713e+07  \n",
       "9    5.158797e+07  \n",
       "10   5.015451e+07  \n",
       "12   5.633610e+07  \n",
       "30   4.056127e+07  \n",
       "40   5.346947e+07  \n",
       "41   3.998675e+07  \n",
       "42   4.658249e+07  \n",
       "43   4.552833e+07  \n",
       "45   3.781477e+07  \n",
       "51   5.903669e+07  \n",
       "53   4.067562e+07  \n",
       "54   5.119618e+07  \n",
       "60   4.549536e+07  \n",
       "63   3.468732e+07  \n",
       "65   3.023411e+07  \n",
       "66   4.033396e+07  \n",
       "90   4.003636e+07  \n",
       "93   4.571340e+07  \n",
       "94   2.813246e+07  \n",
       "96   3.422783e+07  \n",
       "99   4.107904e+07  \n",
       "102  4.070171e+07  \n",
       "104  3.439182e+07  \n",
       "112  4.006829e+07  \n",
       "118  4.970692e+07  \n",
       "137  3.568346e+07  \n",
       "139  4.663241e+07  \n",
       "140  4.827019e+07  "
      ]
     },
     "metadata": {},
     "output_type": "display_data"
    }
   ],
   "source": [
    "for name, df in regs.items():\n",
    "    #df=df.dropna(subset=['target_pred'])\n",
    "    df.dropna(subset=['target_pred'], inplace=True)\n",
    "    display (df.head(30))"
   ]
  },
  {
   "cell_type": "code",
   "execution_count": 38,
   "metadata": {},
   "outputs": [
    {
     "data": {
      "text/plain": [
       "((25000, 7), (25000, 7), (25000, 7))"
      ]
     },
     "execution_count": 38,
     "metadata": {},
     "output_type": "execute_result"
    }
   ],
   "source": [
    "regs['reg0'].shape, regs['reg1'].shape, regs['reg2'].shape # КОД РЕВЬЮЕРА"
   ]
  },
  {
   "cell_type": "markdown",
   "metadata": {},
   "source": [
    "<div class=\"alert alert-danger\">\n",
    "<font size=\"4\"><b>❌ Комментарий ревьюера v3</b></font>\n",
    "    <br /> \n",
    "    <font size=\"3\", color = \"black\">\n",
    "        <b></b>\n",
    "\n",
    "Ты вроде удалила пропуски, а размерность никак не изенилась, всё те же 100 тысяч. Почему же так? Тут очень тонкий момент.\n",
    "\n",
    "Когда ты в предыдущем цикле делала операцию `df['profit_local']=df['target_pred']*450000`, то ты изменяла непосредственно содержимое датафрейма, лежащего в словаре. Когда же ты делаешь `df=df.dropna(subset=['target_pred'])`, то происходит более занятный процесс: содержимое словаря не перезаписывается, создаётся его локальная копия, хранящаяся во временной переменной `df`, а само содержимое не меняется.\n",
    "\n",
    "Исправить этот момент проще просто: не перезаписывай `df`, а делай дроп с параметром инплейс: `df.dropna(subset=['target_pred'], inplace=True)`, вот он изменит непосредственно содержимое словаря."
   ]
  },
  {
   "cell_type": "code",
   "execution_count": 39,
   "metadata": {},
   "outputs": [],
   "source": [
    "state = np.random.RandomState(12345)\n",
    "\n",
    "def bootstrap(target, preds):\n",
    "    values = []\n",
    "    losts=0\n",
    "    for i in range(1000):\n",
    "        #target_s=target.sample(frac=1, replace=True, random_state=state)\n",
    "        target_s=target.sample(n=500, replace=True, random_state=state)\n",
    "        preds_s=preds[target_s.index]\n",
    "        profit_pred=profit(target, preds_s, best_points)\n",
    "        values.append(profit_pred)\n",
    "        if profit_pred<0:\n",
    "            losts+=1\n",
    "            \n",
    "        \n",
    "        values_s=pd.Series(values)\n",
    "        lower = values_s.quantile(0.025)\n",
    "        upper = values_s.quantile(0.975)\n",
    "        losts_percent=losts/10\n",
    "        \n",
    "            \n",
    "    display(f'Средняя прибыль: {round(values_s.mean())} р.')\n",
    "    display(f'Доверительный интервал: {round(lower)}р.-{round(upper)}р. ')\n",
    "    display(f'Риск: {losts_percent}%')"
   ]
  },
  {
   "cell_type": "markdown",
   "metadata": {},
   "source": [
    "<div class=\"alert alert-info\">\n",
    "<font size=\"4\">🍕<b> Комментарий ревьюера</b></font>\n",
    "    <br /> \n",
    "    <font size=\"3\", color = \"black\">\n",
    "<br />\n",
    "Есть один момент, на который я пока не знаю как правильно отреагировать, но попрошу тебя его откомментировать:\n",
    "\n",
    "`target_s=target.sample(frac=1, replace=True, random_state=state)\n",
    "preds_s=preds[target_s.index]\n",
    "profit_pred=profit(target, preds_s, best_points)`\n",
    "\n",
    "В вычисление прибыли ты передаёшь не target_s, а target. И это на самом деле правильно, так и должно быть (объясню на следующей проверке почему так), но хочется понять вот что: если target_s используется только для того, чтобы по индексам таргета взять предсказания и получить их сэмпл, то почему бы просто не сделать `preds_s=preds.sample(frac=1, replace=True, random_state=state)` и не заводить лишних переменных? :)"
   ]
  },
  {
   "cell_type": "markdown",
   "metadata": {},
   "source": [
    "<div class=\"alert alert-info\" style=\"background-color: orange;\">\n",
    "<font size=\"4\"><b> Комментарий студента 1</b></font>\n",
    "    <br /> \n",
    "    <font size=\"3\", color = \"black\">\n",
    "<br />\n",
    "На самом деле в первых версиях функции я сначала и написала всё как ты сказал:  preds_s=preds.sample(frac=1, replace=True, random_state=state) (тк у нас в заданиях тоже так надо было писать), только вышло нечто несуразное в результаты. Функция по прибыли уже была сделана и за первый аргумент там шел обычный таргет и после многих попыток я просто попробовала вставить его (метод тыка, проще говоря, ориентировалась на выдаваемые результаты)\n",
    "          \n",
    "А вторую строку сделала таковой preds_s=preds[target_s.index], потому что мне показлось логичным не создавать ещё одну выборку из предсказаний, а подтянуть их к выборке из сэмпла    \n",
    "          \n",
    "        \n",
    "Честно гвооря, из-за этого задания мне не очень понравился проект, тк как я не нашла схожих в обучающих материал именно с подобной формулировкой и долго пыталась понять, как вообще создать такой бустреп  \n",
    "        \n",
    "          \n",
    "К слову, можешь привести пример из практики, когда тебе приходлось его применять?\n",
    "    </font>\n",
    "</div>"
   ]
  },
  {
   "cell_type": "markdown",
   "metadata": {},
   "source": [
    "<div class=\"alert alert-success\">\n",
    "<font size=\"4\"><b>✔️ Комментарий ревьюера v2</b></font>\n",
    "    <br /> \n",
    "    <font size=\"3\", color = \"black\">\n",
    "<br />\n",
    "В общем, благодаря тому, что ты перадаёшь в функцию прибыли не сэмпл таргетов, а их исходный набор до сэмплирования, ты не допустила одну очень популярную и очень неочевидную ошибку, о которой сейчас расскажу подробро.\n",
    "\n",
    "Сейчас покажу что получается, если передать в функцию 2 сэмпла, на небольшом синтетическом примере:"
   ]
  },
  {
   "cell_type": "code",
   "execution_count": 40,
   "metadata": {},
   "outputs": [
    {
     "data": {
      "text/plain": [
       "3    3\n",
       "3    3\n",
       "3    3\n",
       "3    3\n",
       "3    3\n",
       "3    3\n",
       "3    3\n",
       "3    3\n",
       "3    3\n",
       "2    2\n",
       "2    2\n",
       "2    2\n",
       "2    2\n",
       "dtype: int64"
      ]
     },
     "metadata": {},
     "output_type": "display_data"
    }
   ],
   "source": [
    "# КОД РЕВЬЮЕРА\n",
    "# предположим, у нас есть небольшой сэмпл из 5 предсказаний и 5 соответствующих таргетов\n",
    "_target = pd.Series([2, 2, 3, 3, 3], index=[2, 2, 3, 3, 3])\n",
    "_preds = pd.Series([2, 2, 3, 3, 3], index=[2, 2, 3, 3, 3]).sort_values(ascending=False)\n",
    "\n",
    "\n",
    "# берём таргеты по индексам предсказаний:\n",
    "\n",
    "display(_target.loc[_preds.index])"
   ]
  },
  {
   "cell_type": "markdown",
   "metadata": {},
   "source": [
    "<div class=\"alert alert-success\">\n",
    "<font size=\"4\"></font>\n",
    "    <font size=\"3\", color = \"black\">\n",
    "Как так? Почему предсказаний 5, а таргетов аж 13? На самом деле, всё очень просто. На примере элементов с индексом и значением 2. Когда мы попросили у пандаса взять таргеты по индексам предсказаний, и у нас и там и там 2 одинаковых элемента, он отнюдь должен вернуть не 2. Он для каждого запрошенного индекса предсказаний выдаёт все таргеты с таким индексом. Таким образом, мы запросили 2 раза элемента с индексом 2 - оба раза пандас отдал нам 2 таких элемента из таргетов - всего 4 элемента. А если бы у нас было и там, и там по 3 одинаковых элемента, то в итоге было бы 9. Логика, надеюсь, ясна. И вот поэтому почти всегда у студентов получается, что когда берут таргеты по индексам 500 предсказаний, получают в итоге более чем 500 таргетов. Благодаря бутстрапу в выборках есть идентичные элементы, с одинаковыми индексами, и они каждый раз вот таким образом \"множатся\" при вычислении прибыли.\n",
    "\n",
    "Почему использование полного списка таргетов решает эту проблему? Потому что там индексы уникальны. И, поскольку там есть все нужные нам элементы, расчёт корректен."
   ]
  },
  {
   "cell_type": "markdown",
   "metadata": {},
   "source": [
    "<div class=\"alert alert-info\" style=\"background-color: orange;\">\n",
    "<font size=\"4\"><b> Комментарий студента 2</b></font>\n",
    "    <br /> \n",
    "    <font size=\"3\", color = \"black\">\n",
    "<br />\n",
    "Ну вот я так и подумала, что миллион данных получится и криво будет \n",
    "        \n",
    "Разъяснение поняла, спасибо!\n",
    "    </font>\n",
    "</div>"
   ]
  },
  {
   "cell_type": "markdown",
   "metadata": {},
   "source": [
    "<div class=\"alert alert-info\">\n",
    "<font size=\"4\">🍕<b> Комментарий ревьюера v2</b></font>\n",
    "    <br /> \n",
    "    <font size=\"3\", color = \"black\">\n",
    "<br />\n",
    "Бутстрапирование не то чтобы очень часто приходится делать в работе, но вполне бывает. Например, когда я работал в сбер.девайсах, и мы ещё только готовились выпустить свой первый продукт, мы набрали голосовые запросы от своих же коллег по компании из других команд, набутстрапировали выборок, потом анализировали по каким метрикам как хорошо/плохо наш голосовой поиск справляется."
   ]
  },
  {
   "cell_type": "markdown",
   "metadata": {},
   "source": [
    "<div class=\"alert alert-danger\">\n",
    "<font size=\"4\"><b>❌ Комментарий ревьюера</b></font>\n",
    "    <br /> \n",
    "    <font size=\"3\", color = \"black\">\n",
    "        <b></b>\n",
    "\n",
    "1. Значение `frac=1` говорит о том, что мы генерируем выборку размером с исходные данные. Такое часто делается в бутстрапировании, но это далеко не обязательно. В ТЗ проекта явно указано, что нам нужны выборки размера 500, а не много тысяч. Если нужна выборка фиксированного размера, то вместо frac стоит указывать другой параметр `n=` и собственно указать сколько скважин нужно в выборку.\n",
    "\n",
    "2. По сути вычисление средней прибыли и риска убытков - это некоторая метрика. Как ты знаешь, некорректно вычислять метрику на тех данных, на которых обучалась модель. Так и бутстрапировать надо только валидационный датасет."
   ]
  },
  {
   "cell_type": "markdown",
   "metadata": {},
   "source": [
    "<div class=\"alert alert-info\" style=\"background-color: orange;\">\n",
    "<font size=\"4\"><b> Комментарий студента 1</b></font>\n",
    "    <br /> \n",
    "    <font size=\"3\", color = \"black\">\n",
    "<br />\n",
    "1.Поправила  \n",
    "  \n",
    "2.Я немного запуталась о чем ты. Мы же разбили изначальные данные на тренировочные и валидацию (в предсказании). В новый столбец(предсказанное) в дфы вернулась только валидация, в остальных значениях стоит nan. Получается мне надо вносить изменения в дф, а не в бустреп, правильно? Когда буду общаться к функции  \n",
    "          \n",
    "Оставить данные только для валидации\n",
    "    </font>\n",
    "</div>"
   ]
  },
  {
   "cell_type": "markdown",
   "metadata": {},
   "source": [
    "<div class=\"alert alert-danger\">\n",
    "<font size=\"4\"><b>❌ Комментарий ревьюера v2</b></font>\n",
    "    <br /> \n",
    "    <font size=\"3\", color = \"black\">\n",
    "        <b></b>\n",
    "\n",
    "`Оставить данные только для валидации` именно. Выборки надо генерировать только из тех 25 тысяч скважин, что не участвовали в обучении. Ты можешь просто отделить валидационные данных от всех остальных, и их в функцию bootstrap передавать."
   ]
  },
  {
   "cell_type": "markdown",
   "metadata": {},
   "source": [
    "<div class=\"alert alert-info\" style=\"background-color: orange;\">\n",
    "<font size=\"4\"><b> Комментарий студента 2</b></font>\n",
    "    <br /> \n",
    "    <font size=\"3\", color = \"black\">\n",
    "<br />\n",
    "1.Поправила  \n",
    "  \n",
    "2.Меня напрягают отрицательные значения кроме риска для регионов. Если бы я сравнивала числа по модулю, у меня бы выиграл 1й регион, так выигрывает последний, и то, я не рассматривала бы эти регионы для бурения. Это вообще нормально?  \n",
    "\n",
    "    </font>\n",
    "</div>"
   ]
  },
  {
   "cell_type": "code",
   "execution_count": 41,
   "metadata": {},
   "outputs": [
    {
     "data": {
      "text/plain": [
       "'__reg0__'"
      ]
     },
     "metadata": {},
     "output_type": "display_data"
    },
    {
     "data": {
      "text/plain": [
       "'Средняя прибыль: 405201153 р.'"
      ]
     },
     "metadata": {},
     "output_type": "display_data"
    },
    {
     "data": {
      "text/plain": [
       "'Доверительный интервал: -74294616р.-879288854р. '"
      ]
     },
     "metadata": {},
     "output_type": "display_data"
    },
    {
     "data": {
      "text/plain": [
       "'Риск: 5.0%'"
      ]
     },
     "metadata": {},
     "output_type": "display_data"
    },
    {
     "data": {
      "text/plain": [
       "'__reg1__'"
      ]
     },
     "metadata": {},
     "output_type": "display_data"
    },
    {
     "data": {
      "text/plain": [
       "'Средняя прибыль: 481697623 р.'"
      ]
     },
     "metadata": {},
     "output_type": "display_data"
    },
    {
     "data": {
      "text/plain": [
       "'Доверительный интервал: 74629820р.-899374728р. '"
      ]
     },
     "metadata": {},
     "output_type": "display_data"
    },
    {
     "data": {
      "text/plain": [
       "'Риск: 1.3%'"
      ]
     },
     "metadata": {},
     "output_type": "display_data"
    },
    {
     "data": {
      "text/plain": [
       "'__reg2__'"
      ]
     },
     "metadata": {},
     "output_type": "display_data"
    },
    {
     "data": {
      "text/plain": [
       "'Средняя прибыль: 363869667 р.'"
      ]
     },
     "metadata": {},
     "output_type": "display_data"
    },
    {
     "data": {
      "text/plain": [
       "'Доверительный интервал: -146822253р.-940725575р. '"
      ]
     },
     "metadata": {},
     "output_type": "display_data"
    },
    {
     "data": {
      "text/plain": [
       "'Риск: 8.1%'"
      ]
     },
     "metadata": {},
     "output_type": "display_data"
    }
   ],
   "source": [
    "# Вызов функции\n",
    "display('__reg0__')\n",
    "bootstrap(reg0['product'], reg0['target_pred'])\n",
    "\n",
    "display('__reg1__')\n",
    "bootstrap(reg1['product'], reg1['target_pred'])\n",
    "\n",
    "display('__reg2__')\n",
    "bootstrap(reg2['product'], reg2['target_pred'])"
   ]
  },
  {
   "cell_type": "markdown",
   "metadata": {},
   "source": [
    "<div class=\"alert alert-info\">\n",
    "<font size=\"4\">🍕<b> Комментарий ревьюера</b></font>\n",
    "    <br /> \n",
    "    <font size=\"3\", color = \"black\">\n",
    "<br />\n",
    "Финальные результаты было бы неплохо визуализировать, ведь они - то, ради чего вся работа делалась. Для этого подойдут ящики с усами или гистограммы распределений выборочных прибылей с нанесёнными на них границами найденных дов. интервалов."
   ]
  },
  {
   "cell_type": "markdown",
   "metadata": {},
   "source": [
    "**Вывод:**  \n",
    "Учитывая наименьший риск и наибольший доход, я бы выбрала скважину 1.  \n"
   ]
  },
  {
   "cell_type": "markdown",
   "metadata": {},
   "source": [
    "<div class=\"alert alert-success\">\n",
    "<font size=\"4\"><b>✔️ Комментарий ревьюера v4</b></font>\n",
    "    <br /> \n",
    "    <font size=\"3\", color = \"black\">\n",
    "        <b></b>\n",
    "\n",
    "Одобряю твой выбор :)"
   ]
  },
  {
   "cell_type": "markdown",
   "metadata": {},
   "source": [
    "<div class=\"alert alert-info\">\n",
    "<font size=\"4\">🍕<b> Комментарий ревьюера</b></font>\n",
    "    <br /> \n",
    "    <font size=\"3\", color = \"black\">\n",
    "<br />\n",
    "И так, подведём итоги. Работа неплохая, но есть что исправить:\n",
    "\n",
    "+ Оставить признак f2\n",
    "+ Генерировать выборки нужного размера и только на валидационном датасете\n",
    "\n",
    "На этом пока всё. Жду новую версию твоей работы."
   ]
  },
  {
   "cell_type": "markdown",
   "metadata": {},
   "source": [
    "## Чек-лист готовности проекта"
   ]
  },
  {
   "cell_type": "markdown",
   "metadata": {},
   "source": [
    "Поставьте 'x' в выполненных пунктах. Далее нажмите Shift+Enter."
   ]
  },
  {
   "cell_type": "markdown",
   "metadata": {},
   "source": [
    "- [x]  Jupyter Notebook открыт\n",
    "- [x]  Весь код выполняется без ошибок\n",
    "- [x]  Ячейки с кодом расположены в порядке исполнения\n",
    "- [x]  Выполнен шаг 1: данные подготовлены\n",
    "- [x]  Выполнен шаг 2: модели обучены и проверены\n",
    "    - [x]  Данные корректно разбиты на обучающую и валидационную выборки\n",
    "    - [x]  Модели обучены, предсказания сделаны\n",
    "    - [x]  Предсказания и правильные ответы на валидационной выборке сохранены\n",
    "    - [x]  На экране напечатаны результаты\n",
    "    - [x]  Сделаны выводы\n",
    "- [x]  Выполнен шаг 3: проведена подготовка к расчёту прибыли\n",
    "    - [x]  Для всех ключевых значений созданы константы Python\n",
    "    - [x]  Посчитано минимальное среднее количество продукта в месторождениях региона, достаточное для разработки\n",
    "    - [x]  По предыдущему пункту сделаны выводы\n",
    "    - [x]  Написана функция расчёта прибыли\n",
    "- [x]  Выполнен шаг 4: посчитаны риски и прибыль\n",
    "    - [x]  Проведена процедура *Bootstrap*\n",
    "    - [x]  Все параметры бутстрепа соответствуют условию\n",
    "    - [x]  Найдены все нужные величины\n",
    "    - [x]  Предложен регион для разработки месторождения\n",
    "    - [x]  Выбор региона обоснован"
   ]
  },
  {
   "cell_type": "code",
   "execution_count": null,
   "metadata": {},
   "outputs": [],
   "source": []
  }
 ],
 "metadata": {
  "ExecuteTimeLog": [
   {
    "duration": 12,
    "start_time": "2025-03-28T16:34:30.916Z"
   },
   {
    "duration": 11921,
    "start_time": "2025-07-28T11:59:46.995Z"
   },
   {
    "duration": 119,
    "start_time": "2025-07-28T12:43:28.274Z"
   },
   {
    "duration": 119,
    "start_time": "2025-07-28T12:43:36.062Z"
   },
   {
    "duration": 91,
    "start_time": "2025-07-28T12:44:32.733Z"
   },
   {
    "duration": 151,
    "start_time": "2025-07-28T12:47:46.935Z"
   },
   {
    "duration": 146,
    "start_time": "2025-07-28T12:47:47.855Z"
   },
   {
    "duration": 152,
    "start_time": "2025-07-28T12:47:48.447Z"
   },
   {
    "duration": 17,
    "start_time": "2025-07-28T13:26:13.353Z"
   },
   {
    "duration": 108,
    "start_time": "2025-07-28T13:26:33.721Z"
   },
   {
    "duration": 79,
    "start_time": "2025-07-28T13:29:18.198Z"
   },
   {
    "duration": 59,
    "start_time": "2025-07-28T13:29:48.189Z"
   },
   {
    "duration": 5411,
    "start_time": "2025-07-28T13:32:11.432Z"
   },
   {
    "duration": 8338,
    "start_time": "2025-07-28T13:33:37.802Z"
   },
   {
    "duration": 15,
    "start_time": "2025-07-28T13:34:42.416Z"
   },
   {
    "duration": 88,
    "start_time": "2025-07-28T13:37:39.007Z"
   },
   {
    "duration": 7906,
    "start_time": "2025-07-28T13:38:01.835Z"
   },
   {
    "duration": 662,
    "start_time": "2025-07-28T13:38:19.220Z"
   },
   {
    "duration": 16,
    "start_time": "2025-07-28T13:38:41.291Z"
   },
   {
    "duration": 1841,
    "start_time": "2025-07-28T13:39:21.905Z"
   },
   {
    "duration": 25,
    "start_time": "2025-07-28T13:39:51.296Z"
   },
   {
    "duration": 1609,
    "start_time": "2025-07-28T13:41:31.171Z"
   },
   {
    "duration": 9,
    "start_time": "2025-07-28T13:41:44.256Z"
   },
   {
    "duration": 10,
    "start_time": "2025-07-28T13:43:32.695Z"
   },
   {
    "duration": 10,
    "start_time": "2025-07-28T13:43:36.961Z"
   },
   {
    "duration": 26,
    "start_time": "2025-07-28T13:43:38.309Z"
   },
   {
    "duration": 10,
    "start_time": "2025-07-28T13:43:40.558Z"
   },
   {
    "duration": 114,
    "start_time": "2025-07-28T13:43:46.399Z"
   },
   {
    "duration": 9,
    "start_time": "2025-07-28T13:44:28.593Z"
   },
   {
    "duration": 55,
    "start_time": "2025-07-28T13:45:49.334Z"
   },
   {
    "duration": 85,
    "start_time": "2025-07-28T13:47:20.425Z"
   },
   {
    "duration": 13,
    "start_time": "2025-07-28T13:49:46.635Z"
   },
   {
    "duration": 12,
    "start_time": "2025-07-28T13:49:54.947Z"
   },
   {
    "duration": 19,
    "start_time": "2025-07-28T13:50:09.254Z"
   },
   {
    "duration": 13,
    "start_time": "2025-07-28T13:50:26.652Z"
   },
   {
    "duration": 140,
    "start_time": "2025-07-28T14:34:59.573Z"
   },
   {
    "duration": 114,
    "start_time": "2025-07-28T14:35:09.579Z"
   },
   {
    "duration": 98,
    "start_time": "2025-07-28T14:35:35.701Z"
   },
   {
    "duration": 308,
    "start_time": "2025-07-28T14:35:43.495Z"
   },
   {
    "duration": 125,
    "start_time": "2025-07-28T14:35:49.392Z"
   },
   {
    "duration": 12,
    "start_time": "2025-07-28T14:37:18.737Z"
   },
   {
    "duration": 138,
    "start_time": "2025-07-28T14:37:24.078Z"
   },
   {
    "duration": 9,
    "start_time": "2025-07-28T14:38:02.617Z"
   },
   {
    "duration": 9,
    "start_time": "2025-07-28T14:38:07.533Z"
   },
   {
    "duration": 120,
    "start_time": "2025-07-28T14:38:24.120Z"
   },
   {
    "duration": 91,
    "start_time": "2025-07-28T14:44:49.308Z"
   },
   {
    "duration": 13,
    "start_time": "2025-07-28T14:45:55.871Z"
   },
   {
    "duration": 101,
    "start_time": "2025-07-28T14:46:04.462Z"
   },
   {
    "duration": 53,
    "start_time": "2025-07-28T14:47:00.518Z"
   },
   {
    "duration": 53,
    "start_time": "2025-07-28T14:47:27.340Z"
   },
   {
    "duration": 44,
    "start_time": "2025-07-28T14:48:11.478Z"
   },
   {
    "duration": 54,
    "start_time": "2025-07-28T14:48:29.374Z"
   },
   {
    "duration": 4,
    "start_time": "2025-07-28T14:50:39.880Z"
   },
   {
    "duration": 10,
    "start_time": "2025-07-28T14:50:46.392Z"
   },
   {
    "duration": 43,
    "start_time": "2025-07-28T14:51:10.094Z"
   },
   {
    "duration": 42,
    "start_time": "2025-07-28T14:51:20.478Z"
   },
   {
    "duration": 31,
    "start_time": "2025-07-28T14:51:42.526Z"
   },
   {
    "duration": 11,
    "start_time": "2025-07-28T14:52:12.489Z"
   },
   {
    "duration": 141,
    "start_time": "2025-07-28T14:54:46.498Z"
   },
   {
    "duration": 131,
    "start_time": "2025-07-28T14:55:00.051Z"
   },
   {
    "duration": 110,
    "start_time": "2025-07-28T14:55:07.215Z"
   },
   {
    "duration": 1158,
    "start_time": "2025-07-28T15:15:58.322Z"
   },
   {
    "duration": 437,
    "start_time": "2025-07-28T15:18:27.649Z"
   },
   {
    "duration": 11,
    "start_time": "2025-07-28T15:20:54.126Z"
   },
   {
    "duration": 12,
    "start_time": "2025-07-28T15:21:14.125Z"
   },
   {
    "duration": 1049,
    "start_time": "2025-07-28T15:21:36.203Z"
   },
   {
    "duration": 169,
    "start_time": "2025-07-28T15:24:31.020Z"
   },
   {
    "duration": 3,
    "start_time": "2025-07-28T15:25:13.025Z"
   },
   {
    "duration": 11,
    "start_time": "2025-07-28T15:25:16.719Z"
   },
   {
    "duration": 10,
    "start_time": "2025-07-28T15:25:23.368Z"
   },
   {
    "duration": 18,
    "start_time": "2025-07-28T15:25:32.180Z"
   },
   {
    "duration": 10,
    "start_time": "2025-07-28T15:26:00.049Z"
   },
   {
    "duration": 11,
    "start_time": "2025-07-28T15:26:56.578Z"
   },
   {
    "duration": 9516,
    "start_time": "2025-07-28T15:27:08.821Z"
   },
   {
    "duration": 156,
    "start_time": "2025-07-28T15:27:18.340Z"
   },
   {
    "duration": 140,
    "start_time": "2025-07-28T15:27:18.497Z"
   },
   {
    "duration": 142,
    "start_time": "2025-07-28T15:27:18.640Z"
   },
   {
    "duration": 45,
    "start_time": "2025-07-28T15:27:18.784Z"
   },
   {
    "duration": 71,
    "start_time": "2025-07-28T15:27:18.830Z"
   },
   {
    "duration": 138,
    "start_time": "2025-07-28T15:27:18.903Z"
   },
   {
    "duration": 163,
    "start_time": "2025-07-28T15:27:19.043Z"
   },
   {
    "duration": 112,
    "start_time": "2025-07-28T15:27:19.208Z"
   },
   {
    "duration": 122,
    "start_time": "2025-07-28T15:27:19.323Z"
   },
   {
    "duration": 3,
    "start_time": "2025-07-28T15:27:40.279Z"
   },
   {
    "duration": 3,
    "start_time": "2025-07-28T15:27:59.714Z"
   },
   {
    "duration": 10,
    "start_time": "2025-07-28T15:30:56.173Z"
   },
   {
    "duration": 4,
    "start_time": "2025-07-28T15:33:13.596Z"
   },
   {
    "duration": 123,
    "start_time": "2025-07-28T15:33:58.081Z"
   },
   {
    "duration": 124,
    "start_time": "2025-07-28T15:34:12.987Z"
   },
   {
    "duration": 10,
    "start_time": "2025-07-28T15:35:09.416Z"
   },
   {
    "duration": 10,
    "start_time": "2025-07-28T15:35:57.809Z"
   },
   {
    "duration": 25,
    "start_time": "2025-07-28T15:36:51.392Z"
   },
   {
    "duration": 9,
    "start_time": "2025-07-28T15:37:17.943Z"
   },
   {
    "duration": 13,
    "start_time": "2025-07-28T15:37:47.161Z"
   },
   {
    "duration": 159,
    "start_time": "2025-07-28T15:39:22.931Z"
   },
   {
    "duration": 151,
    "start_time": "2025-07-28T15:39:23.355Z"
   },
   {
    "duration": 161,
    "start_time": "2025-07-28T15:39:23.974Z"
   },
   {
    "duration": 36,
    "start_time": "2025-07-28T15:39:26.537Z"
   },
   {
    "duration": 18,
    "start_time": "2025-07-28T15:39:57.858Z"
   },
   {
    "duration": 27,
    "start_time": "2025-07-28T15:39:59.951Z"
   },
   {
    "duration": 137,
    "start_time": "2025-07-28T15:40:54.297Z"
   },
   {
    "duration": 135,
    "start_time": "2025-07-28T15:40:54.897Z"
   },
   {
    "duration": 138,
    "start_time": "2025-07-28T15:40:55.587Z"
   },
   {
    "duration": 45,
    "start_time": "2025-07-28T15:41:03.915Z"
   },
   {
    "duration": 29,
    "start_time": "2025-07-28T15:41:05.456Z"
   },
   {
    "duration": 123,
    "start_time": "2025-07-28T15:41:07.274Z"
   },
   {
    "duration": 116,
    "start_time": "2025-07-28T15:41:13.212Z"
   },
   {
    "duration": 101,
    "start_time": "2025-07-28T15:41:15.092Z"
   },
   {
    "duration": 4,
    "start_time": "2025-07-28T15:42:31.584Z"
   },
   {
    "duration": 9,
    "start_time": "2025-07-28T15:42:32.118Z"
   },
   {
    "duration": 17,
    "start_time": "2025-07-28T15:43:03.847Z"
   },
   {
    "duration": 122,
    "start_time": "2025-07-28T15:43:14.339Z"
   },
   {
    "duration": 141,
    "start_time": "2025-07-28T15:43:22.777Z"
   },
   {
    "duration": 95,
    "start_time": "2025-07-28T15:43:28.129Z"
   },
   {
    "duration": 9,
    "start_time": "2025-07-28T15:43:48.102Z"
   },
   {
    "duration": 9,
    "start_time": "2025-07-28T15:45:40.884Z"
   },
   {
    "duration": 192,
    "start_time": "2025-07-28T15:46:01.772Z"
   },
   {
    "duration": 9145,
    "start_time": "2025-07-28T15:50:18.457Z"
   },
   {
    "duration": 153,
    "start_time": "2025-07-28T15:50:27.605Z"
   },
   {
    "duration": 137,
    "start_time": "2025-07-28T15:50:27.759Z"
   },
   {
    "duration": 142,
    "start_time": "2025-07-28T15:50:27.898Z"
   },
   {
    "duration": 60,
    "start_time": "2025-07-28T15:50:28.042Z"
   },
   {
    "duration": 31,
    "start_time": "2025-07-28T15:50:28.104Z"
   },
   {
    "duration": 152,
    "start_time": "2025-07-28T15:50:28.137Z"
   },
   {
    "duration": 158,
    "start_time": "2025-07-28T15:50:28.291Z"
   },
   {
    "duration": 115,
    "start_time": "2025-07-28T15:50:28.451Z"
   },
   {
    "duration": 5,
    "start_time": "2025-07-28T15:50:28.575Z"
   },
   {
    "duration": 19283,
    "start_time": "2025-07-28T15:50:28.581Z"
   },
   {
    "duration": 180,
    "start_time": "2025-07-28T15:51:25.254Z"
   },
   {
    "duration": 170,
    "start_time": "2025-07-28T15:51:33.195Z"
   },
   {
    "duration": 182,
    "start_time": "2025-07-28T15:51:41.472Z"
   },
   {
    "duration": 697,
    "start_time": "2025-07-28T15:52:11.354Z"
   },
   {
    "duration": 121,
    "start_time": "2025-07-28T15:52:43.544Z"
   },
   {
    "duration": 640,
    "start_time": "2025-07-28T15:52:57.115Z"
   },
   {
    "duration": 679,
    "start_time": "2025-07-28T15:53:19.389Z"
   },
   {
    "duration": 647,
    "start_time": "2025-07-28T15:53:20.281Z"
   },
   {
    "duration": 3,
    "start_time": "2025-07-28T15:59:13.693Z"
   },
   {
    "duration": 15182,
    "start_time": "2025-07-28T18:37:11.272Z"
   },
   {
    "duration": 174,
    "start_time": "2025-07-28T18:37:26.456Z"
   },
   {
    "duration": 148,
    "start_time": "2025-07-28T18:37:26.631Z"
   },
   {
    "duration": 150,
    "start_time": "2025-07-28T18:37:26.782Z"
   },
   {
    "duration": 63,
    "start_time": "2025-07-28T18:37:26.933Z"
   },
   {
    "duration": 32,
    "start_time": "2025-07-28T18:37:26.998Z"
   },
   {
    "duration": 200,
    "start_time": "2025-07-28T18:37:27.032Z"
   },
   {
    "duration": 177,
    "start_time": "2025-07-28T18:37:27.234Z"
   },
   {
    "duration": 119,
    "start_time": "2025-07-28T18:37:27.413Z"
   },
   {
    "duration": 4,
    "start_time": "2025-07-28T18:37:27.534Z"
   },
   {
    "duration": 12,
    "start_time": "2025-07-28T18:37:27.540Z"
   },
   {
    "duration": 719,
    "start_time": "2025-07-28T18:37:27.554Z"
   },
   {
    "duration": 827,
    "start_time": "2025-07-28T18:37:28.274Z"
   },
   {
    "duration": 687,
    "start_time": "2025-07-28T18:37:29.103Z"
   },
   {
    "duration": 117,
    "start_time": "2025-07-28T18:40:16.559Z"
   },
   {
    "duration": 11,
    "start_time": "2025-07-28T18:44:15.417Z"
   },
   {
    "duration": 86,
    "start_time": "2025-07-28T18:46:28.592Z"
   },
   {
    "duration": 82,
    "start_time": "2025-07-28T18:46:41.967Z"
   },
   {
    "duration": 17,
    "start_time": "2025-07-28T18:47:37.336Z"
   },
   {
    "duration": 206,
    "start_time": "2025-07-28T18:47:48.618Z"
   },
   {
    "duration": 17,
    "start_time": "2025-07-28T18:48:34.302Z"
   },
   {
    "duration": 339,
    "start_time": "2025-07-28T18:50:05.737Z"
   },
   {
    "duration": 11,
    "start_time": "2025-07-28T18:51:54.850Z"
   },
   {
    "duration": 10,
    "start_time": "2025-07-28T18:52:17.830Z"
   },
   {
    "duration": 178,
    "start_time": "2025-07-28T18:52:38.219Z"
   },
   {
    "duration": 5,
    "start_time": "2025-07-28T18:56:40.633Z"
   },
   {
    "duration": 8233,
    "start_time": "2025-07-28T18:56:59.908Z"
   },
   {
    "duration": 163,
    "start_time": "2025-07-28T18:57:08.145Z"
   },
   {
    "duration": 146,
    "start_time": "2025-07-28T18:57:08.310Z"
   },
   {
    "duration": 150,
    "start_time": "2025-07-28T18:57:08.459Z"
   },
   {
    "duration": 62,
    "start_time": "2025-07-28T18:57:08.611Z"
   },
   {
    "duration": 35,
    "start_time": "2025-07-28T18:57:14.244Z"
   },
   {
    "duration": 130,
    "start_time": "2025-07-28T18:57:25.552Z"
   },
   {
    "duration": 136,
    "start_time": "2025-07-28T18:57:35.181Z"
   },
   {
    "duration": 121,
    "start_time": "2025-07-28T18:58:00.751Z"
   },
   {
    "duration": 4,
    "start_time": "2025-07-28T18:58:04.821Z"
   },
   {
    "duration": 79,
    "start_time": "2025-07-28T18:58:07.351Z"
   },
   {
    "duration": 42,
    "start_time": "2025-07-28T18:59:37.212Z"
   },
   {
    "duration": 54,
    "start_time": "2025-07-28T18:59:38.696Z"
   },
   {
    "duration": 103,
    "start_time": "2025-07-28T18:59:39.210Z"
   },
   {
    "duration": 43,
    "start_time": "2025-07-28T19:01:57.321Z"
   },
   {
    "duration": 4,
    "start_time": "2025-07-28T19:02:03.345Z"
   },
   {
    "duration": 5,
    "start_time": "2025-07-28T19:02:03.936Z"
   },
   {
    "duration": 39,
    "start_time": "2025-07-28T19:02:04.538Z"
   },
   {
    "duration": 42,
    "start_time": "2025-07-28T19:02:05.678Z"
   },
   {
    "duration": 40,
    "start_time": "2025-07-28T19:02:06.351Z"
   },
   {
    "duration": 105,
    "start_time": "2025-07-28T19:02:07.904Z"
   },
   {
    "duration": 9595,
    "start_time": "2025-07-28T19:08:07.156Z"
   },
   {
    "duration": 160,
    "start_time": "2025-07-28T19:08:16.753Z"
   },
   {
    "duration": 144,
    "start_time": "2025-07-28T19:08:16.915Z"
   },
   {
    "duration": 149,
    "start_time": "2025-07-28T19:08:17.061Z"
   },
   {
    "duration": 69,
    "start_time": "2025-07-28T19:08:17.211Z"
   },
   {
    "duration": 35,
    "start_time": "2025-07-28T19:08:17.282Z"
   },
   {
    "duration": 168,
    "start_time": "2025-07-28T19:08:17.320Z"
   },
   {
    "duration": 185,
    "start_time": "2025-07-28T19:08:17.491Z"
   },
   {
    "duration": 126,
    "start_time": "2025-07-28T19:08:17.678Z"
   },
   {
    "duration": 3,
    "start_time": "2025-07-28T19:08:17.807Z"
   },
   {
    "duration": 7,
    "start_time": "2025-07-28T19:08:17.811Z"
   },
   {
    "duration": 66,
    "start_time": "2025-07-28T19:08:17.820Z"
   },
   {
    "duration": 42,
    "start_time": "2025-07-28T19:08:17.888Z"
   },
   {
    "duration": 59,
    "start_time": "2025-07-28T19:08:17.932Z"
   },
   {
    "duration": 115,
    "start_time": "2025-07-28T19:08:17.992Z"
   },
   {
    "duration": 5,
    "start_time": "2025-07-28T19:08:18.108Z"
   },
   {
    "duration": 767,
    "start_time": "2025-07-28T19:08:18.115Z"
   },
   {
    "duration": 859,
    "start_time": "2025-07-28T19:08:18.884Z"
   },
   {
    "duration": 0,
    "start_time": "2025-07-28T19:09:49.413Z"
   },
   {
    "duration": 0,
    "start_time": "2025-07-28T19:09:49.417Z"
   },
   {
    "duration": 5088,
    "start_time": "2025-07-28T19:09:57.957Z"
   },
   {
    "duration": 471181,
    "start_time": "2025-07-28T19:10:14.237Z"
   },
   {
    "duration": 0,
    "start_time": "2025-07-28T19:18:05.422Z"
   },
   {
    "duration": 9319,
    "start_time": "2025-07-28T19:18:12.504Z"
   },
   {
    "duration": 158,
    "start_time": "2025-07-28T19:18:21.826Z"
   },
   {
    "duration": 140,
    "start_time": "2025-07-28T19:18:21.988Z"
   },
   {
    "duration": 166,
    "start_time": "2025-07-28T19:18:22.130Z"
   },
   {
    "duration": 75,
    "start_time": "2025-07-28T19:18:22.298Z"
   },
   {
    "duration": 29,
    "start_time": "2025-07-28T19:18:22.375Z"
   },
   {
    "duration": 147,
    "start_time": "2025-07-28T19:18:22.406Z"
   },
   {
    "duration": 165,
    "start_time": "2025-07-28T19:18:22.555Z"
   },
   {
    "duration": 124,
    "start_time": "2025-07-28T19:18:22.723Z"
   },
   {
    "duration": 4,
    "start_time": "2025-07-28T19:18:22.848Z"
   },
   {
    "duration": 73,
    "start_time": "2025-07-28T19:18:22.853Z"
   },
   {
    "duration": 60,
    "start_time": "2025-07-28T19:18:22.927Z"
   },
   {
    "duration": 77,
    "start_time": "2025-07-28T19:18:22.988Z"
   },
   {
    "duration": 38,
    "start_time": "2025-07-28T19:18:23.067Z"
   },
   {
    "duration": 98,
    "start_time": "2025-07-28T19:18:23.107Z"
   },
   {
    "duration": 5,
    "start_time": "2025-07-28T19:18:23.206Z"
   },
   {
    "duration": 711,
    "start_time": "2025-07-28T19:18:23.212Z"
   },
   {
    "duration": 826,
    "start_time": "2025-07-28T19:18:23.925Z"
   },
   {
    "duration": 709,
    "start_time": "2025-07-28T19:18:24.753Z"
   },
   {
    "duration": 389,
    "start_time": "2025-07-28T19:22:29.965Z"
   },
   {
    "duration": 345,
    "start_time": "2025-07-28T19:22:45.881Z"
   },
   {
    "duration": 362,
    "start_time": "2025-07-28T19:22:58.417Z"
   },
   {
    "duration": 13,
    "start_time": "2025-07-28T19:25:13.737Z"
   },
   {
    "duration": 284,
    "start_time": "2025-07-28T19:25:38.687Z"
   },
   {
    "duration": 8676,
    "start_time": "2025-07-28T19:52:50.131Z"
   },
   {
    "duration": 137,
    "start_time": "2025-07-28T19:58:02.617Z"
   },
   {
    "duration": 25,
    "start_time": "2025-07-28T19:58:09.534Z"
   },
   {
    "duration": 164,
    "start_time": "2025-07-28T19:58:17.512Z"
   },
   {
    "duration": 8635,
    "start_time": "2025-07-28T19:58:31.852Z"
   },
   {
    "duration": 245,
    "start_time": "2025-07-28T19:58:41.433Z"
   },
   {
    "duration": 403,
    "start_time": "2025-07-28T19:58:47.581Z"
   },
   {
    "duration": 127,
    "start_time": "2025-07-28T20:00:48.137Z"
   },
   {
    "duration": 108,
    "start_time": "2025-07-28T20:01:05.541Z"
   },
   {
    "duration": 398,
    "start_time": "2025-07-28T20:01:26.983Z"
   },
   {
    "duration": 472,
    "start_time": "2025-07-28T20:02:36.700Z"
   },
   {
    "duration": 207,
    "start_time": "2025-07-28T20:02:48.166Z"
   },
   {
    "duration": 389,
    "start_time": "2025-07-28T20:02:57.399Z"
   },
   {
    "duration": 598,
    "start_time": "2025-07-28T20:03:27.277Z"
   },
   {
    "duration": 17,
    "start_time": "2025-07-28T20:04:27.159Z"
   },
   {
    "duration": 550,
    "start_time": "2025-07-28T20:05:34.826Z"
   },
   {
    "duration": 448,
    "start_time": "2025-07-28T20:05:55.825Z"
   },
   {
    "duration": 2,
    "start_time": "2025-07-28T20:10:09.987Z"
   },
   {
    "duration": 3,
    "start_time": "2025-07-28T20:17:01.640Z"
   },
   {
    "duration": 4,
    "start_time": "2025-07-28T20:17:09.394Z"
   },
   {
    "duration": 49,
    "start_time": "2025-07-29T10:25:37.018Z"
   },
   {
    "duration": 6,
    "start_time": "2025-07-29T10:25:43.017Z"
   },
   {
    "duration": 15645,
    "start_time": "2025-07-29T10:25:51.481Z"
   },
   {
    "duration": 159,
    "start_time": "2025-07-29T10:26:07.129Z"
   },
   {
    "duration": 142,
    "start_time": "2025-07-29T10:26:07.289Z"
   },
   {
    "duration": 147,
    "start_time": "2025-07-29T10:26:07.433Z"
   },
   {
    "duration": 50,
    "start_time": "2025-07-29T10:26:07.582Z"
   },
   {
    "duration": 58,
    "start_time": "2025-07-29T10:26:07.634Z"
   },
   {
    "duration": 140,
    "start_time": "2025-07-29T10:26:07.694Z"
   },
   {
    "duration": 170,
    "start_time": "2025-07-29T10:26:07.835Z"
   },
   {
    "duration": 117,
    "start_time": "2025-07-29T10:26:08.007Z"
   },
   {
    "duration": 3,
    "start_time": "2025-07-29T10:26:08.126Z"
   },
   {
    "duration": 13,
    "start_time": "2025-07-29T10:26:08.131Z"
   },
   {
    "duration": 64,
    "start_time": "2025-07-29T10:26:08.146Z"
   },
   {
    "duration": 43,
    "start_time": "2025-07-29T10:26:08.212Z"
   },
   {
    "duration": 51,
    "start_time": "2025-07-29T10:26:08.257Z"
   },
   {
    "duration": 122,
    "start_time": "2025-07-29T10:26:08.310Z"
   },
   {
    "duration": 6,
    "start_time": "2025-07-29T10:26:08.434Z"
   },
   {
    "duration": 777,
    "start_time": "2025-07-29T10:26:08.442Z"
   },
   {
    "duration": 827,
    "start_time": "2025-07-29T10:26:09.221Z"
   },
   {
    "duration": 686,
    "start_time": "2025-07-29T10:26:10.049Z"
   },
   {
    "duration": 435,
    "start_time": "2025-07-29T10:26:10.736Z"
   },
   {
    "duration": 327,
    "start_time": "2025-07-29T10:26:11.173Z"
   },
   {
    "duration": 12,
    "start_time": "2025-07-29T10:26:11.502Z"
   },
   {
    "duration": 342,
    "start_time": "2025-07-29T10:26:11.516Z"
   },
   {
    "duration": 357,
    "start_time": "2025-07-29T10:26:11.859Z"
   },
   {
    "duration": 554,
    "start_time": "2025-07-29T10:26:12.219Z"
   },
   {
    "duration": 4,
    "start_time": "2025-07-29T10:26:12.776Z"
   },
   {
    "duration": 4,
    "start_time": "2025-07-29T10:26:12.872Z"
   },
   {
    "duration": 4,
    "start_time": "2025-07-29T10:28:09.253Z"
   },
   {
    "duration": 4,
    "start_time": "2025-07-29T10:30:00.836Z"
   },
   {
    "duration": 115,
    "start_time": "2025-07-29T10:30:16.221Z"
   },
   {
    "duration": 11,
    "start_time": "2025-07-29T10:30:21.604Z"
   },
   {
    "duration": 3,
    "start_time": "2025-07-29T10:30:34.241Z"
   },
   {
    "duration": 5,
    "start_time": "2025-07-29T10:31:27.547Z"
   },
   {
    "duration": 10,
    "start_time": "2025-07-29T10:33:18.001Z"
   },
   {
    "duration": 4,
    "start_time": "2025-07-29T10:33:26.685Z"
   },
   {
    "duration": 4,
    "start_time": "2025-07-29T10:33:35.289Z"
   },
   {
    "duration": 5,
    "start_time": "2025-07-29T10:33:39.240Z"
   },
   {
    "duration": 4,
    "start_time": "2025-07-29T10:33:39.820Z"
   },
   {
    "duration": 10,
    "start_time": "2025-07-29T10:40:37.684Z"
   },
   {
    "duration": 31,
    "start_time": "2025-07-29T10:40:45.142Z"
   },
   {
    "duration": 59,
    "start_time": "2025-07-29T10:41:04.619Z"
   },
   {
    "duration": 72,
    "start_time": "2025-07-29T10:42:14.601Z"
   },
   {
    "duration": 968,
    "start_time": "2025-07-29T10:46:49.019Z"
   },
   {
    "duration": 6,
    "start_time": "2025-07-29T10:47:10.043Z"
   },
   {
    "duration": 49,
    "start_time": "2025-07-29T10:47:15.089Z"
   },
   {
    "duration": 9743,
    "start_time": "2025-07-29T10:47:59.478Z"
   },
   {
    "duration": 161,
    "start_time": "2025-07-29T10:48:09.224Z"
   },
   {
    "duration": 140,
    "start_time": "2025-07-29T10:48:09.386Z"
   },
   {
    "duration": 144,
    "start_time": "2025-07-29T10:48:09.528Z"
   },
   {
    "duration": 46,
    "start_time": "2025-07-29T10:48:09.673Z"
   },
   {
    "duration": 58,
    "start_time": "2025-07-29T10:48:09.720Z"
   },
   {
    "duration": 144,
    "start_time": "2025-07-29T10:48:09.780Z"
   },
   {
    "duration": 180,
    "start_time": "2025-07-29T10:48:09.926Z"
   },
   {
    "duration": 123,
    "start_time": "2025-07-29T10:48:10.108Z"
   },
   {
    "duration": 3,
    "start_time": "2025-07-29T10:48:10.234Z"
   },
   {
    "duration": 6,
    "start_time": "2025-07-29T10:48:10.239Z"
   },
   {
    "duration": 62,
    "start_time": "2025-07-29T10:48:10.247Z"
   },
   {
    "duration": 43,
    "start_time": "2025-07-29T10:48:10.311Z"
   },
   {
    "duration": 56,
    "start_time": "2025-07-29T10:48:10.355Z"
   },
   {
    "duration": 122,
    "start_time": "2025-07-29T10:48:10.413Z"
   },
   {
    "duration": 5,
    "start_time": "2025-07-29T10:48:10.536Z"
   },
   {
    "duration": 791,
    "start_time": "2025-07-29T10:48:10.543Z"
   },
   {
    "duration": 837,
    "start_time": "2025-07-29T10:48:11.336Z"
   },
   {
    "duration": 748,
    "start_time": "2025-07-29T10:48:12.174Z"
   },
   {
    "duration": 436,
    "start_time": "2025-07-29T10:48:12.924Z"
   },
   {
    "duration": 342,
    "start_time": "2025-07-29T10:48:13.362Z"
   },
   {
    "duration": 13,
    "start_time": "2025-07-29T10:48:13.706Z"
   },
   {
    "duration": 340,
    "start_time": "2025-07-29T10:48:13.721Z"
   },
   {
    "duration": 332,
    "start_time": "2025-07-29T10:48:14.072Z"
   },
   {
    "duration": 665,
    "start_time": "2025-07-29T10:48:14.406Z"
   },
   {
    "duration": 3,
    "start_time": "2025-07-29T10:48:15.073Z"
   },
   {
    "duration": 29,
    "start_time": "2025-07-29T10:48:15.078Z"
   },
   {
    "duration": 55,
    "start_time": "2025-07-29T10:48:15.110Z"
   },
   {
    "duration": 108,
    "start_time": "2025-07-29T10:48:15.167Z"
   },
   {
    "duration": 10,
    "start_time": "2025-07-29T10:48:36.447Z"
   },
   {
    "duration": 28,
    "start_time": "2025-07-29T10:49:50.663Z"
   },
   {
    "duration": 23,
    "start_time": "2025-07-29T10:51:05.933Z"
   },
   {
    "duration": 26,
    "start_time": "2025-07-29T10:51:06.542Z"
   },
   {
    "duration": 27,
    "start_time": "2025-07-29T10:51:07.103Z"
   },
   {
    "duration": 122,
    "start_time": "2025-07-29T10:54:36.975Z"
   },
   {
    "duration": 9,
    "start_time": "2025-07-29T10:55:02.118Z"
   },
   {
    "duration": 9,
    "start_time": "2025-07-29T10:55:19.926Z"
   },
   {
    "duration": 9,
    "start_time": "2025-07-29T10:55:30.674Z"
   },
   {
    "duration": 83,
    "start_time": "2025-07-29T10:56:26.829Z"
   },
   {
    "duration": 8,
    "start_time": "2025-07-29T10:56:34.180Z"
   },
   {
    "duration": 17,
    "start_time": "2025-07-29T11:03:03.409Z"
   },
   {
    "duration": 15,
    "start_time": "2025-07-29T11:03:03.802Z"
   },
   {
    "duration": 15,
    "start_time": "2025-07-29T11:03:04.297Z"
   },
   {
    "duration": 3,
    "start_time": "2025-07-29T11:05:46.665Z"
   },
   {
    "duration": 4,
    "start_time": "2025-07-29T11:46:47.485Z"
   },
   {
    "duration": 3,
    "start_time": "2025-07-29T11:48:07.245Z"
   },
   {
    "duration": 6,
    "start_time": "2025-07-29T11:50:57.514Z"
   },
   {
    "duration": 3,
    "start_time": "2025-07-29T11:51:12.737Z"
   },
   {
    "duration": 6,
    "start_time": "2025-07-29T11:51:13.255Z"
   },
   {
    "duration": 4,
    "start_time": "2025-07-29T11:51:22.112Z"
   },
   {
    "duration": 10,
    "start_time": "2025-07-29T11:51:49.670Z"
   },
   {
    "duration": 4,
    "start_time": "2025-07-29T11:52:12.481Z"
   },
   {
    "duration": 18,
    "start_time": "2025-07-29T11:52:12.929Z"
   },
   {
    "duration": 3,
    "start_time": "2025-07-29T11:52:24.979Z"
   },
   {
    "duration": 4,
    "start_time": "2025-07-29T11:52:54.297Z"
   },
   {
    "duration": 11,
    "start_time": "2025-07-29T11:52:54.431Z"
   },
   {
    "duration": 91,
    "start_time": "2025-07-29T11:55:45.094Z"
   },
   {
    "duration": 113,
    "start_time": "2025-07-29T11:56:18.118Z"
   },
   {
    "duration": 11,
    "start_time": "2025-07-29T11:56:32.321Z"
   },
   {
    "duration": 4,
    "start_time": "2025-07-29T11:57:23.071Z"
   },
   {
    "duration": 8239,
    "start_time": "2025-07-29T11:57:58.688Z"
   },
   {
    "duration": 5,
    "start_time": "2025-07-29T11:58:30.066Z"
   },
   {
    "duration": 20,
    "start_time": "2025-07-29T11:58:31.373Z"
   },
   {
    "duration": 3,
    "start_time": "2025-07-29T11:59:12.454Z"
   },
   {
    "duration": 11,
    "start_time": "2025-07-29T11:59:49.929Z"
   },
   {
    "duration": 21,
    "start_time": "2025-07-29T11:59:57.090Z"
   },
   {
    "duration": 3,
    "start_time": "2025-07-29T12:01:58.897Z"
   },
   {
    "duration": 10,
    "start_time": "2025-07-29T12:02:02.331Z"
   },
   {
    "duration": 10,
    "start_time": "2025-07-29T12:02:11.511Z"
   },
   {
    "duration": 7,
    "start_time": "2025-07-29T12:05:23.575Z"
   },
   {
    "duration": 10,
    "start_time": "2025-07-29T12:05:23.956Z"
   },
   {
    "duration": 89,
    "start_time": "2025-07-29T12:16:43.307Z"
   },
   {
    "duration": 12,
    "start_time": "2025-07-29T12:17:00.754Z"
   },
   {
    "duration": 12,
    "start_time": "2025-07-29T12:17:07.719Z"
   },
   {
    "duration": 11360,
    "start_time": "2025-07-29T12:21:41.148Z"
   },
   {
    "duration": 163,
    "start_time": "2025-07-29T12:21:52.510Z"
   },
   {
    "duration": 149,
    "start_time": "2025-07-29T12:21:52.674Z"
   },
   {
    "duration": 151,
    "start_time": "2025-07-29T12:21:52.825Z"
   },
   {
    "duration": 50,
    "start_time": "2025-07-29T12:21:52.977Z"
   },
   {
    "duration": 73,
    "start_time": "2025-07-29T12:21:53.029Z"
   },
   {
    "duration": 147,
    "start_time": "2025-07-29T12:21:53.103Z"
   },
   {
    "duration": 167,
    "start_time": "2025-07-29T12:21:53.252Z"
   },
   {
    "duration": 123,
    "start_time": "2025-07-29T12:21:53.420Z"
   },
   {
    "duration": 4,
    "start_time": "2025-07-29T12:21:53.545Z"
   },
   {
    "duration": 25,
    "start_time": "2025-07-29T12:21:53.550Z"
   },
   {
    "duration": 50,
    "start_time": "2025-07-29T12:21:53.576Z"
   },
   {
    "duration": 50,
    "start_time": "2025-07-29T12:21:53.628Z"
   },
   {
    "duration": 68,
    "start_time": "2025-07-29T12:21:53.680Z"
   },
   {
    "duration": 122,
    "start_time": "2025-07-29T12:21:53.750Z"
   },
   {
    "duration": 5,
    "start_time": "2025-07-29T12:21:53.874Z"
   },
   {
    "duration": 768,
    "start_time": "2025-07-29T12:21:53.881Z"
   },
   {
    "duration": 843,
    "start_time": "2025-07-29T12:21:54.652Z"
   },
   {
    "duration": 736,
    "start_time": "2025-07-29T12:21:55.498Z"
   },
   {
    "duration": 426,
    "start_time": "2025-07-29T12:21:56.236Z"
   },
   {
    "duration": 342,
    "start_time": "2025-07-29T12:21:56.664Z"
   },
   {
    "duration": 15,
    "start_time": "2025-07-29T12:21:57.008Z"
   },
   {
    "duration": 351,
    "start_time": "2025-07-29T12:21:57.025Z"
   },
   {
    "duration": 327,
    "start_time": "2025-07-29T12:21:57.378Z"
   },
   {
    "duration": 572,
    "start_time": "2025-07-29T12:21:57.708Z"
   },
   {
    "duration": 3,
    "start_time": "2025-07-29T12:21:58.372Z"
   },
   {
    "duration": 16,
    "start_time": "2025-07-29T12:21:58.377Z"
   },
   {
    "duration": 17,
    "start_time": "2025-07-29T12:21:58.396Z"
   },
   {
    "duration": 9,
    "start_time": "2025-07-29T12:21:58.415Z"
   },
   {
    "duration": 33,
    "start_time": "2025-07-29T12:21:58.425Z"
   },
   {
    "duration": 92,
    "start_time": "2025-07-29T12:21:58.459Z"
   },
   {
    "duration": 160,
    "start_time": "2025-07-29T12:21:58.553Z"
   },
   {
    "duration": 21,
    "start_time": "2025-07-29T12:21:58.714Z"
   },
   {
    "duration": 6,
    "start_time": "2025-07-29T12:21:58.736Z"
   },
   {
    "duration": 8,
    "start_time": "2025-07-29T12:21:58.744Z"
   },
   {
    "duration": 40,
    "start_time": "2025-07-29T12:21:58.754Z"
   },
   {
    "duration": 10449,
    "start_time": "2025-07-29T12:41:18.362Z"
   },
   {
    "duration": 162,
    "start_time": "2025-07-29T12:41:28.814Z"
   },
   {
    "duration": 144,
    "start_time": "2025-07-29T12:41:28.978Z"
   },
   {
    "duration": 147,
    "start_time": "2025-07-29T12:41:29.125Z"
   },
   {
    "duration": 51,
    "start_time": "2025-07-29T12:41:29.274Z"
   },
   {
    "duration": 67,
    "start_time": "2025-07-29T12:41:29.327Z"
   },
   {
    "duration": 155,
    "start_time": "2025-07-29T12:41:29.396Z"
   },
   {
    "duration": 171,
    "start_time": "2025-07-29T12:41:29.553Z"
   },
   {
    "duration": 124,
    "start_time": "2025-07-29T12:41:29.727Z"
   },
   {
    "duration": 17,
    "start_time": "2025-07-29T12:41:29.855Z"
   },
   {
    "duration": 83,
    "start_time": "2025-07-29T12:41:29.874Z"
   },
   {
    "duration": 77,
    "start_time": "2025-07-29T12:41:29.960Z"
   },
   {
    "duration": 46,
    "start_time": "2025-07-29T12:41:30.039Z"
   },
   {
    "duration": 48,
    "start_time": "2025-07-29T12:41:30.087Z"
   },
   {
    "duration": 134,
    "start_time": "2025-07-29T12:41:30.137Z"
   },
   {
    "duration": 5,
    "start_time": "2025-07-29T12:41:30.273Z"
   },
   {
    "duration": 808,
    "start_time": "2025-07-29T12:41:30.280Z"
   },
   {
    "duration": 870,
    "start_time": "2025-07-29T12:41:31.089Z"
   },
   {
    "duration": 737,
    "start_time": "2025-07-29T12:41:31.960Z"
   },
   {
    "duration": 447,
    "start_time": "2025-07-29T12:41:32.699Z"
   },
   {
    "duration": 344,
    "start_time": "2025-07-29T12:41:33.148Z"
   },
   {
    "duration": 13,
    "start_time": "2025-07-29T12:41:33.494Z"
   },
   {
    "duration": 335,
    "start_time": "2025-07-29T12:41:33.508Z"
   },
   {
    "duration": 345,
    "start_time": "2025-07-29T12:41:33.845Z"
   },
   {
    "duration": 485,
    "start_time": "2025-07-29T12:41:34.192Z"
   },
   {
    "duration": 93,
    "start_time": "2025-07-29T12:41:34.679Z"
   },
   {
    "duration": 32,
    "start_time": "2025-07-29T12:41:34.773Z"
   },
   {
    "duration": 6,
    "start_time": "2025-07-29T12:41:34.808Z"
   },
   {
    "duration": 16,
    "start_time": "2025-07-29T12:41:34.815Z"
   },
   {
    "duration": 32,
    "start_time": "2025-07-29T12:41:34.832Z"
   },
   {
    "duration": 22,
    "start_time": "2025-07-29T12:41:34.865Z"
   },
   {
    "duration": 39,
    "start_time": "2025-07-29T12:41:34.888Z"
   },
   {
    "duration": 20,
    "start_time": "2025-07-29T12:41:34.929Z"
   },
   {
    "duration": 76,
    "start_time": "2025-07-29T12:41:34.950Z"
   },
   {
    "duration": 8,
    "start_time": "2025-07-29T12:41:35.028Z"
   },
   {
    "duration": 53,
    "start_time": "2025-07-29T12:41:35.038Z"
   },
   {
    "duration": 12367,
    "start_time": "2025-07-29T12:41:54.189Z"
   },
   {
    "duration": 158,
    "start_time": "2025-07-29T12:42:06.559Z"
   },
   {
    "duration": 143,
    "start_time": "2025-07-29T12:42:06.722Z"
   },
   {
    "duration": 143,
    "start_time": "2025-07-29T12:42:06.870Z"
   },
   {
    "duration": 69,
    "start_time": "2025-07-29T12:42:07.015Z"
   },
   {
    "duration": 29,
    "start_time": "2025-07-29T12:42:07.085Z"
   },
   {
    "duration": 202,
    "start_time": "2025-07-29T12:42:07.116Z"
   },
   {
    "duration": 164,
    "start_time": "2025-07-29T12:42:07.319Z"
   },
   {
    "duration": 120,
    "start_time": "2025-07-29T12:42:07.486Z"
   },
   {
    "duration": 3,
    "start_time": "2025-07-29T12:42:07.608Z"
   },
   {
    "duration": 48,
    "start_time": "2025-07-29T12:42:07.613Z"
   },
   {
    "duration": 89,
    "start_time": "2025-07-29T12:42:07.663Z"
   },
   {
    "duration": 43,
    "start_time": "2025-07-29T12:42:07.753Z"
   },
   {
    "duration": 46,
    "start_time": "2025-07-29T12:42:07.798Z"
   },
   {
    "duration": 139,
    "start_time": "2025-07-29T12:42:07.846Z"
   },
   {
    "duration": 5,
    "start_time": "2025-07-29T12:42:07.987Z"
   },
   {
    "duration": 738,
    "start_time": "2025-07-29T12:42:07.994Z"
   },
   {
    "duration": 819,
    "start_time": "2025-07-29T12:42:08.734Z"
   },
   {
    "duration": 721,
    "start_time": "2025-07-29T12:42:09.555Z"
   },
   {
    "duration": 413,
    "start_time": "2025-07-29T12:42:10.277Z"
   },
   {
    "duration": 344,
    "start_time": "2025-07-29T12:42:10.692Z"
   },
   {
    "duration": 14,
    "start_time": "2025-07-29T12:42:11.037Z"
   },
   {
    "duration": 319,
    "start_time": "2025-07-29T12:42:11.052Z"
   },
   {
    "duration": 332,
    "start_time": "2025-07-29T12:42:11.373Z"
   },
   {
    "duration": 665,
    "start_time": "2025-07-29T12:42:11.706Z"
   },
   {
    "duration": 3,
    "start_time": "2025-07-29T12:42:12.374Z"
   },
   {
    "duration": 8,
    "start_time": "2025-07-29T12:42:12.381Z"
   },
   {
    "duration": 7,
    "start_time": "2025-07-29T12:42:12.391Z"
   },
   {
    "duration": 33,
    "start_time": "2025-07-29T12:42:12.400Z"
   },
   {
    "duration": 32,
    "start_time": "2025-07-29T12:42:12.434Z"
   },
   {
    "duration": 21,
    "start_time": "2025-07-29T12:42:12.468Z"
   },
   {
    "duration": 19,
    "start_time": "2025-07-29T12:42:12.490Z"
   },
   {
    "duration": 36,
    "start_time": "2025-07-29T12:42:12.511Z"
   },
   {
    "duration": 18,
    "start_time": "2025-07-29T12:42:12.549Z"
   },
   {
    "duration": 11,
    "start_time": "2025-07-29T12:42:12.568Z"
   },
   {
    "duration": 34,
    "start_time": "2025-07-29T12:42:12.581Z"
   },
   {
    "duration": 615,
    "start_time": "2025-07-29T12:42:12.617Z"
   },
   {
    "duration": 27,
    "start_time": "2025-07-29T13:21:20.806Z"
   },
   {
    "duration": 49,
    "start_time": "2025-07-29T13:26:43.970Z"
   },
   {
    "duration": 10513,
    "start_time": "2025-07-29T13:27:20.560Z"
   },
   {
    "duration": 172,
    "start_time": "2025-07-29T13:27:31.076Z"
   },
   {
    "duration": 146,
    "start_time": "2025-07-29T13:27:31.250Z"
   },
   {
    "duration": 149,
    "start_time": "2025-07-29T13:27:31.398Z"
   },
   {
    "duration": 55,
    "start_time": "2025-07-29T13:27:31.548Z"
   },
   {
    "duration": 68,
    "start_time": "2025-07-29T13:27:31.605Z"
   },
   {
    "duration": 149,
    "start_time": "2025-07-29T13:27:31.675Z"
   },
   {
    "duration": 167,
    "start_time": "2025-07-29T13:27:31.825Z"
   },
   {
    "duration": 129,
    "start_time": "2025-07-29T13:27:31.994Z"
   },
   {
    "duration": 3,
    "start_time": "2025-07-29T13:27:32.126Z"
   },
   {
    "duration": 100,
    "start_time": "2025-07-29T13:27:32.131Z"
   },
   {
    "duration": 73,
    "start_time": "2025-07-29T13:27:32.233Z"
   },
   {
    "duration": 45,
    "start_time": "2025-07-29T13:27:32.308Z"
   },
   {
    "duration": 52,
    "start_time": "2025-07-29T13:27:32.355Z"
   },
   {
    "duration": 124,
    "start_time": "2025-07-29T13:27:32.409Z"
   },
   {
    "duration": 4,
    "start_time": "2025-07-29T13:27:32.535Z"
   },
   {
    "duration": 732,
    "start_time": "2025-07-29T13:27:32.541Z"
   },
   {
    "duration": 828,
    "start_time": "2025-07-29T13:27:33.274Z"
   },
   {
    "duration": 730,
    "start_time": "2025-07-29T13:27:34.105Z"
   },
   {
    "duration": 427,
    "start_time": "2025-07-29T13:27:34.837Z"
   },
   {
    "duration": 341,
    "start_time": "2025-07-29T13:27:35.265Z"
   },
   {
    "duration": 13,
    "start_time": "2025-07-29T13:27:35.607Z"
   },
   {
    "duration": 351,
    "start_time": "2025-07-29T13:27:35.622Z"
   },
   {
    "duration": 336,
    "start_time": "2025-07-29T13:27:35.975Z"
   },
   {
    "duration": 658,
    "start_time": "2025-07-29T13:27:36.312Z"
   },
   {
    "duration": 3,
    "start_time": "2025-07-29T13:27:36.972Z"
   },
   {
    "duration": 34,
    "start_time": "2025-07-29T13:27:36.977Z"
   },
   {
    "duration": 5,
    "start_time": "2025-07-29T13:27:37.015Z"
   },
   {
    "duration": 33,
    "start_time": "2025-07-29T13:27:37.021Z"
   },
   {
    "duration": 104,
    "start_time": "2025-07-29T13:27:37.055Z"
   },
   {
    "duration": 32,
    "start_time": "2025-07-29T13:27:37.161Z"
   },
   {
    "duration": 21,
    "start_time": "2025-07-29T13:27:37.194Z"
   },
   {
    "duration": 57,
    "start_time": "2025-07-29T13:27:37.217Z"
   },
   {
    "duration": 52,
    "start_time": "2025-07-29T13:27:37.276Z"
   },
   {
    "duration": 8,
    "start_time": "2025-07-29T13:27:37.330Z"
   },
   {
    "duration": 47,
    "start_time": "2025-07-29T13:27:37.340Z"
   },
   {
    "duration": 205,
    "start_time": "2025-07-29T13:27:37.389Z"
   },
   {
    "duration": 0,
    "start_time": "2025-07-29T13:27:37.596Z"
   },
   {
    "duration": 8,
    "start_time": "2025-07-29T13:34:43.720Z"
   },
   {
    "duration": 29,
    "start_time": "2025-07-29T13:34:58.503Z"
   },
   {
    "duration": 49,
    "start_time": "2025-07-29T13:37:37.216Z"
   },
   {
    "duration": 11550,
    "start_time": "2025-07-29T13:37:51.799Z"
   },
   {
    "duration": 168,
    "start_time": "2025-07-29T13:38:03.352Z"
   },
   {
    "duration": 149,
    "start_time": "2025-07-29T13:38:03.521Z"
   },
   {
    "duration": 151,
    "start_time": "2025-07-29T13:38:03.672Z"
   },
   {
    "duration": 56,
    "start_time": "2025-07-29T13:38:03.825Z"
   },
   {
    "duration": 31,
    "start_time": "2025-07-29T13:38:03.883Z"
   },
   {
    "duration": 169,
    "start_time": "2025-07-29T13:38:03.916Z"
   },
   {
    "duration": 185,
    "start_time": "2025-07-29T13:38:04.087Z"
   },
   {
    "duration": 128,
    "start_time": "2025-07-29T13:38:04.274Z"
   },
   {
    "duration": 3,
    "start_time": "2025-07-29T13:38:04.404Z"
   },
   {
    "duration": 21,
    "start_time": "2025-07-29T13:38:04.409Z"
   },
   {
    "duration": 60,
    "start_time": "2025-07-29T13:38:04.431Z"
   },
   {
    "duration": 44,
    "start_time": "2025-07-29T13:38:04.493Z"
   },
   {
    "duration": 51,
    "start_time": "2025-07-29T13:38:04.539Z"
   },
   {
    "duration": 121,
    "start_time": "2025-07-29T13:38:04.592Z"
   },
   {
    "duration": 5,
    "start_time": "2025-07-29T13:38:04.715Z"
   },
   {
    "duration": 762,
    "start_time": "2025-07-29T13:38:04.722Z"
   },
   {
    "duration": 837,
    "start_time": "2025-07-29T13:38:05.485Z"
   },
   {
    "duration": 719,
    "start_time": "2025-07-29T13:38:06.323Z"
   },
   {
    "duration": 412,
    "start_time": "2025-07-29T13:38:07.043Z"
   },
   {
    "duration": 349,
    "start_time": "2025-07-29T13:38:07.457Z"
   },
   {
    "duration": 13,
    "start_time": "2025-07-29T13:38:07.808Z"
   },
   {
    "duration": 332,
    "start_time": "2025-07-29T13:38:07.823Z"
   },
   {
    "duration": 344,
    "start_time": "2025-07-29T13:38:08.157Z"
   },
   {
    "duration": 573,
    "start_time": "2025-07-29T13:38:08.504Z"
   },
   {
    "duration": 92,
    "start_time": "2025-07-29T13:38:09.079Z"
   },
   {
    "duration": 18,
    "start_time": "2025-07-29T13:38:09.173Z"
   },
   {
    "duration": 4,
    "start_time": "2025-07-29T13:38:09.194Z"
   },
   {
    "duration": 5,
    "start_time": "2025-07-29T13:38:09.200Z"
   },
   {
    "duration": 17,
    "start_time": "2025-07-29T13:38:09.207Z"
   },
   {
    "duration": 20,
    "start_time": "2025-07-29T13:38:09.226Z"
   },
   {
    "duration": 36,
    "start_time": "2025-07-29T13:38:09.248Z"
   },
   {
    "duration": 20,
    "start_time": "2025-07-29T13:38:09.286Z"
   },
   {
    "duration": 3,
    "start_time": "2025-07-29T13:38:09.308Z"
   },
   {
    "duration": 8,
    "start_time": "2025-07-29T13:38:09.312Z"
   },
   {
    "duration": 28,
    "start_time": "2025-07-29T13:38:09.322Z"
   },
   {
    "duration": 45,
    "start_time": "2025-07-29T13:38:09.352Z"
   },
   {
    "duration": 50,
    "start_time": "2025-07-29T13:40:06.703Z"
   },
   {
    "duration": 10762,
    "start_time": "2025-07-29T13:40:14.344Z"
   },
   {
    "duration": 161,
    "start_time": "2025-07-29T13:40:25.108Z"
   },
   {
    "duration": 146,
    "start_time": "2025-07-29T13:40:25.271Z"
   },
   {
    "duration": 148,
    "start_time": "2025-07-29T13:40:25.420Z"
   },
   {
    "duration": 49,
    "start_time": "2025-07-29T13:40:25.570Z"
   },
   {
    "duration": 60,
    "start_time": "2025-07-29T13:40:25.621Z"
   },
   {
    "duration": 141,
    "start_time": "2025-07-29T13:40:25.683Z"
   },
   {
    "duration": 164,
    "start_time": "2025-07-29T13:40:25.826Z"
   },
   {
    "duration": 124,
    "start_time": "2025-07-29T13:40:25.992Z"
   },
   {
    "duration": 5,
    "start_time": "2025-07-29T13:40:26.119Z"
   },
   {
    "duration": 92,
    "start_time": "2025-07-29T13:40:26.125Z"
   },
   {
    "duration": 56,
    "start_time": "2025-07-29T13:40:26.219Z"
   },
   {
    "duration": 43,
    "start_time": "2025-07-29T13:40:26.277Z"
   },
   {
    "duration": 50,
    "start_time": "2025-07-29T13:40:26.321Z"
   },
   {
    "duration": 124,
    "start_time": "2025-07-29T13:40:26.373Z"
   },
   {
    "duration": 5,
    "start_time": "2025-07-29T13:40:26.499Z"
   },
   {
    "duration": 724,
    "start_time": "2025-07-29T13:40:26.506Z"
   },
   {
    "duration": 844,
    "start_time": "2025-07-29T13:40:27.232Z"
   },
   {
    "duration": 729,
    "start_time": "2025-07-29T13:40:28.078Z"
   },
   {
    "duration": 446,
    "start_time": "2025-07-29T13:40:28.809Z"
   },
   {
    "duration": 363,
    "start_time": "2025-07-29T13:40:29.257Z"
   },
   {
    "duration": 14,
    "start_time": "2025-07-29T13:40:29.621Z"
   },
   {
    "duration": 338,
    "start_time": "2025-07-29T13:40:29.636Z"
   },
   {
    "duration": 331,
    "start_time": "2025-07-29T13:40:29.975Z"
   },
   {
    "duration": 667,
    "start_time": "2025-07-29T13:40:30.307Z"
   },
   {
    "duration": 4,
    "start_time": "2025-07-29T13:40:30.976Z"
   },
   {
    "duration": 120,
    "start_time": "2025-07-29T13:40:30.982Z"
   },
   {
    "duration": 6,
    "start_time": "2025-07-29T13:40:31.106Z"
   },
   {
    "duration": 23,
    "start_time": "2025-07-29T13:40:31.114Z"
   },
   {
    "duration": 76,
    "start_time": "2025-07-29T13:40:31.139Z"
   },
   {
    "duration": 53,
    "start_time": "2025-07-29T13:40:31.217Z"
   },
   {
    "duration": 96,
    "start_time": "2025-07-29T13:40:31.272Z"
   },
   {
    "duration": 38,
    "start_time": "2025-07-29T13:40:31.369Z"
   },
   {
    "duration": 48,
    "start_time": "2025-07-29T13:40:31.408Z"
   },
   {
    "duration": 100,
    "start_time": "2025-07-29T13:40:31.457Z"
   },
   {
    "duration": 71,
    "start_time": "2025-07-29T13:40:31.559Z"
   },
   {
    "duration": 45,
    "start_time": "2025-07-29T13:40:31.631Z"
   },
   {
    "duration": 33296,
    "start_time": "2025-07-29T13:40:31.678Z"
   },
   {
    "duration": 5,
    "start_time": "2025-07-29T14:32:25.535Z"
   },
   {
    "duration": 121,
    "start_time": "2025-07-29T14:33:38.307Z"
   },
   {
    "duration": 18,
    "start_time": "2025-07-29T14:33:43.347Z"
   },
   {
    "duration": 45,
    "start_time": "2025-07-29T14:35:02.346Z"
   },
   {
    "duration": 68,
    "start_time": "2025-07-29T14:35:43.778Z"
   },
   {
    "duration": 76,
    "start_time": "2025-07-29T14:36:19.148Z"
   },
   {
    "duration": 79,
    "start_time": "2025-07-29T14:36:23.049Z"
   },
   {
    "duration": 72,
    "start_time": "2025-07-29T14:40:01.642Z"
   },
   {
    "duration": 16,
    "start_time": "2025-07-29T14:40:05.320Z"
   },
   {
    "duration": 6,
    "start_time": "2025-07-29T15:17:38.519Z"
   },
   {
    "duration": 41,
    "start_time": "2025-07-29T15:17:39.456Z"
   },
   {
    "duration": 71,
    "start_time": "2025-07-29T15:17:40.079Z"
   },
   {
    "duration": 19,
    "start_time": "2025-07-29T15:17:40.940Z"
   },
   {
    "duration": 5,
    "start_time": "2025-07-29T15:18:14.564Z"
   },
   {
    "duration": 41,
    "start_time": "2025-07-29T15:18:15.579Z"
   },
   {
    "duration": 87,
    "start_time": "2025-07-29T15:18:16.142Z"
   },
   {
    "duration": 10428,
    "start_time": "2025-07-29T15:18:31.053Z"
   },
   {
    "duration": 161,
    "start_time": "2025-07-29T15:18:41.483Z"
   },
   {
    "duration": 143,
    "start_time": "2025-07-29T15:18:41.645Z"
   },
   {
    "duration": 146,
    "start_time": "2025-07-29T15:18:41.791Z"
   },
   {
    "duration": 51,
    "start_time": "2025-07-29T15:18:41.939Z"
   },
   {
    "duration": 28,
    "start_time": "2025-07-29T15:18:41.992Z"
   },
   {
    "duration": 165,
    "start_time": "2025-07-29T15:18:42.021Z"
   },
   {
    "duration": 197,
    "start_time": "2025-07-29T15:18:42.188Z"
   },
   {
    "duration": 122,
    "start_time": "2025-07-29T15:18:42.386Z"
   },
   {
    "duration": 3,
    "start_time": "2025-07-29T15:18:42.511Z"
   },
   {
    "duration": 9,
    "start_time": "2025-07-29T15:18:42.515Z"
   },
   {
    "duration": 62,
    "start_time": "2025-07-29T15:18:42.525Z"
   },
   {
    "duration": 43,
    "start_time": "2025-07-29T15:18:42.588Z"
   },
   {
    "duration": 57,
    "start_time": "2025-07-29T15:18:42.633Z"
   },
   {
    "duration": 115,
    "start_time": "2025-07-29T15:18:42.692Z"
   },
   {
    "duration": 5,
    "start_time": "2025-07-29T15:18:42.808Z"
   },
   {
    "duration": 730,
    "start_time": "2025-07-29T15:18:42.815Z"
   },
   {
    "duration": 839,
    "start_time": "2025-07-29T15:18:43.546Z"
   },
   {
    "duration": 743,
    "start_time": "2025-07-29T15:18:44.387Z"
   },
   {
    "duration": 424,
    "start_time": "2025-07-29T15:18:45.131Z"
   },
   {
    "duration": 348,
    "start_time": "2025-07-29T15:18:45.557Z"
   },
   {
    "duration": 13,
    "start_time": "2025-07-29T15:18:45.907Z"
   },
   {
    "duration": 360,
    "start_time": "2025-07-29T15:18:45.922Z"
   },
   {
    "duration": 330,
    "start_time": "2025-07-29T15:18:46.284Z"
   },
   {
    "duration": 565,
    "start_time": "2025-07-29T15:18:46.615Z"
   },
   {
    "duration": 4,
    "start_time": "2025-07-29T15:18:47.272Z"
   },
   {
    "duration": 132,
    "start_time": "2025-07-29T15:18:47.278Z"
   },
   {
    "duration": 20,
    "start_time": "2025-07-29T15:18:47.413Z"
   },
   {
    "duration": 63,
    "start_time": "2025-07-29T15:18:47.434Z"
   },
   {
    "duration": 154,
    "start_time": "2025-07-29T15:18:47.499Z"
   },
   {
    "duration": 44,
    "start_time": "2025-07-29T15:18:47.655Z"
   },
   {
    "duration": 28,
    "start_time": "2025-07-29T15:18:47.701Z"
   },
   {
    "duration": 30,
    "start_time": "2025-07-29T15:18:47.731Z"
   },
   {
    "duration": 9,
    "start_time": "2025-07-29T15:18:47.763Z"
   },
   {
    "duration": 5,
    "start_time": "2025-07-29T15:18:47.774Z"
   },
   {
    "duration": 24,
    "start_time": "2025-07-29T15:18:47.780Z"
   },
   {
    "duration": 30,
    "start_time": "2025-07-29T15:18:47.806Z"
   },
   {
    "duration": 5,
    "start_time": "2025-07-29T15:18:47.838Z"
   },
   {
    "duration": 63,
    "start_time": "2025-07-29T15:18:47.844Z"
   },
   {
    "duration": 110,
    "start_time": "2025-07-29T15:18:47.908Z"
   },
   {
    "duration": 50,
    "start_time": "2025-07-29T15:20:11.597Z"
   },
   {
    "duration": 10343,
    "start_time": "2025-07-29T15:20:40.426Z"
   },
   {
    "duration": 177,
    "start_time": "2025-07-29T15:20:50.771Z"
   },
   {
    "duration": 144,
    "start_time": "2025-07-29T15:20:50.950Z"
   },
   {
    "duration": 148,
    "start_time": "2025-07-29T15:20:51.096Z"
   },
   {
    "duration": 55,
    "start_time": "2025-07-29T15:20:51.245Z"
   },
   {
    "duration": 30,
    "start_time": "2025-07-29T15:20:51.302Z"
   },
   {
    "duration": 209,
    "start_time": "2025-07-29T15:20:51.333Z"
   },
   {
    "duration": 170,
    "start_time": "2025-07-29T15:20:51.543Z"
   },
   {
    "duration": 125,
    "start_time": "2025-07-29T15:20:51.714Z"
   },
   {
    "duration": 4,
    "start_time": "2025-07-29T15:20:51.841Z"
   },
   {
    "duration": 26,
    "start_time": "2025-07-29T15:20:51.846Z"
   },
   {
    "duration": 74,
    "start_time": "2025-07-29T15:20:51.874Z"
   },
   {
    "duration": 87,
    "start_time": "2025-07-29T15:20:51.950Z"
   },
   {
    "duration": 43,
    "start_time": "2025-07-29T15:20:52.039Z"
   },
   {
    "duration": 130,
    "start_time": "2025-07-29T15:20:52.083Z"
   },
   {
    "duration": 6,
    "start_time": "2025-07-29T15:20:52.216Z"
   },
   {
    "duration": 741,
    "start_time": "2025-07-29T15:20:52.225Z"
   },
   {
    "duration": 846,
    "start_time": "2025-07-29T15:20:52.972Z"
   },
   {
    "duration": 722,
    "start_time": "2025-07-29T15:20:53.820Z"
   },
   {
    "duration": 423,
    "start_time": "2025-07-29T15:20:54.544Z"
   },
   {
    "duration": 348,
    "start_time": "2025-07-29T15:20:54.969Z"
   },
   {
    "duration": 14,
    "start_time": "2025-07-29T15:20:55.318Z"
   },
   {
    "duration": 427,
    "start_time": "2025-07-29T15:20:55.333Z"
   },
   {
    "duration": 340,
    "start_time": "2025-07-29T15:20:55.762Z"
   },
   {
    "duration": 574,
    "start_time": "2025-07-29T15:20:56.103Z"
   },
   {
    "duration": 93,
    "start_time": "2025-07-29T15:20:56.679Z"
   },
   {
    "duration": 61,
    "start_time": "2025-07-29T15:20:56.774Z"
   },
   {
    "duration": 4,
    "start_time": "2025-07-29T15:20:56.838Z"
   },
   {
    "duration": 17,
    "start_time": "2025-07-29T15:20:56.844Z"
   },
   {
    "duration": 42,
    "start_time": "2025-07-29T15:20:56.863Z"
   },
   {
    "duration": 31,
    "start_time": "2025-07-29T15:20:56.906Z"
   },
   {
    "duration": 24,
    "start_time": "2025-07-29T15:20:56.939Z"
   },
   {
    "duration": 28,
    "start_time": "2025-07-29T15:20:56.965Z"
   },
   {
    "duration": 3,
    "start_time": "2025-07-29T15:20:56.995Z"
   },
   {
    "duration": 8,
    "start_time": "2025-07-29T15:20:57.000Z"
   },
   {
    "duration": 30,
    "start_time": "2025-07-29T15:20:57.009Z"
   },
   {
    "duration": 48,
    "start_time": "2025-07-29T15:20:57.040Z"
   },
   {
    "duration": 3,
    "start_time": "2025-07-29T15:20:57.089Z"
   },
   {
    "duration": 2841,
    "start_time": "2025-07-29T15:20:57.093Z"
   },
   {
    "duration": 0,
    "start_time": "2025-07-29T15:20:59.936Z"
   },
   {
    "duration": 0,
    "start_time": "2025-07-29T15:20:59.937Z"
   },
   {
    "duration": 0,
    "start_time": "2025-07-29T15:20:59.938Z"
   },
   {
    "duration": 2705,
    "start_time": "2025-07-29T15:23:55.148Z"
   },
   {
    "duration": 2650,
    "start_time": "2025-07-29T15:24:36.299Z"
   },
   {
    "duration": 2623,
    "start_time": "2025-07-29T15:24:47.597Z"
   },
   {
    "duration": 8052,
    "start_time": "2025-07-29T15:26:43.979Z"
   },
   {
    "duration": 8489,
    "start_time": "2025-07-29T15:27:14.562Z"
   },
   {
    "duration": 4,
    "start_time": "2025-07-29T15:43:04.428Z"
   },
   {
    "duration": 27,
    "start_time": "2025-07-29T15:46:27.961Z"
   },
   {
    "duration": 8877,
    "start_time": "2025-07-29T15:47:08.384Z"
   },
   {
    "duration": 5870,
    "start_time": "2025-07-29T15:49:19.387Z"
   },
   {
    "duration": 12677,
    "start_time": "2025-07-30T08:59:32.013Z"
   },
   {
    "duration": 166,
    "start_time": "2025-07-30T08:59:44.693Z"
   },
   {
    "duration": 151,
    "start_time": "2025-07-30T08:59:44.860Z"
   },
   {
    "duration": 174,
    "start_time": "2025-07-30T08:59:45.013Z"
   },
   {
    "duration": 78,
    "start_time": "2025-07-30T08:59:45.189Z"
   },
   {
    "duration": 56,
    "start_time": "2025-07-30T08:59:45.269Z"
   },
   {
    "duration": 177,
    "start_time": "2025-07-30T08:59:45.327Z"
   },
   {
    "duration": 185,
    "start_time": "2025-07-30T08:59:45.506Z"
   },
   {
    "duration": 129,
    "start_time": "2025-07-30T08:59:45.693Z"
   },
   {
    "duration": 4,
    "start_time": "2025-07-30T08:59:45.824Z"
   },
   {
    "duration": 148,
    "start_time": "2025-07-30T08:59:45.830Z"
   },
   {
    "duration": 44,
    "start_time": "2025-07-30T08:59:45.980Z"
   },
   {
    "duration": 58,
    "start_time": "2025-07-30T08:59:46.026Z"
   },
   {
    "duration": 170,
    "start_time": "2025-07-30T08:59:46.086Z"
   },
   {
    "duration": 6,
    "start_time": "2025-07-30T08:59:46.258Z"
   },
   {
    "duration": 827,
    "start_time": "2025-07-30T08:59:46.265Z"
   },
   {
    "duration": 907,
    "start_time": "2025-07-30T08:59:47.094Z"
   },
   {
    "duration": 778,
    "start_time": "2025-07-30T08:59:48.003Z"
   },
   {
    "duration": 461,
    "start_time": "2025-07-30T08:59:48.782Z"
   },
   {
    "duration": 370,
    "start_time": "2025-07-30T08:59:49.245Z"
   },
   {
    "duration": 14,
    "start_time": "2025-07-30T08:59:49.617Z"
   },
   {
    "duration": 400,
    "start_time": "2025-07-30T08:59:49.633Z"
   },
   {
    "duration": 357,
    "start_time": "2025-07-30T08:59:50.034Z"
   },
   {
    "duration": 656,
    "start_time": "2025-07-30T08:59:50.392Z"
   },
   {
    "duration": 3,
    "start_time": "2025-07-30T08:59:51.051Z"
   },
   {
    "duration": 7,
    "start_time": "2025-07-30T08:59:51.055Z"
   },
   {
    "duration": 10,
    "start_time": "2025-07-30T08:59:51.064Z"
   },
   {
    "duration": 17,
    "start_time": "2025-07-30T08:59:51.077Z"
   },
   {
    "duration": 21,
    "start_time": "2025-07-30T08:59:51.096Z"
   },
   {
    "duration": 35,
    "start_time": "2025-07-30T08:59:51.119Z"
   },
   {
    "duration": 18,
    "start_time": "2025-07-30T08:59:51.156Z"
   },
   {
    "duration": 86,
    "start_time": "2025-07-30T08:59:51.176Z"
   },
   {
    "duration": 3,
    "start_time": "2025-07-30T08:59:51.264Z"
   },
   {
    "duration": 10,
    "start_time": "2025-07-30T08:59:51.268Z"
   },
   {
    "duration": 31,
    "start_time": "2025-07-30T08:59:51.279Z"
   },
   {
    "duration": 41,
    "start_time": "2025-07-30T08:59:51.312Z"
   },
   {
    "duration": 8910,
    "start_time": "2025-07-30T08:59:51.354Z"
   },
   {
    "duration": 3,
    "start_time": "2025-07-30T09:16:01.884Z"
   },
   {
    "duration": 3,
    "start_time": "2025-07-30T09:16:14.254Z"
   },
   {
    "duration": 3,
    "start_time": "2025-07-30T09:16:27.194Z"
   },
   {
    "duration": 122,
    "start_time": "2025-07-30T09:16:28.821Z"
   },
   {
    "duration": 2,
    "start_time": "2025-07-30T09:17:00.302Z"
   },
   {
    "duration": 2,
    "start_time": "2025-07-30T09:33:18.775Z"
   },
   {
    "duration": 4,
    "start_time": "2025-07-30T09:38:50.698Z"
   },
   {
    "duration": 3,
    "start_time": "2025-07-30T11:56:14.232Z"
   },
   {
    "duration": 5,
    "start_time": "2025-07-30T11:56:16.190Z"
   },
   {
    "duration": 1419,
    "start_time": "2025-07-30T11:56:17.616Z"
   },
   {
    "duration": 12,
    "start_time": "2025-07-30T11:58:41.589Z"
   },
   {
    "duration": 5,
    "start_time": "2025-07-30T12:02:57.319Z"
   },
   {
    "duration": 11,
    "start_time": "2025-07-30T12:02:57.760Z"
   },
   {
    "duration": 6,
    "start_time": "2025-07-30T12:04:00.533Z"
   },
   {
    "duration": 33,
    "start_time": "2025-07-30T12:04:01.053Z"
   },
   {
    "duration": 3,
    "start_time": "2025-07-30T12:04:48.013Z"
   },
   {
    "duration": 5,
    "start_time": "2025-07-30T12:04:49.885Z"
   },
   {
    "duration": 548,
    "start_time": "2025-07-30T12:04:50.538Z"
   },
   {
    "duration": 5,
    "start_time": "2025-07-30T12:07:07.966Z"
   },
   {
    "duration": 197,
    "start_time": "2025-07-30T12:07:08.322Z"
   },
   {
    "duration": 5,
    "start_time": "2025-07-30T12:07:22.163Z"
   },
   {
    "duration": 0,
    "start_time": "2025-07-30T12:14:56.505Z"
   },
   {
    "duration": 0,
    "start_time": "2025-07-30T12:14:56.507Z"
   },
   {
    "duration": 6,
    "start_time": "2025-07-30T12:14:59.206Z"
   },
   {
    "duration": 697,
    "start_time": "2025-07-30T12:15:00.294Z"
   },
   {
    "duration": 7,
    "start_time": "2025-07-30T12:15:15.941Z"
   },
   {
    "duration": 57,
    "start_time": "2025-07-30T12:15:17.856Z"
   },
   {
    "duration": 92,
    "start_time": "2025-07-30T12:15:43.308Z"
   },
   {
    "duration": 5,
    "start_time": "2025-07-30T12:16:03.416Z"
   },
   {
    "duration": 0,
    "start_time": "2025-07-30T12:16:56.772Z"
   },
   {
    "duration": 0,
    "start_time": "2025-07-30T12:16:56.773Z"
   },
   {
    "duration": 5,
    "start_time": "2025-07-30T12:17:39.933Z"
   },
   {
    "duration": 45794,
    "start_time": "2025-07-30T12:17:41.494Z"
   },
   {
    "duration": 3,
    "start_time": "2025-07-30T12:19:43.515Z"
   },
   {
    "duration": 9,
    "start_time": "2025-07-30T12:19:43.678Z"
   },
   {
    "duration": 28,
    "start_time": "2025-07-30T12:19:44.221Z"
   },
   {
    "duration": 4,
    "start_time": "2025-07-30T12:20:29.519Z"
   },
   {
    "duration": 3,
    "start_time": "2025-07-30T12:20:30.074Z"
   },
   {
    "duration": 1448,
    "start_time": "2025-07-30T12:20:30.514Z"
   },
   {
    "duration": 35,
    "start_time": "2025-07-30T12:20:33.434Z"
   },
   {
    "duration": 33,
    "start_time": "2025-07-30T12:20:36.971Z"
   },
   {
    "duration": 7757,
    "start_time": "2025-07-30T12:21:14.094Z"
   },
   {
    "duration": 156,
    "start_time": "2025-07-30T12:21:21.853Z"
   },
   {
    "duration": 142,
    "start_time": "2025-07-30T12:21:22.011Z"
   },
   {
    "duration": 146,
    "start_time": "2025-07-30T12:21:22.155Z"
   },
   {
    "duration": 61,
    "start_time": "2025-07-30T12:21:22.303Z"
   },
   {
    "duration": 31,
    "start_time": "2025-07-30T12:21:22.365Z"
   },
   {
    "duration": 162,
    "start_time": "2025-07-30T12:21:22.398Z"
   },
   {
    "duration": 159,
    "start_time": "2025-07-30T12:21:22.561Z"
   },
   {
    "duration": 113,
    "start_time": "2025-07-30T12:21:22.722Z"
   },
   {
    "duration": 4,
    "start_time": "2025-07-30T12:21:22.849Z"
   },
   {
    "duration": 90,
    "start_time": "2025-07-30T12:21:22.855Z"
   },
   {
    "duration": 41,
    "start_time": "2025-07-30T12:21:22.947Z"
   },
   {
    "duration": 37,
    "start_time": "2025-07-30T12:21:22.990Z"
   },
   {
    "duration": 128,
    "start_time": "2025-07-30T12:21:23.029Z"
   },
   {
    "duration": 5,
    "start_time": "2025-07-30T12:21:23.159Z"
   },
   {
    "duration": 724,
    "start_time": "2025-07-30T12:21:23.166Z"
   },
   {
    "duration": 835,
    "start_time": "2025-07-30T12:21:23.891Z"
   },
   {
    "duration": 736,
    "start_time": "2025-07-30T12:21:24.728Z"
   },
   {
    "duration": 379,
    "start_time": "2025-07-30T12:21:25.466Z"
   },
   {
    "duration": 340,
    "start_time": "2025-07-30T12:21:25.847Z"
   },
   {
    "duration": 13,
    "start_time": "2025-07-30T12:21:26.189Z"
   },
   {
    "duration": 375,
    "start_time": "2025-07-30T12:21:26.204Z"
   },
   {
    "duration": 325,
    "start_time": "2025-07-30T12:21:26.581Z"
   },
   {
    "duration": 549,
    "start_time": "2025-07-30T12:21:26.907Z"
   },
   {
    "duration": 4,
    "start_time": "2025-07-30T12:21:27.548Z"
   },
   {
    "duration": 5,
    "start_time": "2025-07-30T12:21:27.554Z"
   },
   {
    "duration": 4,
    "start_time": "2025-07-30T12:21:27.560Z"
   },
   {
    "duration": 4,
    "start_time": "2025-07-30T12:21:27.568Z"
   },
   {
    "duration": 13,
    "start_time": "2025-07-30T12:21:27.573Z"
   },
   {
    "duration": 2,
    "start_time": "2025-07-30T12:21:27.588Z"
   },
   {
    "duration": 9,
    "start_time": "2025-07-30T12:21:27.592Z"
   },
   {
    "duration": 10,
    "start_time": "2025-07-30T12:21:27.603Z"
   },
   {
    "duration": 7,
    "start_time": "2025-07-30T12:21:27.615Z"
   },
   {
    "duration": 4,
    "start_time": "2025-07-30T12:21:27.650Z"
   },
   {
    "duration": 8,
    "start_time": "2025-07-30T12:21:27.656Z"
   },
   {
    "duration": 1585,
    "start_time": "2025-07-30T12:21:27.666Z"
   },
   {
    "duration": 0,
    "start_time": "2025-07-30T12:21:29.253Z"
   },
   {
    "duration": 0,
    "start_time": "2025-07-30T12:21:29.255Z"
   },
   {
    "duration": 0,
    "start_time": "2025-07-30T12:21:29.257Z"
   },
   {
    "duration": 0,
    "start_time": "2025-07-30T12:21:29.258Z"
   },
   {
    "duration": 11,
    "start_time": "2025-07-30T12:22:14.150Z"
   },
   {
    "duration": 10,
    "start_time": "2025-07-30T12:23:39.152Z"
   },
   {
    "duration": 1500,
    "start_time": "2025-07-30T12:23:47.031Z"
   },
   {
    "duration": 4,
    "start_time": "2025-07-30T12:24:32.064Z"
   },
   {
    "duration": 12,
    "start_time": "2025-07-30T12:24:55.582Z"
   },
   {
    "duration": 4,
    "start_time": "2025-07-30T12:24:59.143Z"
   },
   {
    "duration": 4,
    "start_time": "2025-07-30T12:25:19.183Z"
   },
   {
    "duration": 4,
    "start_time": "2025-07-30T12:25:23.591Z"
   },
   {
    "duration": 15,
    "start_time": "2025-07-30T12:25:41.131Z"
   },
   {
    "duration": 16,
    "start_time": "2025-07-30T12:27:49.397Z"
   },
   {
    "duration": 16,
    "start_time": "2025-07-30T12:27:59.282Z"
   },
   {
    "duration": 4,
    "start_time": "2025-07-30T12:30:36.977Z"
   },
   {
    "duration": 4,
    "start_time": "2025-07-30T12:30:41.743Z"
   },
   {
    "duration": 3,
    "start_time": "2025-07-30T12:30:42.112Z"
   },
   {
    "duration": 16,
    "start_time": "2025-07-30T12:30:43.222Z"
   },
   {
    "duration": 3,
    "start_time": "2025-07-30T12:30:44.094Z"
   },
   {
    "duration": 31,
    "start_time": "2025-07-30T12:30:45.362Z"
   },
   {
    "duration": 30,
    "start_time": "2025-07-30T12:30:46.303Z"
   },
   {
    "duration": 73,
    "start_time": "2025-07-30T12:32:26.146Z"
   },
   {
    "duration": 13,
    "start_time": "2025-07-30T12:32:58.202Z"
   },
   {
    "duration": 10,
    "start_time": "2025-07-30T12:33:24.830Z"
   },
   {
    "duration": 53,
    "start_time": "2025-07-30T12:33:29.844Z"
   },
   {
    "duration": 2593,
    "start_time": "2025-07-30T12:33:50.327Z"
   },
   {
    "duration": 10,
    "start_time": "2025-07-30T12:34:18.989Z"
   },
   {
    "duration": 44,
    "start_time": "2025-07-30T12:34:30.218Z"
   },
   {
    "duration": 18,
    "start_time": "2025-07-30T12:40:35.107Z"
   },
   {
    "duration": 9,
    "start_time": "2025-07-30T13:17:33.931Z"
   },
   {
    "duration": 7429,
    "start_time": "2025-07-30T13:18:09.393Z"
   },
   {
    "duration": 179,
    "start_time": "2025-07-30T13:18:16.824Z"
   },
   {
    "duration": 143,
    "start_time": "2025-07-30T13:18:17.005Z"
   },
   {
    "duration": 144,
    "start_time": "2025-07-30T13:18:17.150Z"
   },
   {
    "duration": 65,
    "start_time": "2025-07-30T13:18:17.296Z"
   },
   {
    "duration": 31,
    "start_time": "2025-07-30T13:18:17.363Z"
   },
   {
    "duration": 162,
    "start_time": "2025-07-30T13:18:17.396Z"
   },
   {
    "duration": 191,
    "start_time": "2025-07-30T13:18:17.560Z"
   },
   {
    "duration": 127,
    "start_time": "2025-07-30T13:18:17.754Z"
   },
   {
    "duration": 4,
    "start_time": "2025-07-30T13:18:17.884Z"
   },
   {
    "duration": 69,
    "start_time": "2025-07-30T13:18:17.890Z"
   },
   {
    "duration": 91,
    "start_time": "2025-07-30T13:18:17.961Z"
   },
   {
    "duration": 42,
    "start_time": "2025-07-30T13:18:18.054Z"
   },
   {
    "duration": 132,
    "start_time": "2025-07-30T13:18:18.098Z"
   },
   {
    "duration": 4,
    "start_time": "2025-07-30T13:18:18.232Z"
   },
   {
    "duration": 725,
    "start_time": "2025-07-30T13:18:18.249Z"
   },
   {
    "duration": 872,
    "start_time": "2025-07-30T13:18:18.975Z"
   },
   {
    "duration": 753,
    "start_time": "2025-07-30T13:18:19.849Z"
   },
   {
    "duration": 439,
    "start_time": "2025-07-30T13:18:20.604Z"
   },
   {
    "duration": 346,
    "start_time": "2025-07-30T13:18:21.049Z"
   },
   {
    "duration": 14,
    "start_time": "2025-07-30T13:18:21.397Z"
   },
   {
    "duration": 347,
    "start_time": "2025-07-30T13:18:21.413Z"
   },
   {
    "duration": 351,
    "start_time": "2025-07-30T13:18:21.762Z"
   },
   {
    "duration": 635,
    "start_time": "2025-07-30T13:18:22.115Z"
   },
   {
    "duration": 3,
    "start_time": "2025-07-30T13:18:22.752Z"
   },
   {
    "duration": 6,
    "start_time": "2025-07-30T13:18:22.757Z"
   },
   {
    "duration": 4,
    "start_time": "2025-07-30T13:18:22.764Z"
   },
   {
    "duration": 4,
    "start_time": "2025-07-30T13:18:22.772Z"
   },
   {
    "duration": 7,
    "start_time": "2025-07-30T13:18:22.777Z"
   },
   {
    "duration": 42,
    "start_time": "2025-07-30T13:18:22.786Z"
   },
   {
    "duration": 15,
    "start_time": "2025-07-30T13:18:22.830Z"
   },
   {
    "duration": 135,
    "start_time": "2025-07-30T13:18:22.846Z"
   },
   {
    "duration": 41,
    "start_time": "2025-07-30T13:18:22.983Z"
   },
   {
    "duration": 30,
    "start_time": "2025-07-30T13:18:23.026Z"
   },
   {
    "duration": 16,
    "start_time": "2025-07-30T13:18:23.058Z"
   },
   {
    "duration": 108,
    "start_time": "2025-07-30T13:18:23.076Z"
   },
   {
    "duration": 46437,
    "start_time": "2025-07-30T13:18:23.186Z"
   },
   {
    "duration": 14,
    "start_time": "2025-07-30T13:24:24.856Z"
   },
   {
    "duration": 105,
    "start_time": "2025-07-30T13:30:53.979Z"
   },
   {
    "duration": 7609,
    "start_time": "2025-07-30T13:33:47.692Z"
   },
   {
    "duration": 180,
    "start_time": "2025-07-30T13:33:55.303Z"
   },
   {
    "duration": 159,
    "start_time": "2025-07-30T13:33:55.485Z"
   },
   {
    "duration": 170,
    "start_time": "2025-07-30T13:33:55.646Z"
   },
   {
    "duration": 73,
    "start_time": "2025-07-30T13:33:55.818Z"
   },
   {
    "duration": 66,
    "start_time": "2025-07-30T13:33:55.893Z"
   },
   {
    "duration": 164,
    "start_time": "2025-07-30T13:33:55.962Z"
   },
   {
    "duration": 195,
    "start_time": "2025-07-30T13:33:56.127Z"
   },
   {
    "duration": 146,
    "start_time": "2025-07-30T13:33:56.324Z"
   },
   {
    "duration": 4,
    "start_time": "2025-07-30T13:33:56.478Z"
   },
   {
    "duration": 120,
    "start_time": "2025-07-30T13:33:56.484Z"
   },
   {
    "duration": 64,
    "start_time": "2025-07-30T13:33:56.606Z"
   },
   {
    "duration": 41,
    "start_time": "2025-07-30T13:33:56.676Z"
   },
   {
    "duration": 124,
    "start_time": "2025-07-30T13:33:56.718Z"
   },
   {
    "duration": 10,
    "start_time": "2025-07-30T13:33:56.844Z"
   },
   {
    "duration": 781,
    "start_time": "2025-07-30T13:33:56.859Z"
   },
   {
    "duration": 925,
    "start_time": "2025-07-30T13:33:57.642Z"
   },
   {
    "duration": 804,
    "start_time": "2025-07-30T13:33:58.575Z"
   },
   {
    "duration": 414,
    "start_time": "2025-07-30T13:33:59.381Z"
   },
   {
    "duration": 387,
    "start_time": "2025-07-30T13:33:59.797Z"
   },
   {
    "duration": 14,
    "start_time": "2025-07-30T13:34:00.185Z"
   },
   {
    "duration": 361,
    "start_time": "2025-07-30T13:34:00.201Z"
   },
   {
    "duration": 351,
    "start_time": "2025-07-30T13:34:00.564Z"
   },
   {
    "duration": 651,
    "start_time": "2025-07-30T13:34:00.916Z"
   },
   {
    "duration": 9,
    "start_time": "2025-07-30T13:34:01.569Z"
   },
   {
    "duration": 128,
    "start_time": "2025-07-30T13:34:01.581Z"
   },
   {
    "duration": 77,
    "start_time": "2025-07-30T13:34:01.711Z"
   },
   {
    "duration": 35,
    "start_time": "2025-07-30T13:34:01.793Z"
   },
   {
    "duration": 41,
    "start_time": "2025-07-30T13:34:01.830Z"
   },
   {
    "duration": 27,
    "start_time": "2025-07-30T13:34:01.873Z"
   },
   {
    "duration": 40,
    "start_time": "2025-07-30T13:34:01.901Z"
   },
   {
    "duration": 85,
    "start_time": "2025-07-30T13:34:01.942Z"
   },
   {
    "duration": 95,
    "start_time": "2025-07-30T13:34:02.029Z"
   },
   {
    "duration": 61,
    "start_time": "2025-07-30T13:34:02.126Z"
   },
   {
    "duration": 16,
    "start_time": "2025-07-30T13:34:02.189Z"
   },
   {
    "duration": 41,
    "start_time": "2025-07-30T13:34:02.207Z"
   },
   {
    "duration": 45615,
    "start_time": "2025-07-30T13:34:02.250Z"
   },
   {
    "duration": 15196,
    "start_time": "2025-07-30T14:13:03.986Z"
   },
   {
    "duration": 333,
    "start_time": "2025-07-30T14:13:19.184Z"
   },
   {
    "duration": 350,
    "start_time": "2025-07-30T14:13:19.519Z"
   },
   {
    "duration": 374,
    "start_time": "2025-07-30T14:13:19.871Z"
   },
   {
    "duration": 45,
    "start_time": "2025-07-30T14:13:20.248Z"
   },
   {
    "duration": 51,
    "start_time": "2025-07-30T14:13:20.294Z"
   },
   {
    "duration": 141,
    "start_time": "2025-07-30T14:13:20.346Z"
   },
   {
    "duration": 174,
    "start_time": "2025-07-30T14:13:20.490Z"
   },
   {
    "duration": 109,
    "start_time": "2025-07-30T14:13:20.666Z"
   },
   {
    "duration": 3,
    "start_time": "2025-07-30T14:13:20.777Z"
   },
   {
    "duration": 94,
    "start_time": "2025-07-30T14:13:20.782Z"
   },
   {
    "duration": 44,
    "start_time": "2025-07-30T14:13:20.877Z"
   },
   {
    "duration": 44,
    "start_time": "2025-07-30T14:13:20.923Z"
   },
   {
    "duration": 122,
    "start_time": "2025-07-30T14:13:20.970Z"
   },
   {
    "duration": 5,
    "start_time": "2025-07-30T14:13:21.094Z"
   },
   {
    "duration": 710,
    "start_time": "2025-07-30T14:13:21.100Z"
   },
   {
    "duration": 870,
    "start_time": "2025-07-30T14:13:21.812Z"
   },
   {
    "duration": 696,
    "start_time": "2025-07-30T14:13:22.683Z"
   },
   {
    "duration": 424,
    "start_time": "2025-07-30T14:13:23.381Z"
   },
   {
    "duration": 342,
    "start_time": "2025-07-30T14:13:23.806Z"
   },
   {
    "duration": 13,
    "start_time": "2025-07-30T14:13:24.149Z"
   },
   {
    "duration": 309,
    "start_time": "2025-07-30T14:13:24.164Z"
   },
   {
    "duration": 320,
    "start_time": "2025-07-30T14:13:24.474Z"
   },
   {
    "duration": 546,
    "start_time": "2025-07-30T14:13:24.795Z"
   },
   {
    "duration": 93,
    "start_time": "2025-07-30T14:13:25.343Z"
   },
   {
    "duration": 14,
    "start_time": "2025-07-30T14:13:25.438Z"
   },
   {
    "duration": 8,
    "start_time": "2025-07-30T14:13:25.454Z"
   },
   {
    "duration": 9,
    "start_time": "2025-07-30T14:13:25.464Z"
   },
   {
    "duration": 9,
    "start_time": "2025-07-30T14:13:25.475Z"
   },
   {
    "duration": 36,
    "start_time": "2025-07-30T14:13:25.486Z"
   },
   {
    "duration": 3,
    "start_time": "2025-07-30T14:13:25.524Z"
   },
   {
    "duration": 18,
    "start_time": "2025-07-30T14:13:25.529Z"
   },
   {
    "duration": 36,
    "start_time": "2025-07-30T14:13:25.549Z"
   },
   {
    "duration": 30,
    "start_time": "2025-07-30T14:13:25.586Z"
   },
   {
    "duration": 17,
    "start_time": "2025-07-30T14:13:25.618Z"
   },
   {
    "duration": 5,
    "start_time": "2025-07-30T14:13:25.637Z"
   },
   {
    "duration": 53227,
    "start_time": "2025-07-30T14:13:25.644Z"
   },
   {
    "duration": 3,
    "start_time": "2025-07-30T14:17:48.874Z"
   },
   {
    "duration": 30,
    "start_time": "2025-07-30T14:17:49.473Z"
   },
   {
    "duration": 28,
    "start_time": "2025-07-30T14:17:49.663Z"
   },
   {
    "duration": 15,
    "start_time": "2025-07-30T14:17:49.815Z"
   },
   {
    "duration": 6,
    "start_time": "2025-07-30T14:17:50.816Z"
   },
   {
    "duration": 41369,
    "start_time": "2025-07-30T14:17:51.581Z"
   },
   {
    "duration": 4,
    "start_time": "2025-07-30T14:19:43.520Z"
   },
   {
    "duration": 12,
    "start_time": "2025-07-30T14:19:43.890Z"
   },
   {
    "duration": 27,
    "start_time": "2025-07-30T14:19:44.065Z"
   },
   {
    "duration": 16,
    "start_time": "2025-07-30T14:19:44.355Z"
   },
   {
    "duration": 6,
    "start_time": "2025-07-30T14:19:45.489Z"
   },
   {
    "duration": 140,
    "start_time": "2025-07-30T14:19:46.327Z"
   },
   {
    "duration": 4,
    "start_time": "2025-07-30T14:19:58.213Z"
   },
   {
    "duration": 12,
    "start_time": "2025-07-30T14:19:58.394Z"
   },
   {
    "duration": 28,
    "start_time": "2025-07-30T14:19:58.550Z"
   },
   {
    "duration": 16,
    "start_time": "2025-07-30T14:19:58.711Z"
   },
   {
    "duration": 5,
    "start_time": "2025-07-30T14:19:59.435Z"
   },
   {
    "duration": 54122,
    "start_time": "2025-07-30T14:20:00.189Z"
   },
   {
    "duration": 3,
    "start_time": "2025-07-30T14:20:54.313Z"
   },
   {
    "duration": 28,
    "start_time": "2025-07-30T14:20:54.317Z"
   },
   {
    "duration": 27,
    "start_time": "2025-07-30T14:20:54.346Z"
   },
   {
    "duration": 15,
    "start_time": "2025-07-30T14:20:54.375Z"
   },
   {
    "duration": 5,
    "start_time": "2025-07-30T14:20:54.392Z"
   },
   {
    "duration": 3,
    "start_time": "2025-07-30T14:23:47.477Z"
   },
   {
    "duration": 11,
    "start_time": "2025-07-30T14:23:47.623Z"
   },
   {
    "duration": 29,
    "start_time": "2025-07-30T14:23:47.777Z"
   },
   {
    "duration": 16,
    "start_time": "2025-07-30T14:23:47.924Z"
   },
   {
    "duration": 6,
    "start_time": "2025-07-30T14:23:48.386Z"
   },
   {
    "duration": 40699,
    "start_time": "2025-07-30T14:23:49.019Z"
   },
   {
    "duration": 84,
    "start_time": "2025-07-30T14:42:56.349Z"
   },
   {
    "duration": 90,
    "start_time": "2025-07-30T14:51:52.694Z"
   },
   {
    "duration": 2,
    "start_time": "2025-07-30T15:15:31.076Z"
   },
   {
    "duration": 7090,
    "start_time": "2025-07-30T15:15:38.415Z"
   },
   {
    "duration": 159,
    "start_time": "2025-07-30T15:15:45.507Z"
   },
   {
    "duration": 147,
    "start_time": "2025-07-30T15:15:45.667Z"
   },
   {
    "duration": 150,
    "start_time": "2025-07-30T15:15:45.816Z"
   },
   {
    "duration": 49,
    "start_time": "2025-07-30T15:15:45.967Z"
   },
   {
    "duration": 89,
    "start_time": "2025-07-30T15:15:46.018Z"
   },
   {
    "duration": 2,
    "start_time": "2025-07-30T15:15:46.109Z"
   },
   {
    "duration": 164,
    "start_time": "2025-07-30T15:15:46.113Z"
   },
   {
    "duration": 129,
    "start_time": "2025-07-30T15:15:46.278Z"
   },
   {
    "duration": 4,
    "start_time": "2025-07-30T15:15:46.409Z"
   },
   {
    "duration": 149,
    "start_time": "2025-07-30T15:15:46.415Z"
   },
   {
    "duration": 44,
    "start_time": "2025-07-30T15:15:46.566Z"
   },
   {
    "duration": 59,
    "start_time": "2025-07-30T15:15:46.612Z"
   },
   {
    "duration": 123,
    "start_time": "2025-07-30T15:15:46.673Z"
   },
   {
    "duration": 4,
    "start_time": "2025-07-30T15:15:46.798Z"
   },
   {
    "duration": 851,
    "start_time": "2025-07-30T15:15:46.804Z"
   },
   {
    "duration": 861,
    "start_time": "2025-07-30T15:15:47.657Z"
   },
   {
    "duration": 734,
    "start_time": "2025-07-30T15:15:48.520Z"
   },
   {
    "duration": 386,
    "start_time": "2025-07-30T15:15:49.256Z"
   },
   {
    "duration": 359,
    "start_time": "2025-07-30T15:15:49.644Z"
   },
   {
    "duration": 13,
    "start_time": "2025-07-30T15:15:50.005Z"
   },
   {
    "duration": 346,
    "start_time": "2025-07-30T15:15:50.020Z"
   },
   {
    "duration": 321,
    "start_time": "2025-07-30T15:15:50.368Z"
   },
   {
    "duration": 657,
    "start_time": "2025-07-30T15:15:50.692Z"
   },
   {
    "duration": 4,
    "start_time": "2025-07-30T15:15:51.351Z"
   },
   {
    "duration": 5,
    "start_time": "2025-07-30T15:15:51.356Z"
   },
   {
    "duration": 16,
    "start_time": "2025-07-30T15:15:51.362Z"
   },
   {
    "duration": 4,
    "start_time": "2025-07-30T15:15:51.381Z"
   },
   {
    "duration": 8,
    "start_time": "2025-07-30T15:15:51.386Z"
   },
   {
    "duration": 19,
    "start_time": "2025-07-30T15:15:51.395Z"
   },
   {
    "duration": 5,
    "start_time": "2025-07-30T15:15:51.415Z"
   },
   {
    "duration": 28,
    "start_time": "2025-07-30T15:15:51.422Z"
   },
   {
    "duration": 222,
    "start_time": "2025-07-30T15:15:51.451Z"
   },
   {
    "duration": 45,
    "start_time": "2025-07-30T15:15:51.675Z"
   },
   {
    "duration": 47,
    "start_time": "2025-07-30T15:15:51.723Z"
   },
   {
    "duration": 56,
    "start_time": "2025-07-30T15:15:51.772Z"
   },
   {
    "duration": 47161,
    "start_time": "2025-07-30T15:15:51.830Z"
   },
   {
    "duration": 5,
    "start_time": "2025-07-30T15:17:52.007Z"
   },
   {
    "duration": 933,
    "start_time": "2025-07-30T15:17:53.286Z"
   },
   {
    "duration": 658,
    "start_time": "2025-07-30T15:18:14.779Z"
   },
   {
    "duration": 860,
    "start_time": "2025-07-30T15:18:15.904Z"
   },
   {
    "duration": 680,
    "start_time": "2025-07-30T15:18:37.484Z"
   },
   {
    "duration": 3,
    "start_time": "2025-07-30T15:24:07.431Z"
   },
   {
    "duration": 6,
    "start_time": "2025-07-30T15:48:41.971Z"
   },
   {
    "duration": 8,
    "start_time": "2025-07-30T15:53:08.765Z"
   },
   {
    "duration": 139,
    "start_time": "2025-07-30T15:53:28.062Z"
   },
   {
    "duration": 6,
    "start_time": "2025-07-30T15:56:28.406Z"
   },
   {
    "duration": 28,
    "start_time": "2025-07-30T15:56:31.943Z"
   },
   {
    "duration": 5,
    "start_time": "2025-07-30T15:56:50.926Z"
   },
   {
    "duration": 34,
    "start_time": "2025-07-30T15:56:54.453Z"
   },
   {
    "duration": 22,
    "start_time": "2025-07-30T16:01:04.201Z"
   },
   {
    "duration": 6,
    "start_time": "2025-07-30T16:01:09.092Z"
   },
   {
    "duration": 6228,
    "start_time": "2025-07-30T16:01:11.870Z"
   },
   {
    "duration": 7318,
    "start_time": "2025-07-30T16:01:34.916Z"
   },
   {
    "duration": 180,
    "start_time": "2025-07-30T16:01:42.236Z"
   },
   {
    "duration": 153,
    "start_time": "2025-07-30T16:01:42.418Z"
   },
   {
    "duration": 150,
    "start_time": "2025-07-30T16:01:42.573Z"
   },
   {
    "duration": 66,
    "start_time": "2025-07-30T16:01:42.725Z"
   },
   {
    "duration": 30,
    "start_time": "2025-07-30T16:01:42.792Z"
   },
   {
    "duration": 3,
    "start_time": "2025-07-30T16:01:42.824Z"
   },
   {
    "duration": 164,
    "start_time": "2025-07-30T16:01:42.849Z"
   },
   {
    "duration": 118,
    "start_time": "2025-07-30T16:01:43.015Z"
   },
   {
    "duration": 12,
    "start_time": "2025-07-30T16:01:43.152Z"
   },
   {
    "duration": 3,
    "start_time": "2025-07-30T16:01:43.166Z"
   },
   {
    "duration": 3,
    "start_time": "2025-07-30T16:01:43.171Z"
   },
   {
    "duration": 4,
    "start_time": "2025-07-30T16:01:43.175Z"
   },
   {
    "duration": 4,
    "start_time": "2025-07-30T16:01:43.180Z"
   },
   {
    "duration": 6,
    "start_time": "2025-07-30T16:01:43.186Z"
   },
   {
    "duration": 841,
    "start_time": "2025-07-30T16:01:43.193Z"
   },
   {
    "duration": 988,
    "start_time": "2025-07-30T16:01:44.036Z"
   },
   {
    "duration": 903,
    "start_time": "2025-07-30T16:01:45.026Z"
   },
   {
    "duration": 494,
    "start_time": "2025-07-30T16:01:45.931Z"
   },
   {
    "duration": 379,
    "start_time": "2025-07-30T16:01:46.427Z"
   },
   {
    "duration": 2,
    "start_time": "2025-07-30T16:01:46.808Z"
   },
   {
    "duration": 389,
    "start_time": "2025-07-30T16:01:46.812Z"
   },
   {
    "duration": 387,
    "start_time": "2025-07-30T16:01:47.203Z"
   },
   {
    "duration": 557,
    "start_time": "2025-07-30T16:01:47.592Z"
   },
   {
    "duration": 4,
    "start_time": "2025-07-30T16:01:48.151Z"
   },
   {
    "duration": 95,
    "start_time": "2025-07-30T16:01:48.157Z"
   },
   {
    "duration": 9,
    "start_time": "2025-07-30T16:01:48.254Z"
   },
   {
    "duration": 5,
    "start_time": "2025-07-30T16:01:48.269Z"
   },
   {
    "duration": 6,
    "start_time": "2025-07-30T16:01:48.276Z"
   },
   {
    "duration": 13,
    "start_time": "2025-07-30T16:01:48.284Z"
   },
   {
    "duration": 37,
    "start_time": "2025-07-30T16:01:48.299Z"
   },
   {
    "duration": 15,
    "start_time": "2025-07-30T16:01:48.338Z"
   },
   {
    "duration": 47,
    "start_time": "2025-07-30T16:01:48.355Z"
   },
   {
    "duration": 51,
    "start_time": "2025-07-30T16:01:48.404Z"
   },
   {
    "duration": 17,
    "start_time": "2025-07-30T16:01:48.458Z"
   },
   {
    "duration": 6,
    "start_time": "2025-07-30T16:01:48.477Z"
   },
   {
    "duration": 6978,
    "start_time": "2025-07-30T16:01:48.485Z"
   },
   {
    "duration": 50,
    "start_time": "2025-07-31T15:34:38.817Z"
   },
   {
    "duration": 12926,
    "start_time": "2025-07-31T15:35:57.256Z"
   },
   {
    "duration": 173,
    "start_time": "2025-07-31T15:36:10.185Z"
   },
   {
    "duration": 157,
    "start_time": "2025-07-31T15:36:10.359Z"
   },
   {
    "duration": 214,
    "start_time": "2025-07-31T15:36:10.519Z"
   },
   {
    "duration": 60,
    "start_time": "2025-07-31T15:36:10.735Z"
   },
   {
    "duration": 35,
    "start_time": "2025-07-31T15:36:10.797Z"
   },
   {
    "duration": 76,
    "start_time": "2025-07-31T15:36:10.834Z"
   },
   {
    "duration": 166,
    "start_time": "2025-07-31T15:36:10.911Z"
   },
   {
    "duration": 123,
    "start_time": "2025-07-31T15:36:11.079Z"
   },
   {
    "duration": 2,
    "start_time": "2025-07-31T15:36:11.205Z"
   },
   {
    "duration": 5,
    "start_time": "2025-07-31T15:36:11.208Z"
   },
   {
    "duration": 2,
    "start_time": "2025-07-31T15:36:11.214Z"
   },
   {
    "duration": 3,
    "start_time": "2025-07-31T15:36:11.218Z"
   },
   {
    "duration": 5,
    "start_time": "2025-07-31T15:36:11.222Z"
   },
   {
    "duration": 5,
    "start_time": "2025-07-31T15:36:11.228Z"
   },
   {
    "duration": 850,
    "start_time": "2025-07-31T15:36:11.235Z"
   },
   {
    "duration": 960,
    "start_time": "2025-07-31T15:36:12.087Z"
   },
   {
    "duration": 858,
    "start_time": "2025-07-31T15:36:13.049Z"
   },
   {
    "duration": 440,
    "start_time": "2025-07-31T15:36:13.909Z"
   },
   {
    "duration": 350,
    "start_time": "2025-07-31T15:36:14.351Z"
   },
   {
    "duration": 2,
    "start_time": "2025-07-31T15:36:14.703Z"
   },
   {
    "duration": 411,
    "start_time": "2025-07-31T15:36:14.707Z"
   },
   {
    "duration": 392,
    "start_time": "2025-07-31T15:36:15.120Z"
   },
   {
    "duration": 567,
    "start_time": "2025-07-31T15:36:15.514Z"
   },
   {
    "duration": 3,
    "start_time": "2025-07-31T15:36:16.162Z"
   },
   {
    "duration": 5,
    "start_time": "2025-07-31T15:36:16.172Z"
   },
   {
    "duration": 7,
    "start_time": "2025-07-31T15:36:16.179Z"
   },
   {
    "duration": 3,
    "start_time": "2025-07-31T15:36:16.190Z"
   },
   {
    "duration": 6,
    "start_time": "2025-07-31T15:36:16.195Z"
   },
   {
    "duration": 19,
    "start_time": "2025-07-31T15:36:16.203Z"
   },
   {
    "duration": 26,
    "start_time": "2025-07-31T15:36:16.224Z"
   },
   {
    "duration": 10,
    "start_time": "2025-07-31T15:36:16.252Z"
   },
   {
    "duration": 52,
    "start_time": "2025-07-31T15:36:16.264Z"
   },
   {
    "duration": 62,
    "start_time": "2025-07-31T15:36:16.318Z"
   },
   {
    "duration": 16,
    "start_time": "2025-07-31T15:36:16.382Z"
   },
   {
    "duration": 11,
    "start_time": "2025-07-31T15:36:16.400Z"
   },
   {
    "duration": 38,
    "start_time": "2025-07-31T15:36:16.413Z"
   },
   {
    "duration": 6099,
    "start_time": "2025-07-31T15:36:16.453Z"
   },
   {
    "duration": 6,
    "start_time": "2025-07-31T15:38:10.223Z"
   },
   {
    "duration": 6,
    "start_time": "2025-07-31T15:38:49.888Z"
   },
   {
    "duration": 11,
    "start_time": "2025-07-31T15:39:18.966Z"
   },
   {
    "duration": 8,
    "start_time": "2025-07-31T15:39:20.477Z"
   },
   {
    "duration": 150,
    "start_time": "2025-07-31T15:39:22.154Z"
   },
   {
    "duration": 5,
    "start_time": "2025-07-31T15:39:29.850Z"
   },
   {
    "duration": 8591,
    "start_time": "2025-07-31T15:39:32.573Z"
   },
   {
    "duration": 9,
    "start_time": "2025-07-31T15:41:28.155Z"
   },
   {
    "duration": 6072,
    "start_time": "2025-07-31T15:41:31.208Z"
   },
   {
    "duration": 12842,
    "start_time": "2025-08-01T07:54:04.377Z"
   },
   {
    "duration": 174,
    "start_time": "2025-08-01T07:54:17.221Z"
   },
   {
    "duration": 156,
    "start_time": "2025-08-01T07:54:17.397Z"
   },
   {
    "duration": 158,
    "start_time": "2025-08-01T07:54:17.559Z"
   },
   {
    "duration": 54,
    "start_time": "2025-08-01T07:54:17.719Z"
   },
   {
    "duration": 31,
    "start_time": "2025-08-01T07:54:17.775Z"
   },
   {
    "duration": 3,
    "start_time": "2025-08-01T07:54:17.840Z"
   },
   {
    "duration": 163,
    "start_time": "2025-08-01T07:54:17.844Z"
   },
   {
    "duration": 133,
    "start_time": "2025-08-01T07:54:18.009Z"
   },
   {
    "duration": 3,
    "start_time": "2025-08-01T07:54:18.145Z"
   },
   {
    "duration": 5,
    "start_time": "2025-08-01T07:54:18.149Z"
   },
   {
    "duration": 6,
    "start_time": "2025-08-01T07:54:18.156Z"
   },
   {
    "duration": 5,
    "start_time": "2025-08-01T07:54:18.164Z"
   },
   {
    "duration": 40,
    "start_time": "2025-08-01T07:54:18.171Z"
   },
   {
    "duration": 26,
    "start_time": "2025-08-01T07:54:18.212Z"
   },
   {
    "duration": 782,
    "start_time": "2025-08-01T07:54:18.240Z"
   },
   {
    "duration": 887,
    "start_time": "2025-08-01T07:54:19.024Z"
   },
   {
    "duration": 770,
    "start_time": "2025-08-01T07:54:19.913Z"
   },
   {
    "duration": 464,
    "start_time": "2025-08-01T07:54:20.685Z"
   },
   {
    "duration": 328,
    "start_time": "2025-08-01T07:54:21.151Z"
   },
   {
    "duration": 2,
    "start_time": "2025-08-01T07:54:21.481Z"
   },
   {
    "duration": 379,
    "start_time": "2025-08-01T07:54:21.485Z"
   },
   {
    "duration": 324,
    "start_time": "2025-08-01T07:54:21.866Z"
   },
   {
    "duration": 650,
    "start_time": "2025-08-01T07:54:22.191Z"
   },
   {
    "duration": 3,
    "start_time": "2025-08-01T07:54:22.842Z"
   },
   {
    "duration": 17,
    "start_time": "2025-08-01T07:54:22.846Z"
   },
   {
    "duration": 6,
    "start_time": "2025-08-01T07:54:22.865Z"
   },
   {
    "duration": 6,
    "start_time": "2025-08-01T07:54:22.874Z"
   },
   {
    "duration": 43,
    "start_time": "2025-08-01T07:54:22.881Z"
   },
   {
    "duration": 13,
    "start_time": "2025-08-01T07:54:22.925Z"
   },
   {
    "duration": 4,
    "start_time": "2025-08-01T07:54:22.940Z"
   },
   {
    "duration": 53,
    "start_time": "2025-08-01T07:54:22.945Z"
   },
   {
    "duration": 146,
    "start_time": "2025-08-01T07:54:23.000Z"
   },
   {
    "duration": 29,
    "start_time": "2025-08-01T07:54:23.148Z"
   },
   {
    "duration": 15,
    "start_time": "2025-08-01T07:54:23.179Z"
   },
   {
    "duration": 6,
    "start_time": "2025-08-01T07:54:23.196Z"
   },
   {
    "duration": 39,
    "start_time": "2025-08-01T07:54:23.203Z"
   },
   {
    "duration": 6013,
    "start_time": "2025-08-01T07:54:23.244Z"
   },
   {
    "duration": 7030,
    "start_time": "2025-08-01T08:24:09.829Z"
   },
   {
    "duration": 173,
    "start_time": "2025-08-01T08:24:16.861Z"
   },
   {
    "duration": 144,
    "start_time": "2025-08-01T08:24:17.036Z"
   },
   {
    "duration": 144,
    "start_time": "2025-08-01T08:24:17.182Z"
   },
   {
    "duration": 50,
    "start_time": "2025-08-01T08:24:17.327Z"
   },
   {
    "duration": 28,
    "start_time": "2025-08-01T08:24:17.379Z"
   },
   {
    "duration": 31,
    "start_time": "2025-08-01T08:24:17.409Z"
   },
   {
    "duration": 197,
    "start_time": "2025-08-01T08:24:17.442Z"
   },
   {
    "duration": 130,
    "start_time": "2025-08-01T08:24:17.640Z"
   },
   {
    "duration": 2,
    "start_time": "2025-08-01T08:24:17.773Z"
   },
   {
    "duration": 9,
    "start_time": "2025-08-01T08:24:17.777Z"
   },
   {
    "duration": 12,
    "start_time": "2025-08-01T08:24:17.787Z"
   },
   {
    "duration": 19,
    "start_time": "2025-08-01T08:24:17.800Z"
   },
   {
    "duration": 14,
    "start_time": "2025-08-01T08:24:17.821Z"
   },
   {
    "duration": 6,
    "start_time": "2025-08-01T08:24:17.837Z"
   },
   {
    "duration": 784,
    "start_time": "2025-08-01T08:24:17.844Z"
   },
   {
    "duration": 909,
    "start_time": "2025-08-01T08:24:18.630Z"
   },
   {
    "duration": 771,
    "start_time": "2025-08-01T08:24:19.540Z"
   },
   {
    "duration": 511,
    "start_time": "2025-08-01T08:24:20.313Z"
   },
   {
    "duration": 354,
    "start_time": "2025-08-01T08:24:20.826Z"
   },
   {
    "duration": 3,
    "start_time": "2025-08-01T08:24:21.181Z"
   },
   {
    "duration": 369,
    "start_time": "2025-08-01T08:24:21.185Z"
   },
   {
    "duration": 323,
    "start_time": "2025-08-01T08:24:21.556Z"
   },
   {
    "duration": 560,
    "start_time": "2025-08-01T08:24:21.880Z"
   },
   {
    "duration": 7,
    "start_time": "2025-08-01T08:24:22.442Z"
   },
   {
    "duration": 16,
    "start_time": "2025-08-01T08:24:22.540Z"
   },
   {
    "duration": 14,
    "start_time": "2025-08-01T08:24:22.558Z"
   },
   {
    "duration": 4,
    "start_time": "2025-08-01T08:24:22.576Z"
   },
   {
    "duration": 4,
    "start_time": "2025-08-01T08:24:22.582Z"
   },
   {
    "duration": 18,
    "start_time": "2025-08-01T08:24:22.588Z"
   },
   {
    "duration": 19,
    "start_time": "2025-08-01T08:24:22.608Z"
   },
   {
    "duration": 10,
    "start_time": "2025-08-01T08:24:22.629Z"
   },
   {
    "duration": 53,
    "start_time": "2025-08-01T08:24:22.641Z"
   },
   {
    "duration": 51,
    "start_time": "2025-08-01T08:24:22.695Z"
   },
   {
    "duration": 15,
    "start_time": "2025-08-01T08:24:22.747Z"
   },
   {
    "duration": 12,
    "start_time": "2025-08-01T08:24:22.764Z"
   },
   {
    "duration": 15,
    "start_time": "2025-08-01T08:24:22.778Z"
   },
   {
    "duration": 6062,
    "start_time": "2025-08-01T08:24:22.795Z"
   },
   {
    "duration": 115,
    "start_time": "2025-08-01T08:46:21.564Z"
   },
   {
    "duration": 11,
    "start_time": "2025-08-01T08:46:47.792Z"
   },
   {
    "duration": 12,
    "start_time": "2025-08-01T08:47:25.116Z"
   },
   {
    "duration": 7835,
    "start_time": "2025-08-01T08:47:31.417Z"
   },
   {
    "duration": 173,
    "start_time": "2025-08-01T08:47:39.254Z"
   },
   {
    "duration": 143,
    "start_time": "2025-08-01T08:47:39.429Z"
   },
   {
    "duration": 153,
    "start_time": "2025-08-01T08:47:39.574Z"
   },
   {
    "duration": 54,
    "start_time": "2025-08-01T08:47:39.729Z"
   },
   {
    "duration": 55,
    "start_time": "2025-08-01T08:47:39.785Z"
   },
   {
    "duration": 2,
    "start_time": "2025-08-01T08:47:39.842Z"
   },
   {
    "duration": 165,
    "start_time": "2025-08-01T08:47:39.846Z"
   },
   {
    "duration": 144,
    "start_time": "2025-08-01T08:47:40.012Z"
   },
   {
    "duration": 3,
    "start_time": "2025-08-01T08:47:40.160Z"
   },
   {
    "duration": 7,
    "start_time": "2025-08-01T08:47:40.164Z"
   },
   {
    "duration": 15,
    "start_time": "2025-08-01T08:47:40.172Z"
   },
   {
    "duration": 15,
    "start_time": "2025-08-01T08:47:40.189Z"
   },
   {
    "duration": 4,
    "start_time": "2025-08-01T08:47:40.206Z"
   },
   {
    "duration": 14,
    "start_time": "2025-08-01T08:47:40.212Z"
   },
   {
    "duration": 806,
    "start_time": "2025-08-01T08:47:40.228Z"
   },
   {
    "duration": 895,
    "start_time": "2025-08-01T08:47:41.038Z"
   },
   {
    "duration": 787,
    "start_time": "2025-08-01T08:47:41.935Z"
   },
   {
    "duration": 500,
    "start_time": "2025-08-01T08:47:42.724Z"
   },
   {
    "duration": 355,
    "start_time": "2025-08-01T08:47:43.226Z"
   },
   {
    "duration": 3,
    "start_time": "2025-08-01T08:47:43.583Z"
   },
   {
    "duration": 385,
    "start_time": "2025-08-01T08:47:43.588Z"
   },
   {
    "duration": 354,
    "start_time": "2025-08-01T08:47:43.974Z"
   },
   {
    "duration": 615,
    "start_time": "2025-08-01T08:47:44.330Z"
   },
   {
    "duration": 92,
    "start_time": "2025-08-01T08:47:44.947Z"
   },
   {
    "duration": 109,
    "start_time": "2025-08-01T08:47:45.041Z"
   },
   {
    "duration": 61,
    "start_time": "2025-08-01T08:47:45.152Z"
   },
   {
    "duration": 103,
    "start_time": "2025-08-01T08:47:45.216Z"
   },
   {
    "duration": 92,
    "start_time": "2025-08-01T08:47:45.321Z"
   },
   {
    "duration": 44,
    "start_time": "2025-08-01T08:47:45.415Z"
   },
   {
    "duration": 32,
    "start_time": "2025-08-01T08:47:45.461Z"
   },
   {
    "duration": 111,
    "start_time": "2025-08-01T08:47:45.495Z"
   },
   {
    "duration": 85,
    "start_time": "2025-08-01T08:47:45.608Z"
   },
   {
    "duration": 111,
    "start_time": "2025-08-01T08:47:45.694Z"
   },
   {
    "duration": 49,
    "start_time": "2025-08-01T08:47:45.807Z"
   },
   {
    "duration": 201,
    "start_time": "2025-08-01T08:47:45.858Z"
   },
   {
    "duration": 0,
    "start_time": "2025-08-01T08:47:46.061Z"
   },
   {
    "duration": 0,
    "start_time": "2025-08-01T08:47:46.062Z"
   },
   {
    "duration": 0,
    "start_time": "2025-08-01T08:47:46.064Z"
   },
   {
    "duration": 11,
    "start_time": "2025-08-01T08:49:57.127Z"
   },
   {
    "duration": 6,
    "start_time": "2025-08-01T08:50:00.238Z"
   },
   {
    "duration": 4,
    "start_time": "2025-08-01T09:00:46.080Z"
   },
   {
    "duration": 11,
    "start_time": "2025-08-01T09:00:52.010Z"
   },
   {
    "duration": 7738,
    "start_time": "2025-08-01T09:01:13.552Z"
   },
   {
    "duration": 162,
    "start_time": "2025-08-01T09:01:21.292Z"
   },
   {
    "duration": 148,
    "start_time": "2025-08-01T09:01:21.456Z"
   },
   {
    "duration": 152,
    "start_time": "2025-08-01T09:01:21.606Z"
   },
   {
    "duration": 50,
    "start_time": "2025-08-01T09:01:21.760Z"
   },
   {
    "duration": 56,
    "start_time": "2025-08-01T09:01:21.811Z"
   },
   {
    "duration": 3,
    "start_time": "2025-08-01T09:01:21.869Z"
   },
   {
    "duration": 183,
    "start_time": "2025-08-01T09:01:21.873Z"
   },
   {
    "duration": 124,
    "start_time": "2025-08-01T09:01:22.058Z"
   },
   {
    "duration": 2,
    "start_time": "2025-08-01T09:01:22.185Z"
   },
   {
    "duration": 28,
    "start_time": "2025-08-01T09:01:22.189Z"
   },
   {
    "duration": 4,
    "start_time": "2025-08-01T09:01:22.219Z"
   },
   {
    "duration": 4,
    "start_time": "2025-08-01T09:01:22.225Z"
   },
   {
    "duration": 4,
    "start_time": "2025-08-01T09:01:22.231Z"
   },
   {
    "duration": 5,
    "start_time": "2025-08-01T09:01:22.237Z"
   },
   {
    "duration": 784,
    "start_time": "2025-08-01T09:01:22.244Z"
   },
   {
    "duration": 938,
    "start_time": "2025-08-01T09:01:23.030Z"
   },
   {
    "duration": 775,
    "start_time": "2025-08-01T09:01:23.970Z"
   },
   {
    "duration": 474,
    "start_time": "2025-08-01T09:01:24.747Z"
   },
   {
    "duration": 357,
    "start_time": "2025-08-01T09:01:25.223Z"
   },
   {
    "duration": 2,
    "start_time": "2025-08-01T09:01:25.582Z"
   },
   {
    "duration": 371,
    "start_time": "2025-08-01T09:01:25.585Z"
   },
   {
    "duration": 321,
    "start_time": "2025-08-01T09:01:25.958Z"
   },
   {
    "duration": 563,
    "start_time": "2025-08-01T09:01:26.281Z"
   },
   {
    "duration": 94,
    "start_time": "2025-08-01T09:01:26.846Z"
   },
   {
    "duration": 5,
    "start_time": "2025-08-01T09:01:26.942Z"
   },
   {
    "duration": 15,
    "start_time": "2025-08-01T09:01:26.949Z"
   },
   {
    "duration": 19,
    "start_time": "2025-08-01T09:01:26.968Z"
   },
   {
    "duration": 34,
    "start_time": "2025-08-01T09:01:26.988Z"
   },
   {
    "duration": 16,
    "start_time": "2025-08-01T09:01:27.024Z"
   },
   {
    "duration": 4,
    "start_time": "2025-08-01T09:01:27.042Z"
   },
   {
    "duration": 7,
    "start_time": "2025-08-01T09:01:27.048Z"
   },
   {
    "duration": 46,
    "start_time": "2025-08-01T09:01:27.057Z"
   },
   {
    "duration": 55,
    "start_time": "2025-08-01T09:01:27.104Z"
   },
   {
    "duration": 15,
    "start_time": "2025-08-01T09:01:27.161Z"
   },
   {
    "duration": 131,
    "start_time": "2025-08-01T09:01:27.178Z"
   },
   {
    "duration": 0,
    "start_time": "2025-08-01T09:01:27.311Z"
   },
   {
    "duration": 0,
    "start_time": "2025-08-01T09:01:27.312Z"
   },
   {
    "duration": 0,
    "start_time": "2025-08-01T09:01:27.314Z"
   },
   {
    "duration": 10,
    "start_time": "2025-08-01T09:08:53.718Z"
   },
   {
    "duration": 7626,
    "start_time": "2025-08-01T09:09:19.379Z"
   },
   {
    "duration": 160,
    "start_time": "2025-08-01T09:09:27.008Z"
   },
   {
    "duration": 139,
    "start_time": "2025-08-01T09:09:27.169Z"
   },
   {
    "duration": 146,
    "start_time": "2025-08-01T09:09:27.310Z"
   },
   {
    "duration": 47,
    "start_time": "2025-08-01T09:09:27.458Z"
   },
   {
    "duration": 70,
    "start_time": "2025-08-01T09:09:27.507Z"
   },
   {
    "duration": 4,
    "start_time": "2025-08-01T09:09:27.579Z"
   },
   {
    "duration": 191,
    "start_time": "2025-08-01T09:09:27.586Z"
   },
   {
    "duration": 120,
    "start_time": "2025-08-01T09:09:27.779Z"
   },
   {
    "duration": 2,
    "start_time": "2025-08-01T09:09:27.902Z"
   },
   {
    "duration": 12,
    "start_time": "2025-08-01T09:09:27.905Z"
   },
   {
    "duration": 3,
    "start_time": "2025-08-01T09:09:27.919Z"
   },
   {
    "duration": 2,
    "start_time": "2025-08-01T09:09:27.940Z"
   },
   {
    "duration": 8,
    "start_time": "2025-08-01T09:09:27.944Z"
   },
   {
    "duration": 15,
    "start_time": "2025-08-01T09:09:27.954Z"
   },
   {
    "duration": 775,
    "start_time": "2025-08-01T09:09:27.971Z"
   },
   {
    "duration": 874,
    "start_time": "2025-08-01T09:09:28.747Z"
   },
   {
    "duration": 785,
    "start_time": "2025-08-01T09:09:29.622Z"
   },
   {
    "duration": 509,
    "start_time": "2025-08-01T09:09:30.409Z"
   },
   {
    "duration": 355,
    "start_time": "2025-08-01T09:09:30.920Z"
   },
   {
    "duration": 3,
    "start_time": "2025-08-01T09:09:31.276Z"
   },
   {
    "duration": 390,
    "start_time": "2025-08-01T09:09:31.280Z"
   },
   {
    "duration": 341,
    "start_time": "2025-08-01T09:09:31.672Z"
   },
   {
    "duration": 531,
    "start_time": "2025-08-01T09:09:32.015Z"
   },
   {
    "duration": 93,
    "start_time": "2025-08-01T09:09:32.548Z"
   },
   {
    "duration": 104,
    "start_time": "2025-08-01T09:09:32.643Z"
   },
   {
    "duration": 34,
    "start_time": "2025-08-01T09:09:32.749Z"
   },
   {
    "duration": 37,
    "start_time": "2025-08-01T09:09:32.786Z"
   },
   {
    "duration": 16,
    "start_time": "2025-08-01T09:09:32.825Z"
   },
   {
    "duration": 8,
    "start_time": "2025-08-01T09:09:32.843Z"
   },
   {
    "duration": 28,
    "start_time": "2025-08-01T09:09:32.853Z"
   },
   {
    "duration": 21,
    "start_time": "2025-08-01T09:09:32.883Z"
   },
   {
    "duration": 119,
    "start_time": "2025-08-01T09:09:32.906Z"
   },
   {
    "duration": 52,
    "start_time": "2025-08-01T09:09:33.026Z"
   },
   {
    "duration": 44,
    "start_time": "2025-08-01T09:09:33.080Z"
   },
   {
    "duration": 117,
    "start_time": "2025-08-01T09:09:33.125Z"
   },
   {
    "duration": 0,
    "start_time": "2025-08-01T09:09:33.243Z"
   },
   {
    "duration": 0,
    "start_time": "2025-08-01T09:09:33.244Z"
   },
   {
    "duration": 0,
    "start_time": "2025-08-01T09:09:33.246Z"
   },
   {
    "duration": 23,
    "start_time": "2025-08-01T09:10:18.633Z"
   },
   {
    "duration": 18,
    "start_time": "2025-08-01T09:10:25.458Z"
   },
   {
    "duration": 52,
    "start_time": "2025-08-01T09:10:48.802Z"
   },
   {
    "duration": 5,
    "start_time": "2025-08-01T09:10:59.361Z"
   },
   {
    "duration": 9,
    "start_time": "2025-08-01T09:11:03.086Z"
   },
   {
    "duration": 5740,
    "start_time": "2025-08-01T09:11:07.066Z"
   },
   {
    "duration": 236,
    "start_time": "2025-08-01T09:15:08.488Z"
   },
   {
    "duration": 5,
    "start_time": "2025-08-01T09:20:39.019Z"
   },
   {
    "duration": 5782,
    "start_time": "2025-08-01T09:20:55.504Z"
   },
   {
    "duration": 108,
    "start_time": "2025-08-01T10:17:44.014Z"
   },
   {
    "duration": 7,
    "start_time": "2025-08-01T10:23:06.078Z"
   },
   {
    "duration": 5859,
    "start_time": "2025-08-01T10:23:11.282Z"
   },
   {
    "duration": 7183,
    "start_time": "2025-08-01T10:25:25.026Z"
   },
   {
    "duration": 164,
    "start_time": "2025-08-01T10:25:32.211Z"
   },
   {
    "duration": 148,
    "start_time": "2025-08-01T10:25:32.377Z"
   },
   {
    "duration": 146,
    "start_time": "2025-08-01T10:25:32.527Z"
   },
   {
    "duration": 48,
    "start_time": "2025-08-01T10:25:32.675Z"
   },
   {
    "duration": 31,
    "start_time": "2025-08-01T10:25:32.740Z"
   },
   {
    "duration": 20,
    "start_time": "2025-08-01T10:25:32.773Z"
   },
   {
    "duration": 193,
    "start_time": "2025-08-01T10:25:32.795Z"
   },
   {
    "duration": 120,
    "start_time": "2025-08-01T10:25:32.990Z"
   },
   {
    "duration": 2,
    "start_time": "2025-08-01T10:25:33.113Z"
   },
   {
    "duration": 28,
    "start_time": "2025-08-01T10:25:33.116Z"
   },
   {
    "duration": 122,
    "start_time": "2025-08-01T10:25:33.146Z"
   },
   {
    "duration": 51,
    "start_time": "2025-08-01T10:25:33.270Z"
   },
   {
    "duration": 101,
    "start_time": "2025-08-01T10:25:33.323Z"
   },
   {
    "duration": 265,
    "start_time": "2025-08-01T10:25:33.426Z"
   },
   {
    "duration": 817,
    "start_time": "2025-08-01T10:25:33.692Z"
   },
   {
    "duration": 928,
    "start_time": "2025-08-01T10:25:34.511Z"
   },
   {
    "duration": 790,
    "start_time": "2025-08-01T10:25:35.441Z"
   },
   {
    "duration": 491,
    "start_time": "2025-08-01T10:25:36.233Z"
   },
   {
    "duration": 364,
    "start_time": "2025-08-01T10:25:36.726Z"
   },
   {
    "duration": 3,
    "start_time": "2025-08-01T10:25:37.091Z"
   },
   {
    "duration": 380,
    "start_time": "2025-08-01T10:25:37.095Z"
   },
   {
    "duration": 343,
    "start_time": "2025-08-01T10:25:37.477Z"
   },
   {
    "duration": 524,
    "start_time": "2025-08-01T10:25:37.821Z"
   },
   {
    "duration": 93,
    "start_time": "2025-08-01T10:25:38.347Z"
   },
   {
    "duration": 18,
    "start_time": "2025-08-01T10:25:38.441Z"
   },
   {
    "duration": 9,
    "start_time": "2025-08-01T10:25:38.461Z"
   },
   {
    "duration": 13,
    "start_time": "2025-08-01T10:25:38.473Z"
   },
   {
    "duration": 20,
    "start_time": "2025-08-01T10:25:38.487Z"
   },
   {
    "duration": 19,
    "start_time": "2025-08-01T10:25:38.509Z"
   },
   {
    "duration": 4,
    "start_time": "2025-08-01T10:25:38.530Z"
   },
   {
    "duration": 10,
    "start_time": "2025-08-01T10:25:38.535Z"
   },
   {
    "duration": 58,
    "start_time": "2025-08-01T10:25:38.546Z"
   },
   {
    "duration": 34,
    "start_time": "2025-08-01T10:25:38.606Z"
   },
   {
    "duration": 15,
    "start_time": "2025-08-01T10:25:38.642Z"
   },
   {
    "duration": 113,
    "start_time": "2025-08-01T10:25:38.659Z"
   },
   {
    "duration": 6,
    "start_time": "2025-08-01T10:25:38.773Z"
   },
   {
    "duration": 19,
    "start_time": "2025-08-01T10:25:38.781Z"
   },
   {
    "duration": 5813,
    "start_time": "2025-08-01T10:25:38.802Z"
   },
   {
    "duration": 5,
    "start_time": "2025-08-01T10:26:38.229Z"
   },
   {
    "duration": 5938,
    "start_time": "2025-08-01T10:26:42.804Z"
   },
   {
    "duration": 6,
    "start_time": "2025-08-01T10:27:03.617Z"
   },
   {
    "duration": 5714,
    "start_time": "2025-08-01T10:27:07.667Z"
   },
   {
    "duration": 57,
    "start_time": "2025-08-01T10:27:42.120Z"
   },
   {
    "duration": 7045,
    "start_time": "2025-08-01T10:27:52.773Z"
   },
   {
    "duration": 180,
    "start_time": "2025-08-01T10:27:59.820Z"
   },
   {
    "duration": 147,
    "start_time": "2025-08-01T10:28:00.002Z"
   },
   {
    "duration": 160,
    "start_time": "2025-08-01T10:28:00.151Z"
   },
   {
    "duration": 65,
    "start_time": "2025-08-01T10:28:00.312Z"
   },
   {
    "duration": 282,
    "start_time": "2025-08-01T10:28:00.379Z"
   },
   {
    "duration": 20,
    "start_time": "2025-08-01T10:28:00.662Z"
   },
   {
    "duration": 218,
    "start_time": "2025-08-01T10:28:00.684Z"
   },
   {
    "duration": 152,
    "start_time": "2025-08-01T10:28:00.904Z"
   },
   {
    "duration": 2,
    "start_time": "2025-08-01T10:28:01.059Z"
   },
   {
    "duration": 65,
    "start_time": "2025-08-01T10:28:01.062Z"
   },
   {
    "duration": 24,
    "start_time": "2025-08-01T10:28:01.128Z"
   },
   {
    "duration": 160,
    "start_time": "2025-08-01T10:28:01.154Z"
   },
   {
    "duration": 113,
    "start_time": "2025-08-01T10:28:01.316Z"
   },
   {
    "duration": 31,
    "start_time": "2025-08-01T10:28:01.430Z"
   },
   {
    "duration": 924,
    "start_time": "2025-08-01T10:28:01.463Z"
   },
   {
    "duration": 997,
    "start_time": "2025-08-01T10:28:02.389Z"
   },
   {
    "duration": 809,
    "start_time": "2025-08-01T10:28:03.387Z"
   },
   {
    "duration": 480,
    "start_time": "2025-08-01T10:28:04.198Z"
   },
   {
    "duration": 344,
    "start_time": "2025-08-01T10:28:04.679Z"
   },
   {
    "duration": 3,
    "start_time": "2025-08-01T10:28:05.024Z"
   },
   {
    "duration": 349,
    "start_time": "2025-08-01T10:28:05.028Z"
   },
   {
    "duration": 341,
    "start_time": "2025-08-01T10:28:05.378Z"
   },
   {
    "duration": 525,
    "start_time": "2025-08-01T10:28:05.720Z"
   },
   {
    "duration": 92,
    "start_time": "2025-08-01T10:28:06.248Z"
   },
   {
    "duration": 54,
    "start_time": "2025-08-01T10:28:06.341Z"
   },
   {
    "duration": 214,
    "start_time": "2025-08-01T10:28:06.397Z"
   },
   {
    "duration": 35,
    "start_time": "2025-08-01T10:28:06.616Z"
   },
   {
    "duration": 48,
    "start_time": "2025-08-01T10:28:06.653Z"
   },
   {
    "duration": 45,
    "start_time": "2025-08-01T10:28:06.703Z"
   },
   {
    "duration": 10,
    "start_time": "2025-08-01T10:28:06.750Z"
   },
   {
    "duration": 27,
    "start_time": "2025-08-01T10:28:06.761Z"
   },
   {
    "duration": 74,
    "start_time": "2025-08-01T10:28:06.790Z"
   },
   {
    "duration": 29,
    "start_time": "2025-08-01T10:28:06.866Z"
   },
   {
    "duration": 156,
    "start_time": "2025-08-01T10:28:06.896Z"
   },
   {
    "duration": 129,
    "start_time": "2025-08-01T10:28:07.053Z"
   },
   {
    "duration": 6,
    "start_time": "2025-08-01T10:28:07.183Z"
   },
   {
    "duration": 262,
    "start_time": "2025-08-01T10:28:07.190Z"
   },
   {
    "duration": 6644,
    "start_time": "2025-08-01T10:28:07.455Z"
   },
   {
    "duration": 6,
    "start_time": "2025-08-01T10:41:54.840Z"
   },
   {
    "duration": 270,
    "start_time": "2025-08-01T10:42:01.592Z"
   },
   {
    "duration": 5,
    "start_time": "2025-08-01T10:42:19.283Z"
   },
   {
    "duration": 5769,
    "start_time": "2025-08-01T10:42:37.072Z"
   },
   {
    "duration": 11675,
    "start_time": "2025-08-01T21:50:37.881Z"
   },
   {
    "duration": 181,
    "start_time": "2025-08-01T21:50:49.558Z"
   },
   {
    "duration": 147,
    "start_time": "2025-08-01T21:50:49.741Z"
   },
   {
    "duration": 145,
    "start_time": "2025-08-01T21:50:49.890Z"
   },
   {
    "duration": 54,
    "start_time": "2025-08-01T21:50:50.037Z"
   },
   {
    "duration": 30,
    "start_time": "2025-08-01T21:50:50.092Z"
   },
   {
    "duration": 2,
    "start_time": "2025-08-01T21:50:50.123Z"
   },
   {
    "duration": 190,
    "start_time": "2025-08-01T21:50:50.127Z"
   },
   {
    "duration": 141,
    "start_time": "2025-08-01T21:50:50.319Z"
   },
   {
    "duration": 3,
    "start_time": "2025-08-01T21:50:50.464Z"
   },
   {
    "duration": 4,
    "start_time": "2025-08-01T21:50:50.469Z"
   },
   {
    "duration": 6,
    "start_time": "2025-08-01T21:50:50.474Z"
   },
   {
    "duration": 4,
    "start_time": "2025-08-01T21:50:50.481Z"
   },
   {
    "duration": 3,
    "start_time": "2025-08-01T21:50:50.487Z"
   },
   {
    "duration": 6,
    "start_time": "2025-08-01T21:50:50.491Z"
   },
   {
    "duration": 811,
    "start_time": "2025-08-01T21:50:50.499Z"
   },
   {
    "duration": 913,
    "start_time": "2025-08-01T21:50:51.312Z"
   },
   {
    "duration": 775,
    "start_time": "2025-08-01T21:50:52.227Z"
   },
   {
    "duration": 443,
    "start_time": "2025-08-01T21:50:53.004Z"
   },
   {
    "duration": 342,
    "start_time": "2025-08-01T21:50:53.449Z"
   },
   {
    "duration": 2,
    "start_time": "2025-08-01T21:50:53.793Z"
   },
   {
    "duration": 384,
    "start_time": "2025-08-01T21:50:53.797Z"
   },
   {
    "duration": 329,
    "start_time": "2025-08-01T21:50:54.183Z"
   },
   {
    "duration": 556,
    "start_time": "2025-08-01T21:50:54.514Z"
   },
   {
    "duration": 3,
    "start_time": "2025-08-01T21:50:55.161Z"
   },
   {
    "duration": 8,
    "start_time": "2025-08-01T21:50:55.165Z"
   },
   {
    "duration": 7,
    "start_time": "2025-08-01T21:50:55.174Z"
   },
   {
    "duration": 5,
    "start_time": "2025-08-01T21:50:55.184Z"
   },
   {
    "duration": 4,
    "start_time": "2025-08-01T21:50:55.191Z"
   },
   {
    "duration": 29,
    "start_time": "2025-08-01T21:50:55.197Z"
   },
   {
    "duration": 3,
    "start_time": "2025-08-01T21:50:55.228Z"
   },
   {
    "duration": 27,
    "start_time": "2025-08-01T21:50:55.233Z"
   },
   {
    "duration": 48,
    "start_time": "2025-08-01T21:50:55.262Z"
   },
   {
    "duration": 30,
    "start_time": "2025-08-01T21:50:55.311Z"
   },
   {
    "duration": 16,
    "start_time": "2025-08-01T21:50:55.361Z"
   },
   {
    "duration": 173,
    "start_time": "2025-08-01T21:50:55.379Z"
   },
   {
    "duration": 6,
    "start_time": "2025-08-01T21:50:55.554Z"
   },
   {
    "duration": 55,
    "start_time": "2025-08-01T21:50:55.562Z"
   },
   {
    "duration": 5994,
    "start_time": "2025-08-01T21:50:55.619Z"
   },
   {
    "duration": 15,
    "start_time": "2025-08-01T21:51:06.190Z"
   },
   {
    "duration": 5,
    "start_time": "2025-08-01T21:51:35.711Z"
   },
   {
    "duration": 18,
    "start_time": "2025-08-01T21:51:51.450Z"
   },
   {
    "duration": 19,
    "start_time": "2025-08-01T21:52:09.130Z"
   },
   {
    "duration": 14,
    "start_time": "2025-08-01T21:52:12.801Z"
   },
   {
    "duration": 66,
    "start_time": "2025-08-01T21:52:26.381Z"
   },
   {
    "duration": 4,
    "start_time": "2025-08-01T21:53:48.582Z"
   },
   {
    "duration": 56,
    "start_time": "2025-08-01T21:56:06.116Z"
   },
   {
    "duration": 4,
    "start_time": "2025-08-01T21:56:08.399Z"
   },
   {
    "duration": 6910,
    "start_time": "2025-08-01T21:56:52.928Z"
   },
   {
    "duration": 155,
    "start_time": "2025-08-01T21:56:59.840Z"
   },
   {
    "duration": 149,
    "start_time": "2025-08-01T21:56:59.996Z"
   },
   {
    "duration": 150,
    "start_time": "2025-08-01T21:57:00.147Z"
   },
   {
    "duration": 65,
    "start_time": "2025-08-01T21:57:00.299Z"
   },
   {
    "duration": 31,
    "start_time": "2025-08-01T21:57:00.366Z"
   },
   {
    "duration": 3,
    "start_time": "2025-08-01T21:57:00.398Z"
   },
   {
    "duration": 192,
    "start_time": "2025-08-01T21:57:00.403Z"
   },
   {
    "duration": 129,
    "start_time": "2025-08-01T21:57:00.597Z"
   },
   {
    "duration": 3,
    "start_time": "2025-08-01T21:57:00.729Z"
   },
   {
    "duration": 19,
    "start_time": "2025-08-01T21:57:00.734Z"
   },
   {
    "duration": 9,
    "start_time": "2025-08-01T21:57:00.755Z"
   },
   {
    "duration": 4,
    "start_time": "2025-08-01T21:57:00.766Z"
   },
   {
    "duration": 10,
    "start_time": "2025-08-01T21:57:00.772Z"
   },
   {
    "duration": 6,
    "start_time": "2025-08-01T21:57:00.784Z"
   },
   {
    "duration": 795,
    "start_time": "2025-08-01T21:57:00.791Z"
   },
   {
    "duration": 922,
    "start_time": "2025-08-01T21:57:01.588Z"
   },
   {
    "duration": 824,
    "start_time": "2025-08-01T21:57:02.511Z"
   },
   {
    "duration": 484,
    "start_time": "2025-08-01T21:57:03.337Z"
   },
   {
    "duration": 361,
    "start_time": "2025-08-01T21:57:03.823Z"
   },
   {
    "duration": 2,
    "start_time": "2025-08-01T21:57:04.186Z"
   },
   {
    "duration": 366,
    "start_time": "2025-08-01T21:57:04.190Z"
   },
   {
    "duration": 332,
    "start_time": "2025-08-01T21:57:04.559Z"
   },
   {
    "duration": 666,
    "start_time": "2025-08-01T21:57:04.894Z"
   },
   {
    "duration": 3,
    "start_time": "2025-08-01T21:57:05.562Z"
   },
   {
    "duration": 147,
    "start_time": "2025-08-01T21:57:05.567Z"
   },
   {
    "duration": 112,
    "start_time": "2025-08-01T21:57:05.716Z"
   },
   {
    "duration": 27,
    "start_time": "2025-08-01T21:57:05.831Z"
   },
   {
    "duration": 23,
    "start_time": "2025-08-01T21:57:05.860Z"
   },
   {
    "duration": 9,
    "start_time": "2025-08-01T21:57:05.884Z"
   },
   {
    "duration": 4,
    "start_time": "2025-08-01T21:57:05.894Z"
   },
   {
    "duration": 19,
    "start_time": "2025-08-01T21:57:05.900Z"
   },
   {
    "duration": 69,
    "start_time": "2025-08-01T21:57:05.921Z"
   },
   {
    "duration": 29,
    "start_time": "2025-08-01T21:57:05.991Z"
   },
   {
    "duration": 15,
    "start_time": "2025-08-01T21:57:06.021Z"
   },
   {
    "duration": 95,
    "start_time": "2025-08-01T21:57:06.038Z"
   },
   {
    "duration": 4,
    "start_time": "2025-08-01T21:57:06.135Z"
   },
   {
    "duration": 6,
    "start_time": "2025-08-01T21:57:06.161Z"
   },
   {
    "duration": 9,
    "start_time": "2025-08-01T21:57:06.169Z"
   },
   {
    "duration": 5730,
    "start_time": "2025-08-01T21:57:06.180Z"
   },
   {
    "duration": 3,
    "start_time": "2025-08-01T21:57:11.912Z"
   },
   {
    "duration": 32,
    "start_time": "2025-08-01T21:57:11.916Z"
   },
   {
    "duration": 69,
    "start_time": "2025-08-01T21:57:47.712Z"
   },
   {
    "duration": 4,
    "start_time": "2025-08-01T21:57:48.302Z"
   },
   {
    "duration": 6,
    "start_time": "2025-08-01T21:57:48.649Z"
   },
   {
    "duration": 8,
    "start_time": "2025-08-01T21:57:49.533Z"
   },
   {
    "duration": 5659,
    "start_time": "2025-08-01T21:57:51.410Z"
   },
   {
    "duration": 3,
    "start_time": "2025-08-01T21:57:57.071Z"
   },
   {
    "duration": 16,
    "start_time": "2025-08-01T21:57:57.076Z"
   },
   {
    "duration": 15,
    "start_time": "2025-08-01T21:58:12.252Z"
   },
   {
    "duration": 7054,
    "start_time": "2025-08-01T22:03:35.471Z"
   },
   {
    "duration": 173,
    "start_time": "2025-08-01T22:03:42.527Z"
   },
   {
    "duration": 141,
    "start_time": "2025-08-01T22:03:42.702Z"
   },
   {
    "duration": 144,
    "start_time": "2025-08-01T22:03:42.844Z"
   },
   {
    "duration": 46,
    "start_time": "2025-08-01T22:03:42.990Z"
   },
   {
    "duration": 50,
    "start_time": "2025-08-01T22:03:43.038Z"
   },
   {
    "duration": 3,
    "start_time": "2025-08-01T22:03:43.089Z"
   },
   {
    "duration": 177,
    "start_time": "2025-08-01T22:03:43.093Z"
   },
   {
    "duration": 130,
    "start_time": "2025-08-01T22:03:43.272Z"
   },
   {
    "duration": 2,
    "start_time": "2025-08-01T22:03:43.404Z"
   },
   {
    "duration": 237,
    "start_time": "2025-08-01T22:03:43.407Z"
   },
   {
    "duration": 31,
    "start_time": "2025-08-01T22:03:43.646Z"
   },
   {
    "duration": 4,
    "start_time": "2025-08-01T22:03:43.678Z"
   },
   {
    "duration": 2,
    "start_time": "2025-08-01T22:03:43.685Z"
   },
   {
    "duration": 6,
    "start_time": "2025-08-01T22:03:43.688Z"
   },
   {
    "duration": 776,
    "start_time": "2025-08-01T22:03:43.695Z"
   },
   {
    "duration": 913,
    "start_time": "2025-08-01T22:03:44.472Z"
   },
   {
    "duration": 854,
    "start_time": "2025-08-01T22:03:45.387Z"
   },
   {
    "duration": 510,
    "start_time": "2025-08-01T22:03:46.243Z"
   },
   {
    "duration": 358,
    "start_time": "2025-08-01T22:03:46.755Z"
   },
   {
    "duration": 3,
    "start_time": "2025-08-01T22:03:47.115Z"
   },
   {
    "duration": 374,
    "start_time": "2025-08-01T22:03:47.120Z"
   },
   {
    "duration": 339,
    "start_time": "2025-08-01T22:03:47.496Z"
   },
   {
    "duration": 725,
    "start_time": "2025-08-01T22:03:47.837Z"
   },
   {
    "duration": 3,
    "start_time": "2025-08-01T22:03:48.564Z"
   },
   {
    "duration": 17,
    "start_time": "2025-08-01T22:03:48.568Z"
   },
   {
    "duration": 19,
    "start_time": "2025-08-01T22:03:48.587Z"
   },
   {
    "duration": 8,
    "start_time": "2025-08-01T22:03:48.608Z"
   },
   {
    "duration": 6,
    "start_time": "2025-08-01T22:03:48.618Z"
   },
   {
    "duration": 11,
    "start_time": "2025-08-01T22:03:48.625Z"
   },
   {
    "duration": 4,
    "start_time": "2025-08-01T22:03:48.638Z"
   },
   {
    "duration": 138,
    "start_time": "2025-08-01T22:03:48.660Z"
   },
   {
    "duration": 42,
    "start_time": "2025-08-01T22:03:48.800Z"
   },
   {
    "duration": 27,
    "start_time": "2025-08-01T22:03:48.844Z"
   },
   {
    "duration": 14,
    "start_time": "2025-08-01T22:03:48.873Z"
   },
   {
    "duration": 96,
    "start_time": "2025-08-01T22:03:48.888Z"
   },
   {
    "duration": 5,
    "start_time": "2025-08-01T22:03:48.985Z"
   },
   {
    "duration": 24,
    "start_time": "2025-08-01T22:03:48.992Z"
   },
   {
    "duration": 6,
    "start_time": "2025-08-01T22:03:49.018Z"
   },
   {
    "duration": 39,
    "start_time": "2025-08-01T22:03:49.026Z"
   },
   {
    "duration": 5734,
    "start_time": "2025-08-01T22:03:49.069Z"
   },
   {
    "duration": 4,
    "start_time": "2025-08-01T22:03:54.804Z"
   },
   {
    "duration": 85,
    "start_time": "2025-08-01T22:03:54.810Z"
   },
   {
    "duration": 5,
    "start_time": "2025-08-01T22:04:56.894Z"
   },
   {
    "duration": 16,
    "start_time": "2025-08-01T22:05:15.133Z"
   },
   {
    "duration": 7030,
    "start_time": "2025-08-01T22:05:26.267Z"
   },
   {
    "duration": 167,
    "start_time": "2025-08-01T22:05:33.299Z"
   },
   {
    "duration": 147,
    "start_time": "2025-08-01T22:05:33.467Z"
   },
   {
    "duration": 154,
    "start_time": "2025-08-01T22:05:33.616Z"
   },
   {
    "duration": 47,
    "start_time": "2025-08-01T22:05:33.772Z"
   },
   {
    "duration": 54,
    "start_time": "2025-08-01T22:05:33.821Z"
   },
   {
    "duration": 3,
    "start_time": "2025-08-01T22:05:33.877Z"
   },
   {
    "duration": 166,
    "start_time": "2025-08-01T22:05:33.881Z"
   },
   {
    "duration": 132,
    "start_time": "2025-08-01T22:05:34.049Z"
   },
   {
    "duration": 2,
    "start_time": "2025-08-01T22:05:34.184Z"
   },
   {
    "duration": 6,
    "start_time": "2025-08-01T22:05:34.187Z"
   },
   {
    "duration": 5,
    "start_time": "2025-08-01T22:05:34.194Z"
   },
   {
    "duration": 11,
    "start_time": "2025-08-01T22:05:34.201Z"
   },
   {
    "duration": 7,
    "start_time": "2025-08-01T22:05:34.214Z"
   },
   {
    "duration": 5,
    "start_time": "2025-08-01T22:05:34.222Z"
   },
   {
    "duration": 791,
    "start_time": "2025-08-01T22:05:34.229Z"
   },
   {
    "duration": 954,
    "start_time": "2025-08-01T22:05:35.022Z"
   },
   {
    "duration": 828,
    "start_time": "2025-08-01T22:05:35.978Z"
   },
   {
    "duration": 450,
    "start_time": "2025-08-01T22:05:36.807Z"
   },
   {
    "duration": 344,
    "start_time": "2025-08-01T22:05:37.259Z"
   },
   {
    "duration": 2,
    "start_time": "2025-08-01T22:05:37.605Z"
   },
   {
    "duration": 384,
    "start_time": "2025-08-01T22:05:37.609Z"
   },
   {
    "duration": 339,
    "start_time": "2025-08-01T22:05:37.995Z"
   },
   {
    "duration": 531,
    "start_time": "2025-08-01T22:05:38.336Z"
   },
   {
    "duration": 92,
    "start_time": "2025-08-01T22:05:38.869Z"
   },
   {
    "duration": 19,
    "start_time": "2025-08-01T22:05:38.964Z"
   },
   {
    "duration": 20,
    "start_time": "2025-08-01T22:05:38.985Z"
   },
   {
    "duration": 18,
    "start_time": "2025-08-01T22:05:39.009Z"
   },
   {
    "duration": 28,
    "start_time": "2025-08-01T22:05:39.029Z"
   },
   {
    "duration": 29,
    "start_time": "2025-08-01T22:05:39.059Z"
   },
   {
    "duration": 4,
    "start_time": "2025-08-01T22:05:39.090Z"
   },
   {
    "duration": 25,
    "start_time": "2025-08-01T22:05:39.096Z"
   },
   {
    "duration": 63,
    "start_time": "2025-08-01T22:05:39.123Z"
   },
   {
    "duration": 30,
    "start_time": "2025-08-01T22:05:39.187Z"
   },
   {
    "duration": 15,
    "start_time": "2025-08-01T22:05:39.219Z"
   },
   {
    "duration": 74,
    "start_time": "2025-08-01T22:05:39.260Z"
   },
   {
    "duration": 4,
    "start_time": "2025-08-01T22:05:39.336Z"
   },
   {
    "duration": 21,
    "start_time": "2025-08-01T22:05:39.361Z"
   },
   {
    "duration": 43,
    "start_time": "2025-08-01T22:05:39.383Z"
   },
   {
    "duration": 190,
    "start_time": "2025-08-01T22:05:39.427Z"
   },
   {
    "duration": 5729,
    "start_time": "2025-08-01T22:05:39.618Z"
   },
   {
    "duration": 4,
    "start_time": "2025-08-01T22:05:45.349Z"
   },
   {
    "duration": 33,
    "start_time": "2025-08-01T22:05:45.361Z"
   },
   {
    "duration": 5,
    "start_time": "2025-08-01T22:06:11.541Z"
   },
   {
    "duration": 7121,
    "start_time": "2025-08-01T22:06:20.234Z"
   },
   {
    "duration": 161,
    "start_time": "2025-08-01T22:06:27.357Z"
   },
   {
    "duration": 143,
    "start_time": "2025-08-01T22:06:27.519Z"
   },
   {
    "duration": 148,
    "start_time": "2025-08-01T22:06:27.664Z"
   },
   {
    "duration": 61,
    "start_time": "2025-08-01T22:06:27.814Z"
   },
   {
    "duration": 32,
    "start_time": "2025-08-01T22:06:27.877Z"
   },
   {
    "duration": 3,
    "start_time": "2025-08-01T22:06:27.911Z"
   },
   {
    "duration": 189,
    "start_time": "2025-08-01T22:06:27.916Z"
   },
   {
    "duration": 116,
    "start_time": "2025-08-01T22:06:28.107Z"
   },
   {
    "duration": 3,
    "start_time": "2025-08-01T22:06:28.225Z"
   },
   {
    "duration": 5,
    "start_time": "2025-08-01T22:06:28.229Z"
   },
   {
    "duration": 25,
    "start_time": "2025-08-01T22:06:28.235Z"
   },
   {
    "duration": 4,
    "start_time": "2025-08-01T22:06:28.262Z"
   },
   {
    "duration": 5,
    "start_time": "2025-08-01T22:06:28.269Z"
   },
   {
    "duration": 5,
    "start_time": "2025-08-01T22:06:28.276Z"
   },
   {
    "duration": 814,
    "start_time": "2025-08-01T22:06:28.282Z"
   },
   {
    "duration": 899,
    "start_time": "2025-08-01T22:06:29.097Z"
   },
   {
    "duration": 811,
    "start_time": "2025-08-01T22:06:29.998Z"
   },
   {
    "duration": 447,
    "start_time": "2025-08-01T22:06:30.810Z"
   },
   {
    "duration": 348,
    "start_time": "2025-08-01T22:06:31.259Z"
   },
   {
    "duration": 3,
    "start_time": "2025-08-01T22:06:31.609Z"
   },
   {
    "duration": 378,
    "start_time": "2025-08-01T22:06:31.614Z"
   },
   {
    "duration": 326,
    "start_time": "2025-08-01T22:06:31.994Z"
   },
   {
    "duration": 545,
    "start_time": "2025-08-01T22:06:32.322Z"
   },
   {
    "duration": 93,
    "start_time": "2025-08-01T22:06:32.869Z"
   },
   {
    "duration": 7,
    "start_time": "2025-08-01T22:06:32.964Z"
   },
   {
    "duration": 8,
    "start_time": "2025-08-01T22:06:32.972Z"
   },
   {
    "duration": 30,
    "start_time": "2025-08-01T22:06:32.983Z"
   },
   {
    "duration": 20,
    "start_time": "2025-08-01T22:06:33.015Z"
   },
   {
    "duration": 17,
    "start_time": "2025-08-01T22:06:33.037Z"
   },
   {
    "duration": 7,
    "start_time": "2025-08-01T22:06:33.056Z"
   },
   {
    "duration": 26,
    "start_time": "2025-08-01T22:06:33.064Z"
   },
   {
    "duration": 62,
    "start_time": "2025-08-01T22:06:33.092Z"
   },
   {
    "duration": 32,
    "start_time": "2025-08-01T22:06:33.156Z"
   },
   {
    "duration": 17,
    "start_time": "2025-08-01T22:06:33.190Z"
   },
   {
    "duration": 98,
    "start_time": "2025-08-01T22:06:33.209Z"
   },
   {
    "duration": 5,
    "start_time": "2025-08-01T22:06:33.309Z"
   },
   {
    "duration": 28,
    "start_time": "2025-08-01T22:06:33.316Z"
   },
   {
    "duration": 14,
    "start_time": "2025-08-01T22:06:33.345Z"
   },
   {
    "duration": 9,
    "start_time": "2025-08-01T22:06:33.361Z"
   },
   {
    "duration": 5911,
    "start_time": "2025-08-01T22:06:33.375Z"
   },
   {
    "duration": 4,
    "start_time": "2025-08-01T22:06:39.288Z"
   },
   {
    "duration": 15,
    "start_time": "2025-08-01T22:06:39.294Z"
   },
   {
    "duration": 22,
    "start_time": "2025-08-01T22:07:01.364Z"
   },
   {
    "duration": 5,
    "start_time": "2025-08-01T22:07:03.339Z"
   },
   {
    "duration": 20,
    "start_time": "2025-08-01T22:07:14.766Z"
   },
   {
    "duration": 23,
    "start_time": "2025-08-01T22:07:22.895Z"
   },
   {
    "duration": 4,
    "start_time": "2025-08-01T22:07:24.323Z"
   },
   {
    "duration": 22,
    "start_time": "2025-08-01T22:07:31.707Z"
   },
   {
    "duration": 22,
    "start_time": "2025-08-01T22:07:53.855Z"
   },
   {
    "duration": 5,
    "start_time": "2025-08-01T22:07:56.318Z"
   },
   {
    "duration": 30,
    "start_time": "2025-08-01T22:08:52.485Z"
   },
   {
    "duration": 1443,
    "start_time": "2025-08-01T22:08:57.029Z"
   },
   {
    "duration": 6876,
    "start_time": "2025-08-01T22:09:05.612Z"
   },
   {
    "duration": 159,
    "start_time": "2025-08-01T22:09:12.491Z"
   },
   {
    "duration": 143,
    "start_time": "2025-08-01T22:09:12.652Z"
   },
   {
    "duration": 142,
    "start_time": "2025-08-01T22:09:12.797Z"
   },
   {
    "duration": 54,
    "start_time": "2025-08-01T22:09:12.942Z"
   },
   {
    "duration": 30,
    "start_time": "2025-08-01T22:09:12.998Z"
   },
   {
    "duration": 32,
    "start_time": "2025-08-01T22:09:13.029Z"
   },
   {
    "duration": 150,
    "start_time": "2025-08-01T22:09:13.063Z"
   },
   {
    "duration": 123,
    "start_time": "2025-08-01T22:09:13.215Z"
   },
   {
    "duration": 2,
    "start_time": "2025-08-01T22:09:13.340Z"
   },
   {
    "duration": 34,
    "start_time": "2025-08-01T22:09:13.343Z"
   },
   {
    "duration": 109,
    "start_time": "2025-08-01T22:09:13.379Z"
   },
   {
    "duration": 167,
    "start_time": "2025-08-01T22:09:13.490Z"
   },
   {
    "duration": 6,
    "start_time": "2025-08-01T22:09:13.660Z"
   },
   {
    "duration": 7,
    "start_time": "2025-08-01T22:09:13.668Z"
   },
   {
    "duration": 794,
    "start_time": "2025-08-01T22:09:13.676Z"
   },
   {
    "duration": 920,
    "start_time": "2025-08-01T22:09:14.472Z"
   },
   {
    "duration": 845,
    "start_time": "2025-08-01T22:09:15.394Z"
   },
   {
    "duration": 507,
    "start_time": "2025-08-01T22:09:16.241Z"
   },
   {
    "duration": 370,
    "start_time": "2025-08-01T22:09:16.750Z"
   },
   {
    "duration": 3,
    "start_time": "2025-08-01T22:09:17.122Z"
   },
   {
    "duration": 379,
    "start_time": "2025-08-01T22:09:17.126Z"
   },
   {
    "duration": 396,
    "start_time": "2025-08-01T22:09:17.507Z"
   },
   {
    "duration": 562,
    "start_time": "2025-08-01T22:09:17.905Z"
   },
   {
    "duration": 92,
    "start_time": "2025-08-01T22:09:18.469Z"
   },
   {
    "duration": 3,
    "start_time": "2025-08-01T22:09:18.563Z"
   },
   {
    "duration": 5,
    "start_time": "2025-08-01T22:09:18.568Z"
   },
   {
    "duration": 10,
    "start_time": "2025-08-01T22:09:18.574Z"
   },
   {
    "duration": 4,
    "start_time": "2025-08-01T22:09:18.585Z"
   },
   {
    "duration": 18,
    "start_time": "2025-08-01T22:09:18.590Z"
   },
   {
    "duration": 3,
    "start_time": "2025-08-01T22:09:18.610Z"
   },
   {
    "duration": 3,
    "start_time": "2025-08-01T22:09:18.615Z"
   },
   {
    "duration": 74,
    "start_time": "2025-08-01T22:09:18.620Z"
   },
   {
    "duration": 30,
    "start_time": "2025-08-01T22:09:18.696Z"
   },
   {
    "duration": 132,
    "start_time": "2025-08-01T22:09:18.728Z"
   },
   {
    "duration": 32,
    "start_time": "2025-08-01T22:09:18.862Z"
   },
   {
    "duration": 4,
    "start_time": "2025-08-01T22:09:18.895Z"
   },
   {
    "duration": 14,
    "start_time": "2025-08-01T22:09:18.901Z"
   },
   {
    "duration": 7,
    "start_time": "2025-08-01T22:09:18.917Z"
   },
   {
    "duration": 8,
    "start_time": "2025-08-01T22:09:18.925Z"
   },
   {
    "duration": 5774,
    "start_time": "2025-08-01T22:09:18.937Z"
   },
   {
    "duration": 4,
    "start_time": "2025-08-01T22:09:24.712Z"
   },
   {
    "duration": 239,
    "start_time": "2025-08-01T22:09:24.717Z"
   },
   {
    "duration": 6971,
    "start_time": "2025-08-01T22:09:41.269Z"
   },
   {
    "duration": 157,
    "start_time": "2025-08-01T22:09:48.242Z"
   },
   {
    "duration": 139,
    "start_time": "2025-08-01T22:09:48.400Z"
   },
   {
    "duration": 145,
    "start_time": "2025-08-01T22:09:48.541Z"
   },
   {
    "duration": 46,
    "start_time": "2025-08-01T22:09:48.688Z"
   },
   {
    "duration": 112,
    "start_time": "2025-08-01T22:09:48.736Z"
   },
   {
    "duration": 13,
    "start_time": "2025-08-01T22:09:48.850Z"
   },
   {
    "duration": 160,
    "start_time": "2025-08-01T22:09:48.865Z"
   },
   {
    "duration": 142,
    "start_time": "2025-08-01T22:09:49.027Z"
   },
   {
    "duration": 3,
    "start_time": "2025-08-01T22:09:49.172Z"
   },
   {
    "duration": 7,
    "start_time": "2025-08-01T22:09:49.176Z"
   },
   {
    "duration": 9,
    "start_time": "2025-08-01T22:09:49.185Z"
   },
   {
    "duration": 15,
    "start_time": "2025-08-01T22:09:49.195Z"
   },
   {
    "duration": 8,
    "start_time": "2025-08-01T22:09:49.212Z"
   },
   {
    "duration": 5,
    "start_time": "2025-08-01T22:09:49.222Z"
   },
   {
    "duration": 762,
    "start_time": "2025-08-01T22:09:49.229Z"
   },
   {
    "duration": 892,
    "start_time": "2025-08-01T22:09:49.993Z"
   },
   {
    "duration": 789,
    "start_time": "2025-08-01T22:09:50.887Z"
   },
   {
    "duration": 469,
    "start_time": "2025-08-01T22:09:51.678Z"
   },
   {
    "duration": 343,
    "start_time": "2025-08-01T22:09:52.149Z"
   },
   {
    "duration": 2,
    "start_time": "2025-08-01T22:09:52.494Z"
   },
   {
    "duration": 361,
    "start_time": "2025-08-01T22:09:52.497Z"
   },
   {
    "duration": 337,
    "start_time": "2025-08-01T22:09:52.861Z"
   },
   {
    "duration": 567,
    "start_time": "2025-08-01T22:09:53.200Z"
   },
   {
    "duration": 2,
    "start_time": "2025-08-01T22:09:53.860Z"
   },
   {
    "duration": 25,
    "start_time": "2025-08-01T22:09:53.864Z"
   },
   {
    "duration": 6,
    "start_time": "2025-08-01T22:09:53.891Z"
   },
   {
    "duration": 22,
    "start_time": "2025-08-01T22:09:53.901Z"
   },
   {
    "duration": 13,
    "start_time": "2025-08-01T22:09:53.925Z"
   },
   {
    "duration": 15,
    "start_time": "2025-08-01T22:09:53.940Z"
   },
   {
    "duration": 4,
    "start_time": "2025-08-01T22:09:53.956Z"
   },
   {
    "duration": 9,
    "start_time": "2025-08-01T22:09:53.961Z"
   },
   {
    "duration": 44,
    "start_time": "2025-08-01T22:09:53.972Z"
   },
   {
    "duration": 9,
    "start_time": "2025-08-01T22:09:54.018Z"
   },
   {
    "duration": 49,
    "start_time": "2025-08-01T22:09:54.029Z"
   },
   {
    "duration": 16,
    "start_time": "2025-08-01T22:09:54.079Z"
   },
   {
    "duration": 31,
    "start_time": "2025-08-01T22:09:54.097Z"
   },
   {
    "duration": 4,
    "start_time": "2025-08-01T22:09:54.129Z"
   },
   {
    "duration": 3,
    "start_time": "2025-08-01T22:09:54.161Z"
   },
   {
    "duration": 20,
    "start_time": "2025-08-01T22:09:54.165Z"
   },
   {
    "duration": 9,
    "start_time": "2025-08-01T22:09:54.187Z"
   },
   {
    "duration": 5650,
    "start_time": "2025-08-01T22:09:54.198Z"
   },
   {
    "duration": 12,
    "start_time": "2025-08-01T22:09:59.849Z"
   },
   {
    "duration": 14,
    "start_time": "2025-08-01T22:09:59.863Z"
   },
   {
    "duration": 6998,
    "start_time": "2025-08-01T22:10:23.028Z"
   },
   {
    "duration": 168,
    "start_time": "2025-08-01T22:10:30.029Z"
   },
   {
    "duration": 146,
    "start_time": "2025-08-01T22:10:30.199Z"
   },
   {
    "duration": 154,
    "start_time": "2025-08-01T22:10:30.348Z"
   },
   {
    "duration": 66,
    "start_time": "2025-08-01T22:10:30.504Z"
   },
   {
    "duration": 31,
    "start_time": "2025-08-01T22:10:30.572Z"
   },
   {
    "duration": 2,
    "start_time": "2025-08-01T22:10:30.605Z"
   },
   {
    "duration": 191,
    "start_time": "2025-08-01T22:10:30.609Z"
   },
   {
    "duration": 126,
    "start_time": "2025-08-01T22:10:30.802Z"
   },
   {
    "duration": 3,
    "start_time": "2025-08-01T22:10:30.930Z"
   },
   {
    "duration": 5,
    "start_time": "2025-08-01T22:10:30.935Z"
   },
   {
    "duration": 2,
    "start_time": "2025-08-01T22:10:30.960Z"
   },
   {
    "duration": 4,
    "start_time": "2025-08-01T22:10:30.964Z"
   },
   {
    "duration": 11,
    "start_time": "2025-08-01T22:10:30.970Z"
   },
   {
    "duration": 5,
    "start_time": "2025-08-01T22:10:30.983Z"
   },
   {
    "duration": 849,
    "start_time": "2025-08-01T22:10:30.990Z"
   },
   {
    "duration": 919,
    "start_time": "2025-08-01T22:10:31.841Z"
   },
   {
    "duration": 813,
    "start_time": "2025-08-01T22:10:32.762Z"
   },
   {
    "duration": 482,
    "start_time": "2025-08-01T22:10:33.578Z"
   },
   {
    "duration": 338,
    "start_time": "2025-08-01T22:10:34.062Z"
   },
   {
    "duration": 3,
    "start_time": "2025-08-01T22:10:34.403Z"
   },
   {
    "duration": 494,
    "start_time": "2025-08-01T22:10:34.408Z"
   },
   {
    "duration": 382,
    "start_time": "2025-08-01T22:10:34.904Z"
   },
   {
    "duration": 672,
    "start_time": "2025-08-01T22:10:35.288Z"
   },
   {
    "duration": 3,
    "start_time": "2025-08-01T22:10:35.962Z"
   },
   {
    "duration": 17,
    "start_time": "2025-08-01T22:10:35.966Z"
   },
   {
    "duration": 22,
    "start_time": "2025-08-01T22:10:35.985Z"
   },
   {
    "duration": 38,
    "start_time": "2025-08-01T22:10:36.011Z"
   },
   {
    "duration": 16,
    "start_time": "2025-08-01T22:10:36.052Z"
   },
   {
    "duration": 48,
    "start_time": "2025-08-01T22:10:36.071Z"
   },
   {
    "duration": 23,
    "start_time": "2025-08-01T22:10:36.121Z"
   },
   {
    "duration": 8,
    "start_time": "2025-08-01T22:10:36.146Z"
   },
   {
    "duration": 47,
    "start_time": "2025-08-01T22:10:36.156Z"
   },
   {
    "duration": 11,
    "start_time": "2025-08-01T22:10:36.206Z"
   },
   {
    "duration": 66,
    "start_time": "2025-08-01T22:10:36.219Z"
   },
   {
    "duration": 23,
    "start_time": "2025-08-01T22:10:36.287Z"
   },
   {
    "duration": 49,
    "start_time": "2025-08-01T22:10:36.312Z"
   },
   {
    "duration": 93,
    "start_time": "2025-08-01T22:10:36.363Z"
   },
   {
    "duration": 9,
    "start_time": "2025-08-01T22:10:36.458Z"
   },
   {
    "duration": 7,
    "start_time": "2025-08-01T22:10:36.468Z"
   },
   {
    "duration": 9,
    "start_time": "2025-08-01T22:10:36.477Z"
   },
   {
    "duration": 5748,
    "start_time": "2025-08-01T22:10:36.488Z"
   },
   {
    "duration": 4,
    "start_time": "2025-08-01T22:10:42.237Z"
   },
   {
    "duration": 26,
    "start_time": "2025-08-01T22:10:42.242Z"
   },
   {
    "duration": 11,
    "start_time": "2025-08-01T22:10:52.092Z"
   },
   {
    "duration": 7179,
    "start_time": "2025-08-01T22:11:40.861Z"
   },
   {
    "duration": 162,
    "start_time": "2025-08-01T22:11:48.042Z"
   },
   {
    "duration": 154,
    "start_time": "2025-08-01T22:11:48.206Z"
   },
   {
    "duration": 148,
    "start_time": "2025-08-01T22:11:48.362Z"
   },
   {
    "duration": 67,
    "start_time": "2025-08-01T22:11:48.512Z"
   },
   {
    "duration": 31,
    "start_time": "2025-08-01T22:11:48.581Z"
   },
   {
    "duration": 3,
    "start_time": "2025-08-01T22:11:48.613Z"
   },
   {
    "duration": 189,
    "start_time": "2025-08-01T22:11:48.618Z"
   },
   {
    "duration": 124,
    "start_time": "2025-08-01T22:11:48.808Z"
   },
   {
    "duration": 2,
    "start_time": "2025-08-01T22:11:48.935Z"
   },
   {
    "duration": 23,
    "start_time": "2025-08-01T22:11:48.938Z"
   },
   {
    "duration": 17,
    "start_time": "2025-08-01T22:11:48.963Z"
   },
   {
    "duration": 9,
    "start_time": "2025-08-01T22:11:48.983Z"
   },
   {
    "duration": 5,
    "start_time": "2025-08-01T22:11:48.994Z"
   },
   {
    "duration": 10,
    "start_time": "2025-08-01T22:11:49.001Z"
   },
   {
    "duration": 799,
    "start_time": "2025-08-01T22:11:49.013Z"
   },
   {
    "duration": 901,
    "start_time": "2025-08-01T22:11:49.813Z"
   },
   {
    "duration": 794,
    "start_time": "2025-08-01T22:11:50.715Z"
   },
   {
    "duration": 442,
    "start_time": "2025-08-01T22:11:51.511Z"
   },
   {
    "duration": 339,
    "start_time": "2025-08-01T22:11:51.955Z"
   },
   {
    "duration": 2,
    "start_time": "2025-08-01T22:11:52.296Z"
   },
   {
    "duration": 374,
    "start_time": "2025-08-01T22:11:52.300Z"
   },
   {
    "duration": 325,
    "start_time": "2025-08-01T22:11:52.675Z"
   },
   {
    "duration": 565,
    "start_time": "2025-08-01T22:11:53.001Z"
   },
   {
    "duration": 93,
    "start_time": "2025-08-01T22:11:53.568Z"
   },
   {
    "duration": 12,
    "start_time": "2025-08-01T22:11:53.663Z"
   },
   {
    "duration": 13,
    "start_time": "2025-08-01T22:11:53.677Z"
   },
   {
    "duration": 40,
    "start_time": "2025-08-01T22:11:53.693Z"
   },
   {
    "duration": 12,
    "start_time": "2025-08-01T22:11:53.735Z"
   },
   {
    "duration": 9,
    "start_time": "2025-08-01T22:11:53.749Z"
   },
   {
    "duration": 12,
    "start_time": "2025-08-01T22:11:53.760Z"
   },
   {
    "duration": 29,
    "start_time": "2025-08-01T22:11:53.774Z"
   },
   {
    "duration": 69,
    "start_time": "2025-08-01T22:11:53.805Z"
   },
   {
    "duration": 10,
    "start_time": "2025-08-01T22:11:53.875Z"
   },
   {
    "duration": 39,
    "start_time": "2025-08-01T22:11:53.887Z"
   },
   {
    "duration": 36,
    "start_time": "2025-08-01T22:11:53.927Z"
   },
   {
    "duration": 34,
    "start_time": "2025-08-01T22:11:53.965Z"
   },
   {
    "duration": 12,
    "start_time": "2025-08-01T22:11:54.000Z"
   },
   {
    "duration": 17,
    "start_time": "2025-08-01T22:11:54.013Z"
   },
   {
    "duration": 6,
    "start_time": "2025-08-01T22:11:54.031Z"
   },
   {
    "duration": 24,
    "start_time": "2025-08-01T22:11:54.039Z"
   },
   {
    "duration": 5997,
    "start_time": "2025-08-01T22:11:54.065Z"
   },
   {
    "duration": 5,
    "start_time": "2025-08-01T22:12:00.064Z"
   },
   {
    "duration": 74,
    "start_time": "2025-08-01T22:12:00.070Z"
   },
   {
    "duration": 4,
    "start_time": "2025-08-01T22:12:08.723Z"
   },
   {
    "duration": 7077,
    "start_time": "2025-08-01T22:12:13.429Z"
   },
   {
    "duration": 161,
    "start_time": "2025-08-01T22:12:20.508Z"
   },
   {
    "duration": 147,
    "start_time": "2025-08-01T22:12:20.671Z"
   },
   {
    "duration": 149,
    "start_time": "2025-08-01T22:12:20.820Z"
   },
   {
    "duration": 48,
    "start_time": "2025-08-01T22:12:20.971Z"
   },
   {
    "duration": 59,
    "start_time": "2025-08-01T22:12:21.021Z"
   },
   {
    "duration": 3,
    "start_time": "2025-08-01T22:12:21.081Z"
   },
   {
    "duration": 183,
    "start_time": "2025-08-01T22:12:21.085Z"
   },
   {
    "duration": 130,
    "start_time": "2025-08-01T22:12:21.269Z"
   },
   {
    "duration": 3,
    "start_time": "2025-08-01T22:12:21.400Z"
   },
   {
    "duration": 199,
    "start_time": "2025-08-01T22:12:21.405Z"
   },
   {
    "duration": 85,
    "start_time": "2025-08-01T22:12:21.605Z"
   },
   {
    "duration": 27,
    "start_time": "2025-08-01T22:12:21.691Z"
   },
   {
    "duration": 14,
    "start_time": "2025-08-01T22:12:21.722Z"
   },
   {
    "duration": 16,
    "start_time": "2025-08-01T22:12:21.738Z"
   },
   {
    "duration": 771,
    "start_time": "2025-08-01T22:12:21.755Z"
   },
   {
    "duration": 904,
    "start_time": "2025-08-01T22:12:22.528Z"
   },
   {
    "duration": 798,
    "start_time": "2025-08-01T22:12:23.434Z"
   },
   {
    "duration": 505,
    "start_time": "2025-08-01T22:12:24.234Z"
   },
   {
    "duration": 358,
    "start_time": "2025-08-01T22:12:24.741Z"
   },
   {
    "duration": 2,
    "start_time": "2025-08-01T22:12:25.101Z"
   },
   {
    "duration": 372,
    "start_time": "2025-08-01T22:12:25.104Z"
   },
   {
    "duration": 350,
    "start_time": "2025-08-01T22:12:25.477Z"
   },
   {
    "duration": 634,
    "start_time": "2025-08-01T22:12:25.828Z"
   },
   {
    "duration": 3,
    "start_time": "2025-08-01T22:12:26.464Z"
   },
   {
    "duration": 21,
    "start_time": "2025-08-01T22:12:26.469Z"
   },
   {
    "duration": 7,
    "start_time": "2025-08-01T22:12:26.492Z"
   },
   {
    "duration": 5,
    "start_time": "2025-08-01T22:12:26.501Z"
   },
   {
    "duration": 6,
    "start_time": "2025-08-01T22:12:26.507Z"
   },
   {
    "duration": 11,
    "start_time": "2025-08-01T22:12:26.515Z"
   },
   {
    "duration": 9,
    "start_time": "2025-08-01T22:12:26.527Z"
   },
   {
    "duration": 24,
    "start_time": "2025-08-01T22:12:26.537Z"
   },
   {
    "duration": 47,
    "start_time": "2025-08-01T22:12:26.562Z"
   },
   {
    "duration": 11,
    "start_time": "2025-08-01T22:12:26.610Z"
   },
   {
    "duration": 60,
    "start_time": "2025-08-01T22:12:26.623Z"
   },
   {
    "duration": 16,
    "start_time": "2025-08-01T22:12:26.685Z"
   },
   {
    "duration": 269,
    "start_time": "2025-08-01T22:12:26.703Z"
   },
   {
    "duration": 5,
    "start_time": "2025-08-01T22:12:26.974Z"
   },
   {
    "duration": 3,
    "start_time": "2025-08-01T22:12:26.981Z"
   },
   {
    "duration": 6,
    "start_time": "2025-08-01T22:12:26.986Z"
   },
   {
    "duration": 8,
    "start_time": "2025-08-01T22:12:26.995Z"
   },
   {
    "duration": 5944,
    "start_time": "2025-08-01T22:12:27.005Z"
   },
   {
    "duration": 4,
    "start_time": "2025-08-01T22:12:32.961Z"
   },
   {
    "duration": 28,
    "start_time": "2025-08-01T22:12:32.968Z"
   },
   {
    "duration": 6931,
    "start_time": "2025-08-01T22:16:48.767Z"
   },
   {
    "duration": 180,
    "start_time": "2025-08-01T22:16:55.700Z"
   },
   {
    "duration": 140,
    "start_time": "2025-08-01T22:16:55.882Z"
   },
   {
    "duration": 145,
    "start_time": "2025-08-01T22:16:56.024Z"
   },
   {
    "duration": 52,
    "start_time": "2025-08-01T22:16:56.171Z"
   },
   {
    "duration": 59,
    "start_time": "2025-08-01T22:16:56.224Z"
   },
   {
    "duration": 2,
    "start_time": "2025-08-01T22:16:56.285Z"
   },
   {
    "duration": 174,
    "start_time": "2025-08-01T22:16:56.288Z"
   },
   {
    "duration": 123,
    "start_time": "2025-08-01T22:16:56.463Z"
   },
   {
    "duration": 2,
    "start_time": "2025-08-01T22:16:56.589Z"
   },
   {
    "duration": 14,
    "start_time": "2025-08-01T22:16:56.592Z"
   },
   {
    "duration": 14,
    "start_time": "2025-08-01T22:16:56.608Z"
   },
   {
    "duration": 6,
    "start_time": "2025-08-01T22:16:56.624Z"
   },
   {
    "duration": 25,
    "start_time": "2025-08-01T22:16:56.632Z"
   },
   {
    "duration": 7,
    "start_time": "2025-08-01T22:16:56.658Z"
   },
   {
    "duration": 841,
    "start_time": "2025-08-01T22:16:56.666Z"
   },
   {
    "duration": 894,
    "start_time": "2025-08-01T22:16:57.509Z"
   },
   {
    "duration": 807,
    "start_time": "2025-08-01T22:16:58.405Z"
   },
   {
    "duration": 520,
    "start_time": "2025-08-01T22:16:59.214Z"
   },
   {
    "duration": 350,
    "start_time": "2025-08-01T22:16:59.736Z"
   },
   {
    "duration": 3,
    "start_time": "2025-08-01T22:17:00.087Z"
   },
   {
    "duration": 396,
    "start_time": "2025-08-01T22:17:00.091Z"
   },
   {
    "duration": 336,
    "start_time": "2025-08-01T22:17:00.489Z"
   },
   {
    "duration": 539,
    "start_time": "2025-08-01T22:17:00.827Z"
   },
   {
    "duration": 92,
    "start_time": "2025-08-01T22:17:01.369Z"
   },
   {
    "duration": 21,
    "start_time": "2025-08-01T22:17:01.463Z"
   },
   {
    "duration": 245,
    "start_time": "2025-08-01T22:17:01.486Z"
   },
   {
    "duration": 17,
    "start_time": "2025-08-01T22:17:01.735Z"
   },
   {
    "duration": 10,
    "start_time": "2025-08-01T22:17:01.754Z"
   },
   {
    "duration": 12,
    "start_time": "2025-08-01T22:17:01.766Z"
   },
   {
    "duration": 3,
    "start_time": "2025-08-01T22:17:01.780Z"
   },
   {
    "duration": 20,
    "start_time": "2025-08-01T22:17:01.785Z"
   },
   {
    "duration": 61,
    "start_time": "2025-08-01T22:17:01.807Z"
   },
   {
    "duration": 10,
    "start_time": "2025-08-01T22:17:01.870Z"
   },
   {
    "duration": 31,
    "start_time": "2025-08-01T22:17:01.882Z"
   },
   {
    "duration": 52,
    "start_time": "2025-08-01T22:17:01.914Z"
   },
   {
    "duration": 72,
    "start_time": "2025-08-01T22:17:01.968Z"
   },
   {
    "duration": 20,
    "start_time": "2025-08-01T22:17:02.042Z"
   },
   {
    "duration": 6,
    "start_time": "2025-08-01T22:17:02.064Z"
   },
   {
    "duration": 12,
    "start_time": "2025-08-01T22:17:02.072Z"
   },
   {
    "duration": 16,
    "start_time": "2025-08-01T22:17:02.086Z"
   },
   {
    "duration": 5977,
    "start_time": "2025-08-01T22:17:02.103Z"
   },
   {
    "duration": 4,
    "start_time": "2025-08-01T22:17:08.082Z"
   },
   {
    "duration": 23,
    "start_time": "2025-08-01T22:17:08.087Z"
   },
   {
    "duration": 5,
    "start_time": "2025-08-01T22:18:04.311Z"
   },
   {
    "duration": 12835,
    "start_time": "2025-08-02T08:59:15.838Z"
   },
   {
    "duration": 169,
    "start_time": "2025-08-02T08:59:28.675Z"
   },
   {
    "duration": 159,
    "start_time": "2025-08-02T08:59:28.846Z"
   },
   {
    "duration": 155,
    "start_time": "2025-08-02T08:59:29.007Z"
   },
   {
    "duration": 63,
    "start_time": "2025-08-02T08:59:29.163Z"
   },
   {
    "duration": 52,
    "start_time": "2025-08-02T08:59:29.228Z"
   },
   {
    "duration": 3,
    "start_time": "2025-08-02T08:59:29.281Z"
   },
   {
    "duration": 181,
    "start_time": "2025-08-02T08:59:29.286Z"
   },
   {
    "duration": 130,
    "start_time": "2025-08-02T08:59:29.470Z"
   },
   {
    "duration": 2,
    "start_time": "2025-08-02T08:59:29.603Z"
   },
   {
    "duration": 5,
    "start_time": "2025-08-02T08:59:29.607Z"
   },
   {
    "duration": 8,
    "start_time": "2025-08-02T08:59:29.613Z"
   },
   {
    "duration": 5,
    "start_time": "2025-08-02T08:59:29.623Z"
   },
   {
    "duration": 5,
    "start_time": "2025-08-02T08:59:29.630Z"
   },
   {
    "duration": 27,
    "start_time": "2025-08-02T08:59:29.636Z"
   },
   {
    "duration": 877,
    "start_time": "2025-08-02T08:59:29.665Z"
   },
   {
    "duration": 964,
    "start_time": "2025-08-02T08:59:30.544Z"
   },
   {
    "duration": 847,
    "start_time": "2025-08-02T08:59:31.510Z"
   },
   {
    "duration": 489,
    "start_time": "2025-08-02T08:59:32.361Z"
   },
   {
    "duration": 356,
    "start_time": "2025-08-02T08:59:32.852Z"
   },
   {
    "duration": 3,
    "start_time": "2025-08-02T08:59:33.210Z"
   },
   {
    "duration": 374,
    "start_time": "2025-08-02T08:59:33.215Z"
   },
   {
    "duration": 335,
    "start_time": "2025-08-02T08:59:33.591Z"
   },
   {
    "duration": 539,
    "start_time": "2025-08-02T08:59:33.928Z"
   },
   {
    "duration": 3,
    "start_time": "2025-08-02T08:59:34.559Z"
   },
   {
    "duration": 12,
    "start_time": "2025-08-02T08:59:34.564Z"
   },
   {
    "duration": 4,
    "start_time": "2025-08-02T08:59:34.578Z"
   },
   {
    "duration": 4,
    "start_time": "2025-08-02T08:59:34.585Z"
   },
   {
    "duration": 4,
    "start_time": "2025-08-02T08:59:34.591Z"
   },
   {
    "duration": 10,
    "start_time": "2025-08-02T08:59:34.596Z"
   },
   {
    "duration": 17,
    "start_time": "2025-08-02T08:59:34.607Z"
   },
   {
    "duration": 13,
    "start_time": "2025-08-02T08:59:34.626Z"
   },
   {
    "duration": 57,
    "start_time": "2025-08-02T08:59:34.641Z"
   },
   {
    "duration": 12,
    "start_time": "2025-08-02T08:59:34.699Z"
   },
   {
    "duration": 56,
    "start_time": "2025-08-02T08:59:34.712Z"
   },
   {
    "duration": 16,
    "start_time": "2025-08-02T08:59:34.770Z"
   },
   {
    "duration": 129,
    "start_time": "2025-08-02T08:59:34.787Z"
   },
   {
    "duration": 0,
    "start_time": "2025-08-02T08:59:34.917Z"
   },
   {
    "duration": 0,
    "start_time": "2025-08-02T08:59:34.919Z"
   },
   {
    "duration": 0,
    "start_time": "2025-08-02T08:59:34.920Z"
   },
   {
    "duration": 0,
    "start_time": "2025-08-02T08:59:34.921Z"
   },
   {
    "duration": 7923,
    "start_time": "2025-08-02T09:00:24.864Z"
   },
   {
    "duration": 166,
    "start_time": "2025-08-02T09:00:32.789Z"
   },
   {
    "duration": 152,
    "start_time": "2025-08-02T09:00:32.960Z"
   },
   {
    "duration": 150,
    "start_time": "2025-08-02T09:00:33.114Z"
   },
   {
    "duration": 49,
    "start_time": "2025-08-02T09:00:33.266Z"
   },
   {
    "duration": 68,
    "start_time": "2025-08-02T09:00:33.316Z"
   },
   {
    "duration": 3,
    "start_time": "2025-08-02T09:00:33.386Z"
   },
   {
    "duration": 185,
    "start_time": "2025-08-02T09:00:33.391Z"
   },
   {
    "duration": 129,
    "start_time": "2025-08-02T09:00:33.578Z"
   },
   {
    "duration": 3,
    "start_time": "2025-08-02T09:00:33.709Z"
   },
   {
    "duration": 35,
    "start_time": "2025-08-02T09:00:33.713Z"
   },
   {
    "duration": 9,
    "start_time": "2025-08-02T09:00:33.749Z"
   },
   {
    "duration": 12,
    "start_time": "2025-08-02T09:00:33.759Z"
   },
   {
    "duration": 16,
    "start_time": "2025-08-02T09:00:33.772Z"
   },
   {
    "duration": 100,
    "start_time": "2025-08-02T09:00:33.790Z"
   },
   {
    "duration": 889,
    "start_time": "2025-08-02T09:00:33.891Z"
   },
   {
    "duration": 966,
    "start_time": "2025-08-02T09:00:34.781Z"
   },
   {
    "duration": 830,
    "start_time": "2025-08-02T09:00:35.750Z"
   },
   {
    "duration": 481,
    "start_time": "2025-08-02T09:00:36.582Z"
   },
   {
    "duration": 342,
    "start_time": "2025-08-02T09:00:37.065Z"
   },
   {
    "duration": 3,
    "start_time": "2025-08-02T09:00:37.409Z"
   },
   {
    "duration": 417,
    "start_time": "2025-08-02T09:00:37.414Z"
   },
   {
    "duration": 354,
    "start_time": "2025-08-02T09:00:37.833Z"
   },
   {
    "duration": 572,
    "start_time": "2025-08-02T09:00:38.190Z"
   },
   {
    "duration": 4,
    "start_time": "2025-08-02T09:00:38.764Z"
   },
   {
    "duration": 99,
    "start_time": "2025-08-02T09:00:38.770Z"
   },
   {
    "duration": 5,
    "start_time": "2025-08-02T09:00:38.871Z"
   },
   {
    "duration": 5,
    "start_time": "2025-08-02T09:00:38.880Z"
   },
   {
    "duration": 4,
    "start_time": "2025-08-02T09:00:38.886Z"
   },
   {
    "duration": 9,
    "start_time": "2025-08-02T09:00:38.891Z"
   },
   {
    "duration": 4,
    "start_time": "2025-08-02T09:00:38.901Z"
   },
   {
    "duration": 13,
    "start_time": "2025-08-02T09:00:38.906Z"
   },
   {
    "duration": 79,
    "start_time": "2025-08-02T09:00:38.920Z"
   },
   {
    "duration": 16,
    "start_time": "2025-08-02T09:00:39.002Z"
   },
   {
    "duration": 56,
    "start_time": "2025-08-02T09:00:39.020Z"
   },
   {
    "duration": 16,
    "start_time": "2025-08-02T09:00:39.077Z"
   },
   {
    "duration": 230,
    "start_time": "2025-08-02T09:00:39.094Z"
   },
   {
    "duration": 4,
    "start_time": "2025-08-02T09:00:39.326Z"
   },
   {
    "duration": 17,
    "start_time": "2025-08-02T09:00:39.331Z"
   },
   {
    "duration": 21,
    "start_time": "2025-08-02T09:00:39.349Z"
   },
   {
    "duration": 5895,
    "start_time": "2025-08-02T09:00:39.372Z"
   },
   {
    "duration": 7600,
    "start_time": "2025-08-02T09:07:36.018Z"
   },
   {
    "duration": 164,
    "start_time": "2025-08-02T09:07:43.620Z"
   },
   {
    "duration": 150,
    "start_time": "2025-08-02T09:07:43.786Z"
   },
   {
    "duration": 149,
    "start_time": "2025-08-02T09:07:43.939Z"
   },
   {
    "duration": 72,
    "start_time": "2025-08-02T09:07:44.090Z"
   },
   {
    "duration": 32,
    "start_time": "2025-08-02T09:07:44.163Z"
   },
   {
    "duration": 2,
    "start_time": "2025-08-02T09:07:44.196Z"
   },
   {
    "duration": 175,
    "start_time": "2025-08-02T09:07:44.200Z"
   },
   {
    "duration": 125,
    "start_time": "2025-08-02T09:07:44.376Z"
   },
   {
    "duration": 2,
    "start_time": "2025-08-02T09:07:44.504Z"
   },
   {
    "duration": 10,
    "start_time": "2025-08-02T09:07:44.507Z"
   },
   {
    "duration": 6,
    "start_time": "2025-08-02T09:07:44.519Z"
   },
   {
    "duration": 3,
    "start_time": "2025-08-02T09:07:44.527Z"
   },
   {
    "duration": 7,
    "start_time": "2025-08-02T09:07:44.531Z"
   },
   {
    "duration": 23,
    "start_time": "2025-08-02T09:07:44.539Z"
   },
   {
    "duration": 815,
    "start_time": "2025-08-02T09:07:44.564Z"
   },
   {
    "duration": 971,
    "start_time": "2025-08-02T09:07:45.381Z"
   },
   {
    "duration": 813,
    "start_time": "2025-08-02T09:07:46.353Z"
   },
   {
    "duration": 476,
    "start_time": "2025-08-02T09:07:47.168Z"
   },
   {
    "duration": 348,
    "start_time": "2025-08-02T09:07:47.646Z"
   },
   {
    "duration": 3,
    "start_time": "2025-08-02T09:07:47.995Z"
   },
   {
    "duration": 391,
    "start_time": "2025-08-02T09:07:48.000Z"
   },
   {
    "duration": 347,
    "start_time": "2025-08-02T09:07:48.392Z"
   },
   {
    "duration": 624,
    "start_time": "2025-08-02T09:07:48.741Z"
   },
   {
    "duration": 94,
    "start_time": "2025-08-02T09:07:49.367Z"
   },
   {
    "duration": 6,
    "start_time": "2025-08-02T09:07:49.463Z"
   },
   {
    "duration": 9,
    "start_time": "2025-08-02T09:07:49.470Z"
   },
   {
    "duration": 4,
    "start_time": "2025-08-02T09:07:49.484Z"
   },
   {
    "duration": 5,
    "start_time": "2025-08-02T09:07:49.490Z"
   },
   {
    "duration": 11,
    "start_time": "2025-08-02T09:07:49.497Z"
   },
   {
    "duration": 4,
    "start_time": "2025-08-02T09:07:49.510Z"
   },
   {
    "duration": 49,
    "start_time": "2025-08-02T09:07:49.515Z"
   },
   {
    "duration": 44,
    "start_time": "2025-08-02T09:07:49.566Z"
   },
   {
    "duration": 10,
    "start_time": "2025-08-02T09:07:49.612Z"
   },
   {
    "duration": 55,
    "start_time": "2025-08-02T09:07:49.624Z"
   },
   {
    "duration": 16,
    "start_time": "2025-08-02T09:07:49.681Z"
   },
   {
    "duration": 92,
    "start_time": "2025-08-02T09:07:49.698Z"
   },
   {
    "duration": 4,
    "start_time": "2025-08-02T09:07:49.792Z"
   },
   {
    "duration": 8,
    "start_time": "2025-08-02T09:07:49.797Z"
   },
   {
    "duration": 122,
    "start_time": "2025-08-02T09:07:49.806Z"
   },
   {
    "duration": 7248,
    "start_time": "2025-08-02T09:07:49.930Z"
   }
  ],
  "kernelspec": {
   "display_name": "Python 3 (ipykernel)",
   "language": "python",
   "name": "python3"
  },
  "language_info": {
   "codemirror_mode": {
    "name": "ipython",
    "version": 3
   },
   "file_extension": ".py",
   "mimetype": "text/x-python",
   "name": "python",
   "nbconvert_exporter": "python",
   "pygments_lexer": "ipython3",
   "version": "3.9.5"
  },
  "toc": {
   "base_numbering": 1,
   "nav_menu": {},
   "number_sections": true,
   "sideBar": true,
   "skip_h1_title": true,
   "title_cell": "Table of Contents",
   "title_sidebar": "Contents",
   "toc_cell": false,
   "toc_position": {
    "height": "calc(100% - 180px)",
    "left": "10px",
    "top": "150px",
    "width": "243.195px"
   },
   "toc_section_display": true,
   "toc_window_display": true
  }
 },
 "nbformat": 4,
 "nbformat_minor": 2
}
