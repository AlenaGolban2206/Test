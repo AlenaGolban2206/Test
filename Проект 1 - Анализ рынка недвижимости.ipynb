{
 "cells": [
  {
   "cell_type": "markdown",
   "metadata": {
    "id": "-VFbjcb3Awb7"
   },
   "source": [
    "# Исследование объявлений о продаже квартир"
   ]
  },
  {
   "cell_type": "code",
   "execution_count": 52,
   "metadata": {},
   "outputs": [
    {
     "data": {
      "text/html": [
       "\n",
       "<div style=\"font-family: Arial, sans-serif; line-height: 1.6;\">\n",
       "<h1 style=\"color: #2e86c1; border-bottom: 2px solid #2e86c1; padding-bottom: 10px;\">Оглавление проекта</h1>\n",
       "\n",
       "<div style=\"margin-left: 15px;\">\n",
       "    <h2 style=\"color: #2874a6;\"><a href=\"#section1\" style=\"text-decoration: none; color: inherit;\">1. Введение</a></h2>\n",
       "    <ul style=\"list-style-type: circle; margin-top: 5px;\">\n",
       "        <li><a href=\"#section1-1\" style=\"color: #3498db;\">• Описание проекта и цели исследования</a></li>\n",
       "        <li><a href=\"#section1-2\" style=\"color: #3498db;\">• Обзор данных (источник, структура, ключевые параметры)</a></li>\n",
       "    </ul>\n",
       "\n",
       "    <h2 style=\"color: #2874a6;\"><a href=\"#section2\" style=\"text-decoration: none; color: inherit;\">2. Загрузка и первичный анализ данных</a></h2>\n",
       "    <ul style=\"list-style-type: circle; margin-top: 5px;\">\n",
       "        <li><a href=\"#section2-1\" style=\"color: #3498db;\">• Импорт библиотек (pandas, matplotlib, seaborn)</a></li>\n",
       "        <li><a href=\"#section2-2\" style=\"color: #3498db;\">• Загрузка данных</a></li>\n",
       "        <li><a href=\"#section2-3\" style=\"color: #3498db;\">• Общая информация</a></li>\n",
       "        <li><a href=\"#section2-4\" style=\"color: #3498db;\">• Визуализация</a></li>\n",
       "    </ul>\n",
       "\n",
       "    <h2 style=\"color: #2874a6;\"><a href=\"#section3\" style=\"text-decoration: none; color: inherit;\">3. Предобработка данных</a></h2>\n",
       "    <p style=\"margin-left: 20px; margin-bottom: 5px; font-weight: bold;\">Пропущенные значения:</p>\n",
       "    <ul style=\"list-style-type: circle; margin-top: 5px;\">\n",
       "        <li><a href=\"#section3-1\" style=\"color: #3498db;\">• Анализ пропусков</a></li>\n",
       "        <li><a href=\"#section3-2\" style=\"color: #3498db;\">• Заполнение/удаление</a></li>\n",
       "    </ul>\n",
       "    <p style=\"margin-left: 20px; margin-bottom: 5px; font-weight: bold;\">Типы данных:</p>\n",
       "    <ul style=\"list-style-type: circle; margin-top: 5px;\">\n",
       "        <li><a href=\"#section3-3\" style=\"color: #3498db;\">• Корректировка типов</a></li>\n",
       "    </ul>\n",
       "    <p style=\"margin-left: 20px; margin-bottom: 5px; font-weight: bold;\">Устранение дубликатов:</p>\n",
       "    <ul style=\"list-style-type: circle; margin-top: 5px;\">\n",
       "        <li><a href=\"#section3-4\" style=\"color: #3498db;\">• Нормализация названий населённых пунктов</a></li>\n",
       "    </ul>\n",
       "\n",
       "    <h2 style=\"color: #2874a6;\"><a href=\"#section4\" style=\"text-decoration: none; color: inherit;\">4. Добавление новых признаков</a></h2>\n",
       "    <ul style=\"list-style-type: circle; margin-top: 5px;\">\n",
       "        <li><a href=\"#section4-1\" style=\"color: #3498db;\">• Цена за кв.м: price_per_sqm = last_price / total_area</a></li>\n",
       "        <li><a href=\"#section4-2\" style=\"color: #3498db;\">• Дата публикации</a></li>\n",
       "        <li><a href=\"#section4-3\" style=\"color: #3498db;\">• Тип этажа</a></li>\n",
       "        <li><a href=\"#section4-4\" style=\"color: #3498db;\">• Расстояние до центра в км</a></li>\n",
       "    </ul>\n",
       "\n",
       "    <h2 style=\"color: #2874a6;\"><a href=\"#section5\" style=\"text-decoration: none; color: inherit;\">5. Исследовательский анализ данных (EDA)</a></h2>\n",
       "    <p style=\"margin-left: 20px; margin-bottom: 5px; font-weight: bold;\">Анализ распределения параметров:</p>\n",
       "    <ul style=\"list-style-type: circle; margin-top: 5px;\">\n",
       "        <li><a href=\"#section5-1\" style=\"color: #3498db;\">• Гистограммы</a></li>\n",
       "    </ul>\n",
       "    <p style=\"margin-left: 20px; margin-bottom: 5px; font-weight: bold;\">Анализ по локациям:</p>\n",
       "    <ul style=\"list-style-type: circle; margin-top: 5px;\">\n",
       "        <li><a href=\"#section5-2\" style=\"color: #3498db;\">• Топ-10 населённых пунктов по числу объявлений</a></li>\n",
       "        <li><a href=\"#section5-3\" style=\"color: #3498db;\">• Средняя цена кв.м, выделение мин/макс</a></li>\n",
       "        <li><a href=\"#section5-4\" style=\"color: #3498db;\">• Зависимость цены от удалённости от центра СПб</a></li>\n",
       "    </ul>\n",
       "\n",
       "    <h2 style=\"color: #2874a6;\"><a href=\"#section6\" style=\"text-decoration: none; color: inherit;\">6. Выводы</a></h2>\n",
       "    <ul style=\"list-style-type: circle; margin-top: 5px;\">\n",
       "        <li><a href=\"#section6-1\" style=\"color: #3498db;\">• Ключевые факторы, влияющие на цену</a></li>\n",
       "    </ul>\n",
       "</div>\n",
       "\n",
       "<style>\n",
       "    a:hover {\n",
       "        text-decoration: underline !important;\n",
       "        color: #1b4f72 !important;\n",
       "    }\n",
       "    h2 {\n",
       "        margin-top: 20px;\n",
       "        margin-bottom: 10px;\n",
       "    }\n",
       "    ul {\n",
       "        margin-bottom: 10px;\n",
       "    }\n",
       "</style>\n",
       "</div>\n"
      ],
      "text/plain": [
       "<IPython.core.display.HTML object>"
      ]
     },
     "metadata": {},
     "output_type": "display_data"
    }
   ],
   "source": [
    "from IPython.display import display, HTML\n",
    "\n",
    "toc_html = \"\"\"\n",
    "<div style=\"font-family: Arial, sans-serif; line-height: 1.6;\">\n",
    "<h1 style=\"color: #2e86c1; border-bottom: 2px solid #2e86c1; padding-bottom: 10px;\">Оглавление проекта</h1>\n",
    "\n",
    "<div style=\"margin-left: 15px;\">\n",
    "    <h2 style=\"color: #2874a6;\"><a href=\"#section1\" style=\"text-decoration: none; color: inherit;\">1. Введение</a></h2>\n",
    "    <ul style=\"list-style-type: circle; margin-top: 5px;\">\n",
    "        <li><a href=\"#section1-1\" style=\"color: #3498db;\">• Описание проекта и цели исследования</a></li>\n",
    "        <li><a href=\"#section1-2\" style=\"color: #3498db;\">• Обзор данных (источник, структура, ключевые параметры)</a></li>\n",
    "    </ul>\n",
    "\n",
    "    <h2 style=\"color: #2874a6;\"><a href=\"#section2\" style=\"text-decoration: none; color: inherit;\">2. Загрузка и первичный анализ данных</a></h2>\n",
    "    <ul style=\"list-style-type: circle; margin-top: 5px;\">\n",
    "        <li><a href=\"#section2-1\" style=\"color: #3498db;\">• Импорт библиотек (pandas, matplotlib, seaborn)</a></li>\n",
    "        <li><a href=\"#section2-2\" style=\"color: #3498db;\">• Загрузка данных</a></li>\n",
    "        <li><a href=\"#section2-3\" style=\"color: #3498db;\">• Общая информация</a></li>\n",
    "        <li><a href=\"#section2-4\" style=\"color: #3498db;\">• Визуализация</a></li>\n",
    "    </ul>\n",
    "\n",
    "    <h2 style=\"color: #2874a6;\"><a href=\"#section3\" style=\"text-decoration: none; color: inherit;\">3. Предобработка данных</a></h2>\n",
    "    <p style=\"margin-left: 20px; margin-bottom: 5px; font-weight: bold;\">Пропущенные значения:</p>\n",
    "    <ul style=\"list-style-type: circle; margin-top: 5px;\">\n",
    "        <li><a href=\"#section3-1\" style=\"color: #3498db;\">• Анализ пропусков</a></li>\n",
    "        <li><a href=\"#section3-2\" style=\"color: #3498db;\">• Заполнение/удаление</a></li>\n",
    "    </ul>\n",
    "    <p style=\"margin-left: 20px; margin-bottom: 5px; font-weight: bold;\">Типы данных:</p>\n",
    "    <ul style=\"list-style-type: circle; margin-top: 5px;\">\n",
    "        <li><a href=\"#section3-3\" style=\"color: #3498db;\">• Корректировка типов</a></li>\n",
    "    </ul>\n",
    "    <p style=\"margin-left: 20px; margin-bottom: 5px; font-weight: bold;\">Устранение дубликатов:</p>\n",
    "    <ul style=\"list-style-type: circle; margin-top: 5px;\">\n",
    "        <li><a href=\"#section3-4\" style=\"color: #3498db;\">• Нормализация названий населённых пунктов</a></li>\n",
    "    </ul>\n",
    "\n",
    "    <h2 style=\"color: #2874a6;\"><a href=\"#section4\" style=\"text-decoration: none; color: inherit;\">4. Добавление новых признаков</a></h2>\n",
    "    <ul style=\"list-style-type: circle; margin-top: 5px;\">\n",
    "        <li><a href=\"#section4-1\" style=\"color: #3498db;\">• Цена за кв.м: price_per_sqm = last_price / total_area</a></li>\n",
    "        <li><a href=\"#section4-2\" style=\"color: #3498db;\">• Дата публикации</a></li>\n",
    "        <li><a href=\"#section4-3\" style=\"color: #3498db;\">• Тип этажа</a></li>\n",
    "        <li><a href=\"#section4-4\" style=\"color: #3498db;\">• Расстояние до центра в км</a></li>\n",
    "    </ul>\n",
    "\n",
    "    <h2 style=\"color: #2874a6;\"><a href=\"#section5\" style=\"text-decoration: none; color: inherit;\">5. Исследовательский анализ данных (EDA)</a></h2>\n",
    "    <p style=\"margin-left: 20px; margin-bottom: 5px; font-weight: bold;\">Анализ распределения параметров:</p>\n",
    "    <ul style=\"list-style-type: circle; margin-top: 5px;\">\n",
    "        <li><a href=\"#section5-1\" style=\"color: #3498db;\">• Гистограммы</a></li>\n",
    "    </ul>\n",
    "    <p style=\"margin-left: 20px; margin-bottom: 5px; font-weight: bold;\">Анализ по локациям:</p>\n",
    "    <ul style=\"list-style-type: circle; margin-top: 5px;\">\n",
    "        <li><a href=\"#section5-2\" style=\"color: #3498db;\">• Топ-10 населённых пунктов по числу объявлений</a></li>\n",
    "        <li><a href=\"#section5-3\" style=\"color: #3498db;\">• Средняя цена кв.м, выделение мин/макс</a></li>\n",
    "        <li><a href=\"#section5-4\" style=\"color: #3498db;\">• Зависимость цены от удалённости от центра СПб</a></li>\n",
    "    </ul>\n",
    "\n",
    "    <h2 style=\"color: #2874a6;\"><a href=\"#section6\" style=\"text-decoration: none; color: inherit;\">6. Выводы</a></h2>\n",
    "    <ul style=\"list-style-type: circle; margin-top: 5px;\">\n",
    "        <li><a href=\"#section6-1\" style=\"color: #3498db;\">• Ключевые факторы, влияющие на цену</a></li>\n",
    "    </ul>\n",
    "</div>\n",
    "\n",
    "<style>\n",
    "    a:hover {\n",
    "        text-decoration: underline !important;\n",
    "        color: #1b4f72 !important;\n",
    "    }\n",
    "    h2 {\n",
    "        margin-top: 20px;\n",
    "        margin-bottom: 10px;\n",
    "    }\n",
    "    ul {\n",
    "        margin-bottom: 10px;\n",
    "    }\n",
    "</style>\n",
    "</div>\n",
    "\"\"\"\n",
    "\n",
    "display(HTML(toc_html))"
   ]
  },
  {
   "cell_type": "markdown",
   "metadata": {},
   "source": [
    "## Введение"
   ]
  },
  {
   "cell_type": "markdown",
   "metadata": {},
   "source": [
    "В вашем распоряжении данные сервиса Яндекс Недвижимость — архив объявлений о продаже квартир в Санкт-Петербурге и соседних населённых пунктах за несколько лет. Вам нужно научиться определять рыночную стоимость объектов недвижимости. Для этого проведите исследовательский анализ данных и установите параметры, влияющие на цену объектов. Это позволит построить автоматизированную систему: она отследит аномалии и мошенническую деятельность.\n",
    "\n",
    "По каждой квартире на продажу доступны два вида данных. Первые вписаны пользователем, вторые — получены автоматически на основе картографических данных. Например, расстояние до центра, аэропорта и других объектов — эти данные автоматически получены из геосервисов. Количество парков и водоёмов также заполняется без участия пользователя."
   ]
  },
  {
   "cell_type": "markdown",
   "metadata": {},
   "source": [
    "Путь к файлу: /datasets/real_estate_data.csv    \n",
    "      \n",
    "Описание данных:    \n",
    "  \n",
    "airports_nearest — расстояние до ближайшего аэропорта в метрах (м)  \n",
    "balcony — число балконов  \n",
    "ceiling_height — высота потолков (м)  \n",
    "cityCenters_nearest — расстояние до центра города (м)  \n",
    "days_exposition — сколько дней было размещено объявление (от публикации до снятия)  \n",
    "first_day_exposition — дата публикации  \n",
    "floor — этаж  \n",
    "floors_total — всего этажей в доме  \n",
    "is_apartment — апартаменты (булев тип)  \n",
    "kitchen_area — площадь кухни в квадратных метрах (м²)  \n",
    "last_price — цена на момент снятия с публикации  \n",
    "living_area — жилая площадь в квадратных метрах (м²)  \n",
    "locality_name — название населённого пункта  \n",
    "open_plan — свободная планировка (булев тип)  \n",
    "parks_around3000 — число парков в радиусе 3 км  \n",
    "parks_nearest — расстояние до ближайшего парка (м)  \n",
    "ponds_around3000 — число водоёмов в радиусе 3 км  \n",
    "ponds_nearest — расстояние до ближайшего водоёма (м)  \n",
    "rooms — число комнат  \n",
    "studio — квартира-студия (булев тип)  \n",
    "total_area — общая площадь квартиры в квадратных метрах (м²)  \n",
    "total_images — число фотографий квартиры в объявлении  "
   ]
  },
  {
   "cell_type": "markdown",
   "metadata": {
    "id": "aeFLH07FAwb9"
   },
   "source": [
    "## Загрузка и первичный анализ данных"
   ]
  },
  {
   "cell_type": "code",
   "execution_count": 1,
   "metadata": {
    "id": "7MZxY65pAwb9"
   },
   "outputs": [],
   "source": [
    "import pandas as pd\n",
    "pd.set_option('display.max_columns', None)\n",
    "import matplotlib.pyplot as plt\n",
    "#Загрузка бибилиотек"
   ]
  },
  {
   "cell_type": "code",
   "execution_count": 2,
   "metadata": {},
   "outputs": [
    {
     "data": {
      "text/html": [
       "<div>\n",
       "<style scoped>\n",
       "    .dataframe tbody tr th:only-of-type {\n",
       "        vertical-align: middle;\n",
       "    }\n",
       "\n",
       "    .dataframe tbody tr th {\n",
       "        vertical-align: top;\n",
       "    }\n",
       "\n",
       "    .dataframe thead th {\n",
       "        text-align: right;\n",
       "    }\n",
       "</style>\n",
       "<table border=\"1\" class=\"dataframe\">\n",
       "  <thead>\n",
       "    <tr style=\"text-align: right;\">\n",
       "      <th></th>\n",
       "      <th>total_images</th>\n",
       "      <th>last_price</th>\n",
       "      <th>total_area</th>\n",
       "      <th>first_day_exposition</th>\n",
       "      <th>rooms</th>\n",
       "      <th>ceiling_height</th>\n",
       "      <th>floors_total</th>\n",
       "      <th>living_area</th>\n",
       "      <th>floor</th>\n",
       "      <th>is_apartment</th>\n",
       "      <th>studio</th>\n",
       "      <th>open_plan</th>\n",
       "      <th>kitchen_area</th>\n",
       "      <th>balcony</th>\n",
       "      <th>locality_name</th>\n",
       "      <th>airports_nearest</th>\n",
       "      <th>cityCenters_nearest</th>\n",
       "      <th>parks_around3000</th>\n",
       "      <th>parks_nearest</th>\n",
       "      <th>ponds_around3000</th>\n",
       "      <th>ponds_nearest</th>\n",
       "      <th>days_exposition</th>\n",
       "    </tr>\n",
       "  </thead>\n",
       "  <tbody>\n",
       "    <tr>\n",
       "      <th>0</th>\n",
       "      <td>20</td>\n",
       "      <td>13000000.0</td>\n",
       "      <td>108.0</td>\n",
       "      <td>2019-03-07T00:00:00</td>\n",
       "      <td>3</td>\n",
       "      <td>2.70</td>\n",
       "      <td>16.0</td>\n",
       "      <td>51.0</td>\n",
       "      <td>8</td>\n",
       "      <td>NaN</td>\n",
       "      <td>False</td>\n",
       "      <td>False</td>\n",
       "      <td>25.0</td>\n",
       "      <td>NaN</td>\n",
       "      <td>Санкт-Петербург</td>\n",
       "      <td>18863.0</td>\n",
       "      <td>16028.0</td>\n",
       "      <td>1.0</td>\n",
       "      <td>482.0</td>\n",
       "      <td>2.0</td>\n",
       "      <td>755.0</td>\n",
       "      <td>NaN</td>\n",
       "    </tr>\n",
       "    <tr>\n",
       "      <th>1</th>\n",
       "      <td>7</td>\n",
       "      <td>3350000.0</td>\n",
       "      <td>40.4</td>\n",
       "      <td>2018-12-04T00:00:00</td>\n",
       "      <td>1</td>\n",
       "      <td>NaN</td>\n",
       "      <td>11.0</td>\n",
       "      <td>18.6</td>\n",
       "      <td>1</td>\n",
       "      <td>NaN</td>\n",
       "      <td>False</td>\n",
       "      <td>False</td>\n",
       "      <td>11.0</td>\n",
       "      <td>2.0</td>\n",
       "      <td>посёлок Шушары</td>\n",
       "      <td>12817.0</td>\n",
       "      <td>18603.0</td>\n",
       "      <td>0.0</td>\n",
       "      <td>NaN</td>\n",
       "      <td>0.0</td>\n",
       "      <td>NaN</td>\n",
       "      <td>81.0</td>\n",
       "    </tr>\n",
       "    <tr>\n",
       "      <th>2</th>\n",
       "      <td>10</td>\n",
       "      <td>5196000.0</td>\n",
       "      <td>56.0</td>\n",
       "      <td>2015-08-20T00:00:00</td>\n",
       "      <td>2</td>\n",
       "      <td>NaN</td>\n",
       "      <td>5.0</td>\n",
       "      <td>34.3</td>\n",
       "      <td>4</td>\n",
       "      <td>NaN</td>\n",
       "      <td>False</td>\n",
       "      <td>False</td>\n",
       "      <td>8.3</td>\n",
       "      <td>0.0</td>\n",
       "      <td>Санкт-Петербург</td>\n",
       "      <td>21741.0</td>\n",
       "      <td>13933.0</td>\n",
       "      <td>1.0</td>\n",
       "      <td>90.0</td>\n",
       "      <td>2.0</td>\n",
       "      <td>574.0</td>\n",
       "      <td>558.0</td>\n",
       "    </tr>\n",
       "    <tr>\n",
       "      <th>3</th>\n",
       "      <td>0</td>\n",
       "      <td>64900000.0</td>\n",
       "      <td>159.0</td>\n",
       "      <td>2015-07-24T00:00:00</td>\n",
       "      <td>3</td>\n",
       "      <td>NaN</td>\n",
       "      <td>14.0</td>\n",
       "      <td>NaN</td>\n",
       "      <td>9</td>\n",
       "      <td>NaN</td>\n",
       "      <td>False</td>\n",
       "      <td>False</td>\n",
       "      <td>NaN</td>\n",
       "      <td>0.0</td>\n",
       "      <td>Санкт-Петербург</td>\n",
       "      <td>28098.0</td>\n",
       "      <td>6800.0</td>\n",
       "      <td>2.0</td>\n",
       "      <td>84.0</td>\n",
       "      <td>3.0</td>\n",
       "      <td>234.0</td>\n",
       "      <td>424.0</td>\n",
       "    </tr>\n",
       "    <tr>\n",
       "      <th>4</th>\n",
       "      <td>2</td>\n",
       "      <td>10000000.0</td>\n",
       "      <td>100.0</td>\n",
       "      <td>2018-06-19T00:00:00</td>\n",
       "      <td>2</td>\n",
       "      <td>3.03</td>\n",
       "      <td>14.0</td>\n",
       "      <td>32.0</td>\n",
       "      <td>13</td>\n",
       "      <td>NaN</td>\n",
       "      <td>False</td>\n",
       "      <td>False</td>\n",
       "      <td>41.0</td>\n",
       "      <td>NaN</td>\n",
       "      <td>Санкт-Петербург</td>\n",
       "      <td>31856.0</td>\n",
       "      <td>8098.0</td>\n",
       "      <td>2.0</td>\n",
       "      <td>112.0</td>\n",
       "      <td>1.0</td>\n",
       "      <td>48.0</td>\n",
       "      <td>121.0</td>\n",
       "    </tr>\n",
       "  </tbody>\n",
       "</table>\n",
       "</div>"
      ],
      "text/plain": [
       "   total_images  last_price  total_area first_day_exposition  rooms  \\\n",
       "0            20  13000000.0       108.0  2019-03-07T00:00:00      3   \n",
       "1             7   3350000.0        40.4  2018-12-04T00:00:00      1   \n",
       "2            10   5196000.0        56.0  2015-08-20T00:00:00      2   \n",
       "3             0  64900000.0       159.0  2015-07-24T00:00:00      3   \n",
       "4             2  10000000.0       100.0  2018-06-19T00:00:00      2   \n",
       "\n",
       "   ceiling_height  floors_total  living_area  floor is_apartment  studio  \\\n",
       "0            2.70          16.0         51.0      8          NaN   False   \n",
       "1             NaN          11.0         18.6      1          NaN   False   \n",
       "2             NaN           5.0         34.3      4          NaN   False   \n",
       "3             NaN          14.0          NaN      9          NaN   False   \n",
       "4            3.03          14.0         32.0     13          NaN   False   \n",
       "\n",
       "   open_plan  kitchen_area  balcony    locality_name  airports_nearest  \\\n",
       "0      False          25.0      NaN  Санкт-Петербург           18863.0   \n",
       "1      False          11.0      2.0   посёлок Шушары           12817.0   \n",
       "2      False           8.3      0.0  Санкт-Петербург           21741.0   \n",
       "3      False           NaN      0.0  Санкт-Петербург           28098.0   \n",
       "4      False          41.0      NaN  Санкт-Петербург           31856.0   \n",
       "\n",
       "   cityCenters_nearest  parks_around3000  parks_nearest  ponds_around3000  \\\n",
       "0              16028.0               1.0          482.0               2.0   \n",
       "1              18603.0               0.0            NaN               0.0   \n",
       "2              13933.0               1.0           90.0               2.0   \n",
       "3               6800.0               2.0           84.0               3.0   \n",
       "4               8098.0               2.0          112.0               1.0   \n",
       "\n",
       "   ponds_nearest  days_exposition  \n",
       "0          755.0              NaN  \n",
       "1            NaN             81.0  \n",
       "2          574.0            558.0  \n",
       "3          234.0            424.0  \n",
       "4           48.0            121.0  "
      ]
     },
     "execution_count": 2,
     "metadata": {},
     "output_type": "execute_result"
    }
   ],
   "source": [
    "data=pd.read_csv('/datasets/real_estate_data.csv', sep='\\t')\n",
    "data.head(5)\n",
    "#Чтение файла"
   ]
  },
  {
   "cell_type": "code",
   "execution_count": 3,
   "metadata": {
    "scrolled": false
   },
   "outputs": [
    {
     "name": "stdout",
     "output_type": "stream",
     "text": [
      "<class 'pandas.core.frame.DataFrame'>\n",
      "RangeIndex: 23699 entries, 0 to 23698\n",
      "Data columns (total 22 columns):\n",
      " #   Column                Non-Null Count  Dtype  \n",
      "---  ------                --------------  -----  \n",
      " 0   total_images          23699 non-null  int64  \n",
      " 1   last_price            23699 non-null  float64\n",
      " 2   total_area            23699 non-null  float64\n",
      " 3   first_day_exposition  23699 non-null  object \n",
      " 4   rooms                 23699 non-null  int64  \n",
      " 5   ceiling_height        14504 non-null  float64\n",
      " 6   floors_total          23613 non-null  float64\n",
      " 7   living_area           21796 non-null  float64\n",
      " 8   floor                 23699 non-null  int64  \n",
      " 9   is_apartment          2775 non-null   object \n",
      " 10  studio                23699 non-null  bool   \n",
      " 11  open_plan             23699 non-null  bool   \n",
      " 12  kitchen_area          21421 non-null  float64\n",
      " 13  balcony               12180 non-null  float64\n",
      " 14  locality_name         23650 non-null  object \n",
      " 15  airports_nearest      18157 non-null  float64\n",
      " 16  cityCenters_nearest   18180 non-null  float64\n",
      " 17  parks_around3000      18181 non-null  float64\n",
      " 18  parks_nearest         8079 non-null   float64\n",
      " 19  ponds_around3000      18181 non-null  float64\n",
      " 20  ponds_nearest         9110 non-null   float64\n",
      " 21  days_exposition       20518 non-null  float64\n",
      "dtypes: bool(2), float64(14), int64(3), object(3)\n",
      "memory usage: 3.7+ MB\n"
     ]
    }
   ],
   "source": [
    "data.info()#Выводим основную информацию о дф"
   ]
  },
  {
   "cell_type": "code",
   "execution_count": 4,
   "metadata": {},
   "outputs": [
    {
     "data": {
      "image/png": "[encoded data removed]",
      "text/plain": [
       "<Figure size 1080x1440 with 20 Axes>"
      ]
     },
     "metadata": {
      "needs_background": "light"
     },
     "output_type": "display_data"
    }
   ],
   "source": [
    "data.hist(figsize=(15, 20));#строю гистограммы"
   ]
  },
  {
   "cell_type": "markdown",
   "metadata": {},
   "source": [
    "**Промежуточный вывод**  \n",
    "1)В датафрейме 23699 записей.     \n",
    "2)Во многих столбцах стоят пропущенные значения, которые предстоит предобработать.  \n",
    "3)В столбцах с датой и временем стоит некорректный тип данных.   \n",
    "4)Аномалии в гистограммах, они могут негативно повлиять на наши выводы. "
   ]
  },
  {
   "cell_type": "markdown",
   "metadata": {
    "id": "-O5NtivEAwb9"
   },
   "source": [
    "## Предобработка данных"
   ]
  },
  {
   "cell_type": "markdown",
   "metadata": {},
   "source": [
    "Ищем пропуски, дубликаты, правим тип данных"
   ]
  },
  {
   "cell_type": "code",
   "execution_count": 5,
   "metadata": {
    "id": "7v3vAeTuAwb-",
    "scrolled": false
   },
   "outputs": [
    {
     "data": {
      "text/plain": [
       "total_images                0\n",
       "last_price                  0\n",
       "total_area                  0\n",
       "first_day_exposition        0\n",
       "rooms                       0\n",
       "ceiling_height           9195\n",
       "floors_total               86\n",
       "living_area              1903\n",
       "floor                       0\n",
       "is_apartment            20924\n",
       "studio                      0\n",
       "open_plan                   0\n",
       "kitchen_area             2278\n",
       "balcony                 11519\n",
       "locality_name              49\n",
       "airports_nearest         5542\n",
       "cityCenters_nearest      5519\n",
       "parks_around3000         5518\n",
       "parks_nearest           15620\n",
       "ponds_around3000         5518\n",
       "ponds_nearest           14589\n",
       "days_exposition          3181\n",
       "dtype: int64"
      ]
     },
     "execution_count": 5,
     "metadata": {},
     "output_type": "execute_result"
    }
   ],
   "source": [
    "data.isna().sum()#Проверка на пропуски"
   ]
  },
  {
   "cell_type": "code",
   "execution_count": 6,
   "metadata": {},
   "outputs": [
    {
     "data": {
      "text/plain": [
       "5.709531864143031"
      ]
     },
     "execution_count": 6,
     "metadata": {},
     "output_type": "execute_result"
    }
   ],
   "source": [
    "data123=data['total_area'].mean()/data['kitchen_area'].mean()\n",
    "#соотношение средней общей площади к средней куханной площади\n",
    "data123"
   ]
  },
  {
   "cell_type": "code",
   "execution_count": 7,
   "metadata": {},
   "outputs": [
    {
     "data": {
      "text/plain": [
       "1.751375861996321"
      ]
     },
     "execution_count": 7,
     "metadata": {},
     "output_type": "execute_result"
    }
   ],
   "source": [
    "data456=data['total_area'].mean()/data['living_area'].mean()\n",
    "#соотношение средней общей площади к средней жилой площади\n",
    "data456"
   ]
  },
  {
   "cell_type": "code",
   "execution_count": 8,
   "metadata": {},
   "outputs": [
    {
     "data": {
      "text/plain": [
       "total_images                0\n",
       "last_price                  0\n",
       "total_area                  0\n",
       "first_day_exposition        0\n",
       "rooms                       0\n",
       "ceiling_height           9195\n",
       "floors_total               86\n",
       "living_area                 0\n",
       "floor                       0\n",
       "is_apartment                0\n",
       "studio                      0\n",
       "open_plan                   0\n",
       "kitchen_area                0\n",
       "balcony                     0\n",
       "locality_name              49\n",
       "airports_nearest         5542\n",
       "cityCenters_nearest      5519\n",
       "parks_around3000         5518\n",
       "parks_nearest           15620\n",
       "ponds_around3000         5518\n",
       "ponds_nearest           14589\n",
       "days_exposition          3181\n",
       "dtype: int64"
      ]
     },
     "execution_count": 8,
     "metadata": {},
     "output_type": "execute_result"
    }
   ],
   "source": [
    "data['is_apartment']=data['is_apartment'].fillna(value=False)\n",
    "data['balcony']=data['balcony'].fillna(value=0)\n",
    "data['kitchen_area']=data['kitchen_area'].fillna(value=6.58)\n",
    "data['living_area']=data['living_area'].fillna(value=1.77)\n",
    "#заполнение пропусков\n",
    "data.isna().sum()\n",
    "#повторная проверка"
   ]
  },
  {
   "cell_type": "code",
   "execution_count": 9,
   "metadata": {
    "scrolled": false
   },
   "outputs": [
    {
     "data": {
      "text/plain": [
       "days_exposition    95.00\n",
       "ceiling_height      2.65\n",
       "floors_total        9.00\n",
       "living_area        29.00\n",
       "dtype: float64"
      ]
     },
     "execution_count": 9,
     "metadata": {},
     "output_type": "execute_result"
    }
   ],
   "source": [
    "data[{'ceiling_height','floors_total','living_area','days_exposition'}].median()\n",
    "#поиск медианы для столбцов 'ceiling_height','floors_total','living_area','days_exposition'"
   ]
  },
  {
   "cell_type": "code",
   "execution_count": 10,
   "metadata": {},
   "outputs": [
    {
     "data": {
      "text/html": [
       "<div>\n",
       "<style scoped>\n",
       "    .dataframe tbody tr th:only-of-type {\n",
       "        vertical-align: middle;\n",
       "    }\n",
       "\n",
       "    .dataframe tbody tr th {\n",
       "        vertical-align: top;\n",
       "    }\n",
       "\n",
       "    .dataframe thead th {\n",
       "        text-align: right;\n",
       "    }\n",
       "</style>\n",
       "<table border=\"1\" class=\"dataframe\">\n",
       "  <thead>\n",
       "    <tr style=\"text-align: right;\">\n",
       "      <th></th>\n",
       "      <th>total_images</th>\n",
       "      <th>last_price</th>\n",
       "      <th>total_area</th>\n",
       "      <th>first_day_exposition</th>\n",
       "      <th>rooms</th>\n",
       "      <th>ceiling_height</th>\n",
       "      <th>floors_total</th>\n",
       "      <th>living_area</th>\n",
       "      <th>floor</th>\n",
       "      <th>is_apartment</th>\n",
       "      <th>studio</th>\n",
       "      <th>open_plan</th>\n",
       "      <th>kitchen_area</th>\n",
       "      <th>balcony</th>\n",
       "      <th>locality_name</th>\n",
       "      <th>airports_nearest</th>\n",
       "      <th>cityCenters_nearest</th>\n",
       "      <th>parks_around3000</th>\n",
       "      <th>parks_nearest</th>\n",
       "      <th>ponds_around3000</th>\n",
       "      <th>ponds_nearest</th>\n",
       "      <th>days_exposition</th>\n",
       "    </tr>\n",
       "  </thead>\n",
       "  <tbody>\n",
       "    <tr>\n",
       "      <th>0</th>\n",
       "      <td>20</td>\n",
       "      <td>13000000.0</td>\n",
       "      <td>108.0</td>\n",
       "      <td>2019-03-07T00:00:00</td>\n",
       "      <td>3</td>\n",
       "      <td>2.70</td>\n",
       "      <td>16.0</td>\n",
       "      <td>51.00</td>\n",
       "      <td>8</td>\n",
       "      <td>False</td>\n",
       "      <td>False</td>\n",
       "      <td>False</td>\n",
       "      <td>25.00</td>\n",
       "      <td>0.0</td>\n",
       "      <td>Санкт-Петербург</td>\n",
       "      <td>18863.0</td>\n",
       "      <td>16028.0</td>\n",
       "      <td>1.0</td>\n",
       "      <td>482.0</td>\n",
       "      <td>2.0</td>\n",
       "      <td>755.0</td>\n",
       "      <td>NaN</td>\n",
       "    </tr>\n",
       "    <tr>\n",
       "      <th>1</th>\n",
       "      <td>7</td>\n",
       "      <td>3350000.0</td>\n",
       "      <td>40.4</td>\n",
       "      <td>2018-12-04T00:00:00</td>\n",
       "      <td>1</td>\n",
       "      <td>2.65</td>\n",
       "      <td>11.0</td>\n",
       "      <td>18.60</td>\n",
       "      <td>1</td>\n",
       "      <td>False</td>\n",
       "      <td>False</td>\n",
       "      <td>False</td>\n",
       "      <td>11.00</td>\n",
       "      <td>2.0</td>\n",
       "      <td>посёлок Шушары</td>\n",
       "      <td>12817.0</td>\n",
       "      <td>18603.0</td>\n",
       "      <td>0.0</td>\n",
       "      <td>NaN</td>\n",
       "      <td>0.0</td>\n",
       "      <td>NaN</td>\n",
       "      <td>81.0</td>\n",
       "    </tr>\n",
       "    <tr>\n",
       "      <th>2</th>\n",
       "      <td>10</td>\n",
       "      <td>5196000.0</td>\n",
       "      <td>56.0</td>\n",
       "      <td>2015-08-20T00:00:00</td>\n",
       "      <td>2</td>\n",
       "      <td>2.65</td>\n",
       "      <td>5.0</td>\n",
       "      <td>34.30</td>\n",
       "      <td>4</td>\n",
       "      <td>False</td>\n",
       "      <td>False</td>\n",
       "      <td>False</td>\n",
       "      <td>8.30</td>\n",
       "      <td>0.0</td>\n",
       "      <td>Санкт-Петербург</td>\n",
       "      <td>21741.0</td>\n",
       "      <td>13933.0</td>\n",
       "      <td>1.0</td>\n",
       "      <td>90.0</td>\n",
       "      <td>2.0</td>\n",
       "      <td>574.0</td>\n",
       "      <td>558.0</td>\n",
       "    </tr>\n",
       "    <tr>\n",
       "      <th>3</th>\n",
       "      <td>0</td>\n",
       "      <td>64900000.0</td>\n",
       "      <td>159.0</td>\n",
       "      <td>2015-07-24T00:00:00</td>\n",
       "      <td>3</td>\n",
       "      <td>2.65</td>\n",
       "      <td>14.0</td>\n",
       "      <td>1.77</td>\n",
       "      <td>9</td>\n",
       "      <td>False</td>\n",
       "      <td>False</td>\n",
       "      <td>False</td>\n",
       "      <td>6.58</td>\n",
       "      <td>0.0</td>\n",
       "      <td>Санкт-Петербург</td>\n",
       "      <td>28098.0</td>\n",
       "      <td>6800.0</td>\n",
       "      <td>2.0</td>\n",
       "      <td>84.0</td>\n",
       "      <td>3.0</td>\n",
       "      <td>234.0</td>\n",
       "      <td>424.0</td>\n",
       "    </tr>\n",
       "    <tr>\n",
       "      <th>4</th>\n",
       "      <td>2</td>\n",
       "      <td>10000000.0</td>\n",
       "      <td>100.0</td>\n",
       "      <td>2018-06-19T00:00:00</td>\n",
       "      <td>2</td>\n",
       "      <td>3.03</td>\n",
       "      <td>14.0</td>\n",
       "      <td>32.00</td>\n",
       "      <td>13</td>\n",
       "      <td>False</td>\n",
       "      <td>False</td>\n",
       "      <td>False</td>\n",
       "      <td>41.00</td>\n",
       "      <td>0.0</td>\n",
       "      <td>Санкт-Петербург</td>\n",
       "      <td>31856.0</td>\n",
       "      <td>8098.0</td>\n",
       "      <td>2.0</td>\n",
       "      <td>112.0</td>\n",
       "      <td>1.0</td>\n",
       "      <td>48.0</td>\n",
       "      <td>121.0</td>\n",
       "    </tr>\n",
       "  </tbody>\n",
       "</table>\n",
       "</div>"
      ],
      "text/plain": [
       "   total_images  last_price  total_area first_day_exposition  rooms  \\\n",
       "0            20  13000000.0       108.0  2019-03-07T00:00:00      3   \n",
       "1             7   3350000.0        40.4  2018-12-04T00:00:00      1   \n",
       "2            10   5196000.0        56.0  2015-08-20T00:00:00      2   \n",
       "3             0  64900000.0       159.0  2015-07-24T00:00:00      3   \n",
       "4             2  10000000.0       100.0  2018-06-19T00:00:00      2   \n",
       "\n",
       "   ceiling_height  floors_total  living_area  floor  is_apartment  studio  \\\n",
       "0            2.70          16.0        51.00      8         False   False   \n",
       "1            2.65          11.0        18.60      1         False   False   \n",
       "2            2.65           5.0        34.30      4         False   False   \n",
       "3            2.65          14.0         1.77      9         False   False   \n",
       "4            3.03          14.0        32.00     13         False   False   \n",
       "\n",
       "   open_plan  kitchen_area  balcony    locality_name  airports_nearest  \\\n",
       "0      False         25.00      0.0  Санкт-Петербург           18863.0   \n",
       "1      False         11.00      2.0   посёлок Шушары           12817.0   \n",
       "2      False          8.30      0.0  Санкт-Петербург           21741.0   \n",
       "3      False          6.58      0.0  Санкт-Петербург           28098.0   \n",
       "4      False         41.00      0.0  Санкт-Петербург           31856.0   \n",
       "\n",
       "   cityCenters_nearest  parks_around3000  parks_nearest  ponds_around3000  \\\n",
       "0              16028.0               1.0          482.0               2.0   \n",
       "1              18603.0               0.0            NaN               0.0   \n",
       "2              13933.0               1.0           90.0               2.0   \n",
       "3               6800.0               2.0           84.0               3.0   \n",
       "4               8098.0               2.0          112.0               1.0   \n",
       "\n",
       "   ponds_nearest  days_exposition  \n",
       "0          755.0              NaN  \n",
       "1            NaN             81.0  \n",
       "2          574.0            558.0  \n",
       "3          234.0            424.0  \n",
       "4           48.0            121.0  "
      ]
     },
     "execution_count": 10,
     "metadata": {},
     "output_type": "execute_result"
    }
   ],
   "source": [
    "data['floors_total']=data['floors_total'].fillna(value= 9.00)\n",
    "data['ceiling_height']=data['ceiling_height'].fillna(value= 2.65)\n",
    "#заполнение пропусков мединанными значениями\n",
    "data.head(5)"
   ]
  },
  {
   "cell_type": "code",
   "execution_count": 11,
   "metadata": {},
   "outputs": [
    {
     "data": {
      "text/plain": [
       "total_images                0\n",
       "last_price                  0\n",
       "total_area                  0\n",
       "first_day_exposition        0\n",
       "rooms                       0\n",
       "ceiling_height              0\n",
       "floors_total                0\n",
       "living_area                 0\n",
       "floor                       0\n",
       "is_apartment                0\n",
       "studio                      0\n",
       "open_plan                   0\n",
       "kitchen_area                0\n",
       "balcony                     0\n",
       "locality_name              49\n",
       "airports_nearest         5542\n",
       "cityCenters_nearest      5519\n",
       "parks_around3000         5518\n",
       "parks_nearest           15620\n",
       "ponds_around3000         5518\n",
       "ponds_nearest           14589\n",
       "days_exposition          3181\n",
       "dtype: int64"
      ]
     },
     "execution_count": 11,
     "metadata": {},
     "output_type": "execute_result"
    }
   ],
   "source": [
    "data.isna().sum()\n",
    "#повторная проверка на пропуски"
   ]
  },
  {
   "cell_type": "markdown",
   "metadata": {},
   "source": [
    "К пропускам в данных могли привести:  \n",
    "          1)некорректная загрузка данных  \n",
    "          2)некорректная выгрузка данных  \n",
    "          3)недобросоветсное заполнение данных пользователями"
   ]
  },
  {
   "cell_type": "code",
   "execution_count": 12,
   "metadata": {
    "scrolled": true
   },
   "outputs": [
    {
     "name": "stdout",
     "output_type": "stream",
     "text": [
      "<class 'pandas.core.frame.DataFrame'>\n",
      "RangeIndex: 23699 entries, 0 to 23698\n",
      "Data columns (total 22 columns):\n",
      " #   Column                Non-Null Count  Dtype         \n",
      "---  ------                --------------  -----         \n",
      " 0   total_images          23699 non-null  int64         \n",
      " 1   last_price            23699 non-null  float32       \n",
      " 2   total_area            23699 non-null  float32       \n",
      " 3   first_day_exposition  23699 non-null  datetime64[ns]\n",
      " 4   rooms                 23699 non-null  int64         \n",
      " 5   ceiling_height        23699 non-null  float32       \n",
      " 6   floors_total          23699 non-null  float32       \n",
      " 7   living_area           23699 non-null  float32       \n",
      " 8   floor                 23699 non-null  int64         \n",
      " 9   is_apartment          23699 non-null  bool          \n",
      " 10  studio                23699 non-null  bool          \n",
      " 11  open_plan             23699 non-null  bool          \n",
      " 12  kitchen_area          23699 non-null  float32       \n",
      " 13  balcony               23699 non-null  float32       \n",
      " 14  locality_name         23650 non-null  object        \n",
      " 15  airports_nearest      18157 non-null  float32       \n",
      " 16  cityCenters_nearest   18180 non-null  float32       \n",
      " 17  parks_around3000      18181 non-null  float32       \n",
      " 18  parks_nearest         8079 non-null   float32       \n",
      " 19  ponds_around3000      18181 non-null  float64       \n",
      " 20  ponds_nearest         9110 non-null   float64       \n",
      " 21  days_exposition       20518 non-null  float32       \n",
      "dtypes: bool(3), datetime64[ns](1), float32(12), float64(2), int64(3), object(1)\n",
      "memory usage: 2.4+ MB\n"
     ]
    }
   ],
   "source": [
    "data['first_day_exposition']=pd.to_datetime(data['first_day_exposition'],format='%Y-%m-%dT%H:%M:%S')\n",
    "data['is_apartment']=pd.to_numeric(data['is_apartment'])\n",
    "data['last_price']=data['last_price'].astype('float32')\n",
    "data['total_area']=data['total_area'].astype('float32')\n",
    "data['ceiling_height']=data['ceiling_height'].astype('float32')\n",
    "data['floors_total']=data['floors_total'].astype('float32')\n",
    "data['living_area']=data['living_area'].astype('float32')\n",
    "data['kitchen_area']=data['kitchen_area'].astype('float32')\n",
    "data['balcony']=data['balcony'].astype('float32')\n",
    "data['airports_nearest']=data['airports_nearest'].astype('float32')\n",
    "data['cityCenters_nearest']=data['cityCenters_nearest'].astype('float32')\n",
    "data['parks_around3000']=data['parks_around3000'].astype('float32')\n",
    "data['parks_nearest']=data['parks_nearest'].astype('float32')\n",
    "data['days_exposition']=data['days_exposition'].astype('float32')\n",
    "#приведение к корректным типам данных\n",
    "data.info() #проверка на типы данных"
   ]
  },
  {
   "cell_type": "markdown",
   "metadata": {},
   "source": [
    "Изменить Dtype нужно было для значений даты и времени, так как от их отображения зависят реузьтаты исследования -\n",
    "(применимые к ним функции и методы). Также для стобца, в котором описывается квартира ли продается или дом, легче применить и использовать категориальную переменную за счёт цифры, нежели оставить с типом object. Также этот метод позволить наиболее эффективно хранить данные."
   ]
  },
  {
   "cell_type": "code",
   "execution_count": 13,
   "metadata": {
    "scrolled": true
   },
   "outputs": [],
   "source": [
    "data['locality_name'].unique()#вывод уникальных хначений по столбцу\n",
    "data['locality_name']=data['locality_name'].str.lower()#приведение столбцов к нижнему регистру\n",
    "data['locality_name']=data['locality_name'].str.replace('посёлок','поселок')#замена значений"
   ]
  },
  {
   "cell_type": "code",
   "execution_count": 14,
   "metadata": {
    "scrolled": true
   },
   "outputs": [
    {
     "data": {
      "text/plain": [
       "array(['санкт-петербург', 'поселок шушары', 'городской поселок янино-1',\n",
       "       'поселок парголово', 'поселок мурино', 'ломоносов', 'сертолово',\n",
       "       'петергоф', 'пушкин', 'деревня кудрово', 'коммунар', 'колпино',\n",
       "       'поселок городского типа красный бор', 'гатчина',\n",
       "       'деревня фёдоровское', 'выборг', 'кронштадт', 'кировск',\n",
       "       'деревня новое девяткино', 'поселок металлострой',\n",
       "       'поселок городского типа лебяжье',\n",
       "       'поселок городского типа сиверский', 'поселок молодцово',\n",
       "       'поселок городского типа кузьмоловский',\n",
       "       'садовое товарищество новая ропша', 'павловск',\n",
       "       'деревня пикколово', 'всеволожск', 'волхов', 'кингисепп',\n",
       "       'приозерск', 'сестрорецк', 'деревня куттузи', 'поселок аннино',\n",
       "       'поселок городского типа ефимовский', 'поселок плодовое',\n",
       "       'деревня заклинье', 'поселок торковичи', 'поселок первомайское',\n",
       "       'красное село', 'поселок понтонный', 'сясьстрой', 'деревня старая',\n",
       "       'деревня лесколово', 'поселок новый свет', 'сланцы',\n",
       "       'село путилово', 'ивангород', 'мурино', 'шлиссельбург',\n",
       "       'никольское', 'зеленогорск', 'сосновый бор', 'деревня оржицы',\n",
       "       'деревня кальтино', 'кудрово', 'поселок романовка',\n",
       "       'поселок бугры', 'поселок городского типа рощино', 'кириши',\n",
       "       'луга', 'волосово', 'отрадное', 'село павлово', 'поселок оредеж',\n",
       "       'село копорье', 'поселок молодёжное', 'тихвин', 'поселок победа',\n",
       "       'деревня нурма', 'поселок городского типа синявино', 'тосно',\n",
       "       'поселок стрельна', 'бокситогорск', 'поселок александровская',\n",
       "       'деревня лопухинка', 'пикалёво', 'поселок терволово',\n",
       "       'поселок городского типа советский', 'подпорожье',\n",
       "       'поселок петровское', 'поселок городского типа токсово',\n",
       "       'поселок сельцо', 'поселок городского типа вырица',\n",
       "       'деревня кипень', 'деревня келози', 'деревня вартемяги',\n",
       "       'поселок тельмана', 'поселок севастьяново',\n",
       "       'городской поселок большая ижора', nan,\n",
       "       'городской поселок павлово', 'деревня агалатово',\n",
       "       'поселок новогорелово', 'городской поселок лесогорский',\n",
       "       'деревня лаголово', 'поселок цвелодубово',\n",
       "       'поселок городского типа рахья', 'деревня белогорка',\n",
       "       'поселок заводской', 'городской поселок новоселье',\n",
       "       'деревня большие колпаны', 'деревня горбунки', 'деревня батово',\n",
       "       'деревня заневка', 'деревня иссад', 'приморск',\n",
       "       'городской поселок фёдоровское', 'деревня мистолово',\n",
       "       'новая ладога', 'поселок зимитицы', 'поселок барышево',\n",
       "       'деревня разметелево', 'поселок городского типа имени свердлова',\n",
       "       'деревня пеники', 'поселок рябово', 'деревня пудомяги',\n",
       "       'поселок станции корнево', 'деревня низино', 'деревня бегуницы',\n",
       "       'поселок поляны', 'городской поселок мга', 'поселок елизаветино',\n",
       "       'поселок городского типа кузнечное', 'деревня колтуши',\n",
       "       'поселок запорожское', 'деревня гостилицы',\n",
       "       'деревня малое карлино', 'поселок мичуринское',\n",
       "       'поселок городского типа имени морозова', 'поселок песочный',\n",
       "       'поселок сосново', 'деревня аро', 'поселок ильичёво',\n",
       "       'поселок городского типа тайцы', 'деревня малое верево',\n",
       "       'деревня извара', 'поселок станции вещево', 'село паша',\n",
       "       'деревня калитино', 'поселок городского типа ульяновка',\n",
       "       'деревня чудской бор', 'поселок городского типа дубровка',\n",
       "       'деревня мины', 'поселок войсковицы', 'деревня коркино',\n",
       "       'поселок ропша', 'поселок городского типа приладожский',\n",
       "       'поселок щеглово', 'поселок гаврилово', 'лодейное поле',\n",
       "       'деревня рабитицы', 'поселок городского типа никольский',\n",
       "       'деревня кузьмолово', 'деревня малые колпаны',\n",
       "       'поселок петро-славянка', 'городской поселок назия',\n",
       "       'поселок репино', 'поселок углово', 'поселок старая малукса',\n",
       "       'садовое товарищество рахья', 'деревня меньково',\n",
       "       'деревня старые бегуницы', 'поселок сапёрный', 'поселок семрино',\n",
       "       'поселок глажево', 'поселок кобринское', 'деревня гарболово',\n",
       "       'деревня юкки', 'поселок станции приветнинское',\n",
       "       'деревня мануйлово', 'деревня пчева', 'поселок цвылёво',\n",
       "       'поселок мельниково', 'поселок пудость', 'поселок усть-луга',\n",
       "       'светогорск', 'любань', 'поселок селезнёво',\n",
       "       'поселок городского типа рябово', 'каменногорск', 'деревня кривко',\n",
       "       'поселок глебычево', 'деревня парицы', 'поселок жилпоселок',\n",
       "       'поселок городского типа мга', 'поселок войскорово',\n",
       "       'село никольское', 'поселок стеклянный',\n",
       "       'поселок городского типа важины', 'поселок мыза-ивановка',\n",
       "       'село русско-высоцкое', 'поселок городского типа форносово',\n",
       "       'село старая ладога', 'поселок житково',\n",
       "       'городской поселок виллози', 'деревня лампово',\n",
       "       'деревня шпаньково', 'деревня лаврики', 'поселок сумино',\n",
       "       'поселок возрождение', 'деревня старосиверская',\n",
       "       'поселок кикерино', 'деревня старое хинколово',\n",
       "       'поселок пригородный', 'поселок торфяное',\n",
       "       'городской поселок будогощь', 'поселок суходолье',\n",
       "       'поселок красная долина', 'деревня хапо-ое',\n",
       "       'поселок городского типа дружная горка', 'поселок лисий нос',\n",
       "       'деревня яльгелево', 'село рождествено', 'деревня старополье',\n",
       "       'поселок левашово', 'деревня сяськелево', 'деревня камышовка',\n",
       "       'садоводческое некоммерческое товарищество лесная поляна',\n",
       "       'деревня хязельки', 'поселок жилгородок',\n",
       "       'поселок городского типа павлово', 'деревня ялгино',\n",
       "       'поселок новый учхоз', 'городской поселок рощино',\n",
       "       'поселок гончарово', 'поселок почап', 'поселок сапёрное',\n",
       "       'поселок платформа 69-й километр', 'поселок каложицы',\n",
       "       'деревня фалилеево', 'деревня пельгора',\n",
       "       'поселок городского типа лесогорский', 'деревня торошковичи',\n",
       "       'поселок белоостров', 'поселок алексеевка', 'поселок серебрянский',\n",
       "       'поселок лукаши', 'деревня щеглово', 'деревня тарасово',\n",
       "       'поселок кингисеппский',\n",
       "       'поселок при железнодорожной станции вещево', 'поселок ушаки',\n",
       "       'деревня котлы', 'деревня сижно', 'деревня торосово',\n",
       "       'поселок форт красная горка', 'деревня новолисино',\n",
       "       'поселок станции громово', 'деревня глинка',\n",
       "       'поселок городского типа назия', 'деревня старая пустошь',\n",
       "       'поселок коммунары', 'поселок починок',\n",
       "       'поселок городского типа вознесенье', 'деревня разбегаево',\n",
       "       'поселок гладкое',\n",
       "       'поселок при железнодорожной станции приветнинское',\n",
       "       'поселок тёсово-4', 'деревня бор', 'поселок коробицыно',\n",
       "       'деревня большая вруда', 'деревня курковицы',\n",
       "       'городской поселок советский', 'поселок кобралово',\n",
       "       'деревня суоранда', 'поселок городского типа кондратьево',\n",
       "       'коттеджный поселок счастье', 'поселок любань', 'деревня реброво',\n",
       "       'деревня зимитицы', 'деревня тойворово', 'поселок семиозерье',\n",
       "       'поселок лесное', 'поселок совхозный', 'поселок ленинское',\n",
       "       'поселок суйда', 'деревня нижние осельки', 'поселок станции свирь',\n",
       "       'поселок перово', 'высоцк', 'поселок гарболово', 'село шум',\n",
       "       'поселок котельский', 'поселок станции лужайка',\n",
       "       'деревня большая пустомержа', 'поселок красносельское',\n",
       "       'деревня вахнова кара', 'деревня пижма',\n",
       "       'коттеджный поселок кивеннапа север', 'поселок ромашки',\n",
       "       'деревня каськово', 'деревня куровицы', 'поселок плоское',\n",
       "       'поселок городского типа большая ижора', 'поселок кирпичное',\n",
       "       'деревня ям-тесово', 'деревня раздолье', 'деревня терпилицы',\n",
       "       'поселок шугозеро', 'деревня ваганово', 'поселок пушное',\n",
       "       'садовое товарищество садко', 'поселок усть-ижора',\n",
       "       'деревня выскатка', 'городской поселок свирьстрой',\n",
       "       'поселок громово', 'деревня кисельня', 'деревня трубников бор',\n",
       "       'поселок калитино', 'поселок высокоключевой',\n",
       "       'садовое товарищество приладожский',\n",
       "       'поселок пансионат зелёный бор', 'деревня ненимяки',\n",
       "       'деревня снегирёвка', 'деревня рапполово', 'деревня пустынка',\n",
       "       'поселок рабитицы', 'деревня большой сабск', 'деревня русско',\n",
       "       'деревня лупполово', 'деревня большое рейзино',\n",
       "       'деревня малая романовка', 'поселок дружноселье', 'поселок пчевжа',\n",
       "       'поселок володарское', 'деревня нижняя',\n",
       "       'коттеджный поселок лесное', 'деревня тихковицы',\n",
       "       'деревня борисова грива', 'поселок дзержинского'], dtype=object)"
      ]
     },
     "execution_count": 14,
     "metadata": {},
     "output_type": "execute_result"
    }
   ],
   "source": [
    "data['locality_name'].unique()#перепроверка"
   ]
  },
  {
   "cell_type": "code",
   "execution_count": 15,
   "metadata": {},
   "outputs": [
    {
     "data": {
      "text/plain": [
       "санкт-петербург                                            15721\n",
       "поселок мурино                                               556\n",
       "поселок шушары                                               440\n",
       "всеволожск                                                   398\n",
       "пушкин                                                       369\n",
       "                                                           ...  \n",
       "садоводческое некоммерческое товарищество лесная поляна        1\n",
       "деревня чудской бор                                            1\n",
       "деревня хязельки                                               1\n",
       "поселок станции корнево                                        1\n",
       "поселок почап                                                  1\n",
       "Name: locality_name, Length: 322, dtype: int64"
      ]
     },
     "execution_count": 15,
     "metadata": {},
     "output_type": "execute_result"
    }
   ],
   "source": [
    "data['locality_name']=data['locality_name'].replace(['поселок городского типа', 'городской поселок'], 'поселок', regex=True)\n",
    "#замена значений\n",
    "data['locality_name'].value_counts()#группировка данных по названиям по убыванию"
   ]
  },
  {
   "cell_type": "markdown",
   "metadata": {
    "id": "QCcvyY6YAwb-"
   },
   "source": [
    "## Добавление новых признаков"
   ]
  },
  {
   "cell_type": "markdown",
   "metadata": {},
   "source": [
    "Добавление новых столбцов в дф"
   ]
  },
  {
   "cell_type": "code",
   "execution_count": 16,
   "metadata": {
    "id": "Z8eJek3IAwb-"
   },
   "outputs": [
    {
     "data": {
      "text/html": [
       "<div>\n",
       "<style scoped>\n",
       "    .dataframe tbody tr th:only-of-type {\n",
       "        vertical-align: middle;\n",
       "    }\n",
       "\n",
       "    .dataframe tbody tr th {\n",
       "        vertical-align: top;\n",
       "    }\n",
       "\n",
       "    .dataframe thead th {\n",
       "        text-align: right;\n",
       "    }\n",
       "</style>\n",
       "<table border=\"1\" class=\"dataframe\">\n",
       "  <thead>\n",
       "    <tr style=\"text-align: right;\">\n",
       "      <th></th>\n",
       "      <th>total_images</th>\n",
       "      <th>last_price</th>\n",
       "      <th>total_area</th>\n",
       "      <th>first_day_exposition</th>\n",
       "      <th>rooms</th>\n",
       "      <th>ceiling_height</th>\n",
       "      <th>floors_total</th>\n",
       "      <th>living_area</th>\n",
       "      <th>floor</th>\n",
       "      <th>is_apartment</th>\n",
       "      <th>studio</th>\n",
       "      <th>open_plan</th>\n",
       "      <th>kitchen_area</th>\n",
       "      <th>balcony</th>\n",
       "      <th>locality_name</th>\n",
       "      <th>airports_nearest</th>\n",
       "      <th>cityCenters_nearest</th>\n",
       "      <th>parks_around3000</th>\n",
       "      <th>parks_nearest</th>\n",
       "      <th>ponds_around3000</th>\n",
       "      <th>ponds_nearest</th>\n",
       "      <th>days_exposition</th>\n",
       "      <th>price_per_m</th>\n",
       "      <th>day_of_exp</th>\n",
       "      <th>month_of_exp</th>\n",
       "      <th>year_of_exp</th>\n",
       "    </tr>\n",
       "  </thead>\n",
       "  <tbody>\n",
       "    <tr>\n",
       "      <th>0</th>\n",
       "      <td>20</td>\n",
       "      <td>13000000.0</td>\n",
       "      <td>108.000000</td>\n",
       "      <td>2019-03-07</td>\n",
       "      <td>3</td>\n",
       "      <td>2.70</td>\n",
       "      <td>16.0</td>\n",
       "      <td>51.000000</td>\n",
       "      <td>8</td>\n",
       "      <td>False</td>\n",
       "      <td>False</td>\n",
       "      <td>False</td>\n",
       "      <td>25.00</td>\n",
       "      <td>0.0</td>\n",
       "      <td>санкт-петербург</td>\n",
       "      <td>18863.0</td>\n",
       "      <td>16028.0</td>\n",
       "      <td>1.0</td>\n",
       "      <td>482.0</td>\n",
       "      <td>2.0</td>\n",
       "      <td>755.0</td>\n",
       "      <td>NaN</td>\n",
       "      <td>120370.367188</td>\n",
       "      <td>3</td>\n",
       "      <td>3</td>\n",
       "      <td>2019</td>\n",
       "    </tr>\n",
       "    <tr>\n",
       "      <th>1</th>\n",
       "      <td>7</td>\n",
       "      <td>3350000.0</td>\n",
       "      <td>40.400002</td>\n",
       "      <td>2018-12-04</td>\n",
       "      <td>1</td>\n",
       "      <td>2.65</td>\n",
       "      <td>11.0</td>\n",
       "      <td>18.600000</td>\n",
       "      <td>1</td>\n",
       "      <td>False</td>\n",
       "      <td>False</td>\n",
       "      <td>False</td>\n",
       "      <td>11.00</td>\n",
       "      <td>2.0</td>\n",
       "      <td>поселок шушары</td>\n",
       "      <td>12817.0</td>\n",
       "      <td>18603.0</td>\n",
       "      <td>0.0</td>\n",
       "      <td>NaN</td>\n",
       "      <td>0.0</td>\n",
       "      <td>NaN</td>\n",
       "      <td>81.0</td>\n",
       "      <td>82920.789062</td>\n",
       "      <td>1</td>\n",
       "      <td>12</td>\n",
       "      <td>2018</td>\n",
       "    </tr>\n",
       "    <tr>\n",
       "      <th>2</th>\n",
       "      <td>10</td>\n",
       "      <td>5196000.0</td>\n",
       "      <td>56.000000</td>\n",
       "      <td>2015-08-20</td>\n",
       "      <td>2</td>\n",
       "      <td>2.65</td>\n",
       "      <td>5.0</td>\n",
       "      <td>34.299999</td>\n",
       "      <td>4</td>\n",
       "      <td>False</td>\n",
       "      <td>False</td>\n",
       "      <td>False</td>\n",
       "      <td>8.30</td>\n",
       "      <td>0.0</td>\n",
       "      <td>санкт-петербург</td>\n",
       "      <td>21741.0</td>\n",
       "      <td>13933.0</td>\n",
       "      <td>1.0</td>\n",
       "      <td>90.0</td>\n",
       "      <td>2.0</td>\n",
       "      <td>574.0</td>\n",
       "      <td>558.0</td>\n",
       "      <td>92785.710938</td>\n",
       "      <td>3</td>\n",
       "      <td>8</td>\n",
       "      <td>2015</td>\n",
       "    </tr>\n",
       "    <tr>\n",
       "      <th>3</th>\n",
       "      <td>0</td>\n",
       "      <td>64900000.0</td>\n",
       "      <td>159.000000</td>\n",
       "      <td>2015-07-24</td>\n",
       "      <td>3</td>\n",
       "      <td>2.65</td>\n",
       "      <td>14.0</td>\n",
       "      <td>1.770000</td>\n",
       "      <td>9</td>\n",
       "      <td>False</td>\n",
       "      <td>False</td>\n",
       "      <td>False</td>\n",
       "      <td>6.58</td>\n",
       "      <td>0.0</td>\n",
       "      <td>санкт-петербург</td>\n",
       "      <td>28098.0</td>\n",
       "      <td>6800.0</td>\n",
       "      <td>2.0</td>\n",
       "      <td>84.0</td>\n",
       "      <td>3.0</td>\n",
       "      <td>234.0</td>\n",
       "      <td>424.0</td>\n",
       "      <td>408176.093750</td>\n",
       "      <td>4</td>\n",
       "      <td>7</td>\n",
       "      <td>2015</td>\n",
       "    </tr>\n",
       "    <tr>\n",
       "      <th>4</th>\n",
       "      <td>2</td>\n",
       "      <td>10000000.0</td>\n",
       "      <td>100.000000</td>\n",
       "      <td>2018-06-19</td>\n",
       "      <td>2</td>\n",
       "      <td>3.03</td>\n",
       "      <td>14.0</td>\n",
       "      <td>32.000000</td>\n",
       "      <td>13</td>\n",
       "      <td>False</td>\n",
       "      <td>False</td>\n",
       "      <td>False</td>\n",
       "      <td>41.00</td>\n",
       "      <td>0.0</td>\n",
       "      <td>санкт-петербург</td>\n",
       "      <td>31856.0</td>\n",
       "      <td>8098.0</td>\n",
       "      <td>2.0</td>\n",
       "      <td>112.0</td>\n",
       "      <td>1.0</td>\n",
       "      <td>48.0</td>\n",
       "      <td>121.0</td>\n",
       "      <td>100000.000000</td>\n",
       "      <td>1</td>\n",
       "      <td>6</td>\n",
       "      <td>2018</td>\n",
       "    </tr>\n",
       "  </tbody>\n",
       "</table>\n",
       "</div>"
      ],
      "text/plain": [
       "   total_images  last_price  total_area first_day_exposition  rooms  \\\n",
       "0            20  13000000.0  108.000000           2019-03-07      3   \n",
       "1             7   3350000.0   40.400002           2018-12-04      1   \n",
       "2            10   5196000.0   56.000000           2015-08-20      2   \n",
       "3             0  64900000.0  159.000000           2015-07-24      3   \n",
       "4             2  10000000.0  100.000000           2018-06-19      2   \n",
       "\n",
       "   ceiling_height  floors_total  living_area  floor  is_apartment  studio  \\\n",
       "0            2.70          16.0    51.000000      8         False   False   \n",
       "1            2.65          11.0    18.600000      1         False   False   \n",
       "2            2.65           5.0    34.299999      4         False   False   \n",
       "3            2.65          14.0     1.770000      9         False   False   \n",
       "4            3.03          14.0    32.000000     13         False   False   \n",
       "\n",
       "   open_plan  kitchen_area  balcony    locality_name  airports_nearest  \\\n",
       "0      False         25.00      0.0  санкт-петербург           18863.0   \n",
       "1      False         11.00      2.0   поселок шушары           12817.0   \n",
       "2      False          8.30      0.0  санкт-петербург           21741.0   \n",
       "3      False          6.58      0.0  санкт-петербург           28098.0   \n",
       "4      False         41.00      0.0  санкт-петербург           31856.0   \n",
       "\n",
       "   cityCenters_nearest  parks_around3000  parks_nearest  ponds_around3000  \\\n",
       "0              16028.0               1.0          482.0               2.0   \n",
       "1              18603.0               0.0            NaN               0.0   \n",
       "2              13933.0               1.0           90.0               2.0   \n",
       "3               6800.0               2.0           84.0               3.0   \n",
       "4               8098.0               2.0          112.0               1.0   \n",
       "\n",
       "   ponds_nearest  days_exposition    price_per_m  day_of_exp  month_of_exp  \\\n",
       "0          755.0              NaN  120370.367188           3             3   \n",
       "1            NaN             81.0   82920.789062           1            12   \n",
       "2          574.0            558.0   92785.710938           3             8   \n",
       "3          234.0            424.0  408176.093750           4             7   \n",
       "4           48.0            121.0  100000.000000           1             6   \n",
       "\n",
       "   year_of_exp  \n",
       "0         2019  \n",
       "1         2018  \n",
       "2         2015  \n",
       "3         2015  \n",
       "4         2018  "
      ]
     },
     "execution_count": 16,
     "metadata": {},
     "output_type": "execute_result"
    }
   ],
   "source": [
    "data['price_per_m']=(data['last_price']/data['total_area']).round(2)\n",
    "data['day_of_exp']=data['first_day_exposition'].dt.weekday\n",
    "data['month_of_exp']=data['first_day_exposition'].dt.month\n",
    "data['year_of_exp']=data['first_day_exposition'].dt.year\n",
    "#добавление новых столбцов в нужном формате    \n",
    "data.head(5)"
   ]
  },
  {
   "cell_type": "code",
   "execution_count": 17,
   "metadata": {},
   "outputs": [
    {
     "data": {
      "text/html": [
       "<div>\n",
       "<style scoped>\n",
       "    .dataframe tbody tr th:only-of-type {\n",
       "        vertical-align: middle;\n",
       "    }\n",
       "\n",
       "    .dataframe tbody tr th {\n",
       "        vertical-align: top;\n",
       "    }\n",
       "\n",
       "    .dataframe thead th {\n",
       "        text-align: right;\n",
       "    }\n",
       "</style>\n",
       "<table border=\"1\" class=\"dataframe\">\n",
       "  <thead>\n",
       "    <tr style=\"text-align: right;\">\n",
       "      <th></th>\n",
       "      <th>total_images</th>\n",
       "      <th>last_price</th>\n",
       "      <th>total_area</th>\n",
       "      <th>first_day_exposition</th>\n",
       "      <th>rooms</th>\n",
       "      <th>ceiling_height</th>\n",
       "      <th>floors_total</th>\n",
       "      <th>living_area</th>\n",
       "      <th>floor</th>\n",
       "      <th>is_apartment</th>\n",
       "      <th>studio</th>\n",
       "      <th>open_plan</th>\n",
       "      <th>kitchen_area</th>\n",
       "      <th>balcony</th>\n",
       "      <th>locality_name</th>\n",
       "      <th>airports_nearest</th>\n",
       "      <th>cityCenters_nearest</th>\n",
       "      <th>parks_around3000</th>\n",
       "      <th>parks_nearest</th>\n",
       "      <th>ponds_around3000</th>\n",
       "      <th>ponds_nearest</th>\n",
       "      <th>days_exposition</th>\n",
       "      <th>price_per_m</th>\n",
       "      <th>day_of_exp</th>\n",
       "      <th>month_of_exp</th>\n",
       "      <th>year_of_exp</th>\n",
       "      <th>floor_name_full</th>\n",
       "    </tr>\n",
       "  </thead>\n",
       "  <tbody>\n",
       "    <tr>\n",
       "      <th>0</th>\n",
       "      <td>20</td>\n",
       "      <td>13000000.0</td>\n",
       "      <td>108.000000</td>\n",
       "      <td>2019-03-07</td>\n",
       "      <td>3</td>\n",
       "      <td>2.70</td>\n",
       "      <td>16.0</td>\n",
       "      <td>51.000000</td>\n",
       "      <td>8</td>\n",
       "      <td>False</td>\n",
       "      <td>False</td>\n",
       "      <td>False</td>\n",
       "      <td>25.00</td>\n",
       "      <td>0.0</td>\n",
       "      <td>санкт-петербург</td>\n",
       "      <td>18863.0</td>\n",
       "      <td>16028.0</td>\n",
       "      <td>1.0</td>\n",
       "      <td>482.0</td>\n",
       "      <td>2.0</td>\n",
       "      <td>755.0</td>\n",
       "      <td>NaN</td>\n",
       "      <td>120370.367188</td>\n",
       "      <td>3</td>\n",
       "      <td>3</td>\n",
       "      <td>2019</td>\n",
       "      <td>другой</td>\n",
       "    </tr>\n",
       "    <tr>\n",
       "      <th>1</th>\n",
       "      <td>7</td>\n",
       "      <td>3350000.0</td>\n",
       "      <td>40.400002</td>\n",
       "      <td>2018-12-04</td>\n",
       "      <td>1</td>\n",
       "      <td>2.65</td>\n",
       "      <td>11.0</td>\n",
       "      <td>18.600000</td>\n",
       "      <td>1</td>\n",
       "      <td>False</td>\n",
       "      <td>False</td>\n",
       "      <td>False</td>\n",
       "      <td>11.00</td>\n",
       "      <td>2.0</td>\n",
       "      <td>поселок шушары</td>\n",
       "      <td>12817.0</td>\n",
       "      <td>18603.0</td>\n",
       "      <td>0.0</td>\n",
       "      <td>NaN</td>\n",
       "      <td>0.0</td>\n",
       "      <td>NaN</td>\n",
       "      <td>81.0</td>\n",
       "      <td>82920.789062</td>\n",
       "      <td>1</td>\n",
       "      <td>12</td>\n",
       "      <td>2018</td>\n",
       "      <td>первый</td>\n",
       "    </tr>\n",
       "    <tr>\n",
       "      <th>2</th>\n",
       "      <td>10</td>\n",
       "      <td>5196000.0</td>\n",
       "      <td>56.000000</td>\n",
       "      <td>2015-08-20</td>\n",
       "      <td>2</td>\n",
       "      <td>2.65</td>\n",
       "      <td>5.0</td>\n",
       "      <td>34.299999</td>\n",
       "      <td>4</td>\n",
       "      <td>False</td>\n",
       "      <td>False</td>\n",
       "      <td>False</td>\n",
       "      <td>8.30</td>\n",
       "      <td>0.0</td>\n",
       "      <td>санкт-петербург</td>\n",
       "      <td>21741.0</td>\n",
       "      <td>13933.0</td>\n",
       "      <td>1.0</td>\n",
       "      <td>90.0</td>\n",
       "      <td>2.0</td>\n",
       "      <td>574.0</td>\n",
       "      <td>558.0</td>\n",
       "      <td>92785.710938</td>\n",
       "      <td>3</td>\n",
       "      <td>8</td>\n",
       "      <td>2015</td>\n",
       "      <td>другой</td>\n",
       "    </tr>\n",
       "    <tr>\n",
       "      <th>3</th>\n",
       "      <td>0</td>\n",
       "      <td>64900000.0</td>\n",
       "      <td>159.000000</td>\n",
       "      <td>2015-07-24</td>\n",
       "      <td>3</td>\n",
       "      <td>2.65</td>\n",
       "      <td>14.0</td>\n",
       "      <td>1.770000</td>\n",
       "      <td>9</td>\n",
       "      <td>False</td>\n",
       "      <td>False</td>\n",
       "      <td>False</td>\n",
       "      <td>6.58</td>\n",
       "      <td>0.0</td>\n",
       "      <td>санкт-петербург</td>\n",
       "      <td>28098.0</td>\n",
       "      <td>6800.0</td>\n",
       "      <td>2.0</td>\n",
       "      <td>84.0</td>\n",
       "      <td>3.0</td>\n",
       "      <td>234.0</td>\n",
       "      <td>424.0</td>\n",
       "      <td>408176.093750</td>\n",
       "      <td>4</td>\n",
       "      <td>7</td>\n",
       "      <td>2015</td>\n",
       "      <td>другой</td>\n",
       "    </tr>\n",
       "    <tr>\n",
       "      <th>4</th>\n",
       "      <td>2</td>\n",
       "      <td>10000000.0</td>\n",
       "      <td>100.000000</td>\n",
       "      <td>2018-06-19</td>\n",
       "      <td>2</td>\n",
       "      <td>3.03</td>\n",
       "      <td>14.0</td>\n",
       "      <td>32.000000</td>\n",
       "      <td>13</td>\n",
       "      <td>False</td>\n",
       "      <td>False</td>\n",
       "      <td>False</td>\n",
       "      <td>41.00</td>\n",
       "      <td>0.0</td>\n",
       "      <td>санкт-петербург</td>\n",
       "      <td>31856.0</td>\n",
       "      <td>8098.0</td>\n",
       "      <td>2.0</td>\n",
       "      <td>112.0</td>\n",
       "      <td>1.0</td>\n",
       "      <td>48.0</td>\n",
       "      <td>121.0</td>\n",
       "      <td>100000.000000</td>\n",
       "      <td>1</td>\n",
       "      <td>6</td>\n",
       "      <td>2018</td>\n",
       "      <td>другой</td>\n",
       "    </tr>\n",
       "  </tbody>\n",
       "</table>\n",
       "</div>"
      ],
      "text/plain": [
       "   total_images  last_price  total_area first_day_exposition  rooms  \\\n",
       "0            20  13000000.0  108.000000           2019-03-07      3   \n",
       "1             7   3350000.0   40.400002           2018-12-04      1   \n",
       "2            10   5196000.0   56.000000           2015-08-20      2   \n",
       "3             0  64900000.0  159.000000           2015-07-24      3   \n",
       "4             2  10000000.0  100.000000           2018-06-19      2   \n",
       "\n",
       "   ceiling_height  floors_total  living_area  floor  is_apartment  studio  \\\n",
       "0            2.70          16.0    51.000000      8         False   False   \n",
       "1            2.65          11.0    18.600000      1         False   False   \n",
       "2            2.65           5.0    34.299999      4         False   False   \n",
       "3            2.65          14.0     1.770000      9         False   False   \n",
       "4            3.03          14.0    32.000000     13         False   False   \n",
       "\n",
       "   open_plan  kitchen_area  balcony    locality_name  airports_nearest  \\\n",
       "0      False         25.00      0.0  санкт-петербург           18863.0   \n",
       "1      False         11.00      2.0   поселок шушары           12817.0   \n",
       "2      False          8.30      0.0  санкт-петербург           21741.0   \n",
       "3      False          6.58      0.0  санкт-петербург           28098.0   \n",
       "4      False         41.00      0.0  санкт-петербург           31856.0   \n",
       "\n",
       "   cityCenters_nearest  parks_around3000  parks_nearest  ponds_around3000  \\\n",
       "0              16028.0               1.0          482.0               2.0   \n",
       "1              18603.0               0.0            NaN               0.0   \n",
       "2              13933.0               1.0           90.0               2.0   \n",
       "3               6800.0               2.0           84.0               3.0   \n",
       "4               8098.0               2.0          112.0               1.0   \n",
       "\n",
       "   ponds_nearest  days_exposition    price_per_m  day_of_exp  month_of_exp  \\\n",
       "0          755.0              NaN  120370.367188           3             3   \n",
       "1            NaN             81.0   82920.789062           1            12   \n",
       "2          574.0            558.0   92785.710938           3             8   \n",
       "3          234.0            424.0  408176.093750           4             7   \n",
       "4           48.0            121.0  100000.000000           1             6   \n",
       "\n",
       "   year_of_exp floor_name_full  \n",
       "0         2019          другой  \n",
       "1         2018          первый  \n",
       "2         2015          другой  \n",
       "3         2015          другой  \n",
       "4         2018          другой  "
      ]
     },
     "execution_count": 17,
     "metadata": {},
     "output_type": "execute_result"
    }
   ],
   "source": [
    "def floor_name(row):\n",
    "    if row['floor']==1:\n",
    "        return 'первый'\n",
    "    if row['floor']== row['floors_total']:\n",
    "        return 'последний'\n",
    "    else:\n",
    "        return 'другой'\n",
    "data['floor_name_full']=data.apply(floor_name,axis=1)\n",
    "#делим данные на категории\n",
    "data.head(5)"
   ]
  },
  {
   "cell_type": "code",
   "execution_count": 18,
   "metadata": {
    "scrolled": true
   },
   "outputs": [
    {
     "data": {
      "text/html": [
       "<div>\n",
       "<style scoped>\n",
       "    .dataframe tbody tr th:only-of-type {\n",
       "        vertical-align: middle;\n",
       "    }\n",
       "\n",
       "    .dataframe tbody tr th {\n",
       "        vertical-align: top;\n",
       "    }\n",
       "\n",
       "    .dataframe thead th {\n",
       "        text-align: right;\n",
       "    }\n",
       "</style>\n",
       "<table border=\"1\" class=\"dataframe\">\n",
       "  <thead>\n",
       "    <tr style=\"text-align: right;\">\n",
       "      <th></th>\n",
       "      <th>total_images</th>\n",
       "      <th>last_price</th>\n",
       "      <th>total_area</th>\n",
       "      <th>first_day_exposition</th>\n",
       "      <th>rooms</th>\n",
       "      <th>ceiling_height</th>\n",
       "      <th>floors_total</th>\n",
       "      <th>living_area</th>\n",
       "      <th>floor</th>\n",
       "      <th>is_apartment</th>\n",
       "      <th>studio</th>\n",
       "      <th>open_plan</th>\n",
       "      <th>kitchen_area</th>\n",
       "      <th>balcony</th>\n",
       "      <th>locality_name</th>\n",
       "      <th>airports_nearest</th>\n",
       "      <th>cityCenters_nearest</th>\n",
       "      <th>parks_around3000</th>\n",
       "      <th>parks_nearest</th>\n",
       "      <th>ponds_around3000</th>\n",
       "      <th>ponds_nearest</th>\n",
       "      <th>days_exposition</th>\n",
       "      <th>price_per_m</th>\n",
       "      <th>day_of_exp</th>\n",
       "      <th>month_of_exp</th>\n",
       "      <th>year_of_exp</th>\n",
       "      <th>floor_name_full</th>\n",
       "      <th>cityCenters_nearest_km</th>\n",
       "    </tr>\n",
       "  </thead>\n",
       "  <tbody>\n",
       "    <tr>\n",
       "      <th>0</th>\n",
       "      <td>20</td>\n",
       "      <td>13000000.0</td>\n",
       "      <td>108.000000</td>\n",
       "      <td>2019-03-07</td>\n",
       "      <td>3</td>\n",
       "      <td>2.70</td>\n",
       "      <td>16.0</td>\n",
       "      <td>51.000000</td>\n",
       "      <td>8</td>\n",
       "      <td>False</td>\n",
       "      <td>False</td>\n",
       "      <td>False</td>\n",
       "      <td>25.00</td>\n",
       "      <td>0.0</td>\n",
       "      <td>санкт-петербург</td>\n",
       "      <td>18863.0</td>\n",
       "      <td>16028.0</td>\n",
       "      <td>1.0</td>\n",
       "      <td>482.0</td>\n",
       "      <td>2.0</td>\n",
       "      <td>755.0</td>\n",
       "      <td>NaN</td>\n",
       "      <td>120370.367188</td>\n",
       "      <td>3</td>\n",
       "      <td>3</td>\n",
       "      <td>2019</td>\n",
       "      <td>другой</td>\n",
       "      <td>16.0</td>\n",
       "    </tr>\n",
       "    <tr>\n",
       "      <th>1</th>\n",
       "      <td>7</td>\n",
       "      <td>3350000.0</td>\n",
       "      <td>40.400002</td>\n",
       "      <td>2018-12-04</td>\n",
       "      <td>1</td>\n",
       "      <td>2.65</td>\n",
       "      <td>11.0</td>\n",
       "      <td>18.600000</td>\n",
       "      <td>1</td>\n",
       "      <td>False</td>\n",
       "      <td>False</td>\n",
       "      <td>False</td>\n",
       "      <td>11.00</td>\n",
       "      <td>2.0</td>\n",
       "      <td>поселок шушары</td>\n",
       "      <td>12817.0</td>\n",
       "      <td>18603.0</td>\n",
       "      <td>0.0</td>\n",
       "      <td>NaN</td>\n",
       "      <td>0.0</td>\n",
       "      <td>NaN</td>\n",
       "      <td>81.0</td>\n",
       "      <td>82920.789062</td>\n",
       "      <td>1</td>\n",
       "      <td>12</td>\n",
       "      <td>2018</td>\n",
       "      <td>первый</td>\n",
       "      <td>19.0</td>\n",
       "    </tr>\n",
       "    <tr>\n",
       "      <th>2</th>\n",
       "      <td>10</td>\n",
       "      <td>5196000.0</td>\n",
       "      <td>56.000000</td>\n",
       "      <td>2015-08-20</td>\n",
       "      <td>2</td>\n",
       "      <td>2.65</td>\n",
       "      <td>5.0</td>\n",
       "      <td>34.299999</td>\n",
       "      <td>4</td>\n",
       "      <td>False</td>\n",
       "      <td>False</td>\n",
       "      <td>False</td>\n",
       "      <td>8.30</td>\n",
       "      <td>0.0</td>\n",
       "      <td>санкт-петербург</td>\n",
       "      <td>21741.0</td>\n",
       "      <td>13933.0</td>\n",
       "      <td>1.0</td>\n",
       "      <td>90.0</td>\n",
       "      <td>2.0</td>\n",
       "      <td>574.0</td>\n",
       "      <td>558.0</td>\n",
       "      <td>92785.710938</td>\n",
       "      <td>3</td>\n",
       "      <td>8</td>\n",
       "      <td>2015</td>\n",
       "      <td>другой</td>\n",
       "      <td>14.0</td>\n",
       "    </tr>\n",
       "    <tr>\n",
       "      <th>3</th>\n",
       "      <td>0</td>\n",
       "      <td>64900000.0</td>\n",
       "      <td>159.000000</td>\n",
       "      <td>2015-07-24</td>\n",
       "      <td>3</td>\n",
       "      <td>2.65</td>\n",
       "      <td>14.0</td>\n",
       "      <td>1.770000</td>\n",
       "      <td>9</td>\n",
       "      <td>False</td>\n",
       "      <td>False</td>\n",
       "      <td>False</td>\n",
       "      <td>6.58</td>\n",
       "      <td>0.0</td>\n",
       "      <td>санкт-петербург</td>\n",
       "      <td>28098.0</td>\n",
       "      <td>6800.0</td>\n",
       "      <td>2.0</td>\n",
       "      <td>84.0</td>\n",
       "      <td>3.0</td>\n",
       "      <td>234.0</td>\n",
       "      <td>424.0</td>\n",
       "      <td>408176.093750</td>\n",
       "      <td>4</td>\n",
       "      <td>7</td>\n",
       "      <td>2015</td>\n",
       "      <td>другой</td>\n",
       "      <td>7.0</td>\n",
       "    </tr>\n",
       "    <tr>\n",
       "      <th>4</th>\n",
       "      <td>2</td>\n",
       "      <td>10000000.0</td>\n",
       "      <td>100.000000</td>\n",
       "      <td>2018-06-19</td>\n",
       "      <td>2</td>\n",
       "      <td>3.03</td>\n",
       "      <td>14.0</td>\n",
       "      <td>32.000000</td>\n",
       "      <td>13</td>\n",
       "      <td>False</td>\n",
       "      <td>False</td>\n",
       "      <td>False</td>\n",
       "      <td>41.00</td>\n",
       "      <td>0.0</td>\n",
       "      <td>санкт-петербург</td>\n",
       "      <td>31856.0</td>\n",
       "      <td>8098.0</td>\n",
       "      <td>2.0</td>\n",
       "      <td>112.0</td>\n",
       "      <td>1.0</td>\n",
       "      <td>48.0</td>\n",
       "      <td>121.0</td>\n",
       "      <td>100000.000000</td>\n",
       "      <td>1</td>\n",
       "      <td>6</td>\n",
       "      <td>2018</td>\n",
       "      <td>другой</td>\n",
       "      <td>8.0</td>\n",
       "    </tr>\n",
       "  </tbody>\n",
       "</table>\n",
       "</div>"
      ],
      "text/plain": [
       "   total_images  last_price  total_area first_day_exposition  rooms  \\\n",
       "0            20  13000000.0  108.000000           2019-03-07      3   \n",
       "1             7   3350000.0   40.400002           2018-12-04      1   \n",
       "2            10   5196000.0   56.000000           2015-08-20      2   \n",
       "3             0  64900000.0  159.000000           2015-07-24      3   \n",
       "4             2  10000000.0  100.000000           2018-06-19      2   \n",
       "\n",
       "   ceiling_height  floors_total  living_area  floor  is_apartment  studio  \\\n",
       "0            2.70          16.0    51.000000      8         False   False   \n",
       "1            2.65          11.0    18.600000      1         False   False   \n",
       "2            2.65           5.0    34.299999      4         False   False   \n",
       "3            2.65          14.0     1.770000      9         False   False   \n",
       "4            3.03          14.0    32.000000     13         False   False   \n",
       "\n",
       "   open_plan  kitchen_area  balcony    locality_name  airports_nearest  \\\n",
       "0      False         25.00      0.0  санкт-петербург           18863.0   \n",
       "1      False         11.00      2.0   поселок шушары           12817.0   \n",
       "2      False          8.30      0.0  санкт-петербург           21741.0   \n",
       "3      False          6.58      0.0  санкт-петербург           28098.0   \n",
       "4      False         41.00      0.0  санкт-петербург           31856.0   \n",
       "\n",
       "   cityCenters_nearest  parks_around3000  parks_nearest  ponds_around3000  \\\n",
       "0              16028.0               1.0          482.0               2.0   \n",
       "1              18603.0               0.0            NaN               0.0   \n",
       "2              13933.0               1.0           90.0               2.0   \n",
       "3               6800.0               2.0           84.0               3.0   \n",
       "4               8098.0               2.0          112.0               1.0   \n",
       "\n",
       "   ponds_nearest  days_exposition    price_per_m  day_of_exp  month_of_exp  \\\n",
       "0          755.0              NaN  120370.367188           3             3   \n",
       "1            NaN             81.0   82920.789062           1            12   \n",
       "2          574.0            558.0   92785.710938           3             8   \n",
       "3          234.0            424.0  408176.093750           4             7   \n",
       "4           48.0            121.0  100000.000000           1             6   \n",
       "\n",
       "   year_of_exp floor_name_full  cityCenters_nearest_km  \n",
       "0         2019          другой                    16.0  \n",
       "1         2018          первый                    19.0  \n",
       "2         2015          другой                    14.0  \n",
       "3         2015          другой                     7.0  \n",
       "4         2018          другой                     8.0  "
      ]
     },
     "execution_count": 18,
     "metadata": {},
     "output_type": "execute_result"
    }
   ],
   "source": [
    "data['cityCenters_nearest_km']=(data['cityCenters_nearest']/1000).round(0)\n",
    "#округляем километры\n",
    "data.head(5)"
   ]
  },
  {
   "cell_type": "markdown",
   "metadata": {},
   "source": [
    "**Промежуточный вывод**  \n",
    "Новые столбцы успешно добавлены"
   ]
  },
  {
   "cell_type": "markdown",
   "metadata": {
    "id": "pPyxrKWTAwb-"
   },
   "source": [
    "## Исследовательский анализ данных (EDA)"
   ]
  },
  {
   "cell_type": "code",
   "execution_count": 19,
   "metadata": {
    "id": "V2f0D3kLAwb-"
   },
   "outputs": [
    {
     "data": {
      "text/html": [
       "<div>\n",
       "<style scoped>\n",
       "    .dataframe tbody tr th:only-of-type {\n",
       "        vertical-align: middle;\n",
       "    }\n",
       "\n",
       "    .dataframe tbody tr th {\n",
       "        vertical-align: top;\n",
       "    }\n",
       "\n",
       "    .dataframe thead th {\n",
       "        text-align: right;\n",
       "    }\n",
       "</style>\n",
       "<table border=\"1\" class=\"dataframe\">\n",
       "  <thead>\n",
       "    <tr style=\"text-align: right;\">\n",
       "      <th></th>\n",
       "      <th>total_images</th>\n",
       "      <th>last_price</th>\n",
       "      <th>total_area</th>\n",
       "      <th>rooms</th>\n",
       "      <th>ceiling_height</th>\n",
       "      <th>floors_total</th>\n",
       "      <th>living_area</th>\n",
       "      <th>floor</th>\n",
       "      <th>kitchen_area</th>\n",
       "      <th>balcony</th>\n",
       "      <th>airports_nearest</th>\n",
       "      <th>cityCenters_nearest</th>\n",
       "      <th>parks_around3000</th>\n",
       "      <th>parks_nearest</th>\n",
       "      <th>ponds_around3000</th>\n",
       "      <th>ponds_nearest</th>\n",
       "      <th>days_exposition</th>\n",
       "      <th>price_per_m</th>\n",
       "      <th>day_of_exp</th>\n",
       "      <th>month_of_exp</th>\n",
       "      <th>year_of_exp</th>\n",
       "      <th>cityCenters_nearest_km</th>\n",
       "    </tr>\n",
       "  </thead>\n",
       "  <tbody>\n",
       "    <tr>\n",
       "      <th>count</th>\n",
       "      <td>23699.000000</td>\n",
       "      <td>23699.0</td>\n",
       "      <td>23699.000000</td>\n",
       "      <td>23699.000000</td>\n",
       "      <td>23699.000000</td>\n",
       "      <td>23699.000000</td>\n",
       "      <td>23699.000000</td>\n",
       "      <td>23699.000000</td>\n",
       "      <td>23699.000000</td>\n",
       "      <td>23699.000000</td>\n",
       "      <td>18157.000000</td>\n",
       "      <td>18180.000000</td>\n",
       "      <td>18181.000000</td>\n",
       "      <td>8079.000000</td>\n",
       "      <td>18181.000000</td>\n",
       "      <td>9110.000000</td>\n",
       "      <td>20518.000000</td>\n",
       "      <td>2.369900e+04</td>\n",
       "      <td>23699.000000</td>\n",
       "      <td>23699.000000</td>\n",
       "      <td>23699.000000</td>\n",
       "      <td>18180.000000</td>\n",
       "    </tr>\n",
       "    <tr>\n",
       "      <th>mean</th>\n",
       "      <td>9.858475</td>\n",
       "      <td>6541548.5</td>\n",
       "      <td>60.348648</td>\n",
       "      <td>2.070636</td>\n",
       "      <td>2.724358</td>\n",
       "      <td>10.667749</td>\n",
       "      <td>31.833057</td>\n",
       "      <td>5.892358</td>\n",
       "      <td>10.186298</td>\n",
       "      <td>0.591080</td>\n",
       "      <td>28793.671875</td>\n",
       "      <td>14191.277344</td>\n",
       "      <td>0.611408</td>\n",
       "      <td>490.804565</td>\n",
       "      <td>0.770255</td>\n",
       "      <td>517.980900</td>\n",
       "      <td>180.888641</td>\n",
       "      <td>9.942166e+04</td>\n",
       "      <td>2.569307</td>\n",
       "      <td>6.400101</td>\n",
       "      <td>2017.367146</td>\n",
       "      <td>14.184818</td>\n",
       "    </tr>\n",
       "    <tr>\n",
       "      <th>std</th>\n",
       "      <td>5.682529</td>\n",
       "      <td>10887013.0</td>\n",
       "      <td>35.654083</td>\n",
       "      <td>1.078405</td>\n",
       "      <td>0.988298</td>\n",
       "      <td>6.585961</td>\n",
       "      <td>22.918972</td>\n",
       "      <td>4.885249</td>\n",
       "      <td>5.736286</td>\n",
       "      <td>0.959298</td>\n",
       "      <td>12630.880859</td>\n",
       "      <td>8608.386719</td>\n",
       "      <td>0.802074</td>\n",
       "      <td>342.317993</td>\n",
       "      <td>0.938346</td>\n",
       "      <td>277.720643</td>\n",
       "      <td>219.727982</td>\n",
       "      <td>5.030680e+04</td>\n",
       "      <td>1.789082</td>\n",
       "      <td>3.491561</td>\n",
       "      <td>1.039771</td>\n",
       "      <td>8.616194</td>\n",
       "    </tr>\n",
       "    <tr>\n",
       "      <th>min</th>\n",
       "      <td>0.000000</td>\n",
       "      <td>12190.0</td>\n",
       "      <td>12.000000</td>\n",
       "      <td>0.000000</td>\n",
       "      <td>1.000000</td>\n",
       "      <td>1.000000</td>\n",
       "      <td>1.770000</td>\n",
       "      <td>1.000000</td>\n",
       "      <td>1.300000</td>\n",
       "      <td>0.000000</td>\n",
       "      <td>0.000000</td>\n",
       "      <td>181.000000</td>\n",
       "      <td>0.000000</td>\n",
       "      <td>1.000000</td>\n",
       "      <td>0.000000</td>\n",
       "      <td>13.000000</td>\n",
       "      <td>1.000000</td>\n",
       "      <td>1.118300e+02</td>\n",
       "      <td>0.000000</td>\n",
       "      <td>1.000000</td>\n",
       "      <td>2014.000000</td>\n",
       "      <td>0.000000</td>\n",
       "    </tr>\n",
       "    <tr>\n",
       "      <th>25%</th>\n",
       "      <td>6.000000</td>\n",
       "      <td>3400000.0</td>\n",
       "      <td>40.000000</td>\n",
       "      <td>1.000000</td>\n",
       "      <td>2.600000</td>\n",
       "      <td>5.000000</td>\n",
       "      <td>17.799999</td>\n",
       "      <td>2.000000</td>\n",
       "      <td>6.580000</td>\n",
       "      <td>0.000000</td>\n",
       "      <td>18585.000000</td>\n",
       "      <td>9238.000000</td>\n",
       "      <td>0.000000</td>\n",
       "      <td>288.000000</td>\n",
       "      <td>0.000000</td>\n",
       "      <td>294.000000</td>\n",
       "      <td>45.000000</td>\n",
       "      <td>7.658547e+04</td>\n",
       "      <td>1.000000</td>\n",
       "      <td>3.000000</td>\n",
       "      <td>2017.000000</td>\n",
       "      <td>9.000000</td>\n",
       "    </tr>\n",
       "    <tr>\n",
       "      <th>50%</th>\n",
       "      <td>9.000000</td>\n",
       "      <td>4650000.0</td>\n",
       "      <td>52.000000</td>\n",
       "      <td>2.000000</td>\n",
       "      <td>2.650000</td>\n",
       "      <td>9.000000</td>\n",
       "      <td>29.000000</td>\n",
       "      <td>4.000000</td>\n",
       "      <td>9.000000</td>\n",
       "      <td>0.000000</td>\n",
       "      <td>26726.000000</td>\n",
       "      <td>13098.500000</td>\n",
       "      <td>0.000000</td>\n",
       "      <td>455.000000</td>\n",
       "      <td>1.000000</td>\n",
       "      <td>502.000000</td>\n",
       "      <td>95.000000</td>\n",
       "      <td>9.500000e+04</td>\n",
       "      <td>3.000000</td>\n",
       "      <td>6.000000</td>\n",
       "      <td>2017.000000</td>\n",
       "      <td>13.000000</td>\n",
       "    </tr>\n",
       "    <tr>\n",
       "      <th>75%</th>\n",
       "      <td>14.000000</td>\n",
       "      <td>6800000.0</td>\n",
       "      <td>69.900002</td>\n",
       "      <td>3.000000</td>\n",
       "      <td>2.700000</td>\n",
       "      <td>16.000000</td>\n",
       "      <td>41.099998</td>\n",
       "      <td>8.000000</td>\n",
       "      <td>11.440000</td>\n",
       "      <td>1.000000</td>\n",
       "      <td>37273.000000</td>\n",
       "      <td>16293.000000</td>\n",
       "      <td>1.000000</td>\n",
       "      <td>612.000000</td>\n",
       "      <td>1.000000</td>\n",
       "      <td>729.000000</td>\n",
       "      <td>232.000000</td>\n",
       "      <td>1.142563e+05</td>\n",
       "      <td>4.000000</td>\n",
       "      <td>10.000000</td>\n",
       "      <td>2018.000000</td>\n",
       "      <td>16.000000</td>\n",
       "    </tr>\n",
       "    <tr>\n",
       "      <th>max</th>\n",
       "      <td>50.000000</td>\n",
       "      <td>763000000.0</td>\n",
       "      <td>900.000000</td>\n",
       "      <td>19.000000</td>\n",
       "      <td>100.000000</td>\n",
       "      <td>60.000000</td>\n",
       "      <td>409.700012</td>\n",
       "      <td>33.000000</td>\n",
       "      <td>112.000000</td>\n",
       "      <td>5.000000</td>\n",
       "      <td>84869.000000</td>\n",
       "      <td>65968.000000</td>\n",
       "      <td>3.000000</td>\n",
       "      <td>3190.000000</td>\n",
       "      <td>3.000000</td>\n",
       "      <td>1344.000000</td>\n",
       "      <td>1580.000000</td>\n",
       "      <td>1.907500e+06</td>\n",
       "      <td>6.000000</td>\n",
       "      <td>12.000000</td>\n",
       "      <td>2019.000000</td>\n",
       "      <td>66.000000</td>\n",
       "    </tr>\n",
       "  </tbody>\n",
       "</table>\n",
       "</div>"
      ],
      "text/plain": [
       "       total_images   last_price    total_area         rooms  ceiling_height  \\\n",
       "count  23699.000000      23699.0  23699.000000  23699.000000    23699.000000   \n",
       "mean       9.858475    6541548.5     60.348648      2.070636        2.724358   \n",
       "std        5.682529   10887013.0     35.654083      1.078405        0.988298   \n",
       "min        0.000000      12190.0     12.000000      0.000000        1.000000   \n",
       "25%        6.000000    3400000.0     40.000000      1.000000        2.600000   \n",
       "50%        9.000000    4650000.0     52.000000      2.000000        2.650000   \n",
       "75%       14.000000    6800000.0     69.900002      3.000000        2.700000   \n",
       "max       50.000000  763000000.0    900.000000     19.000000      100.000000   \n",
       "\n",
       "       floors_total   living_area         floor  kitchen_area       balcony  \\\n",
       "count  23699.000000  23699.000000  23699.000000  23699.000000  23699.000000   \n",
       "mean      10.667749     31.833057      5.892358     10.186298      0.591080   \n",
       "std        6.585961     22.918972      4.885249      5.736286      0.959298   \n",
       "min        1.000000      1.770000      1.000000      1.300000      0.000000   \n",
       "25%        5.000000     17.799999      2.000000      6.580000      0.000000   \n",
       "50%        9.000000     29.000000      4.000000      9.000000      0.000000   \n",
       "75%       16.000000     41.099998      8.000000     11.440000      1.000000   \n",
       "max       60.000000    409.700012     33.000000    112.000000      5.000000   \n",
       "\n",
       "       airports_nearest  cityCenters_nearest  parks_around3000  parks_nearest  \\\n",
       "count      18157.000000         18180.000000      18181.000000    8079.000000   \n",
       "mean       28793.671875         14191.277344          0.611408     490.804565   \n",
       "std        12630.880859          8608.386719          0.802074     342.317993   \n",
       "min            0.000000           181.000000          0.000000       1.000000   \n",
       "25%        18585.000000          9238.000000          0.000000     288.000000   \n",
       "50%        26726.000000         13098.500000          0.000000     455.000000   \n",
       "75%        37273.000000         16293.000000          1.000000     612.000000   \n",
       "max        84869.000000         65968.000000          3.000000    3190.000000   \n",
       "\n",
       "       ponds_around3000  ponds_nearest  days_exposition   price_per_m  \\\n",
       "count      18181.000000    9110.000000     20518.000000  2.369900e+04   \n",
       "mean           0.770255     517.980900       180.888641  9.942166e+04   \n",
       "std            0.938346     277.720643       219.727982  5.030680e+04   \n",
       "min            0.000000      13.000000         1.000000  1.118300e+02   \n",
       "25%            0.000000     294.000000        45.000000  7.658547e+04   \n",
       "50%            1.000000     502.000000        95.000000  9.500000e+04   \n",
       "75%            1.000000     729.000000       232.000000  1.142563e+05   \n",
       "max            3.000000    1344.000000      1580.000000  1.907500e+06   \n",
       "\n",
       "         day_of_exp  month_of_exp   year_of_exp  cityCenters_nearest_km  \n",
       "count  23699.000000  23699.000000  23699.000000            18180.000000  \n",
       "mean       2.569307      6.400101   2017.367146               14.184818  \n",
       "std        1.789082      3.491561      1.039771                8.616194  \n",
       "min        0.000000      1.000000   2014.000000                0.000000  \n",
       "25%        1.000000      3.000000   2017.000000                9.000000  \n",
       "50%        3.000000      6.000000   2017.000000               13.000000  \n",
       "75%        4.000000     10.000000   2018.000000               16.000000  \n",
       "max        6.000000     12.000000   2019.000000               66.000000  "
      ]
     },
     "execution_count": 19,
     "metadata": {},
     "output_type": "execute_result"
    }
   ],
   "source": [
    "data.describe() #выводим точную информацию по значениям всех столбцов"
   ]
  },
  {
   "cell_type": "markdown",
   "metadata": {},
   "source": [
    "Итого:  \n",
    "-общая площадь - ок;  \n",
    "-жилая площадь - ок; \n",
    "-площадь кухни - ок;  \n",
    "-цена объект - ок;  \n",
    "-количество комнат - ок; \n",
    "-высота потолков - потолков 100м не бывает;  \n",
    "-тип этажа квартиры («первый», «последний», «другой»)- ок;  \n",
    "-общее количество этажей в доме - ок;\n",
    "-расстояние до центра города в метрах - ок;  \n",
    "-расстояние до ближайшего парка - смущало нулевое значение, но скорее всего просто нет парка вблизи никакого (или пункта, который классифицировался как парк) "
   ]
  },
  {
   "cell_type": "code",
   "execution_count": 20,
   "metadata": {},
   "outputs": [
    {
     "data": {
      "text/plain": [
       "array([  2.7 ,   2.65,   3.03,   2.5 ,   2.67,   2.56,   3.05,   2.75,\n",
       "         2.6 ,   2.9 ,   2.8 ,   2.55,   3.  ,   3.2 ,   2.61,   3.25,\n",
       "         3.45,   2.77,   2.85,   2.64,   2.57,   4.15,   3.5 ,   3.3 ,\n",
       "         2.71,   4.  ,   2.47,   2.73,   2.84,   3.1 ,   2.34,   3.4 ,\n",
       "         3.06,   2.72,   2.54,   2.51,   2.78,   2.76,  25.  ,   2.58,\n",
       "         3.7 ,   2.52,   5.2 ,   2.87,   2.66,   2.59,   2.  ,   2.45,\n",
       "         3.6 ,   2.92,   3.11,   3.13,   3.8 ,   3.15,   3.55,   3.16,\n",
       "         3.62,   3.12,   2.53,   2.74,   2.96,   2.46,   5.3 ,   5.  ,\n",
       "         2.79,   2.95,   4.06,   2.94,   3.82,   3.54,   3.53,   2.83,\n",
       "         4.7 ,   2.4 ,   3.38,   3.01,   5.6 ,   3.65,   3.9 ,   3.18,\n",
       "         3.35,   2.3 ,   3.57,   2.48,   2.62,   2.82,   3.98,   2.63,\n",
       "         3.83,   3.52,   3.95,   3.75,   2.88,   3.67,   3.87,   3.66,\n",
       "         3.85,   3.86,   4.19,   3.24,   4.8 ,   4.5 ,   4.2 ,   3.36,\n",
       "        32.  ,   3.08,   3.68,   3.07,   3.37,   3.09,   8.  ,   3.26,\n",
       "         3.34,   2.81,   3.44,   2.97,   3.14,   4.37,   2.68,   3.22,\n",
       "         3.27,  27.  ,   4.1 ,   2.93,   3.46,  24.  ,   3.47,   3.33,\n",
       "         3.63,   3.32,  26.  ,   1.2 ,   8.3 ,   2.98,   2.86,   3.17,\n",
       "         4.4 ,   3.28,   3.04,   4.45,   5.5 ,   3.84,   3.23,   3.02,\n",
       "         3.21,   3.43,   3.78,   4.3 ,   3.39,   2.69,   3.31,   4.65,\n",
       "         3.56,   2.2 ,   3.51,   3.93,   3.42,   2.99,   3.49,  14.  ,\n",
       "         4.14,   2.91,   3.88,   1.75,   4.25,   3.29,  20.  ,   2.25,\n",
       "         3.76,   3.69,   6.  ,  22.6 ,   2.89,   3.58,   5.8 ,  27.5 ,\n",
       "         2.49,   4.9 ,   3.48,  10.3 ,   1.  , 100.  ,   3.59],\n",
       "      dtype=float32)"
      ]
     },
     "execution_count": 20,
     "metadata": {},
     "output_type": "execute_result"
    }
   ],
   "source": [
    "data['ceiling_height'].unique()#выводим уникальные значения"
   ]
  },
  {
   "cell_type": "code",
   "execution_count": 21,
   "metadata": {},
   "outputs": [
    {
     "data": {
      "text/plain": [
       "array([ 2.7 ,  2.65,  3.03,  2.5 ,  2.67,  2.56,  3.05,  2.75,  2.6 ,\n",
       "        2.9 ,  2.8 ,  2.55,  3.  ,  3.2 ,  2.61,  3.25,  3.45,  2.77,\n",
       "        2.85,  2.64,  2.57,  4.15,  3.5 ,  3.3 ,  2.71,  4.  ,  2.47,\n",
       "        2.73,  2.84,  3.1 ,  2.34,  3.4 ,  3.06,  2.72,  2.54,  2.51,\n",
       "        2.78,  2.76,  2.58,  3.7 ,  2.52,  5.2 ,  2.87,  2.66,  2.59,\n",
       "        2.  ,  2.45,  3.6 ,  2.92,  3.11,  3.13,  3.8 ,  3.15,  3.55,\n",
       "        3.16,  3.62,  3.12,  2.53,  2.74,  2.96,  2.46,  5.3 ,  5.  ,\n",
       "        2.79,  2.95,  4.06,  2.94,  3.82,  3.54,  3.53,  2.83,  4.7 ,\n",
       "        2.4 ,  3.38,  3.01,  5.6 ,  3.65,  3.9 ,  3.18,  3.35,  2.3 ,\n",
       "        3.57,  2.48,  2.62,  2.82,  3.98,  2.63,  3.83,  3.52,  3.95,\n",
       "        3.75,  2.88,  3.67,  3.87,  3.66,  3.85,  3.86,  4.19,  3.24,\n",
       "        4.8 ,  4.5 ,  4.2 ,  3.36,  3.08,  3.68,  3.07,  3.37,  3.09,\n",
       "        8.  ,  3.26,  3.34,  2.81,  3.44,  2.97,  3.14,  4.37,  2.68,\n",
       "        3.22,  3.27,  4.1 ,  2.93,  3.46,  3.47,  3.33,  3.63,  3.32,\n",
       "        1.2 ,  8.3 ,  2.98,  2.86,  3.17,  4.4 ,  3.28,  3.04,  4.45,\n",
       "        5.5 ,  3.84,  3.23,  3.02,  3.21,  3.43,  3.78,  4.3 ,  3.39,\n",
       "        2.69,  3.31,  4.65,  3.56,  2.2 ,  3.51,  3.93,  3.42,  2.99,\n",
       "        3.49, 14.  ,  4.14,  2.91,  3.88,  1.75,  4.25,  3.29,  2.25,\n",
       "        3.76,  3.69,  6.  ,  2.26,  2.89,  3.58,  5.8 ,  2.49,  4.9 ,\n",
       "        3.48, 10.3 ,  1.  , 10.  ,  3.59], dtype=float32)"
      ]
     },
     "execution_count": 21,
     "metadata": {},
     "output_type": "execute_result"
    }
   ],
   "source": [
    "data.loc[data['ceiling_height']>=20, 'ceiling_height']=data['ceiling_height']/10\n",
    "#делим на 10 значения стобца, которые больше 20       \n",
    "data['ceiling_height'].unique()#перепроверяем"
   ]
  },
  {
   "cell_type": "markdown",
   "metadata": {},
   "source": [
    "**Графический анализ**"
   ]
  },
  {
   "cell_type": "code",
   "execution_count": 22,
   "metadata": {},
   "outputs": [
    {
     "data": {
      "image/png": "[encoded data removed]",
      "text/plain": [
       "<Figure size 432x288 with 1 Axes>"
      ]
     },
     "metadata": {
      "needs_background": "light"
     },
     "output_type": "display_data"
    }
   ],
   "source": [
    "data.query('0 < total_area < 200').plot(y='total_area', kind='hist',bins=20, range=(0,250), grid = True)\n",
    "#строим гистограмму\n",
    "plt.xlabel('метры')\n",
    "plt.ylabel('продажи')\n",
    "plt.show()"
   ]
  },
  {
   "cell_type": "code",
   "execution_count": 23,
   "metadata": {},
   "outputs": [
    {
     "data": {
      "image/png": "[encoded data removed]",
      "text/plain": [
       "<Figure size 432x288 with 1 Axes>"
      ]
     },
     "metadata": {
      "needs_background": "light"
     },
     "output_type": "display_data"
    }
   ],
   "source": [
    "data.plot(y='living_area', kind='hist',bins=100, range=(12,100), grid = True)\n",
    "#строим гистограмму\n",
    "plt.xlabel('метры')\n",
    "plt.ylabel('продажи')\n",
    "plt.show()"
   ]
  },
  {
   "cell_type": "code",
   "execution_count": 24,
   "metadata": {},
   "outputs": [
    {
     "data": {
      "image/png": "[encoded data removed]",
      "text/plain": [
       "<Figure size 432x288 with 1 Axes>"
      ]
     },
     "metadata": {
      "needs_background": "light"
     },
     "output_type": "display_data"
    }
   ],
   "source": [
    "data.plot(y='kitchen_area', kind='hist',bins=100, range=(12,40), grid = True)\n",
    "#строим гистограмму\n",
    "plt.xlabel('метры')\n",
    "plt.ylabel('продажи')\n",
    "plt.show()"
   ]
  },
  {
   "cell_type": "code",
   "execution_count": 25,
   "metadata": {
    "scrolled": true
   },
   "outputs": [
    {
     "data": {
      "image/png": "[encoded data removed]",
      "text/plain": [
       "<Figure size 432x288 with 1 Axes>"
      ]
     },
     "metadata": {
      "needs_background": "light"
     },
     "output_type": "display_data"
    }
   ],
   "source": [
    "data['last_price']=data['last_price']/1000000\n",
    "data.query('0 < last_price < 2').plot(y='last_price', kind='hist',bins=5, range=(0,8), grid = True)\n",
    "#строим гистограмму\n",
    "plt.xlabel('цены')\n",
    "plt.ylabel('продажи')\n",
    "plt.show()"
   ]
  },
  {
   "cell_type": "code",
   "execution_count": 26,
   "metadata": {},
   "outputs": [
    {
     "data": {
      "image/png": "[encoded data removed]",
      "text/plain": [
       "<Figure size 432x288 with 1 Axes>"
      ]
     },
     "metadata": {
      "needs_background": "light"
     },
     "output_type": "display_data"
    }
   ],
   "source": [
    "data.query('0 < rooms < 7.5').plot(y='rooms', kind='hist',bins=3, range=(1, 7), grid = True)\n",
    "#строим гистограмму\n",
    "plt.xlabel('комнаты')\n",
    "plt.ylabel('продажи')\n",
    "plt.show()"
   ]
  },
  {
   "cell_type": "code",
   "execution_count": 27,
   "metadata": {},
   "outputs": [
    {
     "data": {
      "image/png": "[encoded data removed]",
      "text/plain": [
       "<Figure size 432x288 with 1 Axes>"
      ]
     },
     "metadata": {
      "needs_background": "light"
     },
     "output_type": "display_data"
    }
   ],
   "source": [
    "data.query('1 < ceiling_height < 6').plot(y='ceiling_height', kind='hist',bins=5, range=(2,5), grid = True)\n",
    "#строим гистограмму\n",
    "plt.xlabel('высота потолков')\n",
    "plt.ylabel('продажи')\n",
    "plt.show()"
   ]
  },
  {
   "cell_type": "code",
   "execution_count": 28,
   "metadata": {},
   "outputs": [
    {
     "data": {
      "image/png": "[encoded data removed]",
      "text/plain": [
       "<Figure size 432x288 with 1 Axes>"
      ]
     },
     "metadata": {
      "needs_background": "light"
     },
     "output_type": "display_data"
    }
   ],
   "source": [
    "data.plot(y='floors_total', kind='hist',bins=20, range=(1,60), grid = True)\n",
    "#строим гистограмму\n",
    "plt.xlabel('этажи')\n",
    "plt.ylabel('продажи')\n",
    "plt.show()"
   ]
  },
  {
   "cell_type": "code",
   "execution_count": 29,
   "metadata": {},
   "outputs": [
    {
     "data": {
      "image/png": "[encoded data removed]",
      "text/plain": [
       "<Figure size 432x288 with 1 Axes>"
      ]
     },
     "metadata": {
      "needs_background": "light"
     },
     "output_type": "display_data"
    }
   ],
   "source": [
    "data.plot(y='cityCenters_nearest', kind='hist',bins=50, range=(0,66000), grid = True)\n",
    "#строим гистограмму\n",
    "plt.xlabel('метры до центра')\n",
    "plt.ylabel('продажи')\n",
    "plt.show()"
   ]
  },
  {
   "cell_type": "code",
   "execution_count": 30,
   "metadata": {},
   "outputs": [
    {
     "data": {
      "image/png": "[encoded data removed]",
      "text/plain": [
       "<Figure size 432x288 with 1 Axes>"
      ]
     },
     "metadata": {
      "needs_background": "light"
     },
     "output_type": "display_data"
    }
   ],
   "source": [
    "data.plot(y='parks_nearest', kind='hist',bins=50, range=(0,3200), grid = True)\n",
    "#строим гистограмму\n",
    "plt.xlabel('метры до парка')\n",
    "plt.ylabel('продажи')\n",
    "plt.show()"
   ]
  },
  {
   "cell_type": "code",
   "execution_count": 31,
   "metadata": {},
   "outputs": [
    {
     "data": {
      "image/png": "[encoded data removed]",
      "text/plain": [
       "<Figure size 432x288 with 1 Axes>"
      ]
     },
     "metadata": {
      "needs_background": "light"
     },
     "output_type": "display_data"
    }
   ],
   "source": [
    "data.plot(y='days_exposition', kind='hist',bins=100, range=(1,1580), grid = True)\n",
    "\n",
    "plt.xlabel('дни')\n",
    "plt.ylabel('продажи')\n",
    "plt.show()"
   ]
  },
  {
   "cell_type": "markdown",
   "metadata": {},
   "source": [
    "**Промежуточный вывод**  \n",
    "\n",
    "Необычно быстрыми можно считать продажи, близкие к нулю. Вероятно, на эту квартиру были очереди из покупателей и за один день была оформлена сделка и внесены деньги. Или же большое количество квартир купила какая-то организация, например, под хостелы.  \n",
    "  \n",
    "Необычно долгими можно считать продажи, которые длились больше 800 дней. Вероятно, такие квартиры имели скверную репутацию (заражение насекомыми, неисправности в самом доме по воде и свету), крайне неудобное расположение или слишком придирчивых продавцов."
   ]
  },
  {
   "cell_type": "markdown",
   "metadata": {},
   "source": [
    "**Корреляционный анализ**"
   ]
  },
  {
   "cell_type": "code",
   "execution_count": 32,
   "metadata": {},
   "outputs": [
    {
     "data": {
      "text/plain": [
       "180.88864"
      ]
     },
     "execution_count": 32,
     "metadata": {},
     "output_type": "execute_result"
    }
   ],
   "source": [
    "data_mean=data['days_exposition'].mean()\n",
    "#Ищу среднее значение\n",
    "data_mean"
   ]
  },
  {
   "cell_type": "code",
   "execution_count": 33,
   "metadata": {},
   "outputs": [
    {
     "data": {
      "text/plain": [
       "95.0"
      ]
     },
     "execution_count": 33,
     "metadata": {},
     "output_type": "execute_result"
    }
   ],
   "source": [
    "data_median=data['days_exposition'].median()\n",
    "#Ищу медиану\n",
    "data_median"
   ]
  },
  {
   "cell_type": "code",
   "execution_count": 34,
   "metadata": {},
   "outputs": [
    {
     "data": {
      "text/plain": [
       "0.6536750582766911"
      ]
     },
     "execution_count": 34,
     "metadata": {},
     "output_type": "execute_result"
    }
   ],
   "source": [
    "data['last_price'].corr(data['total_area']) \n",
    "#Ищу корреляцию"
   ]
  },
  {
   "cell_type": "code",
   "execution_count": 35,
   "metadata": {},
   "outputs": [
    {
     "data": {
      "image/png": "[encoded data removed]",
      "text/plain": [
       "<Figure size 432x288 with 1 Axes>"
      ]
     },
     "metadata": {
      "needs_background": "light"
     },
     "output_type": "display_data"
    }
   ],
   "source": [
    "price_corr1 = data.pivot_table(index='last_price', values='total_area', aggfunc='corr')\n",
    "data.plot(x='total_area', y='last_price', kind='scatter', alpha=0.2)\n",
    "plt.show()\n",
    "#Строю точечный график"
   ]
  },
  {
   "cell_type": "code",
   "execution_count": 36,
   "metadata": {},
   "outputs": [
    {
     "data": {
      "text/plain": [
       "0.4950495706121408"
      ]
     },
     "execution_count": 36,
     "metadata": {},
     "output_type": "execute_result"
    }
   ],
   "source": [
    "data['last_price'].corr(data['living_area']) #Ищу корреляцию"
   ]
  },
  {
   "cell_type": "code",
   "execution_count": 37,
   "metadata": {},
   "outputs": [
    {
     "data": {
      "image/png": "[encoded data removed]",
      "text/plain": [
       "<Figure size 432x288 with 1 Axes>"
      ]
     },
     "metadata": {
      "needs_background": "light"
     },
     "output_type": "display_data"
    }
   ],
   "source": [
    "price_corr2 = data.pivot_table(index='last_price', values='living_area', aggfunc='corr')\n",
    "data.plot(x='living_area', y='last_price', kind='scatter', alpha=0.2)\n",
    "plt.show()\n",
    "#Строю точечный график"
   ]
  },
  {
   "cell_type": "code",
   "execution_count": 38,
   "metadata": {},
   "outputs": [
    {
     "data": {
      "text/plain": [
       "0.432333918559586"
      ]
     },
     "execution_count": 38,
     "metadata": {},
     "output_type": "execute_result"
    }
   ],
   "source": [
    "data['last_price'].corr(data['kitchen_area'])#Ищу корреляцию"
   ]
  },
  {
   "cell_type": "code",
   "execution_count": 39,
   "metadata": {},
   "outputs": [
    {
     "data": {
      "image/png": "[encoded data removed]",
      "text/plain": [
       "<Figure size 432x288 with 1 Axes>"
      ]
     },
     "metadata": {
      "needs_background": "light"
     },
     "output_type": "display_data"
    }
   ],
   "source": [
    "price_corr3 = data.pivot_table(index='last_price', values='kitchen_area', aggfunc='corr')\n",
    "data.plot(x='kitchen_area', y='last_price', kind='scatter', alpha=0.2)\n",
    "plt.show()\n",
    "#Строю точечный график"
   ]
  },
  {
   "cell_type": "code",
   "execution_count": 40,
   "metadata": {},
   "outputs": [
    {
     "data": {
      "text/plain": [
       "0.3633428499648948"
      ]
     },
     "execution_count": 40,
     "metadata": {},
     "output_type": "execute_result"
    }
   ],
   "source": [
    "data['last_price'].corr(data['rooms'])#Ищу корреляцию"
   ]
  },
  {
   "cell_type": "code",
   "execution_count": 41,
   "metadata": {},
   "outputs": [
    {
     "data": {
      "image/png": "[encoded data removed]",
      "text/plain": [
       "<Figure size 432x288 with 1 Axes>"
      ]
     },
     "metadata": {
      "needs_background": "light"
     },
     "output_type": "display_data"
    }
   ],
   "source": [
    "price_corr4 = data.pivot_table(index='last_price', values='rooms', aggfunc='corr')\n",
    "data.plot(x='rooms', y='last_price', kind='scatter', alpha=0.2)\n",
    "plt.show()\n",
    "#Строю точечный график"
   ]
  },
  {
   "cell_type": "markdown",
   "metadata": {},
   "source": [
    "**Визуализация**"
   ]
  },
  {
   "cell_type": "code",
   "execution_count": 42,
   "metadata": {},
   "outputs": [
    {
     "data": {
      "image/png": "[encoded data removed]",
      "text/plain": [
       "<Figure size 720x720 with 1 Axes>"
      ]
     },
     "metadata": {
      "needs_background": "light"
     },
     "output_type": "display_data"
    }
   ],
   "source": [
    "price_corr5=data.pivot_table(index='floor_name_full', values='last_price',aggfunc='mean')\n",
    "price_corr5.plot(y='last_price', kind='bar', label='', figsize=(10,10));\n",
    "#Строю столбчатую диаграмму"
   ]
  },
  {
   "cell_type": "code",
   "execution_count": 43,
   "metadata": {},
   "outputs": [
    {
     "data": {
      "image/png": "[encoded data removed]",
      "text/plain": [
       "<Figure size 432x288 with 1 Axes>"
      ]
     },
     "metadata": {
      "needs_background": "light"
     },
     "output_type": "display_data"
    }
   ],
   "source": [
    "data.pivot_table(index='day_of_exp', values='last_price', aggfunc='mean').plot.bar()\n",
    "plt.show()\n",
    "#Строю столбчатую диаграмму"
   ]
  },
  {
   "cell_type": "code",
   "execution_count": 44,
   "metadata": {},
   "outputs": [
    {
     "data": {
      "image/png": "[encoded data removed]",
      "text/plain": [
       "<Figure size 432x288 with 1 Axes>"
      ]
     },
     "metadata": {
      "needs_background": "light"
     },
     "output_type": "display_data"
    }
   ],
   "source": [
    "data.pivot_table(index='month_of_exp', values='last_price', aggfunc='mean').plot.bar()\n",
    "plt.show()\n",
    "#Строю столбчатую диаграмму"
   ]
  },
  {
   "cell_type": "code",
   "execution_count": 45,
   "metadata": {},
   "outputs": [
    {
     "data": {
      "image/png": "[encoded data removed]",
      "text/plain": [
       "<Figure size 432x288 with 1 Axes>"
      ]
     },
     "metadata": {
      "needs_background": "light"
     },
     "output_type": "display_data"
    }
   ],
   "source": [
    "data.pivot_table(index='year_of_exp', values='last_price', aggfunc='mean').plot.bar()\n",
    "plt.show()\n",
    "#Строю столбчатую диаграмму"
   ]
  },
  {
   "cell_type": "markdown",
   "metadata": {},
   "source": [
    "**Промежуточный вывод**    \n",
    "Корреляция цены и фактора была везде, максимальная при бОльшей общей площади, а минимальная с кухней. Самый дорогой этаж - последний, а самое дорогое время для покупки - суббота, в декабре, в 2014 году. "
   ]
  },
  {
   "cell_type": "code",
   "execution_count": 46,
   "metadata": {},
   "outputs": [
    {
     "data": {
      "text/html": [
       "<div>\n",
       "<style scoped>\n",
       "    .dataframe tbody tr th:only-of-type {\n",
       "        vertical-align: middle;\n",
       "    }\n",
       "\n",
       "    .dataframe tbody tr th {\n",
       "        vertical-align: top;\n",
       "    }\n",
       "\n",
       "    .dataframe thead th {\n",
       "        text-align: right;\n",
       "    }\n",
       "</style>\n",
       "<table border=\"1\" class=\"dataframe\">\n",
       "  <thead>\n",
       "    <tr style=\"text-align: right;\">\n",
       "      <th></th>\n",
       "      <th>price_mean</th>\n",
       "    </tr>\n",
       "    <tr>\n",
       "      <th>locality_name</th>\n",
       "      <th></th>\n",
       "    </tr>\n",
       "  </thead>\n",
       "  <tbody>\n",
       "    <tr>\n",
       "      <th>санкт-петербург</th>\n",
       "      <td>15721</td>\n",
       "    </tr>\n",
       "    <tr>\n",
       "      <th>поселок мурино</th>\n",
       "      <td>556</td>\n",
       "    </tr>\n",
       "    <tr>\n",
       "      <th>поселок шушары</th>\n",
       "      <td>440</td>\n",
       "    </tr>\n",
       "    <tr>\n",
       "      <th>всеволожск</th>\n",
       "      <td>398</td>\n",
       "    </tr>\n",
       "    <tr>\n",
       "      <th>пушкин</th>\n",
       "      <td>369</td>\n",
       "    </tr>\n",
       "    <tr>\n",
       "      <th>колпино</th>\n",
       "      <td>338</td>\n",
       "    </tr>\n",
       "    <tr>\n",
       "      <th>поселок парголово</th>\n",
       "      <td>327</td>\n",
       "    </tr>\n",
       "    <tr>\n",
       "      <th>гатчина</th>\n",
       "      <td>307</td>\n",
       "    </tr>\n",
       "    <tr>\n",
       "      <th>деревня кудрово</th>\n",
       "      <td>299</td>\n",
       "    </tr>\n",
       "    <tr>\n",
       "      <th>выборг</th>\n",
       "      <td>237</td>\n",
       "    </tr>\n",
       "  </tbody>\n",
       "</table>\n",
       "</div>"
      ],
      "text/plain": [
       "                   price_mean\n",
       "locality_name                \n",
       "санкт-петербург         15721\n",
       "поселок мурино            556\n",
       "поселок шушары            440\n",
       "всеволожск                398\n",
       "пушкин                    369\n",
       "колпино                   338\n",
       "поселок парголово         327\n",
       "гатчина                   307\n",
       "деревня кудрово           299\n",
       "выборг                    237"
      ]
     },
     "execution_count": 46,
     "metadata": {},
     "output_type": "execute_result"
    }
   ],
   "source": [
    "data['price_mean']=data['last_price']/data['total_area']\n",
    "#Ищу среднюю цену, создаю столбец\n",
    "data_price_mean=data.pivot_table(index='locality_name', values='price_mean', aggfunc='count')\n",
    "data_price_mean=data_price_mean.sort_values(by='price_mean', ascending=False)\n",
    "data_price_mean.head(10)\n",
    "#Создаю сводную таблицу с сортировкой по средней цене"
   ]
  },
  {
   "cell_type": "markdown",
   "metadata": {},
   "source": [
    "**Промежуточный вывод**  \n",
    "\n",
    "Санкт-Петербург - наиболее дорогой город с точки зрения квадратного метра, что неудивительно, ведь там есть вся необходимая инфраструктура, там могут расположиться любые возраста, так как есть чем заняться и взрослым, и детям, и молодежи.  \n",
    "\n",
    "Выборг занимает последнее место в списке - это пригород Петербурга, и стоимость может быть такой низкой из-за того, что там начинают заселение новостроек, которые находятся далековато от центра культурной столицы. Из-за перенаселения в самом городе жителей стимулируют расположиться на окраинах."
   ]
  },
  {
   "cell_type": "code",
   "execution_count": 47,
   "metadata": {},
   "outputs": [
    {
     "data": {
      "text/html": [
       "<div>\n",
       "<style scoped>\n",
       "    .dataframe tbody tr th:only-of-type {\n",
       "        vertical-align: middle;\n",
       "    }\n",
       "\n",
       "    .dataframe tbody tr th {\n",
       "        vertical-align: top;\n",
       "    }\n",
       "\n",
       "    .dataframe thead th {\n",
       "        text-align: right;\n",
       "    }\n",
       "</style>\n",
       "<table border=\"1\" class=\"dataframe\">\n",
       "  <thead>\n",
       "    <tr style=\"text-align: right;\">\n",
       "      <th></th>\n",
       "      <th>total_images</th>\n",
       "      <th>last_price</th>\n",
       "      <th>total_area</th>\n",
       "      <th>first_day_exposition</th>\n",
       "      <th>rooms</th>\n",
       "      <th>ceiling_height</th>\n",
       "      <th>floors_total</th>\n",
       "      <th>living_area</th>\n",
       "      <th>floor</th>\n",
       "      <th>is_apartment</th>\n",
       "      <th>studio</th>\n",
       "      <th>open_plan</th>\n",
       "      <th>kitchen_area</th>\n",
       "      <th>balcony</th>\n",
       "      <th>locality_name</th>\n",
       "      <th>airports_nearest</th>\n",
       "      <th>cityCenters_nearest</th>\n",
       "      <th>parks_around3000</th>\n",
       "      <th>parks_nearest</th>\n",
       "      <th>ponds_around3000</th>\n",
       "      <th>ponds_nearest</th>\n",
       "      <th>days_exposition</th>\n",
       "      <th>price_per_m</th>\n",
       "      <th>day_of_exp</th>\n",
       "      <th>month_of_exp</th>\n",
       "      <th>year_of_exp</th>\n",
       "      <th>floor_name_full</th>\n",
       "      <th>cityCenters_nearest_km</th>\n",
       "      <th>price_mean</th>\n",
       "    </tr>\n",
       "  </thead>\n",
       "  <tbody>\n",
       "    <tr>\n",
       "      <th>0</th>\n",
       "      <td>20</td>\n",
       "      <td>13.000</td>\n",
       "      <td>108.000000</td>\n",
       "      <td>2019-03-07</td>\n",
       "      <td>3</td>\n",
       "      <td>2.70</td>\n",
       "      <td>16.0</td>\n",
       "      <td>51.000000</td>\n",
       "      <td>8</td>\n",
       "      <td>False</td>\n",
       "      <td>False</td>\n",
       "      <td>False</td>\n",
       "      <td>25.00</td>\n",
       "      <td>0.0</td>\n",
       "      <td>санкт-петербург</td>\n",
       "      <td>18863.0</td>\n",
       "      <td>16028.0</td>\n",
       "      <td>1.0</td>\n",
       "      <td>482.0</td>\n",
       "      <td>2.0</td>\n",
       "      <td>755.0</td>\n",
       "      <td>NaN</td>\n",
       "      <td>120370.367188</td>\n",
       "      <td>3</td>\n",
       "      <td>3</td>\n",
       "      <td>2019</td>\n",
       "      <td>другой</td>\n",
       "      <td>16.0</td>\n",
       "      <td>0.120370</td>\n",
       "    </tr>\n",
       "    <tr>\n",
       "      <th>2</th>\n",
       "      <td>10</td>\n",
       "      <td>5.196</td>\n",
       "      <td>56.000000</td>\n",
       "      <td>2015-08-20</td>\n",
       "      <td>2</td>\n",
       "      <td>2.65</td>\n",
       "      <td>5.0</td>\n",
       "      <td>34.299999</td>\n",
       "      <td>4</td>\n",
       "      <td>False</td>\n",
       "      <td>False</td>\n",
       "      <td>False</td>\n",
       "      <td>8.30</td>\n",
       "      <td>0.0</td>\n",
       "      <td>санкт-петербург</td>\n",
       "      <td>21741.0</td>\n",
       "      <td>13933.0</td>\n",
       "      <td>1.0</td>\n",
       "      <td>90.0</td>\n",
       "      <td>2.0</td>\n",
       "      <td>574.0</td>\n",
       "      <td>558.0</td>\n",
       "      <td>92785.710938</td>\n",
       "      <td>3</td>\n",
       "      <td>8</td>\n",
       "      <td>2015</td>\n",
       "      <td>другой</td>\n",
       "      <td>14.0</td>\n",
       "      <td>0.092786</td>\n",
       "    </tr>\n",
       "    <tr>\n",
       "      <th>3</th>\n",
       "      <td>0</td>\n",
       "      <td>64.900</td>\n",
       "      <td>159.000000</td>\n",
       "      <td>2015-07-24</td>\n",
       "      <td>3</td>\n",
       "      <td>2.65</td>\n",
       "      <td>14.0</td>\n",
       "      <td>1.770000</td>\n",
       "      <td>9</td>\n",
       "      <td>False</td>\n",
       "      <td>False</td>\n",
       "      <td>False</td>\n",
       "      <td>6.58</td>\n",
       "      <td>0.0</td>\n",
       "      <td>санкт-петербург</td>\n",
       "      <td>28098.0</td>\n",
       "      <td>6800.0</td>\n",
       "      <td>2.0</td>\n",
       "      <td>84.0</td>\n",
       "      <td>3.0</td>\n",
       "      <td>234.0</td>\n",
       "      <td>424.0</td>\n",
       "      <td>408176.093750</td>\n",
       "      <td>4</td>\n",
       "      <td>7</td>\n",
       "      <td>2015</td>\n",
       "      <td>другой</td>\n",
       "      <td>7.0</td>\n",
       "      <td>0.408176</td>\n",
       "    </tr>\n",
       "    <tr>\n",
       "      <th>4</th>\n",
       "      <td>2</td>\n",
       "      <td>10.000</td>\n",
       "      <td>100.000000</td>\n",
       "      <td>2018-06-19</td>\n",
       "      <td>2</td>\n",
       "      <td>3.03</td>\n",
       "      <td>14.0</td>\n",
       "      <td>32.000000</td>\n",
       "      <td>13</td>\n",
       "      <td>False</td>\n",
       "      <td>False</td>\n",
       "      <td>False</td>\n",
       "      <td>41.00</td>\n",
       "      <td>0.0</td>\n",
       "      <td>санкт-петербург</td>\n",
       "      <td>31856.0</td>\n",
       "      <td>8098.0</td>\n",
       "      <td>2.0</td>\n",
       "      <td>112.0</td>\n",
       "      <td>1.0</td>\n",
       "      <td>48.0</td>\n",
       "      <td>121.0</td>\n",
       "      <td>100000.000000</td>\n",
       "      <td>1</td>\n",
       "      <td>6</td>\n",
       "      <td>2018</td>\n",
       "      <td>другой</td>\n",
       "      <td>8.0</td>\n",
       "      <td>0.100000</td>\n",
       "    </tr>\n",
       "    <tr>\n",
       "      <th>7</th>\n",
       "      <td>5</td>\n",
       "      <td>7.915</td>\n",
       "      <td>71.599998</td>\n",
       "      <td>2019-04-18</td>\n",
       "      <td>2</td>\n",
       "      <td>2.65</td>\n",
       "      <td>24.0</td>\n",
       "      <td>1.770000</td>\n",
       "      <td>22</td>\n",
       "      <td>False</td>\n",
       "      <td>False</td>\n",
       "      <td>False</td>\n",
       "      <td>18.90</td>\n",
       "      <td>2.0</td>\n",
       "      <td>санкт-петербург</td>\n",
       "      <td>23982.0</td>\n",
       "      <td>11634.0</td>\n",
       "      <td>0.0</td>\n",
       "      <td>NaN</td>\n",
       "      <td>0.0</td>\n",
       "      <td>NaN</td>\n",
       "      <td>NaN</td>\n",
       "      <td>110544.703125</td>\n",
       "      <td>3</td>\n",
       "      <td>4</td>\n",
       "      <td>2019</td>\n",
       "      <td>другой</td>\n",
       "      <td>12.0</td>\n",
       "      <td>0.110545</td>\n",
       "    </tr>\n",
       "  </tbody>\n",
       "</table>\n",
       "</div>"
      ],
      "text/plain": [
       "   total_images  last_price  total_area first_day_exposition  rooms  \\\n",
       "0            20      13.000  108.000000           2019-03-07      3   \n",
       "2            10       5.196   56.000000           2015-08-20      2   \n",
       "3             0      64.900  159.000000           2015-07-24      3   \n",
       "4             2      10.000  100.000000           2018-06-19      2   \n",
       "7             5       7.915   71.599998           2019-04-18      2   \n",
       "\n",
       "   ceiling_height  floors_total  living_area  floor  is_apartment  studio  \\\n",
       "0            2.70          16.0    51.000000      8         False   False   \n",
       "2            2.65           5.0    34.299999      4         False   False   \n",
       "3            2.65          14.0     1.770000      9         False   False   \n",
       "4            3.03          14.0    32.000000     13         False   False   \n",
       "7            2.65          24.0     1.770000     22         False   False   \n",
       "\n",
       "   open_plan  kitchen_area  balcony    locality_name  airports_nearest  \\\n",
       "0      False         25.00      0.0  санкт-петербург           18863.0   \n",
       "2      False          8.30      0.0  санкт-петербург           21741.0   \n",
       "3      False          6.58      0.0  санкт-петербург           28098.0   \n",
       "4      False         41.00      0.0  санкт-петербург           31856.0   \n",
       "7      False         18.90      2.0  санкт-петербург           23982.0   \n",
       "\n",
       "   cityCenters_nearest  parks_around3000  parks_nearest  ponds_around3000  \\\n",
       "0              16028.0               1.0          482.0               2.0   \n",
       "2              13933.0               1.0           90.0               2.0   \n",
       "3               6800.0               2.0           84.0               3.0   \n",
       "4               8098.0               2.0          112.0               1.0   \n",
       "7              11634.0               0.0            NaN               0.0   \n",
       "\n",
       "   ponds_nearest  days_exposition    price_per_m  day_of_exp  month_of_exp  \\\n",
       "0          755.0              NaN  120370.367188           3             3   \n",
       "2          574.0            558.0   92785.710938           3             8   \n",
       "3          234.0            424.0  408176.093750           4             7   \n",
       "4           48.0            121.0  100000.000000           1             6   \n",
       "7            NaN              NaN  110544.703125           3             4   \n",
       "\n",
       "   year_of_exp floor_name_full  cityCenters_nearest_km  price_mean  \n",
       "0         2019          другой                    16.0    0.120370  \n",
       "2         2015          другой                    14.0    0.092786  \n",
       "3         2015          другой                     7.0    0.408176  \n",
       "4         2018          другой                     8.0    0.100000  \n",
       "7         2019          другой                    12.0    0.110545  "
      ]
     },
     "execution_count": 47,
     "metadata": {},
     "output_type": "execute_result"
    }
   ],
   "source": [
    "data_spb=data.query('locality_name in \"санкт-петербург\"')\n",
    "#добавляю условие в дф\n",
    "data_spb.head()"
   ]
  },
  {
   "cell_type": "code",
   "execution_count": 48,
   "metadata": {},
   "outputs": [
    {
     "data": {
      "text/html": [
       "<div>\n",
       "<style scoped>\n",
       "    .dataframe tbody tr th:only-of-type {\n",
       "        vertical-align: middle;\n",
       "    }\n",
       "\n",
       "    .dataframe tbody tr th {\n",
       "        vertical-align: top;\n",
       "    }\n",
       "\n",
       "    .dataframe thead th {\n",
       "        text-align: right;\n",
       "    }\n",
       "</style>\n",
       "<table border=\"1\" class=\"dataframe\">\n",
       "  <thead>\n",
       "    <tr style=\"text-align: right;\">\n",
       "      <th></th>\n",
       "      <th>last_price</th>\n",
       "    </tr>\n",
       "    <tr>\n",
       "      <th>cityCenters_nearest_km</th>\n",
       "      <th></th>\n",
       "    </tr>\n",
       "  </thead>\n",
       "  <tbody>\n",
       "    <tr>\n",
       "      <th>29.0</th>\n",
       "      <td>4.236667</td>\n",
       "    </tr>\n",
       "    <tr>\n",
       "      <th>28.0</th>\n",
       "      <td>5.026429</td>\n",
       "    </tr>\n",
       "    <tr>\n",
       "      <th>27.0</th>\n",
       "      <td>8.300000</td>\n",
       "    </tr>\n",
       "    <tr>\n",
       "      <th>26.0</th>\n",
       "      <td>3.973013</td>\n",
       "    </tr>\n",
       "    <tr>\n",
       "      <th>25.0</th>\n",
       "      <td>4.052840</td>\n",
       "    </tr>\n",
       "    <tr>\n",
       "      <th>24.0</th>\n",
       "      <td>3.854430</td>\n",
       "    </tr>\n",
       "    <tr>\n",
       "      <th>23.0</th>\n",
       "      <td>4.985376</td>\n",
       "    </tr>\n",
       "    <tr>\n",
       "      <th>22.0</th>\n",
       "      <td>5.415524</td>\n",
       "    </tr>\n",
       "    <tr>\n",
       "      <th>21.0</th>\n",
       "      <td>5.493469</td>\n",
       "    </tr>\n",
       "    <tr>\n",
       "      <th>20.0</th>\n",
       "      <td>5.951465</td>\n",
       "    </tr>\n",
       "    <tr>\n",
       "      <th>19.0</th>\n",
       "      <td>5.037675</td>\n",
       "    </tr>\n",
       "    <tr>\n",
       "      <th>18.0</th>\n",
       "      <td>5.091331</td>\n",
       "    </tr>\n",
       "    <tr>\n",
       "      <th>17.0</th>\n",
       "      <td>5.292395</td>\n",
       "    </tr>\n",
       "    <tr>\n",
       "      <th>16.0</th>\n",
       "      <td>5.373131</td>\n",
       "    </tr>\n",
       "    <tr>\n",
       "      <th>15.0</th>\n",
       "      <td>5.884751</td>\n",
       "    </tr>\n",
       "    <tr>\n",
       "      <th>14.0</th>\n",
       "      <td>5.629101</td>\n",
       "    </tr>\n",
       "    <tr>\n",
       "      <th>13.0</th>\n",
       "      <td>6.083141</td>\n",
       "    </tr>\n",
       "    <tr>\n",
       "      <th>12.0</th>\n",
       "      <td>5.828545</td>\n",
       "    </tr>\n",
       "    <tr>\n",
       "      <th>11.0</th>\n",
       "      <td>6.250815</td>\n",
       "    </tr>\n",
       "    <tr>\n",
       "      <th>10.0</th>\n",
       "      <td>6.504119</td>\n",
       "    </tr>\n",
       "    <tr>\n",
       "      <th>9.0</th>\n",
       "      <td>6.950659</td>\n",
       "    </tr>\n",
       "    <tr>\n",
       "      <th>8.0</th>\n",
       "      <td>9.957717</td>\n",
       "    </tr>\n",
       "    <tr>\n",
       "      <th>7.0</th>\n",
       "      <td>14.775153</td>\n",
       "    </tr>\n",
       "    <tr>\n",
       "      <th>6.0</th>\n",
       "      <td>15.338418</td>\n",
       "    </tr>\n",
       "    <tr>\n",
       "      <th>5.0</th>\n",
       "      <td>14.499121</td>\n",
       "    </tr>\n",
       "    <tr>\n",
       "      <th>4.0</th>\n",
       "      <td>13.304280</td>\n",
       "    </tr>\n",
       "    <tr>\n",
       "      <th>3.0</th>\n",
       "      <td>11.126581</td>\n",
       "    </tr>\n",
       "    <tr>\n",
       "      <th>2.0</th>\n",
       "      <td>17.788320</td>\n",
       "    </tr>\n",
       "    <tr>\n",
       "      <th>1.0</th>\n",
       "      <td>21.206721</td>\n",
       "    </tr>\n",
       "    <tr>\n",
       "      <th>0.0</th>\n",
       "      <td>31.449116</td>\n",
       "    </tr>\n",
       "  </tbody>\n",
       "</table>\n",
       "</div>"
      ],
      "text/plain": [
       "                        last_price\n",
       "cityCenters_nearest_km            \n",
       "29.0                      4.236667\n",
       "28.0                      5.026429\n",
       "27.0                      8.300000\n",
       "26.0                      3.973013\n",
       "25.0                      4.052840\n",
       "24.0                      3.854430\n",
       "23.0                      4.985376\n",
       "22.0                      5.415524\n",
       "21.0                      5.493469\n",
       "20.0                      5.951465\n",
       "19.0                      5.037675\n",
       "18.0                      5.091331\n",
       "17.0                      5.292395\n",
       "16.0                      5.373131\n",
       "15.0                      5.884751\n",
       "14.0                      5.629101\n",
       "13.0                      6.083141\n",
       "12.0                      5.828545\n",
       "11.0                      6.250815\n",
       "10.0                      6.504119\n",
       "9.0                       6.950659\n",
       "8.0                       9.957717\n",
       "7.0                      14.775153\n",
       "6.0                      15.338418\n",
       "5.0                      14.499121\n",
       "4.0                      13.304280\n",
       "3.0                      11.126581\n",
       "2.0                      17.788320\n",
       "1.0                      21.206721\n",
       "0.0                      31.449116"
      ]
     },
     "execution_count": 48,
     "metadata": {},
     "output_type": "execute_result"
    }
   ],
   "source": [
    "data_new=data_spb.pivot_table(index='cityCenters_nearest_km', values='last_price', aggfunc='mean')\n",
    "data_new_sorted=data_new.sort_values(by='cityCenters_nearest_km', ascending=False)\n",
    "#Создаю сводную таблицу с сортировкой по километражу от города\n",
    "data_new_sorted"
   ]
  },
  {
   "cell_type": "code",
   "execution_count": 49,
   "metadata": {},
   "outputs": [
    {
     "data": {
      "image/png": "[encoded data removed]",
      "text/plain": [
       "<Figure size 720x216 with 1 Axes>"
      ]
     },
     "metadata": {
      "needs_background": "light"
     },
     "output_type": "display_data"
    }
   ],
   "source": [
    "data_new.plot(y='last_price', style='o-', xlim=(0, 30), grid=True, figsize=(10,3)) \n",
    "#Строю линейный график с маркерами\n",
    "plt.show()"
   ]
  },
  {
   "cell_type": "markdown",
   "metadata": {},
   "source": [
    "**Промежуточный вывод**  \n",
    "Построен график изменения средней цены для каждого километра от центра Петербурга. "
   ]
  },
  {
   "cell_type": "markdown",
   "metadata": {
    "id": "h7VpzkIDAwb-"
   },
   "source": [
    "## Выводы"
   ]
  },
  {
   "cell_type": "markdown",
   "metadata": {},
   "source": [
    "**1.** На входе нам дали данные, которые содержат 23699 строк.В них встречались дубликаты, аномалии, пропуски, для чего потребовалась предобработка данных. Также не везде был проставлен тип значений, применимый для дальнейшего анализа.  \n",
    "\n",
    "**2.** Предобработка была выполнена успешно.\n",
    "В предобработке данных мы увидели в столбцах много пропущенных значений, в некоторых из них пропуски составляли более 80%! Часть из них мы обработали медианными значениями, такие как общее кол-во этажей, высоту потолков, и жилую площадь, а часть (столбцы, котоые указывали на категории)с помощью категориальных значений, такие как вид жилья. Далее мы изменили тип данных для столбцов, содержащих дату и время для дальнейшего анализа.\n",
    "Затем мы проработали дубликаты - привели значения к единому виду и отображению.\n",
    "Однако многие строки с пропусками пришлось и удалить, так в нас осталось 23697 строк  \n",
    "\n",
    "**3.** После этого нам понадобилось добавить новые столбцы- цена за метр, а также отдельно месяц, число и день объявления. Чтобы анализ зависимости продажи от этажей был более нагляден мы создали столбец с категориями, которые выделили первый этаж, последний, и этажи между ними.  \n",
    "\n",
    "**4.** Далее мы приступили к анализу данных. Тут мы столкнулись с аномалиями, например, высота потолков в некоторых объектах достигала 100 и 20 метров, что маловероятно корректно.\n",
    "После этого мы создали визуализации, которые помогли понять зависимость продаж от разных факторов:  \n",
    "\n",
    "-Общий метраж\n",
    "-Метраж жилой площади\n",
    "-Площадь кухни\n",
    "-Цена недвижимости\n",
    "-Количество комнат\n",
    "-Высота потолков\n",
    "-Этаж\n",
    "-Общее кол-во этажей в доме\n",
    "-Ближайшая инфраструктура\n",
    "-Аномалии были везде.Необычно быстрыми можно считать продажи, близкие к нулю. Необычно долгими можно считать продажи, которые длились больше 800 дней. \n",
    "\n",
    " Затем мы вывели корреляцию между факторами и ценой на жильё. Наименьшая корреляция была между ценой и комнатами, всего 0,36, а самая высокая между ценой и общей площадью - 0.65. Самый дорогой этаж - последний. Самые высокие цены были в субботу, в декабре, в 2014 году. Санкт- Петербург наиболее дорогой город с точки зрения квадратного метра (15721), а Выборг самый дешевый(237).Это можно объяснить минимальной инфраструктурой.  \n",
    " \n",
    "Далее мы вывели самые дорогие квадратные метры по городам, это помогло нам сделать выводы о трендах продаж недвижимости. Раз наиболее продаваемые объекты оказались в Санкт-Петербурге, мы подробнее изучили, насколько аудитории интересно расположение до центра, как оказалось, это ключевой фактор при выборе квартир в культурной столице.Если взглянуть ближе на Петербург, то километраж от центра города сильно влиял на цену. Стоимость вдаль понижалась в 6 раз с 30 до 6 миллионов!"
   ]
  }
 ],
 "metadata": {
  "ExecuteTimeLog": [
   {
    "duration": 526,
    "start_time": "2025-03-31T20:02:06.766Z"
   },
   {
    "duration": 77,
    "start_time": "2025-03-31T20:02:10.971Z"
   },
   {
    "duration": 88,
    "start_time": "2025-03-31T20:02:26.779Z"
   },
   {
    "duration": 75,
    "start_time": "2025-03-31T20:02:41.430Z"
   },
   {
    "duration": 72,
    "start_time": "2025-03-31T20:02:53.458Z"
   },
   {
    "duration": 76,
    "start_time": "2025-03-31T20:03:05.780Z"
   },
   {
    "duration": 74,
    "start_time": "2025-03-31T20:03:09.417Z"
   },
   {
    "duration": 83,
    "start_time": "2025-03-31T20:03:45.377Z"
   },
   {
    "duration": 134,
    "start_time": "2025-03-31T20:04:32.515Z"
   },
   {
    "duration": 131,
    "start_time": "2025-03-31T20:05:16.714Z"
   },
   {
    "duration": 120,
    "start_time": "2025-03-31T20:07:38.786Z"
   },
   {
    "duration": 2369,
    "start_time": "2025-03-31T20:09:34.271Z"
   },
   {
    "duration": 1885,
    "start_time": "2025-03-31T20:34:23.479Z"
   },
   {
    "duration": 113,
    "start_time": "2025-03-31T20:35:39.392Z"
   },
   {
    "duration": 1789,
    "start_time": "2025-03-31T20:35:43.801Z"
   },
   {
    "duration": 66,
    "start_time": "2025-03-31T20:36:25.325Z"
   },
   {
    "duration": 71,
    "start_time": "2025-03-31T20:38:08.606Z"
   },
   {
    "duration": 18,
    "start_time": "2025-03-31T20:41:53.323Z"
   },
   {
    "duration": 9,
    "start_time": "2025-04-01T14:55:26.733Z"
   },
   {
    "duration": 15,
    "start_time": "2025-04-01T15:01:34.782Z"
   },
   {
    "duration": 7,
    "start_time": "2025-04-01T15:06:05.029Z"
   },
   {
    "duration": 9,
    "start_time": "2025-04-01T15:07:30.419Z"
   },
   {
    "duration": 1297,
    "start_time": "2025-04-01T15:08:26.168Z"
   },
   {
    "duration": 9,
    "start_time": "2025-04-01T15:08:39.477Z"
   },
   {
    "duration": 49,
    "start_time": "2025-04-01T15:14:53.904Z"
   },
   {
    "duration": 26,
    "start_time": "2025-04-01T15:18:35.335Z"
   },
   {
    "duration": 6,
    "start_time": "2025-04-01T15:46:32.146Z"
   },
   {
    "duration": 9,
    "start_time": "2025-04-01T15:47:40.752Z"
   },
   {
    "duration": 7,
    "start_time": "2025-04-01T15:47:47.048Z"
   },
   {
    "duration": 66,
    "start_time": "2025-04-01T15:47:54.604Z"
   },
   {
    "duration": 70,
    "start_time": "2025-04-01T15:48:00.747Z"
   },
   {
    "duration": 5,
    "start_time": "2025-04-01T15:48:21.784Z"
   },
   {
    "duration": 6,
    "start_time": "2025-04-01T15:52:49.912Z"
   },
   {
    "duration": 6,
    "start_time": "2025-04-01T15:52:58.380Z"
   },
   {
    "duration": 7,
    "start_time": "2025-04-01T15:53:05.608Z"
   },
   {
    "duration": 9,
    "start_time": "2025-04-01T15:54:58.830Z"
   },
   {
    "duration": 45,
    "start_time": "2025-04-01T20:02:55.068Z"
   },
   {
    "duration": 5,
    "start_time": "2025-04-01T20:03:02.975Z"
   },
   {
    "duration": 43,
    "start_time": "2025-04-01T20:03:11.413Z"
   },
   {
    "duration": 63,
    "start_time": "2025-04-01T20:09:11.864Z"
   },
   {
    "duration": 42,
    "start_time": "2025-04-01T20:11:08.652Z"
   },
   {
    "duration": 11,
    "start_time": "2025-04-01T20:11:47.777Z"
   },
   {
    "duration": 42,
    "start_time": "2025-04-01T20:12:09.730Z"
   },
   {
    "duration": 6,
    "start_time": "2025-04-01T20:12:34.948Z"
   },
   {
    "duration": 522,
    "start_time": "2025-04-01T20:13:16.716Z"
   },
   {
    "duration": 16,
    "start_time": "2025-04-01T20:13:17.240Z"
   },
   {
    "duration": 2098,
    "start_time": "2025-04-01T20:13:17.258Z"
   },
   {
    "duration": 13,
    "start_time": "2025-04-01T20:13:19.358Z"
   },
   {
    "duration": 65,
    "start_time": "2025-04-01T20:13:19.373Z"
   },
   {
    "duration": 73,
    "start_time": "2025-04-01T20:13:19.440Z"
   },
   {
    "duration": 0,
    "start_time": "2025-04-01T20:13:19.515Z"
   },
   {
    "duration": 0,
    "start_time": "2025-04-01T20:13:19.517Z"
   },
   {
    "duration": 8,
    "start_time": "2025-04-01T20:13:29.376Z"
   },
   {
    "duration": 15,
    "start_time": "2025-04-01T20:13:45.108Z"
   },
   {
    "duration": 19,
    "start_time": "2025-04-01T20:13:49.404Z"
   },
   {
    "duration": 7,
    "start_time": "2025-04-01T20:14:01.172Z"
   },
   {
    "duration": 14,
    "start_time": "2025-04-01T20:14:24.178Z"
   },
   {
    "duration": 29,
    "start_time": "2025-04-01T20:14:49.187Z"
   },
   {
    "duration": 18,
    "start_time": "2025-04-01T20:15:43.162Z"
   },
   {
    "duration": 22,
    "start_time": "2025-04-01T20:17:06.568Z"
   },
   {
    "duration": 2283,
    "start_time": "2025-04-01T20:18:02.506Z"
   },
   {
    "duration": 12,
    "start_time": "2025-04-01T20:18:37.188Z"
   },
   {
    "duration": 11,
    "start_time": "2025-04-01T20:18:39.553Z"
   },
   {
    "duration": 760,
    "start_time": "2025-04-01T20:18:59.967Z"
   },
   {
    "duration": 544,
    "start_time": "2025-04-01T20:19:51.211Z"
   },
   {
    "duration": 592,
    "start_time": "2025-04-01T20:20:23.026Z"
   },
   {
    "duration": 14,
    "start_time": "2025-04-01T20:20:23.620Z"
   },
   {
    "duration": 2117,
    "start_time": "2025-04-01T20:20:23.636Z"
   },
   {
    "duration": 13,
    "start_time": "2025-04-01T20:20:25.755Z"
   },
   {
    "duration": 615,
    "start_time": "2025-04-01T20:20:25.771Z"
   },
   {
    "duration": 0,
    "start_time": "2025-04-01T20:20:26.388Z"
   },
   {
    "duration": 0,
    "start_time": "2025-04-01T20:20:26.389Z"
   },
   {
    "duration": 0,
    "start_time": "2025-04-01T20:20:26.390Z"
   },
   {
    "duration": 0,
    "start_time": "2025-04-01T20:20:26.391Z"
   },
   {
    "duration": 537,
    "start_time": "2025-04-01T20:25:46.053Z"
   },
   {
    "duration": 617,
    "start_time": "2025-04-01T20:27:07.039Z"
   },
   {
    "duration": 31,
    "start_time": "2025-04-01T20:27:32.092Z"
   },
   {
    "duration": 27,
    "start_time": "2025-04-01T20:32:05.011Z"
   },
   {
    "duration": 22,
    "start_time": "2025-04-01T20:32:53.718Z"
   },
   {
    "duration": 13,
    "start_time": "2025-04-01T20:33:08.216Z"
   },
   {
    "duration": 43,
    "start_time": "2025-04-01T20:33:11.667Z"
   },
   {
    "duration": 9,
    "start_time": "2025-04-01T20:33:23.511Z"
   },
   {
    "duration": 43,
    "start_time": "2025-04-01T20:34:04.592Z"
   },
   {
    "duration": 5,
    "start_time": "2025-04-01T20:36:32.600Z"
   },
   {
    "duration": 5,
    "start_time": "2025-04-01T20:36:35.727Z"
   },
   {
    "duration": 41,
    "start_time": "2025-04-01T20:36:40.861Z"
   },
   {
    "duration": 45,
    "start_time": "2025-04-01T20:37:51.827Z"
   },
   {
    "duration": 12,
    "start_time": "2025-04-01T20:37:57.742Z"
   },
   {
    "duration": 8,
    "start_time": "2025-04-01T20:45:11.539Z"
   },
   {
    "duration": 8,
    "start_time": "2025-04-01T20:45:18.750Z"
   },
   {
    "duration": 9,
    "start_time": "2025-04-01T20:45:33.353Z"
   },
   {
    "duration": 49,
    "start_time": "2025-04-01T20:45:44.490Z"
   },
   {
    "duration": 11,
    "start_time": "2025-04-01T20:45:54.376Z"
   },
   {
    "duration": 46,
    "start_time": "2025-04-01T20:46:25.943Z"
   },
   {
    "duration": 11,
    "start_time": "2025-04-01T20:46:31.737Z"
   },
   {
    "duration": 8,
    "start_time": "2025-04-01T20:47:10.371Z"
   },
   {
    "duration": 8,
    "start_time": "2025-04-01T20:47:27.597Z"
   },
   {
    "duration": 9,
    "start_time": "2025-04-01T20:48:18.960Z"
   },
   {
    "duration": 9,
    "start_time": "2025-04-01T20:48:40.314Z"
   },
   {
    "duration": 8,
    "start_time": "2025-04-01T20:48:49.649Z"
   },
   {
    "duration": 8,
    "start_time": "2025-04-01T20:48:53.506Z"
   },
   {
    "duration": 8,
    "start_time": "2025-04-01T20:49:22.482Z"
   },
   {
    "duration": 8,
    "start_time": "2025-04-01T20:49:28.983Z"
   },
   {
    "duration": 549,
    "start_time": "2025-04-01T20:49:35.293Z"
   },
   {
    "duration": 13,
    "start_time": "2025-04-01T20:49:35.844Z"
   },
   {
    "duration": 2086,
    "start_time": "2025-04-01T20:49:35.859Z"
   },
   {
    "duration": 9,
    "start_time": "2025-04-01T20:49:37.946Z"
   },
   {
    "duration": 56,
    "start_time": "2025-04-01T20:49:37.957Z"
   },
   {
    "duration": 9,
    "start_time": "2025-04-01T20:49:38.015Z"
   },
   {
    "duration": 52,
    "start_time": "2025-04-01T20:49:38.026Z"
   },
   {
    "duration": 28,
    "start_time": "2025-04-01T20:49:38.080Z"
   },
   {
    "duration": 45,
    "start_time": "2025-04-01T20:49:38.110Z"
   },
   {
    "duration": 25,
    "start_time": "2025-04-01T20:51:45.372Z"
   },
   {
    "duration": 39,
    "start_time": "2025-04-01T20:51:55.207Z"
   },
   {
    "duration": 42,
    "start_time": "2025-04-01T20:54:41.415Z"
   },
   {
    "duration": 42,
    "start_time": "2025-04-01T20:56:00.996Z"
   },
   {
    "duration": 10,
    "start_time": "2025-04-01T20:56:05.905Z"
   },
   {
    "duration": 12,
    "start_time": "2025-04-01T20:56:30.055Z"
   },
   {
    "duration": 6,
    "start_time": "2025-04-01T20:57:08.516Z"
   },
   {
    "duration": 50,
    "start_time": "2025-04-01T20:57:19.959Z"
   },
   {
    "duration": 10,
    "start_time": "2025-04-01T20:57:25.117Z"
   },
   {
    "duration": 10,
    "start_time": "2025-04-01T20:57:29.112Z"
   },
   {
    "duration": 15,
    "start_time": "2025-04-01T21:02:14.119Z"
   },
   {
    "duration": 822,
    "start_time": "2025-04-01T21:05:22.093Z"
   },
   {
    "duration": 1713,
    "start_time": "2025-04-01T21:10:12.890Z"
   },
   {
    "duration": 2358,
    "start_time": "2025-04-01T21:10:43.663Z"
   },
   {
    "duration": 28,
    "start_time": "2025-04-01T21:11:15.321Z"
   },
   {
    "duration": 55,
    "start_time": "2025-04-01T21:11:50.085Z"
   },
   {
    "duration": 22,
    "start_time": "2025-04-01T21:12:53.126Z"
   },
   {
    "duration": 7,
    "start_time": "2025-04-02T10:41:11.375Z"
   },
   {
    "duration": 7,
    "start_time": "2025-04-02T10:41:45.133Z"
   },
   {
    "duration": 48,
    "start_time": "2025-04-02T10:43:03.714Z"
   },
   {
    "duration": 61,
    "start_time": "2025-04-02T10:43:53.575Z"
   },
   {
    "duration": 59,
    "start_time": "2025-04-02T10:44:41.599Z"
   },
   {
    "duration": 45,
    "start_time": "2025-04-02T10:45:26.612Z"
   },
   {
    "duration": 538,
    "start_time": "2025-04-02T10:46:00.764Z"
   },
   {
    "duration": 24,
    "start_time": "2025-04-02T10:46:01.304Z"
   },
   {
    "duration": 2431,
    "start_time": "2025-04-02T10:46:01.330Z"
   },
   {
    "duration": 10,
    "start_time": "2025-04-02T10:46:03.763Z"
   },
   {
    "duration": 43,
    "start_time": "2025-04-02T10:46:03.774Z"
   },
   {
    "duration": 14,
    "start_time": "2025-04-02T10:46:03.819Z"
   },
   {
    "duration": 79,
    "start_time": "2025-04-02T10:46:03.836Z"
   },
   {
    "duration": 12,
    "start_time": "2025-04-02T10:46:03.916Z"
   },
   {
    "duration": 13,
    "start_time": "2025-04-02T10:46:03.929Z"
   },
   {
    "duration": 29,
    "start_time": "2025-04-02T10:46:03.944Z"
   },
   {
    "duration": 46,
    "start_time": "2025-04-02T10:46:03.975Z"
   },
   {
    "duration": 71,
    "start_time": "2025-04-02T10:46:40.481Z"
   },
   {
    "duration": 90,
    "start_time": "2025-04-02T10:46:57.524Z"
   },
   {
    "duration": 9,
    "start_time": "2025-04-02T10:47:16.564Z"
   },
   {
    "duration": 7,
    "start_time": "2025-04-02T10:47:47.425Z"
   },
   {
    "duration": 6,
    "start_time": "2025-04-02T10:53:17.480Z"
   },
   {
    "duration": 17,
    "start_time": "2025-04-02T10:53:42.104Z"
   },
   {
    "duration": 10,
    "start_time": "2025-04-02T11:08:27.670Z"
   },
   {
    "duration": 9,
    "start_time": "2025-04-02T11:08:34.441Z"
   },
   {
    "duration": 7,
    "start_time": "2025-04-02T11:08:36.942Z"
   },
   {
    "duration": 611,
    "start_time": "2025-04-02T11:08:53.508Z"
   },
   {
    "duration": 16,
    "start_time": "2025-04-02T11:08:54.122Z"
   },
   {
    "duration": 2546,
    "start_time": "2025-04-02T11:08:54.139Z"
   },
   {
    "duration": 11,
    "start_time": "2025-04-02T11:08:56.687Z"
   },
   {
    "duration": 40,
    "start_time": "2025-04-02T11:08:56.699Z"
   },
   {
    "duration": 10,
    "start_time": "2025-04-02T11:08:56.741Z"
   },
   {
    "duration": 78,
    "start_time": "2025-04-02T11:08:56.753Z"
   },
   {
    "duration": 11,
    "start_time": "2025-04-02T11:08:56.833Z"
   },
   {
    "duration": 21,
    "start_time": "2025-04-02T11:08:56.846Z"
   },
   {
    "duration": 11,
    "start_time": "2025-04-02T11:08:56.869Z"
   },
   {
    "duration": 98,
    "start_time": "2025-04-02T11:08:56.882Z"
   },
   {
    "duration": 8,
    "start_time": "2025-04-02T11:08:56.981Z"
   },
   {
    "duration": 11,
    "start_time": "2025-04-02T11:08:57.007Z"
   },
   {
    "duration": 46,
    "start_time": "2025-04-02T11:09:03.769Z"
   },
   {
    "duration": 5,
    "start_time": "2025-04-02T11:09:28.132Z"
   },
   {
    "duration": 78,
    "start_time": "2025-04-02T11:09:34.755Z"
   },
   {
    "duration": 6,
    "start_time": "2025-04-02T11:09:53.729Z"
   },
   {
    "duration": 7,
    "start_time": "2025-04-02T11:10:43.517Z"
   },
   {
    "duration": 8,
    "start_time": "2025-04-02T11:11:06.746Z"
   },
   {
    "duration": 7,
    "start_time": "2025-04-02T11:11:36.786Z"
   },
   {
    "duration": 9,
    "start_time": "2025-04-02T11:11:52.818Z"
   },
   {
    "duration": 7,
    "start_time": "2025-04-02T11:12:22.488Z"
   },
   {
    "duration": 81,
    "start_time": "2025-04-02T11:12:38.004Z"
   },
   {
    "duration": 74,
    "start_time": "2025-04-02T11:12:54.546Z"
   },
   {
    "duration": 69,
    "start_time": "2025-04-02T11:13:02.522Z"
   },
   {
    "duration": 96,
    "start_time": "2025-04-02T11:13:07.415Z"
   },
   {
    "duration": 3,
    "start_time": "2025-04-02T11:13:49.929Z"
   },
   {
    "duration": 7,
    "start_time": "2025-04-02T11:14:00.021Z"
   },
   {
    "duration": 12,
    "start_time": "2025-04-02T11:14:34.711Z"
   },
   {
    "duration": 6,
    "start_time": "2025-04-02T11:16:36.378Z"
   },
   {
    "duration": 12,
    "start_time": "2025-04-02T11:16:50.041Z"
   },
   {
    "duration": 17,
    "start_time": "2025-04-02T11:17:17.440Z"
   },
   {
    "duration": 8,
    "start_time": "2025-04-02T11:17:21.325Z"
   },
   {
    "duration": 7,
    "start_time": "2025-04-02T11:19:32.898Z"
   },
   {
    "duration": 92,
    "start_time": "2025-04-02T11:38:18.378Z"
   },
   {
    "duration": 78,
    "start_time": "2025-04-02T11:38:24.823Z"
   },
   {
    "duration": 82,
    "start_time": "2025-04-02T11:38:35.978Z"
   },
   {
    "duration": 71,
    "start_time": "2025-04-02T11:38:44.253Z"
   },
   {
    "duration": 69,
    "start_time": "2025-04-02T11:38:49.449Z"
   },
   {
    "duration": 91,
    "start_time": "2025-04-02T11:39:01.488Z"
   },
   {
    "duration": 96,
    "start_time": "2025-04-02T11:39:12.821Z"
   },
   {
    "duration": 103,
    "start_time": "2025-04-02T11:39:24.078Z"
   },
   {
    "duration": 79,
    "start_time": "2025-04-02T11:39:32.998Z"
   },
   {
    "duration": 7,
    "start_time": "2025-04-02T11:39:59.250Z"
   },
   {
    "duration": 13,
    "start_time": "2025-04-02T11:44:09.250Z"
   },
   {
    "duration": 7,
    "start_time": "2025-04-02T11:44:11.835Z"
   },
   {
    "duration": 12,
    "start_time": "2025-04-02T11:44:13.935Z"
   },
   {
    "duration": 33,
    "start_time": "2025-04-02T11:44:32.016Z"
   },
   {
    "duration": 11,
    "start_time": "2025-04-02T11:44:53.516Z"
   },
   {
    "duration": 12,
    "start_time": "2025-04-02T11:44:58.512Z"
   },
   {
    "duration": 10,
    "start_time": "2025-04-02T11:45:07.366Z"
   },
   {
    "duration": 11,
    "start_time": "2025-04-02T11:45:12.798Z"
   },
   {
    "duration": 8,
    "start_time": "2025-04-02T11:45:19.753Z"
   },
   {
    "duration": 5,
    "start_time": "2025-04-02T11:57:54.086Z"
   },
   {
    "duration": 5,
    "start_time": "2025-04-02T11:57:56.349Z"
   },
   {
    "duration": 6,
    "start_time": "2025-04-02T11:57:58.347Z"
   },
   {
    "duration": 5,
    "start_time": "2025-04-02T11:58:02.124Z"
   },
   {
    "duration": 1004,
    "start_time": "2025-04-02T11:58:31.915Z"
   },
   {
    "duration": 885,
    "start_time": "2025-04-02T12:00:37.589Z"
   },
   {
    "duration": 5,
    "start_time": "2025-04-02T12:00:46.447Z"
   },
   {
    "duration": 1068,
    "start_time": "2025-04-02T12:00:59.616Z"
   },
   {
    "duration": 7,
    "start_time": "2025-04-02T12:01:10.939Z"
   },
   {
    "duration": 885,
    "start_time": "2025-04-02T12:01:17.048Z"
   },
   {
    "duration": 5,
    "start_time": "2025-04-02T12:01:29.594Z"
   },
   {
    "duration": 863,
    "start_time": "2025-04-02T12:03:34.039Z"
   },
   {
    "duration": 1009,
    "start_time": "2025-04-02T12:03:55.363Z"
   },
   {
    "duration": 600,
    "start_time": "2025-04-02T12:04:18.988Z"
   },
   {
    "duration": 32,
    "start_time": "2025-04-02T12:04:19.590Z"
   },
   {
    "duration": 2461,
    "start_time": "2025-04-02T12:04:19.624Z"
   },
   {
    "duration": 11,
    "start_time": "2025-04-02T12:04:22.088Z"
   },
   {
    "duration": 36,
    "start_time": "2025-04-02T12:04:22.101Z"
   },
   {
    "duration": 11,
    "start_time": "2025-04-02T12:04:22.139Z"
   },
   {
    "duration": 76,
    "start_time": "2025-04-02T12:04:22.152Z"
   },
   {
    "duration": 9,
    "start_time": "2025-04-02T12:04:22.230Z"
   },
   {
    "duration": 26,
    "start_time": "2025-04-02T12:04:22.240Z"
   },
   {
    "duration": 10,
    "start_time": "2025-04-02T12:04:22.268Z"
   },
   {
    "duration": 87,
    "start_time": "2025-04-02T12:04:22.279Z"
   },
   {
    "duration": 9,
    "start_time": "2025-04-02T12:04:22.368Z"
   },
   {
    "duration": 83,
    "start_time": "2025-04-02T12:04:22.379Z"
   },
   {
    "duration": 98,
    "start_time": "2025-04-02T12:04:22.465Z"
   },
   {
    "duration": 270,
    "start_time": "2025-04-02T12:05:23.786Z"
   },
   {
    "duration": 90,
    "start_time": "2025-04-02T12:05:36.425Z"
   },
   {
    "duration": 86,
    "start_time": "2025-04-02T12:05:48.053Z"
   },
   {
    "duration": 75,
    "start_time": "2025-04-02T12:05:58.499Z"
   },
   {
    "duration": 15,
    "start_time": "2025-04-02T12:06:20.787Z"
   },
   {
    "duration": 72,
    "start_time": "2025-04-02T12:06:23.702Z"
   },
   {
    "duration": 33,
    "start_time": "2025-04-02T12:07:08.728Z"
   },
   {
    "duration": 18,
    "start_time": "2025-04-02T12:07:10.723Z"
   },
   {
    "duration": 75,
    "start_time": "2025-04-02T12:07:13.740Z"
   },
   {
    "duration": 10,
    "start_time": "2025-04-02T12:07:37.297Z"
   },
   {
    "duration": 1372,
    "start_time": "2025-04-02T12:07:51.975Z"
   },
   {
    "duration": 1107,
    "start_time": "2025-04-02T12:08:34.520Z"
   },
   {
    "duration": 1314,
    "start_time": "2025-04-02T12:09:04.245Z"
   },
   {
    "duration": 1082,
    "start_time": "2025-04-02T12:09:12.204Z"
   },
   {
    "duration": 7,
    "start_time": "2025-04-02T12:19:23.673Z"
   },
   {
    "duration": 7,
    "start_time": "2025-04-02T12:19:57.785Z"
   },
   {
    "duration": 969,
    "start_time": "2025-04-02T12:20:01.639Z"
   },
   {
    "duration": 6,
    "start_time": "2025-04-02T12:20:06.559Z"
   },
   {
    "duration": 578,
    "start_time": "2025-04-02T12:20:39.372Z"
   },
   {
    "duration": 20,
    "start_time": "2025-04-02T12:20:39.952Z"
   },
   {
    "duration": 2347,
    "start_time": "2025-04-02T12:20:39.978Z"
   },
   {
    "duration": 11,
    "start_time": "2025-04-02T12:20:42.326Z"
   },
   {
    "duration": 32,
    "start_time": "2025-04-02T12:20:42.338Z"
   },
   {
    "duration": 44,
    "start_time": "2025-04-02T12:20:42.371Z"
   },
   {
    "duration": 82,
    "start_time": "2025-04-02T12:20:42.417Z"
   },
   {
    "duration": 10,
    "start_time": "2025-04-02T12:20:42.500Z"
   },
   {
    "duration": 15,
    "start_time": "2025-04-02T12:20:42.512Z"
   },
   {
    "duration": 12,
    "start_time": "2025-04-02T12:20:42.529Z"
   },
   {
    "duration": 91,
    "start_time": "2025-04-02T12:20:42.542Z"
   },
   {
    "duration": 7,
    "start_time": "2025-04-02T12:20:42.635Z"
   },
   {
    "duration": 109,
    "start_time": "2025-04-02T12:20:42.644Z"
   },
   {
    "duration": 96,
    "start_time": "2025-04-02T12:20:42.755Z"
   },
   {
    "duration": 58,
    "start_time": "2025-04-02T12:23:22.491Z"
   },
   {
    "duration": 75,
    "start_time": "2025-04-02T12:24:38.971Z"
   },
   {
    "duration": 41,
    "start_time": "2025-04-02T12:27:16.753Z"
   },
   {
    "duration": 32,
    "start_time": "2025-04-02T12:27:45.447Z"
   },
   {
    "duration": 17,
    "start_time": "2025-04-02T12:27:55.668Z"
   },
   {
    "duration": 13,
    "start_time": "2025-04-02T12:29:06.905Z"
   },
   {
    "duration": 117,
    "start_time": "2025-04-02T12:29:50.998Z"
   },
   {
    "duration": 6,
    "start_time": "2025-04-02T12:42:05.049Z"
   },
   {
    "duration": 4,
    "start_time": "2025-04-02T12:42:10.685Z"
   },
   {
    "duration": 5,
    "start_time": "2025-04-02T12:42:13.147Z"
   },
   {
    "duration": 24,
    "start_time": "2025-04-02T12:44:17.689Z"
   },
   {
    "duration": 19,
    "start_time": "2025-04-02T12:44:24.899Z"
   },
   {
    "duration": 4,
    "start_time": "2025-04-02T12:44:29.430Z"
   },
   {
    "duration": 10,
    "start_time": "2025-04-02T12:44:40.517Z"
   },
   {
    "duration": 6,
    "start_time": "2025-04-02T12:50:40.266Z"
   },
   {
    "duration": 8,
    "start_time": "2025-04-02T12:50:54.615Z"
   },
   {
    "duration": 7,
    "start_time": "2025-04-02T12:52:52.430Z"
   },
   {
    "duration": 11,
    "start_time": "2025-04-02T12:53:31.869Z"
   },
   {
    "duration": 7,
    "start_time": "2025-04-02T12:53:41.976Z"
   },
   {
    "duration": 7,
    "start_time": "2025-04-02T12:54:35.953Z"
   },
   {
    "duration": 5,
    "start_time": "2025-04-02T12:54:38.739Z"
   },
   {
    "duration": 7,
    "start_time": "2025-04-02T12:54:40.120Z"
   },
   {
    "duration": 543,
    "start_time": "2025-04-02T12:54:50.655Z"
   },
   {
    "duration": 18,
    "start_time": "2025-04-02T12:54:51.200Z"
   },
   {
    "duration": 2349,
    "start_time": "2025-04-02T12:54:51.220Z"
   },
   {
    "duration": 11,
    "start_time": "2025-04-02T12:54:53.571Z"
   },
   {
    "duration": 68,
    "start_time": "2025-04-02T12:54:53.584Z"
   },
   {
    "duration": 17,
    "start_time": "2025-04-02T12:54:53.654Z"
   },
   {
    "duration": 84,
    "start_time": "2025-04-02T12:54:53.673Z"
   },
   {
    "duration": 11,
    "start_time": "2025-04-02T12:54:53.758Z"
   },
   {
    "duration": 146,
    "start_time": "2025-04-02T12:54:53.770Z"
   },
   {
    "duration": 75,
    "start_time": "2025-04-02T12:54:53.920Z"
   },
   {
    "duration": 137,
    "start_time": "2025-04-02T12:54:53.997Z"
   },
   {
    "duration": 8,
    "start_time": "2025-04-02T12:54:54.136Z"
   },
   {
    "duration": 18,
    "start_time": "2025-04-02T12:54:54.146Z"
   },
   {
    "duration": 49,
    "start_time": "2025-04-02T12:54:54.166Z"
   },
   {
    "duration": 21,
    "start_time": "2025-04-02T13:21:55.114Z"
   },
   {
    "duration": 20,
    "start_time": "2025-04-02T13:26:22.095Z"
   },
   {
    "duration": 24,
    "start_time": "2025-04-02T13:27:25.461Z"
   },
   {
    "duration": 29,
    "start_time": "2025-04-02T13:27:43.091Z"
   },
   {
    "duration": 22,
    "start_time": "2025-04-02T13:29:09.533Z"
   },
   {
    "duration": 29,
    "start_time": "2025-04-02T13:29:26.000Z"
   },
   {
    "duration": 28,
    "start_time": "2025-04-02T13:30:04.868Z"
   },
   {
    "duration": 35,
    "start_time": "2025-04-02T13:30:18.854Z"
   },
   {
    "duration": 11,
    "start_time": "2025-04-02T13:30:24.572Z"
   },
   {
    "duration": 81,
    "start_time": "2025-04-02T13:38:15.982Z"
   },
   {
    "duration": 63,
    "start_time": "2025-04-02T13:38:33.279Z"
   },
   {
    "duration": 11,
    "start_time": "2025-04-02T13:38:47.278Z"
   },
   {
    "duration": 127,
    "start_time": "2025-04-02T20:18:23.006Z"
   },
   {
    "duration": 72,
    "start_time": "2025-04-02T20:18:29.178Z"
   },
   {
    "duration": 84,
    "start_time": "2025-04-02T20:18:32.790Z"
   },
   {
    "duration": 77,
    "start_time": "2025-04-02T20:19:50.422Z"
   },
   {
    "duration": 9,
    "start_time": "2025-04-02T20:20:21.570Z"
   },
   {
    "duration": 13,
    "start_time": "2025-04-02T20:20:32.155Z"
   },
   {
    "duration": 10,
    "start_time": "2025-04-02T20:20:40.247Z"
   },
   {
    "duration": 9,
    "start_time": "2025-04-02T20:22:09.034Z"
   },
   {
    "duration": 9,
    "start_time": "2025-04-02T20:22:16.883Z"
   },
   {
    "duration": 11,
    "start_time": "2025-04-02T20:22:22.558Z"
   },
   {
    "duration": 9,
    "start_time": "2025-04-02T20:22:43.900Z"
   },
   {
    "duration": 9,
    "start_time": "2025-04-02T20:23:44.657Z"
   },
   {
    "duration": 15,
    "start_time": "2025-04-02T20:27:21.748Z"
   },
   {
    "duration": 12,
    "start_time": "2025-04-02T20:27:37.569Z"
   },
   {
    "duration": 9,
    "start_time": "2025-04-02T20:29:07.275Z"
   },
   {
    "duration": 96,
    "start_time": "2025-04-02T20:32:19.255Z"
   },
   {
    "duration": 67,
    "start_time": "2025-04-02T20:32:25.431Z"
   },
   {
    "duration": 83,
    "start_time": "2025-04-02T20:32:37.453Z"
   },
   {
    "duration": 95,
    "start_time": "2025-04-02T20:32:44.450Z"
   },
   {
    "duration": 95,
    "start_time": "2025-04-02T20:32:49.762Z"
   },
   {
    "duration": 58,
    "start_time": "2025-04-02T20:32:58.263Z"
   },
   {
    "duration": 16,
    "start_time": "2025-04-02T20:33:37.704Z"
   },
   {
    "duration": 48,
    "start_time": "2025-04-02T20:33:57.191Z"
   },
   {
    "duration": 66,
    "start_time": "2025-04-02T20:35:43.406Z"
   },
   {
    "duration": 58,
    "start_time": "2025-04-02T20:35:49.718Z"
   },
   {
    "duration": 11,
    "start_time": "2025-04-02T20:40:50.424Z"
   },
   {
    "duration": 12,
    "start_time": "2025-04-02T20:41:03.321Z"
   },
   {
    "duration": 10,
    "start_time": "2025-04-02T20:41:27.434Z"
   },
   {
    "duration": 13,
    "start_time": "2025-04-02T20:48:00.296Z"
   },
   {
    "duration": 13,
    "start_time": "2025-04-02T20:48:11.557Z"
   },
   {
    "duration": 116,
    "start_time": "2025-04-02T20:48:38.376Z"
   },
   {
    "duration": 180,
    "start_time": "2025-04-02T20:50:16.464Z"
   },
   {
    "duration": 252,
    "start_time": "2025-04-02T20:51:09.017Z"
   },
   {
    "duration": 271,
    "start_time": "2025-04-02T20:57:52.144Z"
   },
   {
    "duration": 375,
    "start_time": "2025-04-02T20:58:02.360Z"
   },
   {
    "duration": 4,
    "start_time": "2025-04-02T21:00:58.805Z"
   },
   {
    "duration": 38,
    "start_time": "2025-04-02T21:01:12.546Z"
   },
   {
    "duration": 86,
    "start_time": "2025-04-03T12:08:57.140Z"
   },
   {
    "duration": 41,
    "start_time": "2025-04-03T12:16:16.162Z"
   },
   {
    "duration": 88,
    "start_time": "2025-04-03T12:16:18.908Z"
   },
   {
    "duration": 11,
    "start_time": "2025-04-03T12:16:56.814Z"
   },
   {
    "duration": 6,
    "start_time": "2025-04-03T12:17:49.626Z"
   },
   {
    "duration": 93,
    "start_time": "2025-04-03T12:18:45.075Z"
   },
   {
    "duration": 334,
    "start_time": "2025-04-03T12:18:55.996Z"
   },
   {
    "duration": 1166,
    "start_time": "2025-04-03T12:19:19.272Z"
   },
   {
    "duration": 305,
    "start_time": "2025-04-03T12:20:08.939Z"
   },
   {
    "duration": 37,
    "start_time": "2025-04-03T12:20:20.044Z"
   },
   {
    "duration": 47,
    "start_time": "2025-04-03T12:20:27.727Z"
   },
   {
    "duration": 6,
    "start_time": "2025-04-03T12:20:42.738Z"
   },
   {
    "duration": 9,
    "start_time": "2025-04-03T12:20:53.940Z"
   },
   {
    "duration": 89,
    "start_time": "2025-04-03T12:21:15.589Z"
   },
   {
    "duration": 10,
    "start_time": "2025-04-03T12:22:14.357Z"
   },
   {
    "duration": 6,
    "start_time": "2025-04-03T12:22:42.409Z"
   },
   {
    "duration": 10,
    "start_time": "2025-04-03T12:23:40.081Z"
   },
   {
    "duration": 8,
    "start_time": "2025-04-03T12:24:55.908Z"
   },
   {
    "duration": 85,
    "start_time": "2025-04-03T12:28:57.039Z"
   },
   {
    "duration": 13,
    "start_time": "2025-04-03T14:18:21.498Z"
   },
   {
    "duration": 5,
    "start_time": "2025-04-03T14:19:40.250Z"
   },
   {
    "duration": 8,
    "start_time": "2025-04-03T14:45:21.028Z"
   },
   {
    "duration": 7,
    "start_time": "2025-04-03T14:45:37.881Z"
   },
   {
    "duration": 8,
    "start_time": "2025-04-03T14:45:50.080Z"
   },
   {
    "duration": 9,
    "start_time": "2025-04-03T14:45:57.188Z"
   },
   {
    "duration": 8,
    "start_time": "2025-04-03T14:46:15.384Z"
   },
   {
    "duration": 9,
    "start_time": "2025-04-03T14:47:02.071Z"
   },
   {
    "duration": 10,
    "start_time": "2025-04-03T14:47:20.086Z"
   },
   {
    "duration": 9,
    "start_time": "2025-04-03T14:47:31.904Z"
   },
   {
    "duration": 25,
    "start_time": "2025-04-03T14:56:38.890Z"
   },
   {
    "duration": 68,
    "start_time": "2025-04-03T14:56:47.085Z"
   },
   {
    "duration": 28,
    "start_time": "2025-04-03T14:57:06.595Z"
   },
   {
    "duration": 8,
    "start_time": "2025-04-03T14:59:06.454Z"
   },
   {
    "duration": 8,
    "start_time": "2025-04-03T14:59:20.523Z"
   },
   {
    "duration": 8,
    "start_time": "2025-04-03T14:59:43.299Z"
   },
   {
    "duration": 28,
    "start_time": "2025-04-03T15:02:01.186Z"
   },
   {
    "duration": 36,
    "start_time": "2025-04-03T15:02:23.594Z"
   },
   {
    "duration": 5,
    "start_time": "2025-04-03T15:02:37.652Z"
   },
   {
    "duration": 86,
    "start_time": "2025-04-03T15:02:43.711Z"
   },
   {
    "duration": 5,
    "start_time": "2025-04-03T15:02:47.934Z"
   },
   {
    "duration": 561,
    "start_time": "2025-04-03T15:03:00.913Z"
   },
   {
    "duration": 17,
    "start_time": "2025-04-03T15:03:01.476Z"
   },
   {
    "duration": 2441,
    "start_time": "2025-04-03T15:03:01.503Z"
   },
   {
    "duration": 12,
    "start_time": "2025-04-03T15:03:03.947Z"
   },
   {
    "duration": 88,
    "start_time": "2025-04-03T15:03:03.961Z"
   },
   {
    "duration": 36,
    "start_time": "2025-04-03T15:03:04.051Z"
   },
   {
    "duration": 53,
    "start_time": "2025-04-03T15:03:04.090Z"
   },
   {
    "duration": 11,
    "start_time": "2025-04-03T15:03:04.144Z"
   },
   {
    "duration": 35,
    "start_time": "2025-04-03T15:03:04.156Z"
   },
   {
    "duration": 14,
    "start_time": "2025-04-03T15:03:04.193Z"
   },
   {
    "duration": 63,
    "start_time": "2025-04-03T15:03:04.208Z"
   },
   {
    "duration": 6,
    "start_time": "2025-04-03T15:03:04.273Z"
   },
   {
    "duration": 35,
    "start_time": "2025-04-03T15:03:04.281Z"
   },
   {
    "duration": 26,
    "start_time": "2025-04-03T15:03:04.317Z"
   },
   {
    "duration": 67,
    "start_time": "2025-04-03T15:03:04.345Z"
   },
   {
    "duration": 9,
    "start_time": "2025-04-03T15:03:04.414Z"
   },
   {
    "duration": 254,
    "start_time": "2025-04-03T15:03:04.425Z"
   },
   {
    "duration": 315,
    "start_time": "2025-04-03T15:03:04.681Z"
   },
   {
    "duration": 46,
    "start_time": "2025-04-03T15:03:04.998Z"
   },
   {
    "duration": 108,
    "start_time": "2025-04-03T15:03:05.046Z"
   },
   {
    "duration": 6,
    "start_time": "2025-04-03T15:03:05.156Z"
   },
   {
    "duration": 91,
    "start_time": "2025-04-03T15:05:28.546Z"
   },
   {
    "duration": 35,
    "start_time": "2025-04-03T15:05:35.785Z"
   },
   {
    "duration": 17,
    "start_time": "2025-04-03T15:07:51.393Z"
   },
   {
    "duration": 532,
    "start_time": "2025-04-03T15:07:57.421Z"
   },
   {
    "duration": 15,
    "start_time": "2025-04-03T15:07:57.955Z"
   },
   {
    "duration": 2167,
    "start_time": "2025-04-03T15:07:57.971Z"
   },
   {
    "duration": 10,
    "start_time": "2025-04-03T15:08:00.141Z"
   },
   {
    "duration": 57,
    "start_time": "2025-04-03T15:08:00.152Z"
   },
   {
    "duration": 25,
    "start_time": "2025-04-03T15:08:00.211Z"
   },
   {
    "duration": 94,
    "start_time": "2025-04-03T15:08:00.237Z"
   },
   {
    "duration": 9,
    "start_time": "2025-04-03T15:08:00.333Z"
   },
   {
    "duration": 49,
    "start_time": "2025-04-03T15:08:00.344Z"
   },
   {
    "duration": 12,
    "start_time": "2025-04-03T15:08:00.395Z"
   },
   {
    "duration": 66,
    "start_time": "2025-04-03T15:08:00.409Z"
   },
   {
    "duration": 6,
    "start_time": "2025-04-03T15:08:00.477Z"
   },
   {
    "duration": 32,
    "start_time": "2025-04-03T15:08:00.485Z"
   },
   {
    "duration": 57,
    "start_time": "2025-04-03T15:08:00.519Z"
   },
   {
    "duration": 66,
    "start_time": "2025-04-03T15:08:00.578Z"
   },
   {
    "duration": 13,
    "start_time": "2025-04-03T15:08:00.645Z"
   },
   {
    "duration": 298,
    "start_time": "2025-04-03T15:08:00.660Z"
   },
   {
    "duration": 313,
    "start_time": "2025-04-03T15:08:00.960Z"
   },
   {
    "duration": 53,
    "start_time": "2025-04-03T15:08:01.274Z"
   },
   {
    "duration": 92,
    "start_time": "2025-04-03T15:08:01.328Z"
   },
   {
    "duration": 8,
    "start_time": "2025-04-03T15:08:01.422Z"
   },
   {
    "duration": 96,
    "start_time": "2025-04-03T15:08:01.433Z"
   },
   {
    "duration": 1885,
    "start_time": "2025-04-03T15:09:13.294Z"
   },
   {
    "duration": 1807,
    "start_time": "2025-04-03T15:09:36.841Z"
   },
   {
    "duration": 103,
    "start_time": "2025-04-03T15:10:48.681Z"
   },
   {
    "duration": 80,
    "start_time": "2025-04-03T15:10:53.818Z"
   },
   {
    "duration": 72,
    "start_time": "2025-04-03T15:11:03.188Z"
   },
   {
    "duration": 78,
    "start_time": "2025-04-03T15:11:06.936Z"
   },
   {
    "duration": 69,
    "start_time": "2025-04-03T15:11:10.470Z"
   },
   {
    "duration": 71,
    "start_time": "2025-04-03T15:11:19.651Z"
   },
   {
    "duration": 83,
    "start_time": "2025-04-03T15:11:31.681Z"
   },
   {
    "duration": 1732,
    "start_time": "2025-04-03T15:11:39.721Z"
   },
   {
    "duration": 8,
    "start_time": "2025-04-03T15:14:16.028Z"
   },
   {
    "duration": 188,
    "start_time": "2025-04-03T15:14:49.802Z"
   },
   {
    "duration": 189,
    "start_time": "2025-04-03T15:21:39.380Z"
   },
   {
    "duration": 6,
    "start_time": "2025-04-03T15:22:57.465Z"
   },
   {
    "duration": 9,
    "start_time": "2025-04-03T15:23:17.678Z"
   },
   {
    "duration": 6,
    "start_time": "2025-04-03T15:23:43.118Z"
   },
   {
    "duration": 6,
    "start_time": "2025-04-03T15:23:46.368Z"
   },
   {
    "duration": 6,
    "start_time": "2025-04-03T15:23:49.502Z"
   },
   {
    "duration": 565,
    "start_time": "2025-04-03T15:24:00.189Z"
   },
   {
    "duration": 15,
    "start_time": "2025-04-03T15:24:00.756Z"
   },
   {
    "duration": 2222,
    "start_time": "2025-04-03T15:24:00.773Z"
   },
   {
    "duration": 10,
    "start_time": "2025-04-03T15:24:03.004Z"
   },
   {
    "duration": 108,
    "start_time": "2025-04-03T15:24:03.015Z"
   },
   {
    "duration": 11,
    "start_time": "2025-04-03T15:24:03.125Z"
   },
   {
    "duration": 61,
    "start_time": "2025-04-03T15:24:03.138Z"
   },
   {
    "duration": 9,
    "start_time": "2025-04-03T15:24:03.201Z"
   },
   {
    "duration": 11,
    "start_time": "2025-04-03T15:24:03.212Z"
   },
   {
    "duration": 15,
    "start_time": "2025-04-03T15:24:03.226Z"
   },
   {
    "duration": 78,
    "start_time": "2025-04-03T15:24:03.242Z"
   },
   {
    "duration": 6,
    "start_time": "2025-04-03T15:24:03.321Z"
   },
   {
    "duration": 23,
    "start_time": "2025-04-03T15:24:03.329Z"
   },
   {
    "duration": 50,
    "start_time": "2025-04-03T15:24:03.353Z"
   },
   {
    "duration": 46,
    "start_time": "2025-04-03T15:24:03.404Z"
   },
   {
    "duration": 11,
    "start_time": "2025-04-03T15:24:03.452Z"
   },
   {
    "duration": 249,
    "start_time": "2025-04-03T15:24:03.465Z"
   },
   {
    "duration": 316,
    "start_time": "2025-04-03T15:24:03.716Z"
   },
   {
    "duration": 39,
    "start_time": "2025-04-03T15:24:04.034Z"
   },
   {
    "duration": 165,
    "start_time": "2025-04-03T15:24:04.074Z"
   },
   {
    "duration": 5,
    "start_time": "2025-04-03T15:24:04.241Z"
   },
   {
    "duration": 29,
    "start_time": "2025-04-03T15:24:04.248Z"
   },
   {
    "duration": 4,
    "start_time": "2025-04-03T15:25:01.533Z"
   },
   {
    "duration": 9,
    "start_time": "2025-04-03T15:25:09.674Z"
   },
   {
    "duration": 7,
    "start_time": "2025-04-03T15:25:22.606Z"
   },
   {
    "duration": 169,
    "start_time": "2025-04-03T15:36:24.913Z"
   },
   {
    "duration": 154,
    "start_time": "2025-04-03T15:45:41.006Z"
   },
   {
    "duration": 73,
    "start_time": "2025-04-03T15:46:12.198Z"
   },
   {
    "duration": 7,
    "start_time": "2025-04-03T15:46:32.961Z"
   },
   {
    "duration": 8,
    "start_time": "2025-04-03T15:46:36.681Z"
   },
   {
    "duration": 7,
    "start_time": "2025-04-03T15:46:54.152Z"
   },
   {
    "duration": 8,
    "start_time": "2025-04-03T15:47:01.125Z"
   },
   {
    "duration": 218,
    "start_time": "2025-04-03T15:49:02.356Z"
   },
   {
    "duration": 144,
    "start_time": "2025-04-03T15:50:32.496Z"
   },
   {
    "duration": 140,
    "start_time": "2025-04-03T15:50:52.240Z"
   },
   {
    "duration": 138,
    "start_time": "2025-04-03T15:51:10.901Z"
   },
   {
    "duration": 146,
    "start_time": "2025-04-03T15:51:18.325Z"
   },
   {
    "duration": 103,
    "start_time": "2025-04-03T15:52:24.775Z"
   },
   {
    "duration": 8,
    "start_time": "2025-04-03T15:54:46.091Z"
   },
   {
    "duration": 11,
    "start_time": "2025-04-04T09:14:42.166Z"
   },
   {
    "duration": 331,
    "start_time": "2025-04-04T09:16:20.837Z"
   },
   {
    "duration": 360,
    "start_time": "2025-04-04T09:18:48.173Z"
   },
   {
    "duration": 441,
    "start_time": "2025-04-04T09:19:14.957Z"
   },
   {
    "duration": 342,
    "start_time": "2025-04-04T09:20:55.523Z"
   },
   {
    "duration": 305,
    "start_time": "2025-04-04T09:21:42.706Z"
   },
   {
    "duration": 321,
    "start_time": "2025-04-04T09:22:36.802Z"
   },
   {
    "duration": 311,
    "start_time": "2025-04-04T09:24:43.979Z"
   },
   {
    "duration": 270,
    "start_time": "2025-04-04T09:25:11.608Z"
   },
   {
    "duration": 444,
    "start_time": "2025-04-04T09:25:22.849Z"
   },
   {
    "duration": 316,
    "start_time": "2025-04-04T09:25:41.065Z"
   },
   {
    "duration": 8,
    "start_time": "2025-04-04T09:28:40.017Z"
   },
   {
    "duration": 322,
    "start_time": "2025-04-04T09:28:43.882Z"
   },
   {
    "duration": 462,
    "start_time": "2025-04-04T09:29:07.021Z"
   },
   {
    "duration": 316,
    "start_time": "2025-04-04T09:30:05.503Z"
   },
   {
    "duration": 16,
    "start_time": "2025-04-04T09:34:12.678Z"
   },
   {
    "duration": 442,
    "start_time": "2025-04-04T09:34:25.635Z"
   },
   {
    "duration": 69,
    "start_time": "2025-04-04T09:34:55.133Z"
   },
   {
    "duration": 86,
    "start_time": "2025-04-04T09:35:00.008Z"
   },
   {
    "duration": 270,
    "start_time": "2025-04-04T09:35:04.794Z"
   },
   {
    "duration": 277,
    "start_time": "2025-04-04T09:35:19.646Z"
   },
   {
    "duration": 99,
    "start_time": "2025-04-04T09:39:17.362Z"
   },
   {
    "duration": 72,
    "start_time": "2025-04-04T09:39:21.941Z"
   },
   {
    "duration": 259,
    "start_time": "2025-04-04T09:39:32.256Z"
   },
   {
    "duration": 76,
    "start_time": "2025-04-04T09:39:59.878Z"
   },
   {
    "duration": 262,
    "start_time": "2025-04-04T09:40:20.403Z"
   },
   {
    "duration": 429,
    "start_time": "2025-04-04T09:40:28.038Z"
   },
   {
    "duration": 151,
    "start_time": "2025-04-04T09:41:42.799Z"
   },
   {
    "duration": 280,
    "start_time": "2025-04-04T09:42:07.993Z"
   },
   {
    "duration": 312,
    "start_time": "2025-04-04T09:42:17.855Z"
   },
   {
    "duration": 273,
    "start_time": "2025-04-04T09:42:42.792Z"
   },
   {
    "duration": 273,
    "start_time": "2025-04-04T09:43:00.145Z"
   },
   {
    "duration": 12,
    "start_time": "2025-04-04T09:44:20.209Z"
   },
   {
    "duration": 3,
    "start_time": "2025-04-04T09:44:35.750Z"
   },
   {
    "duration": 328,
    "start_time": "2025-04-04T09:44:39.924Z"
   },
   {
    "duration": 145,
    "start_time": "2025-04-04T11:49:27.936Z"
   },
   {
    "duration": 492,
    "start_time": "2025-04-04T11:49:56.341Z"
   },
   {
    "duration": 317,
    "start_time": "2025-04-04T11:50:13.289Z"
   },
   {
    "duration": 304,
    "start_time": "2025-04-04T11:50:54.846Z"
   },
   {
    "duration": 80,
    "start_time": "2025-04-04T11:51:55.697Z"
   },
   {
    "duration": 325,
    "start_time": "2025-04-04T11:52:37.349Z"
   },
   {
    "duration": 9,
    "start_time": "2025-04-04T11:53:56.645Z"
   },
   {
    "duration": 143,
    "start_time": "2025-04-04T12:08:09.616Z"
   },
   {
    "duration": 16,
    "start_time": "2025-04-04T12:08:31.128Z"
   },
   {
    "duration": 9,
    "start_time": "2025-04-04T12:08:43.530Z"
   },
   {
    "duration": 310,
    "start_time": "2025-04-04T12:09:24.514Z"
   },
   {
    "duration": 352,
    "start_time": "2025-04-04T12:09:44.605Z"
   },
   {
    "duration": 477,
    "start_time": "2025-04-04T12:10:34.751Z"
   },
   {
    "duration": 1151,
    "start_time": "2025-04-04T14:08:16.466Z"
   },
   {
    "duration": 291,
    "start_time": "2025-04-04T14:08:39.715Z"
   },
   {
    "duration": 282,
    "start_time": "2025-04-04T14:09:13.472Z"
   },
   {
    "duration": 273,
    "start_time": "2025-04-04T14:09:49.250Z"
   },
   {
    "duration": 158,
    "start_time": "2025-04-04T14:10:22.397Z"
   },
   {
    "duration": 155,
    "start_time": "2025-04-04T14:11:36.344Z"
   },
   {
    "duration": 165,
    "start_time": "2025-04-04T14:11:43.300Z"
   },
   {
    "duration": 157,
    "start_time": "2025-04-04T14:11:47.103Z"
   },
   {
    "duration": 183,
    "start_time": "2025-04-04T14:11:50.810Z"
   },
   {
    "duration": 152,
    "start_time": "2025-04-04T14:11:54.208Z"
   },
   {
    "duration": 182,
    "start_time": "2025-04-04T14:13:08.592Z"
   },
   {
    "duration": 182,
    "start_time": "2025-04-04T14:13:17.216Z"
   },
   {
    "duration": 157,
    "start_time": "2025-04-04T14:13:32.968Z"
   },
   {
    "duration": 168,
    "start_time": "2025-04-04T14:14:23.511Z"
   },
   {
    "duration": 339,
    "start_time": "2025-04-04T14:14:33.721Z"
   },
   {
    "duration": 1162,
    "start_time": "2025-04-04T14:16:20.665Z"
   },
   {
    "duration": 193,
    "start_time": "2025-04-04T14:19:03.618Z"
   },
   {
    "duration": 175,
    "start_time": "2025-04-04T14:19:13.965Z"
   },
   {
    "duration": 142,
    "start_time": "2025-04-04T14:21:33.869Z"
   },
   {
    "duration": 155,
    "start_time": "2025-04-04T14:21:40.332Z"
   },
   {
    "duration": 197,
    "start_time": "2025-04-04T14:21:48.171Z"
   },
   {
    "duration": 162,
    "start_time": "2025-04-04T14:21:54.054Z"
   },
   {
    "duration": 141,
    "start_time": "2025-04-04T14:22:15.370Z"
   },
   {
    "duration": 159,
    "start_time": "2025-04-04T14:23:33.190Z"
   },
   {
    "duration": 198,
    "start_time": "2025-04-04T14:23:39.152Z"
   },
   {
    "duration": 235,
    "start_time": "2025-04-04T14:23:45.206Z"
   },
   {
    "duration": 275,
    "start_time": "2025-04-04T14:27:27.302Z"
   },
   {
    "duration": 228,
    "start_time": "2025-04-04T14:30:19.621Z"
   },
   {
    "duration": 243,
    "start_time": "2025-04-04T14:48:21.620Z"
   },
   {
    "duration": 253,
    "start_time": "2025-04-04T14:49:02.831Z"
   },
   {
    "duration": 312,
    "start_time": "2025-04-04T14:49:09.755Z"
   },
   {
    "duration": 5,
    "start_time": "2025-04-04T14:57:41.357Z"
   },
   {
    "duration": 6,
    "start_time": "2025-04-04T14:57:49.056Z"
   },
   {
    "duration": 6,
    "start_time": "2025-04-04T14:58:21.312Z"
   },
   {
    "duration": 5,
    "start_time": "2025-04-04T14:59:40.896Z"
   },
   {
    "duration": 5,
    "start_time": "2025-04-04T14:59:42.830Z"
   },
   {
    "duration": 1241,
    "start_time": "2025-04-04T15:14:06.467Z"
   },
   {
    "duration": 5,
    "start_time": "2025-04-04T15:14:16.863Z"
   },
   {
    "duration": 6,
    "start_time": "2025-04-04T15:14:55.687Z"
   },
   {
    "duration": 6,
    "start_time": "2025-04-04T15:15:32.538Z"
   },
   {
    "duration": 6,
    "start_time": "2025-04-04T15:16:26.076Z"
   },
   {
    "duration": 6,
    "start_time": "2025-04-04T15:16:31.406Z"
   },
   {
    "duration": 84,
    "start_time": "2025-04-04T15:17:06.180Z"
   },
   {
    "duration": 1132,
    "start_time": "2025-04-04T15:17:12.884Z"
   },
   {
    "duration": 1118,
    "start_time": "2025-04-04T15:18:39.743Z"
   },
   {
    "duration": 2117,
    "start_time": "2025-04-04T15:19:02.955Z"
   },
   {
    "duration": 1179,
    "start_time": "2025-04-04T15:19:17.701Z"
   },
   {
    "duration": 13,
    "start_time": "2025-04-04T15:35:22.190Z"
   },
   {
    "duration": 13,
    "start_time": "2025-04-04T15:35:33.119Z"
   },
   {
    "duration": 13,
    "start_time": "2025-04-04T15:35:39.229Z"
   },
   {
    "duration": 58,
    "start_time": "2025-04-04T15:36:15.009Z"
   },
   {
    "duration": 13,
    "start_time": "2025-04-04T15:36:57.870Z"
   },
   {
    "duration": 840,
    "start_time": "2025-04-04T15:37:19.418Z"
   },
   {
    "duration": 17,
    "start_time": "2025-04-04T15:37:20.260Z"
   },
   {
    "duration": 2121,
    "start_time": "2025-04-04T15:37:20.278Z"
   },
   {
    "duration": 11,
    "start_time": "2025-04-04T15:37:22.405Z"
   },
   {
    "duration": 93,
    "start_time": "2025-04-04T15:37:22.417Z"
   },
   {
    "duration": 11,
    "start_time": "2025-04-04T15:37:22.511Z"
   },
   {
    "duration": 57,
    "start_time": "2025-04-04T15:37:22.523Z"
   },
   {
    "duration": 23,
    "start_time": "2025-04-04T15:37:22.582Z"
   },
   {
    "duration": 14,
    "start_time": "2025-04-04T15:37:22.607Z"
   },
   {
    "duration": 11,
    "start_time": "2025-04-04T15:37:22.625Z"
   },
   {
    "duration": 93,
    "start_time": "2025-04-04T15:37:22.638Z"
   },
   {
    "duration": 9,
    "start_time": "2025-04-04T15:37:22.733Z"
   },
   {
    "duration": 48,
    "start_time": "2025-04-04T15:37:22.744Z"
   },
   {
    "duration": 28,
    "start_time": "2025-04-04T15:37:22.794Z"
   },
   {
    "duration": 132,
    "start_time": "2025-04-04T15:37:22.824Z"
   },
   {
    "duration": 11,
    "start_time": "2025-04-04T15:37:22.958Z"
   },
   {
    "duration": 75,
    "start_time": "2025-04-04T15:37:22.972Z"
   },
   {
    "duration": 344,
    "start_time": "2025-04-04T15:37:23.049Z"
   },
   {
    "duration": 49,
    "start_time": "2025-04-04T15:37:23.396Z"
   },
   {
    "duration": 115,
    "start_time": "2025-04-04T15:37:23.447Z"
   },
   {
    "duration": 7,
    "start_time": "2025-04-04T15:37:23.564Z"
   },
   {
    "duration": 14,
    "start_time": "2025-04-04T15:37:23.573Z"
   },
   {
    "duration": 349,
    "start_time": "2025-04-04T15:37:23.605Z"
   },
   {
    "duration": 397,
    "start_time": "2025-04-04T15:37:23.956Z"
   },
   {
    "duration": 319,
    "start_time": "2025-04-04T15:37:24.355Z"
   },
   {
    "duration": 179,
    "start_time": "2025-04-04T15:37:24.676Z"
   },
   {
    "duration": 212,
    "start_time": "2025-04-04T15:37:24.857Z"
   },
   {
    "duration": 200,
    "start_time": "2025-04-04T15:37:25.072Z"
   },
   {
    "duration": 92,
    "start_time": "2025-04-04T15:37:25.274Z"
   },
   {
    "duration": 0,
    "start_time": "2025-04-04T15:37:25.368Z"
   },
   {
    "duration": 0,
    "start_time": "2025-04-04T15:37:25.369Z"
   },
   {
    "duration": 0,
    "start_time": "2025-04-04T15:37:25.370Z"
   },
   {
    "duration": 0,
    "start_time": "2025-04-04T15:37:25.371Z"
   },
   {
    "duration": 0,
    "start_time": "2025-04-04T15:37:25.372Z"
   },
   {
    "duration": 0,
    "start_time": "2025-04-04T15:37:25.373Z"
   },
   {
    "duration": 0,
    "start_time": "2025-04-04T15:37:25.374Z"
   },
   {
    "duration": 0,
    "start_time": "2025-04-04T15:37:25.375Z"
   },
   {
    "duration": 0,
    "start_time": "2025-04-04T15:37:25.376Z"
   },
   {
    "duration": 0,
    "start_time": "2025-04-04T15:37:25.377Z"
   },
   {
    "duration": 0,
    "start_time": "2025-04-04T15:37:25.378Z"
   },
   {
    "duration": 0,
    "start_time": "2025-04-04T15:37:25.404Z"
   },
   {
    "duration": 0,
    "start_time": "2025-04-04T15:37:25.405Z"
   },
   {
    "duration": 0,
    "start_time": "2025-04-04T15:37:25.406Z"
   },
   {
    "duration": 197,
    "start_time": "2025-04-04T15:37:41.966Z"
   },
   {
    "duration": 252,
    "start_time": "2025-04-04T15:37:43.922Z"
   },
   {
    "duration": 249,
    "start_time": "2025-04-04T15:37:44.433Z"
   },
   {
    "duration": 426,
    "start_time": "2025-04-04T15:37:45.301Z"
   },
   {
    "duration": 5,
    "start_time": "2025-04-04T15:37:48.784Z"
   },
   {
    "duration": 6,
    "start_time": "2025-04-04T15:37:49.511Z"
   },
   {
    "duration": 5,
    "start_time": "2025-04-04T15:37:49.950Z"
   },
   {
    "duration": 6,
    "start_time": "2025-04-04T15:37:50.380Z"
   },
   {
    "duration": 5,
    "start_time": "2025-04-04T15:37:50.794Z"
   },
   {
    "duration": 6,
    "start_time": "2025-04-04T15:37:51.529Z"
   },
   {
    "duration": 363,
    "start_time": "2025-04-04T15:37:52.176Z"
   },
   {
    "duration": 6,
    "start_time": "2025-04-04T15:37:56.324Z"
   },
   {
    "duration": 6,
    "start_time": "2025-04-04T15:37:57.324Z"
   },
   {
    "duration": 6,
    "start_time": "2025-04-04T15:37:57.722Z"
   },
   {
    "duration": 1066,
    "start_time": "2025-04-04T15:40:50.230Z"
   },
   {
    "duration": 1239,
    "start_time": "2025-04-04T15:41:01.982Z"
   },
   {
    "duration": 331,
    "start_time": "2025-04-04T15:41:30.791Z"
   },
   {
    "duration": 10,
    "start_time": "2025-04-04T15:41:52.442Z"
   },
   {
    "duration": 9,
    "start_time": "2025-04-04T15:41:57.019Z"
   },
   {
    "duration": 16,
    "start_time": "2025-04-04T15:42:32.567Z"
   },
   {
    "duration": 215,
    "start_time": "2025-04-04T15:43:31.401Z"
   },
   {
    "duration": 1239,
    "start_time": "2025-04-04T15:43:49.701Z"
   },
   {
    "duration": 103,
    "start_time": "2025-04-04T15:44:45.991Z"
   },
   {
    "duration": 1231,
    "start_time": "2025-04-04T15:44:52.333Z"
   },
   {
    "duration": 1243,
    "start_time": "2025-04-04T15:45:00.056Z"
   },
   {
    "duration": 1243,
    "start_time": "2025-04-04T15:45:21.698Z"
   },
   {
    "duration": 1220,
    "start_time": "2025-04-04T15:45:59.373Z"
   },
   {
    "duration": 6,
    "start_time": "2025-04-04T15:46:02.546Z"
   },
   {
    "duration": 1261,
    "start_time": "2025-04-04T15:50:26.905Z"
   },
   {
    "duration": 1138,
    "start_time": "2025-04-04T15:50:57.666Z"
   },
   {
    "duration": 1247,
    "start_time": "2025-04-04T15:51:22.879Z"
   },
   {
    "duration": 1289,
    "start_time": "2025-04-04T15:52:04.461Z"
   },
   {
    "duration": 1229,
    "start_time": "2025-04-04T15:52:29.038Z"
   },
   {
    "duration": 1237,
    "start_time": "2025-04-04T15:53:00.520Z"
   },
   {
    "duration": 1254,
    "start_time": "2025-04-04T15:53:25.022Z"
   },
   {
    "duration": 279,
    "start_time": "2025-04-05T19:46:06.291Z"
   },
   {
    "duration": 335,
    "start_time": "2025-04-05T19:46:21.885Z"
   },
   {
    "duration": 289,
    "start_time": "2025-04-05T19:46:34.298Z"
   },
   {
    "duration": 1143,
    "start_time": "2025-04-05T19:49:57.830Z"
   },
   {
    "duration": 24,
    "start_time": "2025-04-05T19:50:14.048Z"
   },
   {
    "duration": 39,
    "start_time": "2025-04-05T19:50:55.935Z"
   },
   {
    "duration": 22,
    "start_time": "2025-04-05T19:52:02.333Z"
   },
   {
    "duration": 48,
    "start_time": "2025-04-05T19:54:47.983Z"
   },
   {
    "duration": 18,
    "start_time": "2025-04-05T19:55:25.070Z"
   },
   {
    "duration": 16,
    "start_time": "2025-04-05T19:55:36.593Z"
   },
   {
    "duration": 17,
    "start_time": "2025-04-05T19:56:49.359Z"
   },
   {
    "duration": 17,
    "start_time": "2025-04-05T19:57:03.348Z"
   },
   {
    "duration": 16,
    "start_time": "2025-04-05T20:01:46.146Z"
   },
   {
    "duration": 5,
    "start_time": "2025-04-05T20:02:01.197Z"
   },
   {
    "duration": 18,
    "start_time": "2025-04-05T20:02:10.952Z"
   },
   {
    "duration": 16,
    "start_time": "2025-04-05T20:07:41.298Z"
   },
   {
    "duration": 53,
    "start_time": "2025-04-07T08:43:05.757Z"
   },
   {
    "duration": 4,
    "start_time": "2025-04-07T08:43:24.121Z"
   },
   {
    "duration": 4,
    "start_time": "2025-04-07T08:43:32.705Z"
   },
   {
    "duration": 4,
    "start_time": "2025-04-07T08:43:36.347Z"
   },
   {
    "duration": 7,
    "start_time": "2025-04-07T08:43:41.234Z"
   },
   {
    "duration": 75,
    "start_time": "2025-04-07T08:44:14.806Z"
   },
   {
    "duration": 87,
    "start_time": "2025-04-07T08:44:26.553Z"
   },
   {
    "duration": 7,
    "start_time": "2025-04-07T08:45:18.326Z"
   },
   {
    "duration": 1097,
    "start_time": "2025-04-07T08:45:42.209Z"
   },
   {
    "duration": 19,
    "start_time": "2025-04-07T08:45:43.308Z"
   },
   {
    "duration": 2182,
    "start_time": "2025-04-07T08:45:43.338Z"
   },
   {
    "duration": 10,
    "start_time": "2025-04-07T08:45:45.522Z"
   },
   {
    "duration": 33,
    "start_time": "2025-04-07T08:45:45.534Z"
   },
   {
    "duration": 11,
    "start_time": "2025-04-07T08:45:45.568Z"
   },
   {
    "duration": 77,
    "start_time": "2025-04-07T08:45:45.581Z"
   },
   {
    "duration": 11,
    "start_time": "2025-04-07T08:45:45.660Z"
   },
   {
    "duration": 31,
    "start_time": "2025-04-07T08:45:45.674Z"
   },
   {
    "duration": 12,
    "start_time": "2025-04-07T08:45:45.707Z"
   },
   {
    "duration": 85,
    "start_time": "2025-04-07T08:45:45.721Z"
   },
   {
    "duration": 10,
    "start_time": "2025-04-07T08:45:45.808Z"
   },
   {
    "duration": 19,
    "start_time": "2025-04-07T08:45:45.840Z"
   },
   {
    "duration": 33,
    "start_time": "2025-04-07T08:45:45.860Z"
   },
   {
    "duration": 73,
    "start_time": "2025-04-07T08:45:45.895Z"
   },
   {
    "duration": 11,
    "start_time": "2025-04-07T08:45:45.970Z"
   },
   {
    "duration": 89,
    "start_time": "2025-04-07T08:45:45.984Z"
   },
   {
    "duration": 345,
    "start_time": "2025-04-07T08:45:46.075Z"
   },
   {
    "duration": 53,
    "start_time": "2025-04-07T08:45:46.422Z"
   },
   {
    "duration": 107,
    "start_time": "2025-04-07T08:45:46.477Z"
   },
   {
    "duration": 7,
    "start_time": "2025-04-07T08:45:46.585Z"
   },
   {
    "duration": 10,
    "start_time": "2025-04-07T08:45:46.594Z"
   },
   {
    "duration": 336,
    "start_time": "2025-04-07T08:45:46.606Z"
   },
   {
    "duration": 405,
    "start_time": "2025-04-07T08:45:46.944Z"
   },
   {
    "duration": 354,
    "start_time": "2025-04-07T08:45:47.351Z"
   },
   {
    "duration": 186,
    "start_time": "2025-04-07T08:45:47.707Z"
   },
   {
    "duration": 220,
    "start_time": "2025-04-07T08:45:47.898Z"
   },
   {
    "duration": 207,
    "start_time": "2025-04-07T08:45:48.119Z"
   },
   {
    "duration": 92,
    "start_time": "2025-04-07T08:45:48.328Z"
   },
   {
    "duration": 0,
    "start_time": "2025-04-07T08:45:48.422Z"
   },
   {
    "duration": 0,
    "start_time": "2025-04-07T08:45:48.440Z"
   },
   {
    "duration": 0,
    "start_time": "2025-04-07T08:45:48.441Z"
   },
   {
    "duration": 0,
    "start_time": "2025-04-07T08:45:48.442Z"
   },
   {
    "duration": 0,
    "start_time": "2025-04-07T08:45:48.443Z"
   },
   {
    "duration": 0,
    "start_time": "2025-04-07T08:45:48.445Z"
   },
   {
    "duration": 0,
    "start_time": "2025-04-07T08:45:48.446Z"
   },
   {
    "duration": 0,
    "start_time": "2025-04-07T08:45:48.447Z"
   },
   {
    "duration": 0,
    "start_time": "2025-04-07T08:45:48.448Z"
   },
   {
    "duration": 0,
    "start_time": "2025-04-07T08:45:48.449Z"
   },
   {
    "duration": 0,
    "start_time": "2025-04-07T08:45:48.451Z"
   },
   {
    "duration": 0,
    "start_time": "2025-04-07T08:45:48.452Z"
   },
   {
    "duration": 0,
    "start_time": "2025-04-07T08:45:48.453Z"
   },
   {
    "duration": 0,
    "start_time": "2025-04-07T08:45:48.455Z"
   },
   {
    "duration": 0,
    "start_time": "2025-04-07T08:45:48.456Z"
   },
   {
    "duration": 0,
    "start_time": "2025-04-07T08:45:48.457Z"
   },
   {
    "duration": 0,
    "start_time": "2025-04-07T08:45:48.458Z"
   },
   {
    "duration": 0,
    "start_time": "2025-04-07T08:45:48.460Z"
   },
   {
    "duration": 0,
    "start_time": "2025-04-07T08:45:48.461Z"
   },
   {
    "duration": 0,
    "start_time": "2025-04-07T08:45:48.462Z"
   },
   {
    "duration": 0,
    "start_time": "2025-04-07T08:45:48.464Z"
   },
   {
    "duration": 0,
    "start_time": "2025-04-07T08:45:48.466Z"
   },
   {
    "duration": 0,
    "start_time": "2025-04-07T08:45:48.467Z"
   },
   {
    "duration": 222,
    "start_time": "2025-04-07T08:47:21.339Z"
   },
   {
    "duration": 240,
    "start_time": "2025-04-07T08:47:23.430Z"
   },
   {
    "duration": 256,
    "start_time": "2025-04-07T08:47:24.048Z"
   },
   {
    "duration": 446,
    "start_time": "2025-04-07T08:47:24.607Z"
   },
   {
    "duration": 5,
    "start_time": "2025-04-07T08:47:25.325Z"
   },
   {
    "duration": 5,
    "start_time": "2025-04-07T08:47:25.938Z"
   },
   {
    "duration": 6,
    "start_time": "2025-04-07T08:47:26.672Z"
   },
   {
    "duration": 1324,
    "start_time": "2025-04-07T08:47:26.980Z"
   },
   {
    "duration": 6,
    "start_time": "2025-04-07T08:47:28.306Z"
   },
   {
    "duration": 1151,
    "start_time": "2025-04-07T08:47:28.313Z"
   },
   {
    "duration": 6,
    "start_time": "2025-04-07T08:47:29.467Z"
   },
   {
    "duration": 1265,
    "start_time": "2025-04-07T08:47:29.474Z"
   },
   {
    "duration": 6,
    "start_time": "2025-04-07T08:47:30.741Z"
   },
   {
    "duration": 1347,
    "start_time": "2025-04-07T08:47:30.749Z"
   },
   {
    "duration": 525,
    "start_time": "2025-04-07T08:47:32.098Z"
   },
   {
    "duration": 0,
    "start_time": "2025-04-07T08:47:32.625Z"
   },
   {
    "duration": 0,
    "start_time": "2025-04-07T08:47:32.627Z"
   },
   {
    "duration": 0,
    "start_time": "2025-04-07T08:47:32.628Z"
   },
   {
    "duration": 0,
    "start_time": "2025-04-07T08:47:32.629Z"
   },
   {
    "duration": 0,
    "start_time": "2025-04-07T08:47:32.631Z"
   },
   {
    "duration": 0,
    "start_time": "2025-04-07T08:47:32.632Z"
   },
   {
    "duration": 0,
    "start_time": "2025-04-07T08:47:32.633Z"
   },
   {
    "duration": 0,
    "start_time": "2025-04-07T08:47:32.635Z"
   },
   {
    "duration": 6,
    "start_time": "2025-04-07T08:47:41.172Z"
   },
   {
    "duration": 1256,
    "start_time": "2025-04-07T08:47:41.870Z"
   },
   {
    "duration": 6,
    "start_time": "2025-04-07T08:47:43.831Z"
   },
   {
    "duration": 1295,
    "start_time": "2025-04-07T08:47:44.189Z"
   },
   {
    "duration": 7,
    "start_time": "2025-04-07T08:47:45.486Z"
   },
   {
    "duration": 1288,
    "start_time": "2025-04-07T08:47:46.510Z"
   },
   {
    "duration": 22,
    "start_time": "2025-04-07T08:47:48.521Z"
   },
   {
    "duration": 20,
    "start_time": "2025-04-07T08:47:50.963Z"
   },
   {
    "duration": 12,
    "start_time": "2025-04-07T08:48:32.535Z"
   },
   {
    "duration": 22,
    "start_time": "2025-04-07T08:48:41.316Z"
   },
   {
    "duration": 9,
    "start_time": "2025-04-07T08:50:40.128Z"
   },
   {
    "duration": 42,
    "start_time": "2025-04-07T08:51:49.019Z"
   },
   {
    "duration": 32,
    "start_time": "2025-04-07T08:52:14.136Z"
   },
   {
    "duration": 31,
    "start_time": "2025-04-07T08:52:35.380Z"
   },
   {
    "duration": 31,
    "start_time": "2025-04-07T08:52:41.519Z"
   },
   {
    "duration": 31,
    "start_time": "2025-04-07T08:53:16.005Z"
   },
   {
    "duration": 32,
    "start_time": "2025-04-07T08:53:25.965Z"
   },
   {
    "duration": 33,
    "start_time": "2025-04-07T08:53:38.862Z"
   },
   {
    "duration": 31,
    "start_time": "2025-04-07T08:54:15.377Z"
   },
   {
    "duration": 15,
    "start_time": "2025-04-07T08:54:55.453Z"
   },
   {
    "duration": 32,
    "start_time": "2025-04-07T09:02:25.855Z"
   },
   {
    "duration": 33,
    "start_time": "2025-04-07T09:03:10.733Z"
   },
   {
    "duration": 32,
    "start_time": "2025-04-07T09:03:56.159Z"
   },
   {
    "duration": 29,
    "start_time": "2025-04-07T09:04:10.335Z"
   },
   {
    "duration": 33,
    "start_time": "2025-04-07T09:04:26.955Z"
   },
   {
    "duration": 31,
    "start_time": "2025-04-07T09:05:25.750Z"
   },
   {
    "duration": 73,
    "start_time": "2025-04-07T09:05:55.410Z"
   },
   {
    "duration": 18,
    "start_time": "2025-04-07T09:06:15.892Z"
   },
   {
    "duration": 17,
    "start_time": "2025-04-07T09:06:47.117Z"
   },
   {
    "duration": 4,
    "start_time": "2025-04-07T09:09:04.396Z"
   },
   {
    "duration": 4,
    "start_time": "2025-04-07T09:09:37.126Z"
   },
   {
    "duration": 54,
    "start_time": "2025-04-07T09:10:15.291Z"
   },
   {
    "duration": 50,
    "start_time": "2025-04-07T09:12:03.032Z"
   },
   {
    "duration": 900,
    "start_time": "2025-04-07T09:12:20.420Z"
   },
   {
    "duration": 20,
    "start_time": "2025-04-07T09:12:21.323Z"
   },
   {
    "duration": 2135,
    "start_time": "2025-04-07T09:12:21.345Z"
   },
   {
    "duration": 16,
    "start_time": "2025-04-07T09:12:23.483Z"
   },
   {
    "duration": 35,
    "start_time": "2025-04-07T09:12:23.501Z"
   },
   {
    "duration": 16,
    "start_time": "2025-04-07T09:12:23.538Z"
   },
   {
    "duration": 69,
    "start_time": "2025-04-07T09:12:23.555Z"
   },
   {
    "duration": 13,
    "start_time": "2025-04-07T09:12:23.625Z"
   },
   {
    "duration": 24,
    "start_time": "2025-04-07T09:12:23.639Z"
   },
   {
    "duration": 11,
    "start_time": "2025-04-07T09:12:23.667Z"
   },
   {
    "duration": 80,
    "start_time": "2025-04-07T09:12:23.680Z"
   },
   {
    "duration": 9,
    "start_time": "2025-04-07T09:12:23.762Z"
   },
   {
    "duration": 65,
    "start_time": "2025-04-07T09:12:23.773Z"
   },
   {
    "duration": 96,
    "start_time": "2025-04-07T09:12:23.840Z"
   },
   {
    "duration": 57,
    "start_time": "2025-04-07T09:12:23.938Z"
   },
   {
    "duration": 10,
    "start_time": "2025-04-07T09:12:23.997Z"
   },
   {
    "duration": 74,
    "start_time": "2025-04-07T09:12:24.008Z"
   },
   {
    "duration": 335,
    "start_time": "2025-04-07T09:12:24.083Z"
   },
   {
    "duration": 53,
    "start_time": "2025-04-07T09:12:24.420Z"
   },
   {
    "duration": 108,
    "start_time": "2025-04-07T09:12:24.475Z"
   },
   {
    "duration": 8,
    "start_time": "2025-04-07T09:12:24.585Z"
   },
   {
    "duration": 18,
    "start_time": "2025-04-07T09:12:24.595Z"
   },
   {
    "duration": 332,
    "start_time": "2025-04-07T09:12:24.615Z"
   },
   {
    "duration": 399,
    "start_time": "2025-04-07T09:12:24.949Z"
   },
   {
    "duration": 319,
    "start_time": "2025-04-07T09:12:25.350Z"
   },
   {
    "duration": 187,
    "start_time": "2025-04-07T09:12:25.671Z"
   },
   {
    "duration": 209,
    "start_time": "2025-04-07T09:12:25.860Z"
   },
   {
    "duration": 200,
    "start_time": "2025-04-07T09:12:26.073Z"
   },
   {
    "duration": 97,
    "start_time": "2025-04-07T09:12:26.274Z"
   },
   {
    "duration": 0,
    "start_time": "2025-04-07T09:12:26.373Z"
   },
   {
    "duration": 0,
    "start_time": "2025-04-07T09:12:26.374Z"
   },
   {
    "duration": 0,
    "start_time": "2025-04-07T09:12:26.375Z"
   },
   {
    "duration": 0,
    "start_time": "2025-04-07T09:12:26.376Z"
   },
   {
    "duration": 0,
    "start_time": "2025-04-07T09:12:26.377Z"
   },
   {
    "duration": 0,
    "start_time": "2025-04-07T09:12:26.378Z"
   },
   {
    "duration": 0,
    "start_time": "2025-04-07T09:12:26.379Z"
   },
   {
    "duration": 0,
    "start_time": "2025-04-07T09:12:26.380Z"
   },
   {
    "duration": 0,
    "start_time": "2025-04-07T09:12:26.381Z"
   },
   {
    "duration": 0,
    "start_time": "2025-04-07T09:12:26.382Z"
   },
   {
    "duration": 0,
    "start_time": "2025-04-07T09:12:26.383Z"
   },
   {
    "duration": 0,
    "start_time": "2025-04-07T09:12:26.384Z"
   },
   {
    "duration": 0,
    "start_time": "2025-04-07T09:12:26.385Z"
   },
   {
    "duration": 0,
    "start_time": "2025-04-07T09:12:26.386Z"
   },
   {
    "duration": 0,
    "start_time": "2025-04-07T09:12:26.387Z"
   },
   {
    "duration": 0,
    "start_time": "2025-04-07T09:12:26.388Z"
   },
   {
    "duration": 0,
    "start_time": "2025-04-07T09:12:26.389Z"
   },
   {
    "duration": 0,
    "start_time": "2025-04-07T09:12:26.390Z"
   },
   {
    "duration": 0,
    "start_time": "2025-04-07T09:12:26.391Z"
   },
   {
    "duration": 0,
    "start_time": "2025-04-07T09:12:26.392Z"
   },
   {
    "duration": 0,
    "start_time": "2025-04-07T09:12:26.394Z"
   },
   {
    "duration": 0,
    "start_time": "2025-04-07T09:12:26.395Z"
   },
   {
    "duration": 0,
    "start_time": "2025-04-07T09:12:26.396Z"
   },
   {
    "duration": 199,
    "start_time": "2025-04-07T11:06:28.855Z"
   },
   {
    "duration": 235,
    "start_time": "2025-04-07T11:06:29.287Z"
   },
   {
    "duration": 256,
    "start_time": "2025-04-07T11:06:29.784Z"
   },
   {
    "duration": 434,
    "start_time": "2025-04-07T11:06:30.203Z"
   },
   {
    "duration": 5,
    "start_time": "2025-04-07T11:06:30.640Z"
   },
   {
    "duration": 6,
    "start_time": "2025-04-07T11:06:31.131Z"
   },
   {
    "duration": 8,
    "start_time": "2025-04-07T11:06:31.573Z"
   },
   {
    "duration": 1274,
    "start_time": "2025-04-07T11:06:32.226Z"
   },
   {
    "duration": 6,
    "start_time": "2025-04-07T11:06:33.503Z"
   },
   {
    "duration": 1134,
    "start_time": "2025-04-07T11:06:33.511Z"
   },
   {
    "duration": 7,
    "start_time": "2025-04-07T11:06:34.648Z"
   },
   {
    "duration": 1230,
    "start_time": "2025-04-07T11:06:34.669Z"
   },
   {
    "duration": 6,
    "start_time": "2025-04-07T11:06:35.902Z"
   },
   {
    "duration": 1315,
    "start_time": "2025-04-07T11:06:35.909Z"
   },
   {
    "duration": 682,
    "start_time": "2025-04-07T11:06:37.227Z"
   },
   {
    "duration": 0,
    "start_time": "2025-04-07T11:06:37.911Z"
   },
   {
    "duration": 0,
    "start_time": "2025-04-07T11:06:37.912Z"
   },
   {
    "duration": 0,
    "start_time": "2025-04-07T11:06:37.913Z"
   },
   {
    "duration": 0,
    "start_time": "2025-04-07T11:06:37.915Z"
   },
   {
    "duration": 0,
    "start_time": "2025-04-07T11:06:37.916Z"
   },
   {
    "duration": 0,
    "start_time": "2025-04-07T11:06:37.918Z"
   },
   {
    "duration": 0,
    "start_time": "2025-04-07T11:06:37.919Z"
   },
   {
    "duration": 67,
    "start_time": "2025-04-07T11:06:37.983Z"
   },
   {
    "duration": 9,
    "start_time": "2025-04-07T11:10:55.804Z"
   },
   {
    "duration": 8,
    "start_time": "2025-04-07T11:18:17.155Z"
   },
   {
    "duration": 28,
    "start_time": "2025-04-07T11:18:36.716Z"
   },
   {
    "duration": 22,
    "start_time": "2025-04-07T11:18:45.704Z"
   },
   {
    "duration": 26,
    "start_time": "2025-04-07T11:18:47.710Z"
   },
   {
    "duration": 17,
    "start_time": "2025-04-07T11:18:50.520Z"
   },
   {
    "duration": 10,
    "start_time": "2025-04-07T11:18:59.455Z"
   },
   {
    "duration": 45,
    "start_time": "2025-04-07T11:19:03.277Z"
   },
   {
    "duration": 10,
    "start_time": "2025-04-07T11:19:05.795Z"
   },
   {
    "duration": 11,
    "start_time": "2025-04-07T11:19:10.464Z"
   },
   {
    "duration": 32,
    "start_time": "2025-04-07T11:19:17.621Z"
   },
   {
    "duration": 10,
    "start_time": "2025-04-07T11:20:51.118Z"
   },
   {
    "duration": 58,
    "start_time": "2025-04-07T11:20:53.910Z"
   },
   {
    "duration": 10,
    "start_time": "2025-04-07T11:20:56.785Z"
   },
   {
    "duration": 10,
    "start_time": "2025-04-07T11:20:59.562Z"
   },
   {
    "duration": 48,
    "start_time": "2025-04-07T11:21:01.351Z"
   },
   {
    "duration": 11,
    "start_time": "2025-04-07T11:21:03.720Z"
   },
   {
    "duration": 29,
    "start_time": "2025-04-07T11:21:12.621Z"
   },
   {
    "duration": 31,
    "start_time": "2025-04-07T11:21:26.923Z"
   },
   {
    "duration": 17,
    "start_time": "2025-04-07T11:22:58.710Z"
   },
   {
    "duration": 14,
    "start_time": "2025-04-07T11:50:36.504Z"
   },
   {
    "duration": 1164,
    "start_time": "2025-04-07T11:54:18.213Z"
   },
   {
    "duration": 1179,
    "start_time": "2025-04-07T11:54:34.722Z"
   },
   {
    "duration": 1489,
    "start_time": "2025-04-07T11:55:00.697Z"
   },
   {
    "duration": 180,
    "start_time": "2025-04-07T11:59:09.888Z"
   },
   {
    "duration": 214,
    "start_time": "2025-04-07T12:06:50.478Z"
   },
   {
    "duration": 202,
    "start_time": "2025-04-07T12:07:21.252Z"
   },
   {
    "duration": 15,
    "start_time": "2025-04-07T12:07:46.513Z"
   },
   {
    "duration": 206,
    "start_time": "2025-04-07T12:07:56.898Z"
   },
   {
    "duration": 205,
    "start_time": "2025-04-07T12:08:39.689Z"
   },
   {
    "duration": 14,
    "start_time": "2025-04-07T12:10:11.174Z"
   },
   {
    "duration": 1521,
    "start_time": "2025-04-07T12:10:26.490Z"
   },
   {
    "duration": 322,
    "start_time": "2025-04-07T12:10:38.104Z"
   },
   {
    "duration": 208,
    "start_time": "2025-04-07T12:11:55.991Z"
   },
   {
    "duration": 160,
    "start_time": "2025-04-07T12:12:03.263Z"
   },
   {
    "duration": 166,
    "start_time": "2025-04-07T12:13:34.744Z"
   },
   {
    "duration": 165,
    "start_time": "2025-04-07T12:13:40.533Z"
   },
   {
    "duration": 163,
    "start_time": "2025-04-07T12:13:48.451Z"
   },
   {
    "duration": 178,
    "start_time": "2025-04-07T12:13:57.899Z"
   },
   {
    "duration": 18,
    "start_time": "2025-04-07T12:14:36.261Z"
   },
   {
    "duration": 1377,
    "start_time": "2025-04-07T12:15:26.508Z"
   },
   {
    "duration": 1361,
    "start_time": "2025-04-07T12:16:13.030Z"
   },
   {
    "duration": 166,
    "start_time": "2025-04-07T12:16:21.268Z"
   },
   {
    "duration": 185,
    "start_time": "2025-04-07T12:16:49.089Z"
   },
   {
    "duration": 174,
    "start_time": "2025-04-07T12:17:12.758Z"
   },
   {
    "duration": 178,
    "start_time": "2025-04-07T12:17:40.173Z"
   },
   {
    "duration": 174,
    "start_time": "2025-04-07T12:17:56.493Z"
   },
   {
    "duration": 1283,
    "start_time": "2025-04-07T12:18:35.651Z"
   },
   {
    "duration": 167,
    "start_time": "2025-04-07T12:18:43.953Z"
   },
   {
    "duration": 328,
    "start_time": "2025-04-07T12:27:20.305Z"
   },
   {
    "duration": 222,
    "start_time": "2025-04-07T12:28:05.229Z"
   },
   {
    "duration": 298,
    "start_time": "2025-04-07T12:28:15.352Z"
   },
   {
    "duration": 362,
    "start_time": "2025-04-07T12:31:55.992Z"
   },
   {
    "duration": 12,
    "start_time": "2025-04-07T12:32:48.871Z"
   },
   {
    "duration": 331,
    "start_time": "2025-04-07T12:32:55.827Z"
   },
   {
    "duration": 348,
    "start_time": "2025-04-07T12:33:36.916Z"
   },
   {
    "duration": 1821,
    "start_time": "2025-04-07T12:33:48.230Z"
   },
   {
    "duration": 17,
    "start_time": "2025-04-07T12:34:08.918Z"
   },
   {
    "duration": 295,
    "start_time": "2025-04-07T12:34:24.222Z"
   },
   {
    "duration": 1371,
    "start_time": "2025-04-07T12:36:31.818Z"
   },
   {
    "duration": 131,
    "start_time": "2025-04-07T12:36:39.263Z"
   },
   {
    "duration": 124,
    "start_time": "2025-04-07T12:36:44.583Z"
   },
   {
    "duration": 445,
    "start_time": "2025-04-07T12:39:32.823Z"
   },
   {
    "duration": 362,
    "start_time": "2025-04-07T13:26:46.946Z"
   },
   {
    "duration": 938,
    "start_time": "2025-04-07T13:27:06.869Z"
   },
   {
    "duration": 17,
    "start_time": "2025-04-07T13:27:07.809Z"
   },
   {
    "duration": 2349,
    "start_time": "2025-04-07T13:27:07.827Z"
   },
   {
    "duration": 10,
    "start_time": "2025-04-07T13:27:10.178Z"
   },
   {
    "duration": 62,
    "start_time": "2025-04-07T13:27:10.190Z"
   },
   {
    "duration": 19,
    "start_time": "2025-04-07T13:27:10.254Z"
   },
   {
    "duration": 59,
    "start_time": "2025-04-07T13:27:10.275Z"
   },
   {
    "duration": 17,
    "start_time": "2025-04-07T13:27:10.336Z"
   },
   {
    "duration": 37,
    "start_time": "2025-04-07T13:27:10.355Z"
   },
   {
    "duration": 20,
    "start_time": "2025-04-07T13:27:10.395Z"
   },
   {
    "duration": 97,
    "start_time": "2025-04-07T13:27:10.417Z"
   },
   {
    "duration": 7,
    "start_time": "2025-04-07T13:27:10.516Z"
   },
   {
    "duration": 87,
    "start_time": "2025-04-07T13:27:10.524Z"
   },
   {
    "duration": 83,
    "start_time": "2025-04-07T13:27:10.613Z"
   },
   {
    "duration": 76,
    "start_time": "2025-04-07T13:27:10.697Z"
   },
   {
    "duration": 11,
    "start_time": "2025-04-07T13:27:10.775Z"
   },
   {
    "duration": 103,
    "start_time": "2025-04-07T13:27:10.787Z"
   },
   {
    "duration": 384,
    "start_time": "2025-04-07T13:27:10.893Z"
   },
   {
    "duration": 44,
    "start_time": "2025-04-07T13:27:11.279Z"
   },
   {
    "duration": 128,
    "start_time": "2025-04-07T13:27:11.325Z"
   },
   {
    "duration": 6,
    "start_time": "2025-04-07T13:27:11.455Z"
   },
   {
    "duration": 38,
    "start_time": "2025-04-07T13:27:11.464Z"
   },
   {
    "duration": 355,
    "start_time": "2025-04-07T13:27:11.503Z"
   },
   {
    "duration": 443,
    "start_time": "2025-04-07T13:27:11.860Z"
   },
   {
    "duration": 324,
    "start_time": "2025-04-07T13:27:12.305Z"
   },
   {
    "duration": 194,
    "start_time": "2025-04-07T13:27:12.631Z"
   },
   {
    "duration": 232,
    "start_time": "2025-04-07T13:27:12.827Z"
   },
   {
    "duration": 211,
    "start_time": "2025-04-07T13:27:13.063Z"
   },
   {
    "duration": 410,
    "start_time": "2025-04-07T13:27:13.276Z"
   },
   {
    "duration": 0,
    "start_time": "2025-04-07T13:27:13.687Z"
   },
   {
    "duration": 0,
    "start_time": "2025-04-07T13:27:13.689Z"
   },
   {
    "duration": 0,
    "start_time": "2025-04-07T13:27:13.690Z"
   },
   {
    "duration": 0,
    "start_time": "2025-04-07T13:27:13.692Z"
   },
   {
    "duration": 0,
    "start_time": "2025-04-07T13:27:13.693Z"
   },
   {
    "duration": 0,
    "start_time": "2025-04-07T13:27:13.694Z"
   },
   {
    "duration": 0,
    "start_time": "2025-04-07T13:27:13.695Z"
   },
   {
    "duration": 0,
    "start_time": "2025-04-07T13:27:13.696Z"
   },
   {
    "duration": 0,
    "start_time": "2025-04-07T13:27:13.698Z"
   },
   {
    "duration": 0,
    "start_time": "2025-04-07T13:27:13.699Z"
   },
   {
    "duration": 0,
    "start_time": "2025-04-07T13:27:13.700Z"
   },
   {
    "duration": 0,
    "start_time": "2025-04-07T13:27:13.701Z"
   },
   {
    "duration": 0,
    "start_time": "2025-04-07T13:27:13.702Z"
   },
   {
    "duration": 0,
    "start_time": "2025-04-07T13:27:13.703Z"
   },
   {
    "duration": 0,
    "start_time": "2025-04-07T13:27:13.704Z"
   },
   {
    "duration": 0,
    "start_time": "2025-04-07T13:27:13.705Z"
   },
   {
    "duration": 0,
    "start_time": "2025-04-07T13:27:13.707Z"
   },
   {
    "duration": 0,
    "start_time": "2025-04-07T13:27:13.708Z"
   },
   {
    "duration": 0,
    "start_time": "2025-04-07T13:27:13.709Z"
   },
   {
    "duration": 0,
    "start_time": "2025-04-07T13:27:13.710Z"
   },
   {
    "duration": 0,
    "start_time": "2025-04-07T13:27:13.711Z"
   },
   {
    "duration": 0,
    "start_time": "2025-04-07T13:27:13.712Z"
   },
   {
    "duration": 0,
    "start_time": "2025-04-07T13:27:13.713Z"
   },
   {
    "duration": 0,
    "start_time": "2025-04-07T13:27:13.715Z"
   },
   {
    "duration": 0,
    "start_time": "2025-04-07T13:27:13.718Z"
   },
   {
    "duration": 0,
    "start_time": "2025-04-07T13:27:13.720Z"
   },
   {
    "duration": 206,
    "start_time": "2025-04-07T13:27:20.680Z"
   },
   {
    "duration": 255,
    "start_time": "2025-04-07T13:27:21.851Z"
   },
   {
    "duration": 148,
    "start_time": "2025-04-07T13:29:10.683Z"
   },
   {
    "duration": 188,
    "start_time": "2025-04-07T13:29:17.073Z"
   },
   {
    "duration": 894,
    "start_time": "2025-04-07T13:32:24.384Z"
   },
   {
    "duration": 19,
    "start_time": "2025-04-07T13:32:25.280Z"
   },
   {
    "duration": 2479,
    "start_time": "2025-04-07T13:32:25.301Z"
   },
   {
    "duration": 11,
    "start_time": "2025-04-07T13:32:27.782Z"
   },
   {
    "duration": 34,
    "start_time": "2025-04-07T13:32:27.794Z"
   },
   {
    "duration": 24,
    "start_time": "2025-04-07T13:32:27.830Z"
   },
   {
    "duration": 58,
    "start_time": "2025-04-07T13:32:27.856Z"
   },
   {
    "duration": 11,
    "start_time": "2025-04-07T13:32:27.915Z"
   },
   {
    "duration": 41,
    "start_time": "2025-04-07T13:32:27.928Z"
   },
   {
    "duration": 13,
    "start_time": "2025-04-07T13:32:27.973Z"
   },
   {
    "duration": 86,
    "start_time": "2025-04-07T13:32:27.988Z"
   },
   {
    "duration": 7,
    "start_time": "2025-04-07T13:32:28.076Z"
   },
   {
    "duration": 20,
    "start_time": "2025-04-07T13:32:28.085Z"
   },
   {
    "duration": 67,
    "start_time": "2025-04-07T13:32:28.107Z"
   },
   {
    "duration": 73,
    "start_time": "2025-04-07T13:32:28.175Z"
   },
   {
    "duration": 16,
    "start_time": "2025-04-07T13:32:28.250Z"
   },
   {
    "duration": 82,
    "start_time": "2025-04-07T13:32:28.268Z"
   },
   {
    "duration": 379,
    "start_time": "2025-04-07T13:32:28.352Z"
   },
   {
    "duration": 58,
    "start_time": "2025-04-07T13:32:28.733Z"
   },
   {
    "duration": 123,
    "start_time": "2025-04-07T13:32:28.792Z"
   },
   {
    "duration": 7,
    "start_time": "2025-04-07T13:32:28.916Z"
   },
   {
    "duration": 45,
    "start_time": "2025-04-07T13:32:28.924Z"
   },
   {
    "duration": 370,
    "start_time": "2025-04-07T13:32:28.971Z"
   },
   {
    "duration": 460,
    "start_time": "2025-04-07T13:32:29.355Z"
   },
   {
    "duration": 361,
    "start_time": "2025-04-07T13:32:29.817Z"
   },
   {
    "duration": 210,
    "start_time": "2025-04-07T13:32:30.180Z"
   },
   {
    "duration": 235,
    "start_time": "2025-04-07T13:32:30.391Z"
   },
   {
    "duration": 232,
    "start_time": "2025-04-07T13:32:30.630Z"
   },
   {
    "duration": 234,
    "start_time": "2025-04-07T13:32:30.864Z"
   },
   {
    "duration": 258,
    "start_time": "2025-04-07T13:32:31.100Z"
   },
   {
    "duration": 267,
    "start_time": "2025-04-07T13:32:31.368Z"
   },
   {
    "duration": 313,
    "start_time": "2025-04-07T13:32:31.637Z"
   },
   {
    "duration": 483,
    "start_time": "2025-04-07T13:32:31.954Z"
   },
   {
    "duration": 16,
    "start_time": "2025-04-07T13:32:32.439Z"
   },
   {
    "duration": 48,
    "start_time": "2025-04-07T13:32:32.458Z"
   },
   {
    "duration": 26,
    "start_time": "2025-04-07T13:32:32.507Z"
   },
   {
    "duration": 1436,
    "start_time": "2025-04-07T13:32:32.535Z"
   },
   {
    "duration": 6,
    "start_time": "2025-04-07T13:32:33.973Z"
   },
   {
    "duration": 1280,
    "start_time": "2025-04-07T13:32:33.980Z"
   },
   {
    "duration": 11,
    "start_time": "2025-04-07T13:32:35.262Z"
   },
   {
    "duration": 1345,
    "start_time": "2025-04-07T13:32:35.274Z"
   },
   {
    "duration": 6,
    "start_time": "2025-04-07T13:32:36.621Z"
   },
   {
    "duration": 1348,
    "start_time": "2025-04-07T13:32:36.651Z"
   },
   {
    "duration": 430,
    "start_time": "2025-04-07T13:32:38.000Z"
   },
   {
    "duration": 0,
    "start_time": "2025-04-07T13:32:38.432Z"
   },
   {
    "duration": 0,
    "start_time": "2025-04-07T13:32:38.434Z"
   },
   {
    "duration": 0,
    "start_time": "2025-04-07T13:32:38.435Z"
   },
   {
    "duration": 0,
    "start_time": "2025-04-07T13:32:38.436Z"
   },
   {
    "duration": 0,
    "start_time": "2025-04-07T13:32:38.437Z"
   },
   {
    "duration": 0,
    "start_time": "2025-04-07T13:32:38.447Z"
   },
   {
    "duration": 0,
    "start_time": "2025-04-07T13:32:38.448Z"
   },
   {
    "duration": 0,
    "start_time": "2025-04-07T13:32:38.448Z"
   },
   {
    "duration": 0,
    "start_time": "2025-04-07T13:32:38.449Z"
   },
   {
    "duration": 0,
    "start_time": "2025-04-07T13:32:38.450Z"
   },
   {
    "duration": 0,
    "start_time": "2025-04-07T13:32:38.452Z"
   },
   {
    "duration": 14,
    "start_time": "2025-04-07T13:32:55.382Z"
   },
   {
    "duration": 39,
    "start_time": "2025-04-07T13:35:56.022Z"
   },
   {
    "duration": 160,
    "start_time": "2025-04-07T13:37:51.965Z"
   },
   {
    "duration": 314,
    "start_time": "2025-04-07T13:39:21.352Z"
   },
   {
    "duration": 7,
    "start_time": "2025-04-07T13:39:33.254Z"
   },
   {
    "duration": 1525,
    "start_time": "2025-04-07T13:39:33.684Z"
   },
   {
    "duration": 6,
    "start_time": "2025-04-07T13:39:35.211Z"
   },
   {
    "duration": 1395,
    "start_time": "2025-04-07T13:39:35.218Z"
   },
   {
    "duration": 7,
    "start_time": "2025-04-07T13:39:43.114Z"
   },
   {
    "duration": 1451,
    "start_time": "2025-04-07T13:39:43.760Z"
   },
   {
    "duration": 25,
    "start_time": "2025-04-07T13:39:46.269Z"
   },
   {
    "duration": 74,
    "start_time": "2025-04-07T13:39:47.604Z"
   },
   {
    "duration": 41,
    "start_time": "2025-04-07T13:39:48.413Z"
   },
   {
    "duration": 198,
    "start_time": "2025-04-07T13:39:49.588Z"
   },
   {
    "duration": 38,
    "start_time": "2025-04-07T13:39:50.936Z"
   },
   {
    "duration": 66,
    "start_time": "2025-04-07T15:22:50.624Z"
   },
   {
    "duration": 75,
    "start_time": "2025-04-07T15:26:26.094Z"
   },
   {
    "duration": 5,
    "start_time": "2025-04-07T15:30:23.212Z"
   },
   {
    "duration": 4,
    "start_time": "2025-04-07T15:30:46.167Z"
   },
   {
    "duration": 469,
    "start_time": "2025-04-07T20:57:48.698Z"
   },
   {
    "duration": 337,
    "start_time": "2025-04-07T20:57:54.954Z"
   },
   {
    "duration": 354,
    "start_time": "2025-04-07T20:58:06.808Z"
   },
   {
    "duration": 177,
    "start_time": "2025-04-07T21:02:24.536Z"
   },
   {
    "duration": 1020,
    "start_time": "2025-04-08T04:25:37.948Z"
   },
   {
    "duration": 17,
    "start_time": "2025-04-08T04:25:38.970Z"
   },
   {
    "duration": 3493,
    "start_time": "2025-04-08T04:25:38.988Z"
   },
   {
    "duration": 61,
    "start_time": "2025-04-08T04:25:42.483Z"
   },
   {
    "duration": 27,
    "start_time": "2025-04-08T04:25:42.546Z"
   },
   {
    "duration": 67,
    "start_time": "2025-04-08T04:25:42.575Z"
   },
   {
    "duration": 120,
    "start_time": "2025-04-08T04:25:42.643Z"
   },
   {
    "duration": 10,
    "start_time": "2025-04-08T04:25:42.765Z"
   },
   {
    "duration": 69,
    "start_time": "2025-04-08T04:25:42.776Z"
   },
   {
    "duration": 10,
    "start_time": "2025-04-08T04:25:42.848Z"
   },
   {
    "duration": 118,
    "start_time": "2025-04-08T04:25:42.859Z"
   },
   {
    "duration": 59,
    "start_time": "2025-04-08T04:25:42.979Z"
   },
   {
    "duration": 44,
    "start_time": "2025-04-08T04:25:43.040Z"
   },
   {
    "duration": 26,
    "start_time": "2025-04-08T04:25:43.137Z"
   },
   {
    "duration": 115,
    "start_time": "2025-04-08T04:25:43.165Z"
   },
   {
    "duration": 62,
    "start_time": "2025-04-08T04:25:43.282Z"
   },
   {
    "duration": 202,
    "start_time": "2025-04-08T04:25:43.346Z"
   },
   {
    "duration": 623,
    "start_time": "2025-04-08T04:25:43.550Z"
   },
   {
    "duration": 97,
    "start_time": "2025-04-08T04:25:44.176Z"
   },
   {
    "duration": 261,
    "start_time": "2025-04-08T04:25:44.275Z"
   },
   {
    "duration": 7,
    "start_time": "2025-04-08T04:25:44.538Z"
   },
   {
    "duration": 10,
    "start_time": "2025-04-08T04:25:44.546Z"
   },
   {
    "duration": 619,
    "start_time": "2025-04-08T04:25:44.558Z"
   },
   {
    "duration": 539,
    "start_time": "2025-04-08T04:25:45.236Z"
   },
   {
    "duration": 473,
    "start_time": "2025-04-08T04:25:45.776Z"
   },
   {
    "duration": 325,
    "start_time": "2025-04-08T04:25:46.252Z"
   },
   {
    "duration": 400,
    "start_time": "2025-04-08T04:25:46.579Z"
   },
   {
    "duration": 397,
    "start_time": "2025-04-08T04:25:47.039Z"
   },
   {
    "duration": 340,
    "start_time": "2025-04-08T04:25:47.438Z"
   },
   {
    "duration": 457,
    "start_time": "2025-04-08T04:25:47.779Z"
   },
   {
    "duration": 407,
    "start_time": "2025-04-08T04:25:48.238Z"
   },
   {
    "duration": 415,
    "start_time": "2025-04-08T04:25:48.647Z"
   },
   {
    "duration": 597,
    "start_time": "2025-04-08T04:25:49.064Z"
   },
   {
    "duration": 5,
    "start_time": "2025-04-08T04:25:49.662Z"
   },
   {
    "duration": 37,
    "start_time": "2025-04-08T04:25:49.668Z"
   },
   {
    "duration": 23,
    "start_time": "2025-04-08T04:25:49.707Z"
   },
   {
    "duration": 2550,
    "start_time": "2025-04-08T04:25:49.731Z"
   },
   {
    "duration": 58,
    "start_time": "2025-04-08T04:25:52.283Z"
   },
   {
    "duration": 2395,
    "start_time": "2025-04-08T04:25:52.343Z"
   },
   {
    "duration": 6,
    "start_time": "2025-04-08T04:25:54.739Z"
   },
   {
    "duration": 2591,
    "start_time": "2025-04-08T04:25:54.747Z"
   },
   {
    "duration": 5,
    "start_time": "2025-04-08T04:25:57.340Z"
   },
   {
    "duration": 1347,
    "start_time": "2025-04-08T04:25:57.347Z"
   },
   {
    "duration": 178,
    "start_time": "2025-04-08T04:25:58.696Z"
   },
   {
    "duration": 7,
    "start_time": "2025-04-08T04:25:58.875Z"
   },
   {
    "duration": 1238,
    "start_time": "2025-04-08T04:25:58.883Z"
   },
   {
    "duration": 14,
    "start_time": "2025-04-08T04:26:00.123Z"
   },
   {
    "duration": 1127,
    "start_time": "2025-04-08T04:26:00.138Z"
   },
   {
    "duration": 6,
    "start_time": "2025-04-08T04:26:01.267Z"
   },
   {
    "duration": 1208,
    "start_time": "2025-04-08T04:26:01.274Z"
   },
   {
    "duration": 20,
    "start_time": "2025-04-08T04:26:02.484Z"
   },
   {
    "duration": 58,
    "start_time": "2025-04-08T04:26:02.506Z"
   },
   {
    "duration": 15,
    "start_time": "2025-04-08T04:26:02.566Z"
   },
   {
    "duration": 294,
    "start_time": "2025-04-08T04:26:02.582Z"
   },
   {
    "duration": 7,
    "start_time": "2025-04-08T04:46:18.581Z"
   },
   {
    "duration": 984,
    "start_time": "2025-04-08T04:46:34.139Z"
   },
   {
    "duration": 21,
    "start_time": "2025-04-08T04:46:35.125Z"
   },
   {
    "duration": 1979,
    "start_time": "2025-04-08T04:46:35.148Z"
   },
   {
    "duration": 16,
    "start_time": "2025-04-08T04:46:37.128Z"
   },
   {
    "duration": 25,
    "start_time": "2025-04-08T04:46:37.146Z"
   },
   {
    "duration": 9,
    "start_time": "2025-04-08T04:46:37.172Z"
   },
   {
    "duration": 74,
    "start_time": "2025-04-08T04:46:37.182Z"
   },
   {
    "duration": 10,
    "start_time": "2025-04-08T04:46:37.257Z"
   },
   {
    "duration": 15,
    "start_time": "2025-04-08T04:46:37.268Z"
   },
   {
    "duration": 10,
    "start_time": "2025-04-08T04:46:37.285Z"
   },
   {
    "duration": 90,
    "start_time": "2025-04-08T04:46:37.296Z"
   },
   {
    "duration": 6,
    "start_time": "2025-04-08T04:46:37.388Z"
   },
   {
    "duration": 23,
    "start_time": "2025-04-08T04:46:37.396Z"
   },
   {
    "duration": 53,
    "start_time": "2025-04-08T04:46:37.436Z"
   },
   {
    "duration": 58,
    "start_time": "2025-04-08T04:46:37.491Z"
   },
   {
    "duration": 9,
    "start_time": "2025-04-08T04:46:37.551Z"
   },
   {
    "duration": 53,
    "start_time": "2025-04-08T04:46:37.562Z"
   },
   {
    "duration": 316,
    "start_time": "2025-04-08T04:46:37.636Z"
   },
   {
    "duration": 6,
    "start_time": "2025-04-08T04:46:37.954Z"
   },
   {
    "duration": 126,
    "start_time": "2025-04-08T04:46:37.962Z"
   },
   {
    "duration": 83,
    "start_time": "2025-04-08T04:46:38.090Z"
   },
   {
    "duration": 5,
    "start_time": "2025-04-08T04:46:38.175Z"
   },
   {
    "duration": 28,
    "start_time": "2025-04-08T04:46:38.181Z"
   },
   {
    "duration": 299,
    "start_time": "2025-04-08T04:46:38.210Z"
   },
   {
    "duration": 378,
    "start_time": "2025-04-08T04:46:38.510Z"
   },
   {
    "duration": 319,
    "start_time": "2025-04-08T04:46:38.889Z"
   },
   {
    "duration": 171,
    "start_time": "2025-04-08T04:46:39.210Z"
   },
   {
    "duration": 206,
    "start_time": "2025-04-08T04:46:39.384Z"
   },
   {
    "duration": 187,
    "start_time": "2025-04-08T04:46:39.592Z"
   },
   {
    "duration": 181,
    "start_time": "2025-04-08T04:46:39.781Z"
   },
   {
    "duration": 191,
    "start_time": "2025-04-08T04:46:39.964Z"
   },
   {
    "duration": 230,
    "start_time": "2025-04-08T04:46:40.156Z"
   },
   {
    "duration": 238,
    "start_time": "2025-04-08T04:46:40.388Z"
   },
   {
    "duration": 410,
    "start_time": "2025-04-08T04:46:40.628Z"
   },
   {
    "duration": 5,
    "start_time": "2025-04-08T04:46:41.040Z"
   },
   {
    "duration": 90,
    "start_time": "2025-04-08T04:46:41.046Z"
   },
   {
    "duration": 13,
    "start_time": "2025-04-08T04:46:41.138Z"
   },
   {
    "duration": 1219,
    "start_time": "2025-04-08T04:46:41.152Z"
   },
   {
    "duration": 6,
    "start_time": "2025-04-08T04:46:42.372Z"
   },
   {
    "duration": 1066,
    "start_time": "2025-04-08T04:46:42.379Z"
   },
   {
    "duration": 6,
    "start_time": "2025-04-08T04:46:43.448Z"
   },
   {
    "duration": 1200,
    "start_time": "2025-04-08T04:46:43.456Z"
   },
   {
    "duration": 7,
    "start_time": "2025-04-08T04:46:44.658Z"
   },
   {
    "duration": 1198,
    "start_time": "2025-04-08T04:46:44.667Z"
   },
   {
    "duration": 162,
    "start_time": "2025-04-08T04:46:45.867Z"
   },
   {
    "duration": 9,
    "start_time": "2025-04-08T04:46:46.031Z"
   },
   {
    "duration": 1181,
    "start_time": "2025-04-08T04:46:46.041Z"
   },
   {
    "duration": 13,
    "start_time": "2025-04-08T04:46:47.224Z"
   },
   {
    "duration": 1175,
    "start_time": "2025-04-08T04:46:47.239Z"
   },
   {
    "duration": 5,
    "start_time": "2025-04-08T04:46:48.416Z"
   },
   {
    "duration": 1222,
    "start_time": "2025-04-08T04:46:48.422Z"
   },
   {
    "duration": 22,
    "start_time": "2025-04-08T04:46:49.646Z"
   },
   {
    "duration": 51,
    "start_time": "2025-04-08T04:46:49.669Z"
   },
   {
    "duration": 57,
    "start_time": "2025-04-08T04:46:49.737Z"
   },
   {
    "duration": 145,
    "start_time": "2025-04-08T04:46:49.796Z"
   },
   {
    "duration": 98,
    "start_time": "2025-04-08T04:47:40.199Z"
   },
   {
    "duration": 119,
    "start_time": "2025-04-09T10:31:33.610Z"
   },
   {
    "duration": 101,
    "start_time": "2025-04-09T10:31:49.003Z"
   },
   {
    "duration": 721,
    "start_time": "2025-04-09T10:32:09.905Z"
   },
   {
    "duration": 104,
    "start_time": "2025-04-09T10:32:10.628Z"
   },
   {
    "duration": 17,
    "start_time": "2025-04-09T10:32:10.734Z"
   },
   {
    "duration": 2299,
    "start_time": "2025-04-09T10:32:10.753Z"
   },
   {
    "duration": 11,
    "start_time": "2025-04-09T10:32:13.054Z"
   },
   {
    "duration": 53,
    "start_time": "2025-04-09T10:32:13.067Z"
   },
   {
    "duration": 21,
    "start_time": "2025-04-09T10:32:13.122Z"
   },
   {
    "duration": 42,
    "start_time": "2025-04-09T10:32:13.145Z"
   },
   {
    "duration": 12,
    "start_time": "2025-04-09T10:32:13.190Z"
   },
   {
    "duration": 44,
    "start_time": "2025-04-09T10:32:13.207Z"
   },
   {
    "duration": 11,
    "start_time": "2025-04-09T10:32:13.252Z"
   },
   {
    "duration": 75,
    "start_time": "2025-04-09T10:32:13.265Z"
   },
   {
    "duration": 9,
    "start_time": "2025-04-09T10:32:13.342Z"
   },
   {
    "duration": 49,
    "start_time": "2025-04-09T10:32:13.353Z"
   },
   {
    "duration": 38,
    "start_time": "2025-04-09T10:32:13.404Z"
   },
   {
    "duration": 55,
    "start_time": "2025-04-09T10:32:13.444Z"
   },
   {
    "duration": 13,
    "start_time": "2025-04-09T10:32:13.501Z"
   },
   {
    "duration": 90,
    "start_time": "2025-04-09T10:32:13.516Z"
   },
   {
    "duration": 377,
    "start_time": "2025-04-09T10:32:13.608Z"
   },
   {
    "duration": 59,
    "start_time": "2025-04-09T10:32:13.987Z"
   },
   {
    "duration": 107,
    "start_time": "2025-04-09T10:32:14.047Z"
   },
   {
    "duration": 7,
    "start_time": "2025-04-09T10:32:14.156Z"
   },
   {
    "duration": 11,
    "start_time": "2025-04-09T10:32:14.165Z"
   },
   {
    "duration": 349,
    "start_time": "2025-04-09T10:32:14.178Z"
   },
   {
    "duration": 420,
    "start_time": "2025-04-09T10:32:14.528Z"
   },
   {
    "duration": 338,
    "start_time": "2025-04-09T10:32:14.950Z"
   },
   {
    "duration": 193,
    "start_time": "2025-04-09T10:32:15.290Z"
   },
   {
    "duration": 219,
    "start_time": "2025-04-09T10:32:15.487Z"
   },
   {
    "duration": 214,
    "start_time": "2025-04-09T10:32:15.708Z"
   },
   {
    "duration": 202,
    "start_time": "2025-04-09T10:32:15.924Z"
   },
   {
    "duration": 220,
    "start_time": "2025-04-09T10:32:16.128Z"
   },
   {
    "duration": 252,
    "start_time": "2025-04-09T10:32:16.350Z"
   },
   {
    "duration": 268,
    "start_time": "2025-04-09T10:32:16.605Z"
   },
   {
    "duration": 446,
    "start_time": "2025-04-09T10:32:16.875Z"
   },
   {
    "duration": 5,
    "start_time": "2025-04-09T10:32:17.323Z"
   },
   {
    "duration": 21,
    "start_time": "2025-04-09T10:32:17.338Z"
   },
   {
    "duration": 25,
    "start_time": "2025-04-09T10:32:17.360Z"
   },
   {
    "duration": 1363,
    "start_time": "2025-04-09T10:32:17.386Z"
   },
   {
    "duration": 6,
    "start_time": "2025-04-09T10:32:18.751Z"
   },
   {
    "duration": 1188,
    "start_time": "2025-04-09T10:32:18.758Z"
   },
   {
    "duration": 6,
    "start_time": "2025-04-09T10:32:19.948Z"
   },
   {
    "duration": 1294,
    "start_time": "2025-04-09T10:32:19.955Z"
   },
   {
    "duration": 6,
    "start_time": "2025-04-09T10:32:21.251Z"
   },
   {
    "duration": 1321,
    "start_time": "2025-04-09T10:32:21.258Z"
   },
   {
    "duration": 190,
    "start_time": "2025-04-09T10:32:22.581Z"
   },
   {
    "duration": 6,
    "start_time": "2025-04-09T10:32:22.773Z"
   },
   {
    "duration": 1299,
    "start_time": "2025-04-09T10:32:22.781Z"
   },
   {
    "duration": 7,
    "start_time": "2025-04-09T10:32:24.082Z"
   },
   {
    "duration": 1287,
    "start_time": "2025-04-09T10:32:24.091Z"
   },
   {
    "duration": 7,
    "start_time": "2025-04-09T10:32:25.379Z"
   },
   {
    "duration": 1306,
    "start_time": "2025-04-09T10:32:25.387Z"
   },
   {
    "duration": 23,
    "start_time": "2025-04-09T10:32:26.695Z"
   },
   {
    "duration": 84,
    "start_time": "2025-04-09T10:32:26.720Z"
   },
   {
    "duration": 18,
    "start_time": "2025-04-09T10:32:26.806Z"
   },
   {
    "duration": 180,
    "start_time": "2025-04-09T10:32:26.826Z"
   },
   {
    "duration": 147,
    "start_time": "2025-04-09T10:33:00.837Z"
   },
   {
    "duration": 146,
    "start_time": "2025-04-09T10:33:27.599Z"
   },
   {
    "duration": 125,
    "start_time": "2025-04-09T10:34:03.762Z"
   },
   {
    "duration": 126,
    "start_time": "2025-04-09T10:34:11.289Z"
   },
   {
    "duration": 165,
    "start_time": "2025-04-09T10:34:48.588Z"
   },
   {
    "duration": 119,
    "start_time": "2025-04-09T10:34:58.454Z"
   },
   {
    "duration": 3,
    "start_time": "2025-04-09T10:36:19.622Z"
   },
   {
    "duration": 122,
    "start_time": "2025-04-09T10:36:29.803Z"
   },
   {
    "duration": 2132,
    "start_time": "2025-04-09T10:40:23.779Z"
   },
   {
    "duration": 71,
    "start_time": "2025-04-09T10:47:33.695Z"
   },
   {
    "duration": 20,
    "start_time": "2025-04-09T10:47:58.992Z"
   },
   {
    "duration": 4,
    "start_time": "2025-04-09T10:52:32.129Z"
   },
   {
    "duration": 8,
    "start_time": "2025-04-09T10:52:37.332Z"
   },
   {
    "duration": 1363,
    "start_time": "2025-04-09T10:53:17.080Z"
   },
   {
    "duration": 7,
    "start_time": "2025-04-09T10:53:24.660Z"
   },
   {
    "duration": 37,
    "start_time": "2025-04-09T11:04:52.138Z"
   },
   {
    "duration": 12,
    "start_time": "2025-04-09T11:08:06.932Z"
   },
   {
    "duration": 13,
    "start_time": "2025-04-09T11:08:11.367Z"
   },
   {
    "duration": 10,
    "start_time": "2025-04-09T11:08:21.289Z"
   },
   {
    "duration": 81,
    "start_time": "2025-04-09T11:08:57.723Z"
   },
   {
    "duration": 91,
    "start_time": "2025-04-09T11:09:06.383Z"
   },
   {
    "duration": 104,
    "start_time": "2025-04-09T11:09:29.993Z"
   },
   {
    "duration": 73,
    "start_time": "2025-04-09T11:09:41.092Z"
   },
   {
    "duration": 740,
    "start_time": "2025-04-09T11:12:07.215Z"
   },
   {
    "duration": 143,
    "start_time": "2025-04-09T11:12:07.957Z"
   },
   {
    "duration": 17,
    "start_time": "2025-04-09T11:12:08.101Z"
   },
   {
    "duration": 2140,
    "start_time": "2025-04-09T11:12:08.120Z"
   },
   {
    "duration": 11,
    "start_time": "2025-04-09T11:12:10.262Z"
   },
   {
    "duration": 27,
    "start_time": "2025-04-09T11:12:10.275Z"
   },
   {
    "duration": 40,
    "start_time": "2025-04-09T11:12:10.304Z"
   },
   {
    "duration": 55,
    "start_time": "2025-04-09T11:12:10.346Z"
   },
   {
    "duration": 30,
    "start_time": "2025-04-09T11:12:10.402Z"
   },
   {
    "duration": 21,
    "start_time": "2025-04-09T11:12:10.435Z"
   },
   {
    "duration": 30,
    "start_time": "2025-04-09T11:12:10.458Z"
   },
   {
    "duration": 78,
    "start_time": "2025-04-09T11:12:10.490Z"
   },
   {
    "duration": 10,
    "start_time": "2025-04-09T11:12:10.569Z"
   },
   {
    "duration": 52,
    "start_time": "2025-04-09T11:12:10.580Z"
   },
   {
    "duration": 33,
    "start_time": "2025-04-09T11:12:10.634Z"
   },
   {
    "duration": 45,
    "start_time": "2025-04-09T11:12:10.669Z"
   },
   {
    "duration": 35,
    "start_time": "2025-04-09T11:12:10.716Z"
   },
   {
    "duration": 89,
    "start_time": "2025-04-09T11:12:10.753Z"
   },
   {
    "duration": 126,
    "start_time": "2025-04-09T11:12:10.845Z"
   },
   {
    "duration": 75,
    "start_time": "2025-04-09T11:12:10.974Z"
   },
   {
    "duration": 76,
    "start_time": "2025-04-09T11:12:11.051Z"
   },
   {
    "duration": 7,
    "start_time": "2025-04-09T11:12:11.140Z"
   },
   {
    "duration": 137,
    "start_time": "2025-04-09T11:12:11.149Z"
   },
   {
    "duration": 373,
    "start_time": "2025-04-09T11:12:11.288Z"
   },
   {
    "duration": 299,
    "start_time": "2025-04-09T11:12:11.663Z"
   },
   {
    "duration": 428,
    "start_time": "2025-04-09T11:12:11.964Z"
   },
   {
    "duration": 192,
    "start_time": "2025-04-09T11:12:12.394Z"
   },
   {
    "duration": 205,
    "start_time": "2025-04-09T11:12:12.591Z"
   },
   {
    "duration": 188,
    "start_time": "2025-04-09T11:12:12.798Z"
   },
   {
    "duration": 191,
    "start_time": "2025-04-09T11:12:12.988Z"
   },
   {
    "duration": 205,
    "start_time": "2025-04-09T11:12:13.181Z"
   },
   {
    "duration": 265,
    "start_time": "2025-04-09T11:12:13.388Z"
   },
   {
    "duration": 243,
    "start_time": "2025-04-09T11:12:13.655Z"
   },
   {
    "duration": 332,
    "start_time": "2025-04-09T11:12:13.900Z"
   },
   {
    "duration": 7,
    "start_time": "2025-04-09T11:12:14.234Z"
   },
   {
    "duration": 12,
    "start_time": "2025-04-09T11:12:14.243Z"
   },
   {
    "duration": 10,
    "start_time": "2025-04-09T11:12:14.257Z"
   },
   {
    "duration": 652,
    "start_time": "2025-04-09T11:12:14.269Z"
   },
   {
    "duration": 19,
    "start_time": "2025-04-09T11:12:14.922Z"
   },
   {
    "duration": 529,
    "start_time": "2025-04-09T11:12:14.942Z"
   },
   {
    "duration": 6,
    "start_time": "2025-04-09T11:12:15.473Z"
   },
   {
    "duration": 658,
    "start_time": "2025-04-09T11:12:15.481Z"
   },
   {
    "duration": 5,
    "start_time": "2025-04-09T11:12:16.141Z"
   },
   {
    "duration": 539,
    "start_time": "2025-04-09T11:12:16.148Z"
   },
   {
    "duration": 174,
    "start_time": "2025-04-09T11:12:16.689Z"
   },
   {
    "duration": 6,
    "start_time": "2025-04-09T11:12:16.864Z"
   },
   {
    "duration": 636,
    "start_time": "2025-04-09T11:12:16.871Z"
   },
   {
    "duration": 6,
    "start_time": "2025-04-09T11:12:17.509Z"
   },
   {
    "duration": 559,
    "start_time": "2025-04-09T11:12:17.517Z"
   },
   {
    "duration": 6,
    "start_time": "2025-04-09T11:12:18.078Z"
   },
   {
    "duration": 638,
    "start_time": "2025-04-09T11:12:18.086Z"
   },
   {
    "duration": 26,
    "start_time": "2025-04-09T11:12:18.726Z"
   },
   {
    "duration": 47,
    "start_time": "2025-04-09T11:12:18.753Z"
   },
   {
    "duration": 37,
    "start_time": "2025-04-09T11:12:18.802Z"
   },
   {
    "duration": 171,
    "start_time": "2025-04-09T11:12:18.842Z"
   },
   {
    "duration": 63,
    "start_time": "2025-04-09T11:15:03.745Z"
   },
   {
    "duration": 109,
    "start_time": "2025-04-09T12:14:17.259Z"
   },
   {
    "duration": 350,
    "start_time": "2025-04-09T12:15:44.187Z"
   },
   {
    "duration": 304,
    "start_time": "2025-04-09T12:15:50.498Z"
   },
   {
    "duration": 194,
    "start_time": "2025-04-09T12:16:51.154Z"
   },
   {
    "duration": 219,
    "start_time": "2025-04-09T12:17:03.026Z"
   },
   {
    "duration": 345,
    "start_time": "2025-04-09T12:17:18.188Z"
   },
   {
    "duration": 997,
    "start_time": "2025-04-09T12:17:26.933Z"
   },
   {
    "duration": 191,
    "start_time": "2025-04-09T12:17:34.783Z"
   },
   {
    "duration": 188,
    "start_time": "2025-04-09T12:17:48.847Z"
   },
   {
    "duration": 379,
    "start_time": "2025-04-09T12:18:05.956Z"
   },
   {
    "duration": 213,
    "start_time": "2025-04-09T12:18:23.645Z"
   },
   {
    "duration": 301,
    "start_time": "2025-04-09T12:32:32.007Z"
   },
   {
    "duration": 104,
    "start_time": "2025-04-09T12:32:37.591Z"
   },
   {
    "duration": 306,
    "start_time": "2025-04-09T12:32:49.369Z"
   },
   {
    "duration": 325,
    "start_time": "2025-04-09T12:33:04.876Z"
   },
   {
    "duration": 310,
    "start_time": "2025-04-09T12:34:22.621Z"
   },
   {
    "duration": 321,
    "start_time": "2025-04-09T12:34:50.350Z"
   },
   {
    "duration": 495,
    "start_time": "2025-04-09T12:35:11.094Z"
   },
   {
    "duration": 300,
    "start_time": "2025-04-09T12:35:17.956Z"
   },
   {
    "duration": 331,
    "start_time": "2025-04-09T12:35:27.536Z"
   },
   {
    "duration": 200,
    "start_time": "2025-04-09T12:36:00.647Z"
   },
   {
    "duration": 191,
    "start_time": "2025-04-09T12:36:18.963Z"
   },
   {
    "duration": 194,
    "start_time": "2025-04-09T12:36:24.316Z"
   },
   {
    "duration": 204,
    "start_time": "2025-04-09T12:37:29.246Z"
   },
   {
    "duration": 329,
    "start_time": "2025-04-09T12:37:52.600Z"
   },
   {
    "duration": 328,
    "start_time": "2025-04-09T12:38:07.329Z"
   },
   {
    "duration": 303,
    "start_time": "2025-04-09T12:38:49.526Z"
   },
   {
    "duration": 742,
    "start_time": "2025-04-09T12:50:12.409Z"
   },
   {
    "duration": 143,
    "start_time": "2025-04-09T12:50:13.153Z"
   },
   {
    "duration": 19,
    "start_time": "2025-04-09T12:50:13.298Z"
   },
   {
    "duration": 2207,
    "start_time": "2025-04-09T12:50:13.321Z"
   },
   {
    "duration": 13,
    "start_time": "2025-04-09T12:50:15.530Z"
   },
   {
    "duration": 34,
    "start_time": "2025-04-09T12:50:15.545Z"
   },
   {
    "duration": 31,
    "start_time": "2025-04-09T12:50:15.581Z"
   },
   {
    "duration": 63,
    "start_time": "2025-04-09T12:50:15.614Z"
   },
   {
    "duration": 41,
    "start_time": "2025-04-09T12:50:15.679Z"
   },
   {
    "duration": 80,
    "start_time": "2025-04-09T12:50:15.723Z"
   },
   {
    "duration": 46,
    "start_time": "2025-04-09T12:50:15.805Z"
   },
   {
    "duration": 1482,
    "start_time": "2025-04-09T12:50:15.853Z"
   },
   {
    "duration": 0,
    "start_time": "2025-04-09T12:50:17.338Z"
   },
   {
    "duration": 0,
    "start_time": "2025-04-09T12:50:17.339Z"
   },
   {
    "duration": 0,
    "start_time": "2025-04-09T12:50:17.341Z"
   },
   {
    "duration": 0,
    "start_time": "2025-04-09T12:50:17.342Z"
   },
   {
    "duration": 0,
    "start_time": "2025-04-09T12:50:17.343Z"
   },
   {
    "duration": 0,
    "start_time": "2025-04-09T12:50:17.344Z"
   },
   {
    "duration": 0,
    "start_time": "2025-04-09T12:50:17.345Z"
   },
   {
    "duration": 0,
    "start_time": "2025-04-09T12:50:17.347Z"
   },
   {
    "duration": 0,
    "start_time": "2025-04-09T12:50:17.348Z"
   },
   {
    "duration": 0,
    "start_time": "2025-04-09T12:50:17.349Z"
   },
   {
    "duration": 0,
    "start_time": "2025-04-09T12:50:17.350Z"
   },
   {
    "duration": 0,
    "start_time": "2025-04-09T12:50:17.352Z"
   },
   {
    "duration": 0,
    "start_time": "2025-04-09T12:50:17.353Z"
   },
   {
    "duration": 0,
    "start_time": "2025-04-09T12:50:17.354Z"
   },
   {
    "duration": 0,
    "start_time": "2025-04-09T12:50:17.355Z"
   },
   {
    "duration": 0,
    "start_time": "2025-04-09T12:50:17.356Z"
   },
   {
    "duration": 0,
    "start_time": "2025-04-09T12:50:17.357Z"
   },
   {
    "duration": 0,
    "start_time": "2025-04-09T12:50:17.359Z"
   },
   {
    "duration": 0,
    "start_time": "2025-04-09T12:50:17.360Z"
   },
   {
    "duration": 0,
    "start_time": "2025-04-09T12:50:17.361Z"
   },
   {
    "duration": 0,
    "start_time": "2025-04-09T12:50:17.362Z"
   },
   {
    "duration": 0,
    "start_time": "2025-04-09T12:50:17.364Z"
   },
   {
    "duration": 0,
    "start_time": "2025-04-09T12:50:17.365Z"
   },
   {
    "duration": 0,
    "start_time": "2025-04-09T12:50:17.366Z"
   },
   {
    "duration": 0,
    "start_time": "2025-04-09T12:50:17.367Z"
   },
   {
    "duration": 0,
    "start_time": "2025-04-09T12:50:17.368Z"
   },
   {
    "duration": 0,
    "start_time": "2025-04-09T12:50:17.369Z"
   },
   {
    "duration": 0,
    "start_time": "2025-04-09T12:50:17.371Z"
   },
   {
    "duration": 0,
    "start_time": "2025-04-09T12:50:17.372Z"
   },
   {
    "duration": 0,
    "start_time": "2025-04-09T12:50:17.373Z"
   },
   {
    "duration": 0,
    "start_time": "2025-04-09T12:50:17.374Z"
   },
   {
    "duration": 0,
    "start_time": "2025-04-09T12:50:17.375Z"
   },
   {
    "duration": 0,
    "start_time": "2025-04-09T12:50:17.376Z"
   },
   {
    "duration": 0,
    "start_time": "2025-04-09T12:50:17.377Z"
   },
   {
    "duration": 0,
    "start_time": "2025-04-09T12:50:17.378Z"
   },
   {
    "duration": 0,
    "start_time": "2025-04-09T12:50:17.439Z"
   },
   {
    "duration": 0,
    "start_time": "2025-04-09T12:50:17.440Z"
   },
   {
    "duration": 0,
    "start_time": "2025-04-09T12:50:17.441Z"
   },
   {
    "duration": 0,
    "start_time": "2025-04-09T12:50:17.442Z"
   },
   {
    "duration": 0,
    "start_time": "2025-04-09T12:50:17.444Z"
   },
   {
    "duration": 0,
    "start_time": "2025-04-09T12:50:17.445Z"
   },
   {
    "duration": 0,
    "start_time": "2025-04-09T12:50:17.446Z"
   },
   {
    "duration": 0,
    "start_time": "2025-04-09T12:50:17.447Z"
   },
   {
    "duration": 1349,
    "start_time": "2025-04-09T12:51:05.244Z"
   },
   {
    "duration": 1318,
    "start_time": "2025-04-09T12:51:49.666Z"
   },
   {
    "duration": 60,
    "start_time": "2025-04-09T12:52:02.818Z"
   },
   {
    "duration": 678,
    "start_time": "2025-04-09T12:52:13.767Z"
   },
   {
    "duration": 131,
    "start_time": "2025-04-09T12:52:14.447Z"
   },
   {
    "duration": 15,
    "start_time": "2025-04-09T12:52:14.580Z"
   },
   {
    "duration": 2122,
    "start_time": "2025-04-09T12:52:14.597Z"
   },
   {
    "duration": 11,
    "start_time": "2025-04-09T12:52:16.720Z"
   },
   {
    "duration": 17,
    "start_time": "2025-04-09T12:52:16.733Z"
   },
   {
    "duration": 38,
    "start_time": "2025-04-09T12:52:16.751Z"
   },
   {
    "duration": 56,
    "start_time": "2025-04-09T12:52:16.791Z"
   },
   {
    "duration": 10,
    "start_time": "2025-04-09T12:52:16.849Z"
   },
   {
    "duration": 39,
    "start_time": "2025-04-09T12:52:16.861Z"
   },
   {
    "duration": 32,
    "start_time": "2025-04-09T12:52:16.902Z"
   },
   {
    "duration": 83,
    "start_time": "2025-04-09T12:52:16.936Z"
   },
   {
    "duration": 5,
    "start_time": "2025-04-09T12:52:17.021Z"
   },
   {
    "duration": 48,
    "start_time": "2025-04-09T12:52:17.027Z"
   },
   {
    "duration": 38,
    "start_time": "2025-04-09T12:52:17.077Z"
   },
   {
    "duration": 48,
    "start_time": "2025-04-09T12:52:17.117Z"
   },
   {
    "duration": 13,
    "start_time": "2025-04-09T12:52:17.167Z"
   },
   {
    "duration": 77,
    "start_time": "2025-04-09T12:52:17.182Z"
   },
   {
    "duration": 114,
    "start_time": "2025-04-09T12:52:17.261Z"
   },
   {
    "duration": 43,
    "start_time": "2025-04-09T12:52:17.377Z"
   },
   {
    "duration": 110,
    "start_time": "2025-04-09T12:52:17.422Z"
   },
   {
    "duration": 7,
    "start_time": "2025-04-09T12:52:17.534Z"
   },
   {
    "duration": 18,
    "start_time": "2025-04-09T12:52:17.544Z"
   },
   {
    "duration": 360,
    "start_time": "2025-04-09T12:52:17.564Z"
   },
   {
    "duration": 304,
    "start_time": "2025-04-09T12:52:17.926Z"
   },
   {
    "duration": 415,
    "start_time": "2025-04-09T12:52:18.231Z"
   },
   {
    "duration": 317,
    "start_time": "2025-04-09T12:52:18.648Z"
   },
   {
    "duration": 197,
    "start_time": "2025-04-09T12:52:18.970Z"
   },
   {
    "duration": 186,
    "start_time": "2025-04-09T12:52:19.170Z"
   },
   {
    "duration": 191,
    "start_time": "2025-04-09T12:52:19.357Z"
   },
   {
    "duration": 205,
    "start_time": "2025-04-09T12:52:19.550Z"
   },
   {
    "duration": 251,
    "start_time": "2025-04-09T12:52:19.757Z"
   },
   {
    "duration": 244,
    "start_time": "2025-04-09T12:52:20.010Z"
   },
   {
    "duration": 443,
    "start_time": "2025-04-09T12:52:20.256Z"
   },
   {
    "duration": 4,
    "start_time": "2025-04-09T12:52:20.701Z"
   },
   {
    "duration": 19,
    "start_time": "2025-04-09T12:52:20.707Z"
   },
   {
    "duration": 11,
    "start_time": "2025-04-09T12:52:20.728Z"
   },
   {
    "duration": 575,
    "start_time": "2025-04-09T12:52:20.741Z"
   },
   {
    "duration": 6,
    "start_time": "2025-04-09T12:52:21.318Z"
   },
   {
    "duration": 532,
    "start_time": "2025-04-09T12:52:21.325Z"
   },
   {
    "duration": 6,
    "start_time": "2025-04-09T12:52:21.859Z"
   },
   {
    "duration": 639,
    "start_time": "2025-04-09T12:52:21.866Z"
   },
   {
    "duration": 5,
    "start_time": "2025-04-09T12:52:22.507Z"
   },
   {
    "duration": 527,
    "start_time": "2025-04-09T12:52:22.513Z"
   },
   {
    "duration": 182,
    "start_time": "2025-04-09T12:52:23.042Z"
   },
   {
    "duration": 14,
    "start_time": "2025-04-09T12:52:23.226Z"
   },
   {
    "duration": 647,
    "start_time": "2025-04-09T12:52:23.242Z"
   },
   {
    "duration": 5,
    "start_time": "2025-04-09T12:52:23.891Z"
   },
   {
    "duration": 527,
    "start_time": "2025-04-09T12:52:23.897Z"
   },
   {
    "duration": 5,
    "start_time": "2025-04-09T12:52:24.426Z"
   },
   {
    "duration": 687,
    "start_time": "2025-04-09T12:52:24.440Z"
   },
   {
    "duration": 23,
    "start_time": "2025-04-09T12:52:25.129Z"
   },
   {
    "duration": 82,
    "start_time": "2025-04-09T12:52:25.153Z"
   },
   {
    "duration": 16,
    "start_time": "2025-04-09T12:52:25.237Z"
   },
   {
    "duration": 178,
    "start_time": "2025-04-09T12:52:25.255Z"
   },
   {
    "duration": 293,
    "start_time": "2025-04-09T12:53:46.575Z"
   },
   {
    "duration": 187,
    "start_time": "2025-04-09T12:54:41.013Z"
   },
   {
    "duration": 187,
    "start_time": "2025-04-09T12:54:53.802Z"
   },
   {
    "duration": 192,
    "start_time": "2025-04-09T12:55:02.241Z"
   },
   {
    "duration": 436,
    "start_time": "2025-04-09T12:55:13.721Z"
   },
   {
    "duration": 169,
    "start_time": "2025-04-09T12:55:24.802Z"
   },
   {
    "duration": 181,
    "start_time": "2025-04-09T12:55:33.641Z"
   },
   {
    "duration": 171,
    "start_time": "2025-04-09T12:55:42.578Z"
   },
   {
    "duration": 179,
    "start_time": "2025-04-09T14:04:28.051Z"
   },
   {
    "duration": 302,
    "start_time": "2025-04-09T14:05:41.112Z"
   },
   {
    "duration": 150,
    "start_time": "2025-04-09T14:05:47.146Z"
   },
   {
    "duration": 174,
    "start_time": "2025-04-09T14:05:54.844Z"
   },
   {
    "duration": 209,
    "start_time": "2025-04-09T14:06:03.330Z"
   },
   {
    "duration": 209,
    "start_time": "2025-04-09T14:06:08.730Z"
   },
   {
    "duration": 193,
    "start_time": "2025-04-09T14:07:52.570Z"
   },
   {
    "duration": 192,
    "start_time": "2025-04-09T14:08:06.758Z"
   },
   {
    "duration": 220,
    "start_time": "2025-04-09T14:08:17.627Z"
   },
   {
    "duration": 486,
    "start_time": "2025-04-09T14:08:24.411Z"
   },
   {
    "duration": 182,
    "start_time": "2025-04-09T14:08:32.684Z"
   },
   {
    "duration": 213,
    "start_time": "2025-04-09T14:18:20.326Z"
   },
   {
    "duration": 136,
    "start_time": "2025-04-09T14:18:40.254Z"
   },
   {
    "duration": 138,
    "start_time": "2025-04-09T14:20:23.904Z"
   },
   {
    "duration": 168,
    "start_time": "2025-04-09T14:20:34.328Z"
   },
   {
    "duration": 169,
    "start_time": "2025-04-09T14:20:46.946Z"
   },
   {
    "duration": 168,
    "start_time": "2025-04-09T14:22:39.951Z"
   },
   {
    "duration": 1330,
    "start_time": "2025-04-09T14:22:48.454Z"
   },
   {
    "duration": 1306,
    "start_time": "2025-04-09T14:23:47.100Z"
   },
   {
    "duration": 3,
    "start_time": "2025-04-09T14:23:49.191Z"
   },
   {
    "duration": 1688,
    "start_time": "2025-04-09T14:23:54.416Z"
   },
   {
    "duration": 1400,
    "start_time": "2025-04-09T14:24:15.274Z"
   },
   {
    "duration": 182,
    "start_time": "2025-04-09T14:24:25.096Z"
   },
   {
    "duration": 182,
    "start_time": "2025-04-09T14:24:54.790Z"
   },
   {
    "duration": 185,
    "start_time": "2025-04-09T14:25:05.563Z"
   },
   {
    "duration": 190,
    "start_time": "2025-04-09T14:26:20.283Z"
   },
   {
    "duration": 163,
    "start_time": "2025-04-09T14:27:10.456Z"
   },
   {
    "duration": 142,
    "start_time": "2025-04-09T14:28:53.951Z"
   },
   {
    "duration": 145,
    "start_time": "2025-04-09T14:29:04.910Z"
   },
   {
    "duration": 71,
    "start_time": "2025-04-09T14:32:58.993Z"
   },
   {
    "duration": 72,
    "start_time": "2025-04-09T14:33:05.181Z"
   },
   {
    "duration": 82,
    "start_time": "2025-04-09T14:33:11.178Z"
   },
   {
    "duration": 72,
    "start_time": "2025-04-09T14:33:44.052Z"
   },
   {
    "duration": 308,
    "start_time": "2025-04-09T21:14:23.767Z"
   },
   {
    "duration": 185,
    "start_time": "2025-04-09T21:14:40.732Z"
   },
   {
    "duration": 409,
    "start_time": "2025-04-09T21:14:53.119Z"
   },
   {
    "duration": 181,
    "start_time": "2025-04-09T21:15:01.278Z"
   },
   {
    "duration": 16,
    "start_time": "2025-04-09T21:24:40.109Z"
   },
   {
    "duration": 736,
    "start_time": "2025-04-09T21:36:18.539Z"
   },
   {
    "duration": 139,
    "start_time": "2025-04-09T21:36:19.277Z"
   },
   {
    "duration": 25,
    "start_time": "2025-04-09T21:36:19.418Z"
   },
   {
    "duration": 2239,
    "start_time": "2025-04-09T21:36:19.445Z"
   },
   {
    "duration": 11,
    "start_time": "2025-04-09T21:36:21.687Z"
   },
   {
    "duration": 59,
    "start_time": "2025-04-09T21:36:21.699Z"
   },
   {
    "duration": 24,
    "start_time": "2025-04-09T21:36:21.761Z"
   },
   {
    "duration": 72,
    "start_time": "2025-04-09T21:36:21.787Z"
   },
   {
    "duration": 10,
    "start_time": "2025-04-09T21:36:21.861Z"
   },
   {
    "duration": 16,
    "start_time": "2025-04-09T21:36:21.872Z"
   },
   {
    "duration": 15,
    "start_time": "2025-04-09T21:36:21.890Z"
   },
   {
    "duration": 98,
    "start_time": "2025-04-09T21:36:21.907Z"
   },
   {
    "duration": 5,
    "start_time": "2025-04-09T21:36:22.007Z"
   },
   {
    "duration": 17,
    "start_time": "2025-04-09T21:36:22.038Z"
   },
   {
    "duration": 39,
    "start_time": "2025-04-09T21:36:22.058Z"
   },
   {
    "duration": 37,
    "start_time": "2025-04-09T21:36:22.099Z"
   },
   {
    "duration": 47,
    "start_time": "2025-04-09T21:36:22.139Z"
   },
   {
    "duration": 84,
    "start_time": "2025-04-09T21:36:22.187Z"
   },
   {
    "duration": 122,
    "start_time": "2025-04-09T21:36:22.272Z"
   },
   {
    "duration": 69,
    "start_time": "2025-04-09T21:36:22.396Z"
   },
   {
    "duration": 90,
    "start_time": "2025-04-09T21:36:22.467Z"
   },
   {
    "duration": 7,
    "start_time": "2025-04-09T21:36:22.559Z"
   },
   {
    "duration": 32,
    "start_time": "2025-04-09T21:36:22.567Z"
   },
   {
    "duration": 347,
    "start_time": "2025-04-09T21:36:22.601Z"
   },
   {
    "duration": 336,
    "start_time": "2025-04-09T21:36:22.951Z"
   },
   {
    "duration": 459,
    "start_time": "2025-04-09T21:36:23.289Z"
   },
   {
    "duration": 223,
    "start_time": "2025-04-09T21:36:23.750Z"
   },
   {
    "duration": 190,
    "start_time": "2025-04-09T21:36:23.974Z"
   },
   {
    "duration": 208,
    "start_time": "2025-04-09T21:36:24.165Z"
   },
   {
    "duration": 205,
    "start_time": "2025-04-09T21:36:24.375Z"
   },
   {
    "duration": 222,
    "start_time": "2025-04-09T21:36:24.581Z"
   },
   {
    "duration": 273,
    "start_time": "2025-04-09T21:36:24.805Z"
   },
   {
    "duration": 263,
    "start_time": "2025-04-09T21:36:25.080Z"
   },
   {
    "duration": 366,
    "start_time": "2025-04-09T21:36:25.345Z"
   },
   {
    "duration": 7,
    "start_time": "2025-04-09T21:36:25.714Z"
   },
   {
    "duration": 41,
    "start_time": "2025-04-09T21:36:25.723Z"
   },
   {
    "duration": 47,
    "start_time": "2025-04-09T21:36:25.765Z"
   },
   {
    "duration": 692,
    "start_time": "2025-04-09T21:36:25.813Z"
   },
   {
    "duration": 7,
    "start_time": "2025-04-09T21:36:26.508Z"
   },
   {
    "duration": 608,
    "start_time": "2025-04-09T21:36:26.517Z"
   },
   {
    "duration": 9,
    "start_time": "2025-04-09T21:36:27.138Z"
   },
   {
    "duration": 689,
    "start_time": "2025-04-09T21:36:27.150Z"
   },
   {
    "duration": 7,
    "start_time": "2025-04-09T21:36:27.841Z"
   },
   {
    "duration": 572,
    "start_time": "2025-04-09T21:36:27.850Z"
   },
   {
    "duration": 175,
    "start_time": "2025-04-09T21:36:28.424Z"
   },
   {
    "duration": 198,
    "start_time": "2025-04-09T21:36:28.601Z"
   },
   {
    "duration": 328,
    "start_time": "2025-04-09T21:36:28.801Z"
   },
   {
    "duration": 198,
    "start_time": "2025-04-09T21:36:29.131Z"
   },
   {
    "duration": 29,
    "start_time": "2025-04-09T21:36:29.330Z"
   },
   {
    "duration": 50,
    "start_time": "2025-04-09T21:36:29.361Z"
   },
   {
    "duration": 48,
    "start_time": "2025-04-09T21:36:29.413Z"
   },
   {
    "duration": 187,
    "start_time": "2025-04-09T21:36:29.463Z"
   },
   {
    "duration": 603,
    "start_time": "2025-04-10T14:56:12.533Z"
   },
   {
    "duration": 123,
    "start_time": "2025-04-10T14:56:13.138Z"
   },
   {
    "duration": 14,
    "start_time": "2025-04-10T14:56:13.263Z"
   },
   {
    "duration": 1952,
    "start_time": "2025-04-10T14:56:13.279Z"
   },
   {
    "duration": 11,
    "start_time": "2025-04-10T14:56:15.233Z"
   },
   {
    "duration": 14,
    "start_time": "2025-04-10T14:56:15.246Z"
   },
   {
    "duration": 11,
    "start_time": "2025-04-10T14:56:15.261Z"
   },
   {
    "duration": 32,
    "start_time": "2025-04-10T14:56:15.274Z"
   },
   {
    "duration": 10,
    "start_time": "2025-04-10T14:56:15.308Z"
   },
   {
    "duration": 10,
    "start_time": "2025-04-10T14:56:15.321Z"
   },
   {
    "duration": 40,
    "start_time": "2025-04-10T14:56:15.332Z"
   },
   {
    "duration": 59,
    "start_time": "2025-04-10T14:56:15.374Z"
   },
   {
    "duration": 6,
    "start_time": "2025-04-10T14:56:15.435Z"
   },
   {
    "duration": 32,
    "start_time": "2025-04-10T14:56:15.442Z"
   },
   {
    "duration": 11,
    "start_time": "2025-04-10T14:56:15.476Z"
   },
   {
    "duration": 16,
    "start_time": "2025-04-10T14:56:15.489Z"
   },
   {
    "duration": 7,
    "start_time": "2025-04-10T14:56:15.507Z"
   },
   {
    "duration": 77,
    "start_time": "2025-04-10T14:56:15.516Z"
   },
   {
    "duration": 109,
    "start_time": "2025-04-10T14:56:15.595Z"
   },
   {
    "duration": 40,
    "start_time": "2025-04-10T14:56:15.706Z"
   },
   {
    "duration": 83,
    "start_time": "2025-04-10T14:56:15.748Z"
   },
   {
    "duration": 5,
    "start_time": "2025-04-10T14:56:15.832Z"
   },
   {
    "duration": 8,
    "start_time": "2025-04-10T14:56:15.838Z"
   },
   {
    "duration": 288,
    "start_time": "2025-04-10T14:56:15.848Z"
   },
   {
    "duration": 294,
    "start_time": "2025-04-10T14:56:16.138Z"
   },
   {
    "duration": 373,
    "start_time": "2025-04-10T14:56:16.433Z"
   },
   {
    "duration": 172,
    "start_time": "2025-04-10T14:56:16.807Z"
   },
   {
    "duration": 149,
    "start_time": "2025-04-10T14:56:16.982Z"
   },
   {
    "duration": 178,
    "start_time": "2025-04-10T14:56:17.133Z"
   },
   {
    "duration": 159,
    "start_time": "2025-04-10T14:56:17.313Z"
   },
   {
    "duration": 180,
    "start_time": "2025-04-10T14:56:17.473Z"
   },
   {
    "duration": 224,
    "start_time": "2025-04-10T14:56:17.655Z"
   },
   {
    "duration": 211,
    "start_time": "2025-04-10T14:56:17.881Z"
   },
   {
    "duration": 300,
    "start_time": "2025-04-10T14:56:18.093Z"
   },
   {
    "duration": 4,
    "start_time": "2025-04-10T14:56:18.395Z"
   },
   {
    "duration": 6,
    "start_time": "2025-04-10T14:56:18.401Z"
   },
   {
    "duration": 6,
    "start_time": "2025-04-10T14:56:18.408Z"
   },
   {
    "duration": 591,
    "start_time": "2025-04-10T14:56:18.416Z"
   },
   {
    "duration": 5,
    "start_time": "2025-04-10T14:56:19.008Z"
   },
   {
    "duration": 473,
    "start_time": "2025-04-10T14:56:19.015Z"
   },
   {
    "duration": 5,
    "start_time": "2025-04-10T14:56:19.490Z"
   },
   {
    "duration": 587,
    "start_time": "2025-04-10T14:56:19.497Z"
   },
   {
    "duration": 5,
    "start_time": "2025-04-10T14:56:20.086Z"
   },
   {
    "duration": 498,
    "start_time": "2025-04-10T14:56:20.092Z"
   },
   {
    "duration": 147,
    "start_time": "2025-04-10T14:56:20.592Z"
   },
   {
    "duration": 167,
    "start_time": "2025-04-10T14:56:20.740Z"
   },
   {
    "duration": 252,
    "start_time": "2025-04-10T14:56:20.909Z"
   },
   {
    "duration": 163,
    "start_time": "2025-04-10T14:56:21.163Z"
   },
   {
    "duration": 14,
    "start_time": "2025-04-10T14:56:21.328Z"
   },
   {
    "duration": 57,
    "start_time": "2025-04-10T14:56:21.343Z"
   },
   {
    "duration": 15,
    "start_time": "2025-04-10T14:56:21.402Z"
   },
   {
    "duration": 157,
    "start_time": "2025-04-10T14:56:21.419Z"
   },
   {
    "duration": 5,
    "start_time": "2025-04-10T14:57:44.113Z"
   },
   {
    "duration": 69,
    "start_time": "2025-04-10T14:58:15.991Z"
   },
   {
    "duration": 648,
    "start_time": "2025-04-10T14:58:27.637Z"
   },
   {
    "duration": 120,
    "start_time": "2025-04-10T14:58:28.287Z"
   },
   {
    "duration": 16,
    "start_time": "2025-04-10T14:58:28.408Z"
   },
   {
    "duration": 1909,
    "start_time": "2025-04-10T14:58:28.426Z"
   },
   {
    "duration": 9,
    "start_time": "2025-04-10T14:58:30.338Z"
   },
   {
    "duration": 26,
    "start_time": "2025-04-10T14:58:30.349Z"
   },
   {
    "duration": 10,
    "start_time": "2025-04-10T14:58:30.377Z"
   },
   {
    "duration": 33,
    "start_time": "2025-04-10T14:58:30.389Z"
   },
   {
    "duration": 9,
    "start_time": "2025-04-10T14:58:30.424Z"
   },
   {
    "duration": 101,
    "start_time": "2025-04-10T14:58:30.435Z"
   },
   {
    "duration": 9,
    "start_time": "2025-04-10T14:58:30.538Z"
   },
   {
    "duration": 91,
    "start_time": "2025-04-10T14:58:30.548Z"
   },
   {
    "duration": 70,
    "start_time": "2025-04-10T14:58:30.641Z"
   },
   {
    "duration": 114,
    "start_time": "2025-04-10T14:58:30.714Z"
   },
   {
    "duration": 4,
    "start_time": "2025-04-10T14:58:30.830Z"
   },
   {
    "duration": 10,
    "start_time": "2025-04-10T14:58:30.835Z"
   },
   {
    "duration": 9,
    "start_time": "2025-04-10T14:58:30.847Z"
   },
   {
    "duration": 12,
    "start_time": "2025-04-10T14:58:30.870Z"
   },
   {
    "duration": 6,
    "start_time": "2025-04-10T14:58:30.884Z"
   },
   {
    "duration": 44,
    "start_time": "2025-04-10T14:58:30.891Z"
   },
   {
    "duration": 172,
    "start_time": "2025-04-10T14:58:30.936Z"
   },
   {
    "duration": 39,
    "start_time": "2025-04-10T14:58:31.109Z"
   },
   {
    "duration": 81,
    "start_time": "2025-04-10T14:58:31.149Z"
   },
   {
    "duration": 6,
    "start_time": "2025-04-10T14:58:31.232Z"
   },
   {
    "duration": 9,
    "start_time": "2025-04-10T14:58:31.239Z"
   },
   {
    "duration": 310,
    "start_time": "2025-04-10T14:58:31.250Z"
   },
   {
    "duration": 268,
    "start_time": "2025-04-10T14:58:31.562Z"
   },
   {
    "duration": 381,
    "start_time": "2025-04-10T14:58:31.832Z"
   },
   {
    "duration": 182,
    "start_time": "2025-04-10T14:58:32.215Z"
   },
   {
    "duration": 154,
    "start_time": "2025-04-10T14:58:32.399Z"
   },
   {
    "duration": 181,
    "start_time": "2025-04-10T14:58:32.555Z"
   },
   {
    "duration": 167,
    "start_time": "2025-04-10T14:58:32.738Z"
   },
   {
    "duration": 186,
    "start_time": "2025-04-10T14:58:32.907Z"
   },
   {
    "duration": 230,
    "start_time": "2025-04-10T14:58:33.095Z"
   },
   {
    "duration": 219,
    "start_time": "2025-04-10T14:58:33.327Z"
   },
   {
    "duration": 313,
    "start_time": "2025-04-10T14:58:33.547Z"
   },
   {
    "duration": 4,
    "start_time": "2025-04-10T14:58:33.870Z"
   },
   {
    "duration": 12,
    "start_time": "2025-04-10T14:58:33.876Z"
   },
   {
    "duration": 5,
    "start_time": "2025-04-10T14:58:33.889Z"
   },
   {
    "duration": 568,
    "start_time": "2025-04-10T14:58:33.896Z"
   },
   {
    "duration": 6,
    "start_time": "2025-04-10T14:58:34.473Z"
   },
   {
    "duration": 489,
    "start_time": "2025-04-10T14:58:34.481Z"
   },
   {
    "duration": 6,
    "start_time": "2025-04-10T14:58:34.972Z"
   },
   {
    "duration": 605,
    "start_time": "2025-04-10T14:58:34.979Z"
   },
   {
    "duration": 6,
    "start_time": "2025-04-10T14:58:35.586Z"
   },
   {
    "duration": 482,
    "start_time": "2025-04-10T14:58:35.593Z"
   },
   {
    "duration": 172,
    "start_time": "2025-04-10T14:58:36.077Z"
   },
   {
    "duration": 168,
    "start_time": "2025-04-10T14:58:36.251Z"
   },
   {
    "duration": 274,
    "start_time": "2025-04-10T14:58:36.421Z"
   },
   {
    "duration": 178,
    "start_time": "2025-04-10T14:58:36.697Z"
   },
   {
    "duration": 15,
    "start_time": "2025-04-10T14:58:36.876Z"
   },
   {
    "duration": 40,
    "start_time": "2025-04-10T14:58:36.893Z"
   },
   {
    "duration": 65,
    "start_time": "2025-04-10T14:58:36.935Z"
   },
   {
    "duration": 140,
    "start_time": "2025-04-10T14:58:37.002Z"
   },
   {
    "duration": 46,
    "start_time": "2025-04-10T15:16:30.555Z"
   },
   {
    "duration": 781,
    "start_time": "2025-04-10T15:16:55.176Z"
   },
   {
    "duration": 117,
    "start_time": "2025-04-10T15:16:55.959Z"
   },
   {
    "duration": 15,
    "start_time": "2025-04-10T15:16:56.077Z"
   },
   {
    "duration": 1887,
    "start_time": "2025-04-10T15:16:56.093Z"
   },
   {
    "duration": 9,
    "start_time": "2025-04-10T15:16:57.982Z"
   },
   {
    "duration": 34,
    "start_time": "2025-04-10T15:16:57.992Z"
   },
   {
    "duration": 13,
    "start_time": "2025-04-10T15:16:58.028Z"
   },
   {
    "duration": 9,
    "start_time": "2025-04-10T15:16:58.042Z"
   },
   {
    "duration": 35,
    "start_time": "2025-04-10T15:16:58.053Z"
   },
   {
    "duration": 8,
    "start_time": "2025-04-10T15:16:58.090Z"
   },
   {
    "duration": 10,
    "start_time": "2025-04-10T15:16:58.099Z"
   },
   {
    "duration": 30,
    "start_time": "2025-04-10T15:16:58.110Z"
   },
   {
    "duration": 54,
    "start_time": "2025-04-10T15:16:58.142Z"
   },
   {
    "duration": 5,
    "start_time": "2025-04-10T15:16:58.197Z"
   },
   {
    "duration": 33,
    "start_time": "2025-04-10T15:16:58.203Z"
   },
   {
    "duration": 12,
    "start_time": "2025-04-10T15:16:58.238Z"
   },
   {
    "duration": 14,
    "start_time": "2025-04-10T15:16:58.252Z"
   },
   {
    "duration": 19,
    "start_time": "2025-04-10T15:16:58.268Z"
   },
   {
    "duration": 49,
    "start_time": "2025-04-10T15:16:58.289Z"
   },
   {
    "duration": 109,
    "start_time": "2025-04-10T15:16:58.340Z"
   },
   {
    "duration": 39,
    "start_time": "2025-04-10T15:16:58.451Z"
   },
   {
    "duration": 84,
    "start_time": "2025-04-10T15:16:58.492Z"
   },
   {
    "duration": 6,
    "start_time": "2025-04-10T15:16:58.577Z"
   },
   {
    "duration": 8,
    "start_time": "2025-04-10T15:16:58.584Z"
   },
   {
    "duration": 288,
    "start_time": "2025-04-10T15:16:58.593Z"
   },
   {
    "duration": 265,
    "start_time": "2025-04-10T15:16:58.882Z"
   },
   {
    "duration": 364,
    "start_time": "2025-04-10T15:16:59.149Z"
   },
   {
    "duration": 167,
    "start_time": "2025-04-10T15:16:59.516Z"
   },
   {
    "duration": 137,
    "start_time": "2025-04-10T15:16:59.685Z"
   },
   {
    "duration": 168,
    "start_time": "2025-04-10T15:16:59.824Z"
   },
   {
    "duration": 167,
    "start_time": "2025-04-10T15:16:59.994Z"
   },
   {
    "duration": 181,
    "start_time": "2025-04-10T15:17:00.163Z"
   },
   {
    "duration": 222,
    "start_time": "2025-04-10T15:17:00.346Z"
   },
   {
    "duration": 212,
    "start_time": "2025-04-10T15:17:00.570Z"
   },
   {
    "duration": 303,
    "start_time": "2025-04-10T15:17:00.784Z"
   },
   {
    "duration": 4,
    "start_time": "2025-04-10T15:17:01.089Z"
   },
   {
    "duration": 20,
    "start_time": "2025-04-10T15:17:01.095Z"
   },
   {
    "duration": 23,
    "start_time": "2025-04-10T15:17:01.117Z"
   },
   {
    "duration": 661,
    "start_time": "2025-04-10T15:17:01.141Z"
   },
   {
    "duration": 5,
    "start_time": "2025-04-10T15:17:01.804Z"
   },
   {
    "duration": 540,
    "start_time": "2025-04-10T15:17:01.811Z"
   },
   {
    "duration": 5,
    "start_time": "2025-04-10T15:17:02.353Z"
   },
   {
    "duration": 530,
    "start_time": "2025-04-10T15:17:02.360Z"
   },
   {
    "duration": 4,
    "start_time": "2025-04-10T15:17:02.892Z"
   },
   {
    "duration": 529,
    "start_time": "2025-04-10T15:17:02.898Z"
   },
   {
    "duration": 142,
    "start_time": "2025-04-10T15:17:03.429Z"
   },
   {
    "duration": 157,
    "start_time": "2025-04-10T15:17:03.572Z"
   },
   {
    "duration": 245,
    "start_time": "2025-04-10T15:17:03.731Z"
   },
   {
    "duration": 160,
    "start_time": "2025-04-10T15:17:03.978Z"
   },
   {
    "duration": 21,
    "start_time": "2025-04-10T15:17:04.140Z"
   },
   {
    "duration": 73,
    "start_time": "2025-04-10T15:17:04.164Z"
   },
   {
    "duration": 19,
    "start_time": "2025-04-10T15:17:04.240Z"
   },
   {
    "duration": 153,
    "start_time": "2025-04-10T15:17:04.260Z"
   },
   {
    "duration": 4,
    "start_time": "2025-04-10T15:17:17.687Z"
   },
   {
    "duration": 4,
    "start_time": "2025-04-10T15:17:25.183Z"
   },
   {
    "duration": 10,
    "start_time": "2025-04-10T15:19:09.667Z"
   },
   {
    "duration": 4,
    "start_time": "2025-04-10T15:19:52.415Z"
   },
   {
    "duration": 5,
    "start_time": "2025-04-10T15:19:59.356Z"
   },
   {
    "duration": 10,
    "start_time": "2025-04-10T15:20:22.150Z"
   },
   {
    "duration": 612,
    "start_time": "2025-04-10T15:20:34.954Z"
   },
   {
    "duration": 123,
    "start_time": "2025-04-10T15:20:35.568Z"
   },
   {
    "duration": 15,
    "start_time": "2025-04-10T15:20:35.693Z"
   },
   {
    "duration": 1911,
    "start_time": "2025-04-10T15:20:35.711Z"
   },
   {
    "duration": 9,
    "start_time": "2025-04-10T15:20:37.624Z"
   },
   {
    "duration": 6,
    "start_time": "2025-04-10T15:20:37.635Z"
   },
   {
    "duration": 4,
    "start_time": "2025-04-10T15:20:37.643Z"
   },
   {
    "duration": 14,
    "start_time": "2025-04-10T15:20:37.648Z"
   },
   {
    "duration": 9,
    "start_time": "2025-04-10T15:20:37.663Z"
   },
   {
    "duration": 30,
    "start_time": "2025-04-10T15:20:37.674Z"
   },
   {
    "duration": 35,
    "start_time": "2025-04-10T15:20:37.706Z"
   },
   {
    "duration": 9,
    "start_time": "2025-04-10T15:20:37.743Z"
   },
   {
    "duration": 6,
    "start_time": "2025-04-10T15:20:37.753Z"
   },
   {
    "duration": 80,
    "start_time": "2025-04-10T15:20:37.760Z"
   },
   {
    "duration": 5,
    "start_time": "2025-04-10T15:20:37.842Z"
   },
   {
    "duration": 72,
    "start_time": "2025-04-10T15:20:37.848Z"
   },
   {
    "duration": 10,
    "start_time": "2025-04-10T15:20:37.921Z"
   },
   {
    "duration": 23,
    "start_time": "2025-04-10T15:20:37.932Z"
   },
   {
    "duration": 6,
    "start_time": "2025-04-10T15:20:37.957Z"
   },
   {
    "duration": 39,
    "start_time": "2025-04-10T15:20:37.964Z"
   },
   {
    "duration": 97,
    "start_time": "2025-04-10T15:20:38.005Z"
   },
   {
    "duration": 44,
    "start_time": "2025-04-10T15:20:38.104Z"
   },
   {
    "duration": 87,
    "start_time": "2025-04-10T15:20:38.150Z"
   },
   {
    "duration": 5,
    "start_time": "2025-04-10T15:20:38.239Z"
   },
   {
    "duration": 7,
    "start_time": "2025-04-10T15:20:38.245Z"
   },
   {
    "duration": 274,
    "start_time": "2025-04-10T15:20:38.253Z"
   },
   {
    "duration": 260,
    "start_time": "2025-04-10T15:20:38.529Z"
   },
   {
    "duration": 363,
    "start_time": "2025-04-10T15:20:38.793Z"
   },
   {
    "duration": 179,
    "start_time": "2025-04-10T15:20:39.158Z"
   },
   {
    "duration": 144,
    "start_time": "2025-04-10T15:20:39.339Z"
   },
   {
    "duration": 167,
    "start_time": "2025-04-10T15:20:39.485Z"
   },
   {
    "duration": 170,
    "start_time": "2025-04-10T15:20:39.653Z"
   },
   {
    "duration": 174,
    "start_time": "2025-04-10T15:20:39.824Z"
   },
   {
    "duration": 229,
    "start_time": "2025-04-10T15:20:40.000Z"
   },
   {
    "duration": 207,
    "start_time": "2025-04-10T15:20:40.230Z"
   },
   {
    "duration": 304,
    "start_time": "2025-04-10T15:20:40.439Z"
   },
   {
    "duration": 4,
    "start_time": "2025-04-10T15:20:40.744Z"
   },
   {
    "duration": 5,
    "start_time": "2025-04-10T15:20:40.749Z"
   },
   {
    "duration": 4,
    "start_time": "2025-04-10T15:20:40.755Z"
   },
   {
    "duration": 565,
    "start_time": "2025-04-10T15:20:40.761Z"
   },
   {
    "duration": 10,
    "start_time": "2025-04-10T15:20:41.328Z"
   },
   {
    "duration": 462,
    "start_time": "2025-04-10T15:20:41.339Z"
   },
   {
    "duration": 5,
    "start_time": "2025-04-10T15:20:41.803Z"
   },
   {
    "duration": 527,
    "start_time": "2025-04-10T15:20:41.810Z"
   },
   {
    "duration": 6,
    "start_time": "2025-04-10T15:20:42.338Z"
   },
   {
    "duration": 443,
    "start_time": "2025-04-10T15:20:42.345Z"
   },
   {
    "duration": 147,
    "start_time": "2025-04-10T15:20:42.790Z"
   },
   {
    "duration": 164,
    "start_time": "2025-04-10T15:20:42.939Z"
   },
   {
    "duration": 252,
    "start_time": "2025-04-10T15:20:43.105Z"
   },
   {
    "duration": 155,
    "start_time": "2025-04-10T15:20:43.359Z"
   },
   {
    "duration": 20,
    "start_time": "2025-04-10T15:20:43.516Z"
   },
   {
    "duration": 38,
    "start_time": "2025-04-10T15:20:43.538Z"
   },
   {
    "duration": 14,
    "start_time": "2025-04-10T15:20:43.578Z"
   },
   {
    "duration": 158,
    "start_time": "2025-04-10T15:20:43.593Z"
   },
   {
    "duration": 39,
    "start_time": "2025-04-10T15:21:06.577Z"
   },
   {
    "duration": 76,
    "start_time": "2025-04-10T15:25:13.555Z"
   },
   {
    "duration": 652,
    "start_time": "2025-04-10T15:27:13.105Z"
   },
   {
    "duration": 116,
    "start_time": "2025-04-10T15:27:13.758Z"
   },
   {
    "duration": 14,
    "start_time": "2025-04-10T15:27:13.876Z"
   },
   {
    "duration": 1832,
    "start_time": "2025-04-10T15:27:13.892Z"
   },
   {
    "duration": 10,
    "start_time": "2025-04-10T15:27:15.725Z"
   },
   {
    "duration": 5,
    "start_time": "2025-04-10T15:27:15.736Z"
   },
   {
    "duration": 4,
    "start_time": "2025-04-10T15:27:15.742Z"
   },
   {
    "duration": 13,
    "start_time": "2025-04-10T15:27:15.748Z"
   },
   {
    "duration": 8,
    "start_time": "2025-04-10T15:27:15.764Z"
   },
   {
    "duration": 33,
    "start_time": "2025-04-10T15:27:15.774Z"
   },
   {
    "duration": 28,
    "start_time": "2025-04-10T15:27:15.809Z"
   },
   {
    "duration": 8,
    "start_time": "2025-04-10T15:27:15.839Z"
   },
   {
    "duration": 54,
    "start_time": "2025-04-10T15:27:15.848Z"
   },
   {
    "duration": 59,
    "start_time": "2025-04-10T15:27:15.904Z"
   },
   {
    "duration": 21,
    "start_time": "2025-04-10T15:27:15.964Z"
   },
   {
    "duration": 20,
    "start_time": "2025-04-10T15:27:15.986Z"
   },
   {
    "duration": 42,
    "start_time": "2025-04-10T15:27:16.008Z"
   },
   {
    "duration": 8,
    "start_time": "2025-04-10T15:27:16.052Z"
   },
   {
    "duration": 49,
    "start_time": "2025-04-10T15:27:16.062Z"
   },
   {
    "duration": 366,
    "start_time": "2025-04-10T15:27:16.113Z"
   },
   {
    "duration": 68,
    "start_time": "2025-04-10T15:27:16.481Z"
   },
   {
    "duration": 95,
    "start_time": "2025-04-10T15:27:16.551Z"
   },
   {
    "duration": 5,
    "start_time": "2025-04-10T15:27:16.648Z"
   },
   {
    "duration": 22,
    "start_time": "2025-04-10T15:27:16.654Z"
   },
   {
    "duration": 284,
    "start_time": "2025-04-10T15:27:16.678Z"
   },
   {
    "duration": 384,
    "start_time": "2025-04-10T15:27:16.964Z"
   },
   {
    "duration": 287,
    "start_time": "2025-04-10T15:27:17.350Z"
   },
   {
    "duration": 153,
    "start_time": "2025-04-10T15:27:17.642Z"
   },
   {
    "duration": 155,
    "start_time": "2025-04-10T15:27:17.797Z"
   },
   {
    "duration": 179,
    "start_time": "2025-04-10T15:27:17.953Z"
   },
   {
    "duration": 161,
    "start_time": "2025-04-10T15:27:18.135Z"
   },
   {
    "duration": 179,
    "start_time": "2025-04-10T15:27:18.298Z"
   },
   {
    "duration": 221,
    "start_time": "2025-04-10T15:27:18.478Z"
   },
   {
    "duration": 203,
    "start_time": "2025-04-10T15:27:18.701Z"
   },
   {
    "duration": 352,
    "start_time": "2025-04-10T15:27:18.906Z"
   },
   {
    "duration": 5,
    "start_time": "2025-04-10T15:27:19.260Z"
   },
   {
    "duration": 25,
    "start_time": "2025-04-10T15:27:19.267Z"
   },
   {
    "duration": 7,
    "start_time": "2025-04-10T15:27:19.294Z"
   },
   {
    "duration": 1087,
    "start_time": "2025-04-10T15:27:19.302Z"
   },
   {
    "duration": 6,
    "start_time": "2025-04-10T15:27:20.391Z"
   },
   {
    "duration": 1071,
    "start_time": "2025-04-10T15:27:20.399Z"
   },
   {
    "duration": 6,
    "start_time": "2025-04-10T15:27:21.472Z"
   },
   {
    "duration": 1075,
    "start_time": "2025-04-10T15:27:21.480Z"
   },
   {
    "duration": 6,
    "start_time": "2025-04-10T15:27:22.557Z"
   },
   {
    "duration": 1036,
    "start_time": "2025-04-10T15:27:22.565Z"
   },
   {
    "duration": 144,
    "start_time": "2025-04-10T15:27:23.603Z"
   },
   {
    "duration": 161,
    "start_time": "2025-04-10T15:27:23.749Z"
   },
   {
    "duration": 150,
    "start_time": "2025-04-10T15:27:23.912Z"
   },
   {
    "duration": 186,
    "start_time": "2025-04-10T15:27:24.064Z"
   },
   {
    "duration": 17,
    "start_time": "2025-04-10T15:27:24.252Z"
   },
   {
    "duration": 42,
    "start_time": "2025-04-10T15:27:24.270Z"
   },
   {
    "duration": 34,
    "start_time": "2025-04-10T15:27:24.314Z"
   },
   {
    "duration": 166,
    "start_time": "2025-04-10T15:27:24.350Z"
   },
   {
    "duration": 622,
    "start_time": "2025-04-10T16:34:29.894Z"
   },
   {
    "duration": 120,
    "start_time": "2025-04-10T16:34:30.518Z"
   },
   {
    "duration": 15,
    "start_time": "2025-04-10T16:34:30.639Z"
   },
   {
    "duration": 1897,
    "start_time": "2025-04-10T16:34:30.656Z"
   },
   {
    "duration": 19,
    "start_time": "2025-04-10T16:34:32.555Z"
   },
   {
    "duration": 43,
    "start_time": "2025-04-10T16:34:32.576Z"
   },
   {
    "duration": 13,
    "start_time": "2025-04-10T16:34:32.621Z"
   },
   {
    "duration": 24,
    "start_time": "2025-04-10T16:34:32.636Z"
   },
   {
    "duration": 10,
    "start_time": "2025-04-10T16:34:32.662Z"
   },
   {
    "duration": 31,
    "start_time": "2025-04-10T16:34:32.673Z"
   },
   {
    "duration": 8,
    "start_time": "2025-04-10T16:34:32.706Z"
   },
   {
    "duration": 7,
    "start_time": "2025-04-10T16:34:32.716Z"
   },
   {
    "duration": 87,
    "start_time": "2025-04-10T16:34:32.725Z"
   },
   {
    "duration": 6,
    "start_time": "2025-04-10T16:34:32.815Z"
   },
   {
    "duration": 45,
    "start_time": "2025-04-10T16:34:32.823Z"
   },
   {
    "duration": 29,
    "start_time": "2025-04-10T16:34:32.870Z"
   },
   {
    "duration": 48,
    "start_time": "2025-04-10T16:34:32.900Z"
   },
   {
    "duration": 8,
    "start_time": "2025-04-10T16:34:32.950Z"
   },
   {
    "duration": 51,
    "start_time": "2025-04-10T16:34:32.960Z"
   },
   {
    "duration": 350,
    "start_time": "2025-04-10T16:34:33.013Z"
   },
   {
    "duration": 40,
    "start_time": "2025-04-10T16:34:33.364Z"
   },
   {
    "duration": 114,
    "start_time": "2025-04-10T16:34:33.405Z"
   },
   {
    "duration": 5,
    "start_time": "2025-04-10T16:34:33.521Z"
   },
   {
    "duration": 8,
    "start_time": "2025-04-10T16:34:33.527Z"
   },
   {
    "duration": 288,
    "start_time": "2025-04-10T16:34:33.536Z"
   },
   {
    "duration": 390,
    "start_time": "2025-04-10T16:34:33.826Z"
   },
   {
    "duration": 293,
    "start_time": "2025-04-10T16:34:34.218Z"
   },
   {
    "duration": 149,
    "start_time": "2025-04-10T16:34:34.513Z"
   },
   {
    "duration": 153,
    "start_time": "2025-04-10T16:34:34.669Z"
   },
   {
    "duration": 188,
    "start_time": "2025-04-10T16:34:34.824Z"
   },
   {
    "duration": 170,
    "start_time": "2025-04-10T16:34:35.013Z"
   },
   {
    "duration": 189,
    "start_time": "2025-04-10T16:34:35.185Z"
   },
   {
    "duration": 233,
    "start_time": "2025-04-10T16:34:35.376Z"
   },
   {
    "duration": 217,
    "start_time": "2025-04-10T16:34:35.611Z"
   },
   {
    "duration": 385,
    "start_time": "2025-04-10T16:34:35.830Z"
   },
   {
    "duration": 9,
    "start_time": "2025-04-10T16:34:36.218Z"
   },
   {
    "duration": 10,
    "start_time": "2025-04-10T16:34:36.229Z"
   },
   {
    "duration": 34,
    "start_time": "2025-04-10T16:34:36.241Z"
   },
   {
    "duration": 1119,
    "start_time": "2025-04-10T16:34:36.277Z"
   },
   {
    "duration": 4,
    "start_time": "2025-04-10T16:34:37.398Z"
   },
   {
    "duration": 1088,
    "start_time": "2025-04-10T16:34:37.406Z"
   },
   {
    "duration": 6,
    "start_time": "2025-04-10T16:34:38.495Z"
   },
   {
    "duration": 1088,
    "start_time": "2025-04-10T16:34:38.502Z"
   },
   {
    "duration": 5,
    "start_time": "2025-04-10T16:34:39.592Z"
   },
   {
    "duration": 1075,
    "start_time": "2025-04-10T16:34:39.599Z"
   },
   {
    "duration": 144,
    "start_time": "2025-04-10T16:34:40.676Z"
   },
   {
    "duration": 177,
    "start_time": "2025-04-10T16:34:40.822Z"
   },
   {
    "duration": 158,
    "start_time": "2025-04-10T16:34:41.001Z"
   },
   {
    "duration": 162,
    "start_time": "2025-04-10T16:34:41.161Z"
   },
   {
    "duration": 17,
    "start_time": "2025-04-10T16:34:41.324Z"
   },
   {
    "duration": 61,
    "start_time": "2025-04-10T16:34:41.343Z"
   },
   {
    "duration": 15,
    "start_time": "2025-04-10T16:34:41.406Z"
   },
   {
    "duration": 158,
    "start_time": "2025-04-10T16:34:41.422Z"
   },
   {
    "duration": 87,
    "start_time": "2025-04-10T16:42:30.373Z"
   },
   {
    "duration": 225,
    "start_time": "2025-04-10T16:42:51.869Z"
   },
   {
    "duration": 160,
    "start_time": "2025-04-10T16:44:39.704Z"
   },
   {
    "duration": 38578,
    "start_time": "2025-04-10T16:44:55.277Z"
   },
   {
    "duration": 137,
    "start_time": "2025-04-10T16:47:22.100Z"
   },
   {
    "duration": 51,
    "start_time": "2025-04-10T17:39:44.160Z"
   },
   {
    "duration": 900,
    "start_time": "2025-04-10T17:39:55.018Z"
   },
   {
    "duration": 149,
    "start_time": "2025-04-10T17:39:55.921Z"
   },
   {
    "duration": 18,
    "start_time": "2025-04-10T17:39:56.071Z"
   },
   {
    "duration": 2201,
    "start_time": "2025-04-10T17:39:56.091Z"
   },
   {
    "duration": 11,
    "start_time": "2025-04-10T17:39:58.293Z"
   },
   {
    "duration": 12,
    "start_time": "2025-04-10T17:39:58.305Z"
   },
   {
    "duration": 6,
    "start_time": "2025-04-10T17:39:58.318Z"
   },
   {
    "duration": 17,
    "start_time": "2025-04-10T17:39:58.325Z"
   },
   {
    "duration": 12,
    "start_time": "2025-04-10T17:39:58.344Z"
   },
   {
    "duration": 35,
    "start_time": "2025-04-10T17:39:58.359Z"
   },
   {
    "duration": 9,
    "start_time": "2025-04-10T17:39:58.396Z"
   },
   {
    "duration": 34,
    "start_time": "2025-04-10T17:39:58.407Z"
   },
   {
    "duration": 69,
    "start_time": "2025-04-10T17:39:58.442Z"
   },
   {
    "duration": 26,
    "start_time": "2025-04-10T17:39:58.513Z"
   },
   {
    "duration": 16,
    "start_time": "2025-04-10T17:39:58.541Z"
   },
   {
    "duration": 25,
    "start_time": "2025-04-10T17:39:58.559Z"
   },
   {
    "duration": 73,
    "start_time": "2025-04-10T17:39:58.585Z"
   },
   {
    "duration": 9,
    "start_time": "2025-04-10T17:39:58.659Z"
   },
   {
    "duration": 55,
    "start_time": "2025-04-10T17:39:58.670Z"
   },
   {
    "duration": 396,
    "start_time": "2025-04-10T17:39:58.727Z"
   },
   {
    "duration": 53,
    "start_time": "2025-04-10T17:39:59.125Z"
   },
   {
    "duration": 105,
    "start_time": "2025-04-10T17:39:59.180Z"
   },
   {
    "duration": 6,
    "start_time": "2025-04-10T17:39:59.287Z"
   },
   {
    "duration": 9,
    "start_time": "2025-04-10T17:39:59.295Z"
   },
   {
    "duration": 334,
    "start_time": "2025-04-10T17:39:59.306Z"
   },
   {
    "duration": 441,
    "start_time": "2025-04-10T17:39:59.641Z"
   },
   {
    "duration": 337,
    "start_time": "2025-04-10T17:40:00.084Z"
   },
   {
    "duration": 180,
    "start_time": "2025-04-10T17:40:00.424Z"
   },
   {
    "duration": 191,
    "start_time": "2025-04-10T17:40:00.606Z"
   },
   {
    "duration": 229,
    "start_time": "2025-04-10T17:40:00.798Z"
   },
   {
    "duration": 189,
    "start_time": "2025-04-10T17:40:01.028Z"
   },
   {
    "duration": 209,
    "start_time": "2025-04-10T17:40:01.218Z"
   },
   {
    "duration": 270,
    "start_time": "2025-04-10T17:40:01.429Z"
   },
   {
    "duration": 232,
    "start_time": "2025-04-10T17:40:01.701Z"
   },
   {
    "duration": 335,
    "start_time": "2025-04-10T17:40:01.935Z"
   },
   {
    "duration": 325,
    "start_time": "2025-04-10T17:40:02.272Z"
   },
   {
    "duration": 5,
    "start_time": "2025-04-10T17:40:02.599Z"
   },
   {
    "duration": 51,
    "start_time": "2025-04-10T17:40:02.606Z"
   },
   {
    "duration": 13,
    "start_time": "2025-04-10T17:40:02.660Z"
   },
   {
    "duration": 1232,
    "start_time": "2025-04-10T17:40:02.675Z"
   },
   {
    "duration": 6,
    "start_time": "2025-04-10T17:40:03.909Z"
   },
   {
    "duration": 1242,
    "start_time": "2025-04-10T17:40:03.917Z"
   },
   {
    "duration": 6,
    "start_time": "2025-04-10T17:40:05.161Z"
   },
   {
    "duration": 1209,
    "start_time": "2025-04-10T17:40:05.169Z"
   },
   {
    "duration": 6,
    "start_time": "2025-04-10T17:40:06.379Z"
   },
   {
    "duration": 1255,
    "start_time": "2025-04-10T17:40:06.387Z"
   },
   {
    "duration": 179,
    "start_time": "2025-04-10T17:40:07.644Z"
   },
   {
    "duration": 186,
    "start_time": "2025-04-10T17:40:07.826Z"
   },
   {
    "duration": 192,
    "start_time": "2025-04-10T17:40:08.014Z"
   },
   {
    "duration": 193,
    "start_time": "2025-04-10T17:40:08.209Z"
   },
   {
    "duration": 20,
    "start_time": "2025-04-10T17:40:08.404Z"
   },
   {
    "duration": 49,
    "start_time": "2025-04-10T17:40:08.439Z"
   },
   {
    "duration": 19,
    "start_time": "2025-04-10T17:40:08.490Z"
   },
   {
    "duration": 161,
    "start_time": "2025-04-10T17:40:08.538Z"
   },
   {
    "duration": 179,
    "start_time": "2025-04-10T17:40:25.653Z"
   },
   {
    "duration": 179,
    "start_time": "2025-04-10T17:41:04.829Z"
   },
   {
    "duration": 288,
    "start_time": "2025-04-10T17:41:16.614Z"
   },
   {
    "duration": 180,
    "start_time": "2025-04-10T17:41:22.943Z"
   },
   {
    "duration": 175,
    "start_time": "2025-04-10T17:41:32.022Z"
   },
   {
    "duration": 213,
    "start_time": "2025-04-10T17:44:12.509Z"
   },
   {
    "duration": 209,
    "start_time": "2025-04-10T17:44:35.037Z"
   },
   {
    "duration": 202,
    "start_time": "2025-04-10T17:44:49.486Z"
   },
   {
    "duration": 169,
    "start_time": "2025-04-10T17:45:07.834Z"
   },
   {
    "duration": 180,
    "start_time": "2025-04-10T17:45:16.729Z"
   },
   {
    "duration": 163,
    "start_time": "2025-04-10T17:45:25.496Z"
   },
   {
    "duration": 163,
    "start_time": "2025-04-10T17:45:33.847Z"
   },
   {
    "duration": 190,
    "start_time": "2025-04-10T17:45:43.688Z"
   },
   {
    "duration": 196,
    "start_time": "2025-04-10T17:45:53.578Z"
   },
   {
    "duration": 181,
    "start_time": "2025-04-10T17:46:02.984Z"
   },
   {
    "duration": 169,
    "start_time": "2025-04-10T17:48:09.889Z"
   },
   {
    "duration": 296,
    "start_time": "2025-04-10T17:48:25.117Z"
   },
   {
    "duration": 161,
    "start_time": "2025-04-10T17:48:32.651Z"
   },
   {
    "duration": 200,
    "start_time": "2025-04-10T17:49:12.812Z"
   },
   {
    "duration": 175,
    "start_time": "2025-04-10T17:49:26.532Z"
   },
   {
    "duration": 161,
    "start_time": "2025-04-10T17:50:04.552Z"
   },
   {
    "duration": 163,
    "start_time": "2025-04-10T17:50:59.642Z"
   },
   {
    "duration": 157,
    "start_time": "2025-04-10T17:51:10.341Z"
   },
   {
    "duration": 174,
    "start_time": "2025-04-10T17:51:19.428Z"
   },
   {
    "duration": 197,
    "start_time": "2025-04-10T17:51:25.633Z"
   },
   {
    "duration": 169,
    "start_time": "2025-04-10T17:51:30.388Z"
   },
   {
    "duration": 171,
    "start_time": "2025-04-10T17:51:43.159Z"
   },
   {
    "duration": 169,
    "start_time": "2025-04-10T17:52:39.165Z"
   },
   {
    "duration": 804,
    "start_time": "2025-04-10T17:52:51.709Z"
   },
   {
    "duration": 178,
    "start_time": "2025-04-10T17:52:59.762Z"
   },
   {
    "duration": 213,
    "start_time": "2025-04-10T17:53:17.273Z"
   },
   {
    "duration": 169,
    "start_time": "2025-04-10T17:53:31.446Z"
   },
   {
    "duration": 172,
    "start_time": "2025-04-10T17:53:36.032Z"
   },
   {
    "duration": 168,
    "start_time": "2025-04-10T17:55:23.640Z"
   },
   {
    "duration": 737,
    "start_time": "2025-04-10T17:55:36.116Z"
   },
   {
    "duration": 151,
    "start_time": "2025-04-10T17:55:36.856Z"
   },
   {
    "duration": 32,
    "start_time": "2025-04-10T17:55:37.009Z"
   },
   {
    "duration": 2133,
    "start_time": "2025-04-10T17:55:37.043Z"
   },
   {
    "duration": 13,
    "start_time": "2025-04-10T17:55:39.178Z"
   },
   {
    "duration": 5,
    "start_time": "2025-04-10T17:55:39.193Z"
   },
   {
    "duration": 27,
    "start_time": "2025-04-10T17:55:39.199Z"
   },
   {
    "duration": 52,
    "start_time": "2025-04-10T17:55:39.228Z"
   },
   {
    "duration": 11,
    "start_time": "2025-04-10T17:55:39.282Z"
   },
   {
    "duration": 36,
    "start_time": "2025-04-10T17:55:39.296Z"
   },
   {
    "duration": 9,
    "start_time": "2025-04-10T17:55:39.334Z"
   },
   {
    "duration": 18,
    "start_time": "2025-04-10T17:55:39.345Z"
   },
   {
    "duration": 79,
    "start_time": "2025-04-10T17:55:39.365Z"
   },
   {
    "duration": 7,
    "start_time": "2025-04-10T17:55:39.446Z"
   },
   {
    "duration": 28,
    "start_time": "2025-04-10T17:55:39.454Z"
   },
   {
    "duration": 27,
    "start_time": "2025-04-10T17:55:39.484Z"
   },
   {
    "duration": 67,
    "start_time": "2025-04-10T17:55:39.513Z"
   },
   {
    "duration": 11,
    "start_time": "2025-04-10T17:55:39.581Z"
   },
   {
    "duration": 66,
    "start_time": "2025-04-10T17:55:39.594Z"
   },
   {
    "duration": 385,
    "start_time": "2025-04-10T17:55:39.661Z"
   },
   {
    "duration": 43,
    "start_time": "2025-04-10T17:55:40.048Z"
   },
   {
    "duration": 117,
    "start_time": "2025-04-10T17:55:40.092Z"
   },
   {
    "duration": 7,
    "start_time": "2025-04-10T17:55:40.211Z"
   },
   {
    "duration": 46,
    "start_time": "2025-04-10T17:55:40.219Z"
   },
   {
    "duration": 334,
    "start_time": "2025-04-10T17:55:40.267Z"
   },
   {
    "duration": 447,
    "start_time": "2025-04-10T17:55:40.603Z"
   },
   {
    "duration": 334,
    "start_time": "2025-04-10T17:55:41.052Z"
   },
   {
    "duration": 187,
    "start_time": "2025-04-10T17:55:41.390Z"
   },
   {
    "duration": 186,
    "start_time": "2025-04-10T17:55:41.579Z"
   },
   {
    "duration": 199,
    "start_time": "2025-04-10T17:55:41.766Z"
   },
   {
    "duration": 189,
    "start_time": "2025-04-10T17:55:41.967Z"
   },
   {
    "duration": 209,
    "start_time": "2025-04-10T17:55:42.158Z"
   },
   {
    "duration": 261,
    "start_time": "2025-04-10T17:55:42.369Z"
   },
   {
    "duration": 233,
    "start_time": "2025-04-10T17:55:42.632Z"
   },
   {
    "duration": 335,
    "start_time": "2025-04-10T17:55:42.867Z"
   },
   {
    "duration": 331,
    "start_time": "2025-04-10T17:55:43.204Z"
   },
   {
    "duration": 6,
    "start_time": "2025-04-10T17:55:43.537Z"
   },
   {
    "duration": 8,
    "start_time": "2025-04-10T17:55:43.546Z"
   },
   {
    "duration": 6,
    "start_time": "2025-04-10T17:55:43.555Z"
   },
   {
    "duration": 1242,
    "start_time": "2025-04-10T17:55:43.563Z"
   },
   {
    "duration": 7,
    "start_time": "2025-04-10T17:55:44.806Z"
   },
   {
    "duration": 1212,
    "start_time": "2025-04-10T17:55:44.815Z"
   },
   {
    "duration": 5,
    "start_time": "2025-04-10T17:55:46.029Z"
   },
   {
    "duration": 1222,
    "start_time": "2025-04-10T17:55:46.040Z"
   },
   {
    "duration": 8,
    "start_time": "2025-04-10T17:55:47.264Z"
   },
   {
    "duration": 1269,
    "start_time": "2025-04-10T17:55:47.273Z"
   },
   {
    "duration": 179,
    "start_time": "2025-04-10T17:55:48.545Z"
   },
   {
    "duration": 187,
    "start_time": "2025-04-10T17:55:48.726Z"
   },
   {
    "duration": 186,
    "start_time": "2025-04-10T17:55:48.915Z"
   },
   {
    "duration": 197,
    "start_time": "2025-04-10T17:55:49.103Z"
   },
   {
    "duration": 20,
    "start_time": "2025-04-10T17:55:49.302Z"
   },
   {
    "duration": 59,
    "start_time": "2025-04-10T17:55:49.324Z"
   },
   {
    "duration": 19,
    "start_time": "2025-04-10T17:55:49.385Z"
   },
   {
    "duration": 189,
    "start_time": "2025-04-10T17:55:49.407Z"
   },
   {
    "duration": 153,
    "start_time": "2025-04-10T17:56:20.348Z"
   },
   {
    "duration": 154,
    "start_time": "2025-04-10T17:56:40.180Z"
   },
   {
    "duration": 671,
    "start_time": "2025-04-10T17:56:55.780Z"
   },
   {
    "duration": 130,
    "start_time": "2025-04-10T17:56:56.453Z"
   },
   {
    "duration": 16,
    "start_time": "2025-04-10T17:56:56.585Z"
   },
   {
    "duration": 2192,
    "start_time": "2025-04-10T17:56:56.604Z"
   },
   {
    "duration": 10,
    "start_time": "2025-04-10T17:56:58.797Z"
   },
   {
    "duration": 22,
    "start_time": "2025-04-10T17:56:58.809Z"
   },
   {
    "duration": 23,
    "start_time": "2025-04-10T17:56:58.833Z"
   },
   {
    "duration": 38,
    "start_time": "2025-04-10T17:56:58.858Z"
   },
   {
    "duration": 68,
    "start_time": "2025-04-10T17:56:58.898Z"
   },
   {
    "duration": 51,
    "start_time": "2025-04-10T17:56:58.969Z"
   },
   {
    "duration": 10,
    "start_time": "2025-04-10T17:56:59.022Z"
   },
   {
    "duration": 26,
    "start_time": "2025-04-10T17:56:59.033Z"
   },
   {
    "duration": 154,
    "start_time": "2025-04-10T17:56:59.061Z"
   },
   {
    "duration": 7,
    "start_time": "2025-04-10T17:56:59.216Z"
   },
   {
    "duration": 73,
    "start_time": "2025-04-10T17:56:59.225Z"
   },
   {
    "duration": 25,
    "start_time": "2025-04-10T17:56:59.300Z"
   },
   {
    "duration": 50,
    "start_time": "2025-04-10T17:56:59.326Z"
   },
   {
    "duration": 10,
    "start_time": "2025-04-10T17:56:59.378Z"
   },
   {
    "duration": 69,
    "start_time": "2025-04-10T17:56:59.389Z"
   },
   {
    "duration": 380,
    "start_time": "2025-04-10T17:56:59.460Z"
   },
   {
    "duration": 41,
    "start_time": "2025-04-10T17:56:59.843Z"
   },
   {
    "duration": 105,
    "start_time": "2025-04-10T17:56:59.886Z"
   },
   {
    "duration": 6,
    "start_time": "2025-04-10T17:56:59.993Z"
   },
   {
    "duration": 73,
    "start_time": "2025-04-10T17:57:00.000Z"
   },
   {
    "duration": 316,
    "start_time": "2025-04-10T17:57:00.074Z"
   },
   {
    "duration": 424,
    "start_time": "2025-04-10T17:57:00.392Z"
   },
   {
    "duration": 367,
    "start_time": "2025-04-10T17:57:00.818Z"
   },
   {
    "duration": 178,
    "start_time": "2025-04-10T17:57:01.189Z"
   },
   {
    "duration": 192,
    "start_time": "2025-04-10T17:57:01.369Z"
   },
   {
    "duration": 208,
    "start_time": "2025-04-10T17:57:01.563Z"
   },
   {
    "duration": 196,
    "start_time": "2025-04-10T17:57:01.773Z"
   },
   {
    "duration": 211,
    "start_time": "2025-04-10T17:57:01.971Z"
   },
   {
    "duration": 264,
    "start_time": "2025-04-10T17:57:02.184Z"
   },
   {
    "duration": 237,
    "start_time": "2025-04-10T17:57:02.450Z"
   },
   {
    "duration": 328,
    "start_time": "2025-04-10T17:57:02.689Z"
   },
   {
    "duration": 327,
    "start_time": "2025-04-10T17:57:03.018Z"
   },
   {
    "duration": 5,
    "start_time": "2025-04-10T17:57:03.347Z"
   },
   {
    "duration": 38,
    "start_time": "2025-04-10T17:57:03.354Z"
   },
   {
    "duration": 27,
    "start_time": "2025-04-10T17:57:03.394Z"
   },
   {
    "duration": 1254,
    "start_time": "2025-04-10T17:57:03.422Z"
   },
   {
    "duration": 6,
    "start_time": "2025-04-10T17:57:04.677Z"
   },
   {
    "duration": 1224,
    "start_time": "2025-04-10T17:57:04.685Z"
   },
   {
    "duration": 5,
    "start_time": "2025-04-10T17:57:05.911Z"
   },
   {
    "duration": 1240,
    "start_time": "2025-04-10T17:57:05.918Z"
   },
   {
    "duration": 6,
    "start_time": "2025-04-10T17:57:07.159Z"
   },
   {
    "duration": 1262,
    "start_time": "2025-04-10T17:57:07.166Z"
   },
   {
    "duration": 167,
    "start_time": "2025-04-10T17:57:08.429Z"
   },
   {
    "duration": 188,
    "start_time": "2025-04-10T17:57:08.598Z"
   },
   {
    "duration": 182,
    "start_time": "2025-04-10T17:57:08.788Z"
   },
   {
    "duration": 184,
    "start_time": "2025-04-10T17:57:08.972Z"
   },
   {
    "duration": 18,
    "start_time": "2025-04-10T17:57:09.157Z"
   },
   {
    "duration": 69,
    "start_time": "2025-04-10T17:57:09.177Z"
   },
   {
    "duration": 18,
    "start_time": "2025-04-10T17:57:09.247Z"
   },
   {
    "duration": 168,
    "start_time": "2025-04-10T17:57:09.266Z"
   },
   {
    "duration": 687,
    "start_time": "2025-04-10T17:57:55.242Z"
   },
   {
    "duration": 135,
    "start_time": "2025-04-10T17:57:55.931Z"
   },
   {
    "duration": 18,
    "start_time": "2025-04-10T17:57:56.068Z"
   },
   {
    "duration": 2184,
    "start_time": "2025-04-10T17:57:56.088Z"
   },
   {
    "duration": 10,
    "start_time": "2025-04-10T17:57:58.273Z"
   },
   {
    "duration": 4,
    "start_time": "2025-04-10T17:57:58.285Z"
   },
   {
    "duration": 4,
    "start_time": "2025-04-10T17:57:58.291Z"
   },
   {
    "duration": 15,
    "start_time": "2025-04-10T17:57:58.297Z"
   },
   {
    "duration": 10,
    "start_time": "2025-04-10T17:57:58.313Z"
   },
   {
    "duration": 48,
    "start_time": "2025-04-10T17:57:58.326Z"
   },
   {
    "duration": 9,
    "start_time": "2025-04-10T17:57:58.376Z"
   },
   {
    "duration": 13,
    "start_time": "2025-04-10T17:57:58.387Z"
   },
   {
    "duration": 77,
    "start_time": "2025-04-10T17:57:58.401Z"
   },
   {
    "duration": 6,
    "start_time": "2025-04-10T17:57:58.480Z"
   },
   {
    "duration": 16,
    "start_time": "2025-04-10T17:57:58.488Z"
   },
   {
    "duration": 46,
    "start_time": "2025-04-10T17:57:58.506Z"
   },
   {
    "duration": 48,
    "start_time": "2025-04-10T17:57:58.554Z"
   },
   {
    "duration": 10,
    "start_time": "2025-04-10T17:57:58.604Z"
   },
   {
    "duration": 50,
    "start_time": "2025-04-10T17:57:58.640Z"
   },
   {
    "duration": 397,
    "start_time": "2025-04-10T17:57:58.692Z"
   },
   {
    "duration": 64,
    "start_time": "2025-04-10T17:57:59.091Z"
   },
   {
    "duration": 102,
    "start_time": "2025-04-10T17:57:59.157Z"
   },
   {
    "duration": 6,
    "start_time": "2025-04-10T17:57:59.261Z"
   },
   {
    "duration": 9,
    "start_time": "2025-04-10T17:57:59.269Z"
   },
   {
    "duration": 327,
    "start_time": "2025-04-10T17:57:59.279Z"
   },
   {
    "duration": 434,
    "start_time": "2025-04-10T17:57:59.608Z"
   },
   {
    "duration": 338,
    "start_time": "2025-04-10T17:58:00.044Z"
   },
   {
    "duration": 189,
    "start_time": "2025-04-10T17:58:00.386Z"
   },
   {
    "duration": 191,
    "start_time": "2025-04-10T17:58:00.576Z"
   },
   {
    "duration": 211,
    "start_time": "2025-04-10T17:58:00.769Z"
   },
   {
    "duration": 190,
    "start_time": "2025-04-10T17:58:00.983Z"
   },
   {
    "duration": 204,
    "start_time": "2025-04-10T17:58:01.175Z"
   },
   {
    "duration": 268,
    "start_time": "2025-04-10T17:58:01.381Z"
   },
   {
    "duration": 238,
    "start_time": "2025-04-10T17:58:01.651Z"
   },
   {
    "duration": 321,
    "start_time": "2025-04-10T17:58:01.891Z"
   },
   {
    "duration": 318,
    "start_time": "2025-04-10T17:58:02.214Z"
   },
   {
    "duration": 8,
    "start_time": "2025-04-10T17:58:02.534Z"
   },
   {
    "duration": 9,
    "start_time": "2025-04-10T17:58:02.544Z"
   },
   {
    "duration": 14,
    "start_time": "2025-04-10T17:58:02.555Z"
   },
   {
    "duration": 1220,
    "start_time": "2025-04-10T17:58:02.571Z"
   },
   {
    "duration": 5,
    "start_time": "2025-04-10T17:58:03.793Z"
   },
   {
    "duration": 1209,
    "start_time": "2025-04-10T17:58:03.800Z"
   },
   {
    "duration": 8,
    "start_time": "2025-04-10T17:58:05.011Z"
   },
   {
    "duration": 1212,
    "start_time": "2025-04-10T17:58:05.020Z"
   },
   {
    "duration": 9,
    "start_time": "2025-04-10T17:58:06.234Z"
   },
   {
    "duration": 1273,
    "start_time": "2025-04-10T17:58:06.244Z"
   },
   {
    "duration": 210,
    "start_time": "2025-04-10T17:58:07.519Z"
   },
   {
    "duration": 188,
    "start_time": "2025-04-10T17:58:07.739Z"
   },
   {
    "duration": 184,
    "start_time": "2025-04-10T17:58:07.929Z"
   },
   {
    "duration": 193,
    "start_time": "2025-04-10T17:58:08.114Z"
   },
   {
    "duration": 18,
    "start_time": "2025-04-10T17:58:08.309Z"
   },
   {
    "duration": 56,
    "start_time": "2025-04-10T17:58:08.328Z"
   },
   {
    "duration": 16,
    "start_time": "2025-04-10T17:58:08.386Z"
   },
   {
    "duration": 171,
    "start_time": "2025-04-10T17:58:08.404Z"
   },
   {
    "duration": 208,
    "start_time": "2025-04-10T17:58:47.607Z"
   },
   {
    "duration": 423,
    "start_time": "2025-04-10T18:02:29.607Z"
   },
   {
    "duration": 242,
    "start_time": "2025-04-10T18:02:38.445Z"
   },
   {
    "duration": 208,
    "start_time": "2025-04-10T18:02:45.501Z"
   },
   {
    "duration": 200,
    "start_time": "2025-04-10T18:02:55.180Z"
   },
   {
    "duration": 185,
    "start_time": "2025-04-10T18:03:16.277Z"
   },
   {
    "duration": 178,
    "start_time": "2025-04-10T18:04:23.287Z"
   },
   {
    "duration": 162,
    "start_time": "2025-04-10T18:04:31.663Z"
   },
   {
    "duration": 158,
    "start_time": "2025-04-10T18:05:01.404Z"
   },
   {
    "duration": 159,
    "start_time": "2025-04-10T18:05:09.782Z"
   },
   {
    "duration": 145,
    "start_time": "2025-04-10T18:05:15.096Z"
   },
   {
    "duration": 167,
    "start_time": "2025-04-10T18:05:52.550Z"
   },
   {
    "duration": 286,
    "start_time": "2025-04-10T18:06:15.147Z"
   },
   {
    "duration": 156,
    "start_time": "2025-04-10T18:06:25.160Z"
   },
   {
    "duration": 171,
    "start_time": "2025-04-10T18:06:42.171Z"
   },
   {
    "duration": 170,
    "start_time": "2025-04-10T18:07:27.106Z"
   },
   {
    "duration": 138,
    "start_time": "2025-04-10T18:07:48.203Z"
   },
   {
    "duration": 148,
    "start_time": "2025-04-10T18:08:31.148Z"
   },
   {
    "duration": 157,
    "start_time": "2025-04-10T18:08:40.703Z"
   },
   {
    "duration": 203,
    "start_time": "2025-04-10T18:08:47.445Z"
   },
   {
    "duration": 155,
    "start_time": "2025-04-10T18:48:27.896Z"
   },
   {
    "duration": 175,
    "start_time": "2025-04-10T18:48:43.906Z"
   },
   {
    "duration": 190,
    "start_time": "2025-04-10T18:49:02.449Z"
   },
   {
    "duration": 158,
    "start_time": "2025-04-10T18:49:15.752Z"
   },
   {
    "duration": 163,
    "start_time": "2025-04-10T18:49:34.132Z"
   },
   {
    "duration": 148,
    "start_time": "2025-04-10T18:53:57.868Z"
   },
   {
    "duration": 689,
    "start_time": "2025-04-10T18:55:04.461Z"
   },
   {
    "duration": 149,
    "start_time": "2025-04-10T18:55:05.152Z"
   },
   {
    "duration": 19,
    "start_time": "2025-04-10T18:55:05.303Z"
   },
   {
    "duration": 2187,
    "start_time": "2025-04-10T18:55:05.325Z"
   },
   {
    "duration": 10,
    "start_time": "2025-04-10T18:55:07.514Z"
   },
   {
    "duration": 9,
    "start_time": "2025-04-10T18:55:07.526Z"
   },
   {
    "duration": 8,
    "start_time": "2025-04-10T18:55:07.537Z"
   },
   {
    "duration": 18,
    "start_time": "2025-04-10T18:55:07.546Z"
   },
   {
    "duration": 11,
    "start_time": "2025-04-10T18:55:07.565Z"
   },
   {
    "duration": 72,
    "start_time": "2025-04-10T18:55:07.579Z"
   },
   {
    "duration": 12,
    "start_time": "2025-04-10T18:55:07.653Z"
   },
   {
    "duration": 10,
    "start_time": "2025-04-10T18:55:07.667Z"
   },
   {
    "duration": 103,
    "start_time": "2025-04-10T18:55:07.678Z"
   },
   {
    "duration": 10,
    "start_time": "2025-04-10T18:55:07.783Z"
   },
   {
    "duration": 36,
    "start_time": "2025-04-10T18:55:07.795Z"
   },
   {
    "duration": 36,
    "start_time": "2025-04-10T18:55:07.840Z"
   },
   {
    "duration": 66,
    "start_time": "2025-04-10T18:55:07.879Z"
   },
   {
    "duration": 10,
    "start_time": "2025-04-10T18:55:07.947Z"
   },
   {
    "duration": 57,
    "start_time": "2025-04-10T18:55:07.959Z"
   },
   {
    "duration": 409,
    "start_time": "2025-04-10T18:55:08.018Z"
   },
   {
    "duration": 51,
    "start_time": "2025-04-10T18:55:08.429Z"
   },
   {
    "duration": 110,
    "start_time": "2025-04-10T18:55:08.482Z"
   },
   {
    "duration": 6,
    "start_time": "2025-04-10T18:55:08.594Z"
   },
   {
    "duration": 10,
    "start_time": "2025-04-10T18:55:08.602Z"
   },
   {
    "duration": 224,
    "start_time": "2025-04-10T18:55:08.613Z"
   },
   {
    "duration": 324,
    "start_time": "2025-04-10T18:55:08.839Z"
   },
   {
    "duration": 427,
    "start_time": "2025-04-10T18:55:09.164Z"
   },
   {
    "duration": 194,
    "start_time": "2025-04-10T18:55:09.595Z"
   },
   {
    "duration": 190,
    "start_time": "2025-04-10T18:55:09.792Z"
   },
   {
    "duration": 189,
    "start_time": "2025-04-10T18:55:09.984Z"
   },
   {
    "duration": 201,
    "start_time": "2025-04-10T18:55:10.175Z"
   },
   {
    "duration": 213,
    "start_time": "2025-04-10T18:55:10.379Z"
   },
   {
    "duration": 257,
    "start_time": "2025-04-10T18:55:10.594Z"
   },
   {
    "duration": 266,
    "start_time": "2025-04-10T18:55:10.854Z"
   },
   {
    "duration": 260,
    "start_time": "2025-04-10T18:55:11.121Z"
   },
   {
    "duration": 428,
    "start_time": "2025-04-10T18:55:11.382Z"
   },
   {
    "duration": 6,
    "start_time": "2025-04-10T18:55:11.811Z"
   },
   {
    "duration": 7,
    "start_time": "2025-04-10T18:55:11.818Z"
   },
   {
    "duration": 6,
    "start_time": "2025-04-10T18:55:11.839Z"
   },
   {
    "duration": 1242,
    "start_time": "2025-04-10T18:55:11.847Z"
   },
   {
    "duration": 6,
    "start_time": "2025-04-10T18:55:13.091Z"
   },
   {
    "duration": 1240,
    "start_time": "2025-04-10T18:55:13.099Z"
   },
   {
    "duration": 6,
    "start_time": "2025-04-10T18:55:14.341Z"
   },
   {
    "duration": 1206,
    "start_time": "2025-04-10T18:55:14.348Z"
   },
   {
    "duration": 6,
    "start_time": "2025-04-10T18:55:15.556Z"
   },
   {
    "duration": 1269,
    "start_time": "2025-04-10T18:55:15.563Z"
   },
   {
    "duration": 180,
    "start_time": "2025-04-10T18:55:16.838Z"
   },
   {
    "duration": 171,
    "start_time": "2025-04-10T18:55:17.020Z"
   },
   {
    "duration": 208,
    "start_time": "2025-04-10T18:55:17.193Z"
   },
   {
    "duration": 165,
    "start_time": "2025-04-10T18:55:17.403Z"
   },
   {
    "duration": 24,
    "start_time": "2025-04-10T18:55:17.570Z"
   },
   {
    "duration": 174,
    "start_time": "2025-04-10T18:55:17.597Z"
   },
   {
    "duration": 25,
    "start_time": "2025-04-10T18:55:17.773Z"
   },
   {
    "duration": 174,
    "start_time": "2025-04-10T18:55:17.800Z"
   },
   {
    "duration": 603,
    "start_time": "2025-04-11T06:10:04.898Z"
   },
   {
    "duration": 120,
    "start_time": "2025-04-11T06:10:05.502Z"
   },
   {
    "duration": 33,
    "start_time": "2025-04-11T06:10:05.624Z"
   },
   {
    "duration": 2022,
    "start_time": "2025-04-11T06:10:05.659Z"
   },
   {
    "duration": 9,
    "start_time": "2025-04-11T06:10:07.683Z"
   },
   {
    "duration": 6,
    "start_time": "2025-04-11T06:10:07.694Z"
   },
   {
    "duration": 11,
    "start_time": "2025-04-11T06:10:07.701Z"
   },
   {
    "duration": 43,
    "start_time": "2025-04-11T06:10:07.713Z"
   },
   {
    "duration": 89,
    "start_time": "2025-04-11T06:10:07.758Z"
   },
   {
    "duration": 67,
    "start_time": "2025-04-11T06:10:07.849Z"
   },
   {
    "duration": 9,
    "start_time": "2025-04-11T06:10:07.918Z"
   },
   {
    "duration": 15,
    "start_time": "2025-04-11T06:10:07.929Z"
   },
   {
    "duration": 66,
    "start_time": "2025-04-11T06:10:07.946Z"
   },
   {
    "duration": 6,
    "start_time": "2025-04-11T06:10:08.015Z"
   },
   {
    "duration": 31,
    "start_time": "2025-04-11T06:10:08.023Z"
   },
   {
    "duration": 21,
    "start_time": "2025-04-11T06:10:08.055Z"
   },
   {
    "duration": 101,
    "start_time": "2025-04-11T06:10:08.078Z"
   },
   {
    "duration": 9,
    "start_time": "2025-04-11T06:10:08.180Z"
   },
   {
    "duration": 63,
    "start_time": "2025-04-11T06:10:08.190Z"
   },
   {
    "duration": 384,
    "start_time": "2025-04-11T06:10:08.254Z"
   },
   {
    "duration": 41,
    "start_time": "2025-04-11T06:10:08.640Z"
   },
   {
    "duration": 110,
    "start_time": "2025-04-11T06:10:08.683Z"
   },
   {
    "duration": 6,
    "start_time": "2025-04-11T06:10:08.795Z"
   },
   {
    "duration": 201,
    "start_time": "2025-04-11T06:10:08.802Z"
   },
   {
    "duration": 200,
    "start_time": "2025-04-11T06:10:09.005Z"
   },
   {
    "duration": 310,
    "start_time": "2025-04-11T06:10:09.207Z"
   },
   {
    "duration": 387,
    "start_time": "2025-04-11T06:10:09.518Z"
   },
   {
    "duration": 179,
    "start_time": "2025-04-11T06:10:09.907Z"
   },
   {
    "duration": 168,
    "start_time": "2025-04-11T06:10:10.088Z"
   },
   {
    "duration": 173,
    "start_time": "2025-04-11T06:10:10.258Z"
   },
   {
    "duration": 178,
    "start_time": "2025-04-11T06:10:10.432Z"
   },
   {
    "duration": 199,
    "start_time": "2025-04-11T06:10:10.611Z"
   },
   {
    "duration": 246,
    "start_time": "2025-04-11T06:10:10.812Z"
   },
   {
    "duration": 221,
    "start_time": "2025-04-11T06:10:11.060Z"
   },
   {
    "duration": 223,
    "start_time": "2025-04-11T06:10:11.283Z"
   },
   {
    "duration": 377,
    "start_time": "2025-04-11T06:10:11.507Z"
   },
   {
    "duration": 4,
    "start_time": "2025-04-11T06:10:11.886Z"
   },
   {
    "duration": 12,
    "start_time": "2025-04-11T06:10:11.891Z"
   },
   {
    "duration": 9,
    "start_time": "2025-04-11T06:10:11.905Z"
   },
   {
    "duration": 1170,
    "start_time": "2025-04-11T06:10:11.915Z"
   },
   {
    "duration": 5,
    "start_time": "2025-04-11T06:10:13.089Z"
   },
   {
    "duration": 1162,
    "start_time": "2025-04-11T06:10:13.096Z"
   },
   {
    "duration": 6,
    "start_time": "2025-04-11T06:10:14.259Z"
   },
   {
    "duration": 1204,
    "start_time": "2025-04-11T06:10:14.266Z"
   },
   {
    "duration": 5,
    "start_time": "2025-04-11T06:10:15.471Z"
   },
   {
    "duration": 1206,
    "start_time": "2025-04-11T06:10:15.478Z"
   },
   {
    "duration": 164,
    "start_time": "2025-04-11T06:10:16.686Z"
   },
   {
    "duration": 161,
    "start_time": "2025-04-11T06:10:16.852Z"
   },
   {
    "duration": 186,
    "start_time": "2025-04-11T06:10:17.014Z"
   },
   {
    "duration": 149,
    "start_time": "2025-04-11T06:10:17.202Z"
   },
   {
    "duration": 17,
    "start_time": "2025-04-11T06:10:17.355Z"
   },
   {
    "duration": 122,
    "start_time": "2025-04-11T06:10:17.374Z"
   },
   {
    "duration": 15,
    "start_time": "2025-04-11T06:10:17.498Z"
   },
   {
    "duration": 151,
    "start_time": "2025-04-11T06:10:17.514Z"
   },
   {
    "duration": 90,
    "start_time": "2025-04-11T06:10:32.093Z"
   },
   {
    "duration": 45,
    "start_time": "2025-04-11T06:19:56.561Z"
   },
   {
    "duration": 5,
    "start_time": "2025-04-11T06:22:39.558Z"
   },
   {
    "duration": 7,
    "start_time": "2025-04-11T06:22:49.846Z"
   },
   {
    "duration": 810,
    "start_time": "2025-08-06T10:48:44.161Z"
   },
   {
    "duration": 122,
    "start_time": "2025-08-06T10:48:44.973Z"
   },
   {
    "duration": 17,
    "start_time": "2025-08-06T10:48:45.096Z"
   },
   {
    "duration": 1921,
    "start_time": "2025-08-06T10:48:45.115Z"
   },
   {
    "duration": 10,
    "start_time": "2025-08-06T10:48:47.037Z"
   },
   {
    "duration": 23,
    "start_time": "2025-08-06T10:48:47.049Z"
   },
   {
    "duration": 9,
    "start_time": "2025-08-06T10:48:47.074Z"
   },
   {
    "duration": 22,
    "start_time": "2025-08-06T10:48:47.085Z"
   },
   {
    "duration": 11,
    "start_time": "2025-08-06T10:48:47.108Z"
   },
   {
    "duration": 29,
    "start_time": "2025-08-06T10:48:47.122Z"
   },
   {
    "duration": 9,
    "start_time": "2025-08-06T10:48:47.152Z"
   },
   {
    "duration": 32,
    "start_time": "2025-08-06T10:48:47.163Z"
   },
   {
    "duration": 52,
    "start_time": "2025-08-06T10:48:47.197Z"
   },
   {
    "duration": 8,
    "start_time": "2025-08-06T10:48:47.250Z"
   },
   {
    "duration": 54,
    "start_time": "2025-08-06T10:48:47.260Z"
   },
   {
    "duration": 50,
    "start_time": "2025-08-06T10:48:47.315Z"
   },
   {
    "duration": 378,
    "start_time": "2025-08-06T10:48:47.367Z"
   },
   {
    "duration": 26,
    "start_time": "2025-08-06T10:48:47.746Z"
   },
   {
    "duration": 99,
    "start_time": "2025-08-06T10:48:47.774Z"
   },
   {
    "duration": 6,
    "start_time": "2025-08-06T10:48:47.874Z"
   },
   {
    "duration": 43,
    "start_time": "2025-08-06T10:48:47.881Z"
   },
   {
    "duration": 187,
    "start_time": "2025-08-06T10:48:47.925Z"
   },
   {
    "duration": 283,
    "start_time": "2025-08-06T10:48:48.114Z"
   },
   {
    "duration": 368,
    "start_time": "2025-08-06T10:48:48.398Z"
   },
   {
    "duration": 165,
    "start_time": "2025-08-06T10:48:48.768Z"
   },
   {
    "duration": 156,
    "start_time": "2025-08-06T10:48:48.938Z"
   },
   {
    "duration": 163,
    "start_time": "2025-08-06T10:48:49.096Z"
   },
   {
    "duration": 185,
    "start_time": "2025-08-06T10:48:49.262Z"
   },
   {
    "duration": 220,
    "start_time": "2025-08-06T10:48:49.448Z"
   },
   {
    "duration": 218,
    "start_time": "2025-08-06T10:48:49.669Z"
   },
   {
    "duration": 282,
    "start_time": "2025-08-06T10:48:49.889Z"
   },
   {
    "duration": 5,
    "start_time": "2025-08-06T10:48:50.173Z"
   },
   {
    "duration": 6,
    "start_time": "2025-08-06T10:48:50.179Z"
   },
   {
    "duration": 6,
    "start_time": "2025-08-06T10:48:50.187Z"
   },
   {
    "duration": 1124,
    "start_time": "2025-08-06T10:48:50.195Z"
   },
   {
    "duration": 6,
    "start_time": "2025-08-06T10:48:51.320Z"
   },
   {
    "duration": 1068,
    "start_time": "2025-08-06T10:48:51.339Z"
   },
   {
    "duration": 6,
    "start_time": "2025-08-06T10:48:52.409Z"
   },
   {
    "duration": 1045,
    "start_time": "2025-08-06T10:48:52.416Z"
   },
   {
    "duration": 5,
    "start_time": "2025-08-06T10:48:53.463Z"
   },
   {
    "duration": 1073,
    "start_time": "2025-08-06T10:48:53.470Z"
   },
   {
    "duration": 146,
    "start_time": "2025-08-06T10:48:54.545Z"
   },
   {
    "duration": 138,
    "start_time": "2025-08-06T10:48:54.693Z"
   },
   {
    "duration": 160,
    "start_time": "2025-08-06T10:48:54.833Z"
   },
   {
    "duration": 135,
    "start_time": "2025-08-06T10:48:54.995Z"
   },
   {
    "duration": 17,
    "start_time": "2025-08-06T10:48:55.139Z"
   },
   {
    "duration": 30,
    "start_time": "2025-08-06T10:48:55.157Z"
   },
   {
    "duration": 16,
    "start_time": "2025-08-06T10:48:55.189Z"
   },
   {
    "duration": 158,
    "start_time": "2025-08-06T10:48:55.206Z"
   },
   {
    "duration": 128,
    "start_time": "2025-08-06T10:55:54.231Z"
   },
   {
    "duration": 830,
    "start_time": "2025-08-06T11:17:03.545Z"
   },
   {
    "duration": 264,
    "start_time": "2025-08-06T11:17:04.377Z"
   },
   {
    "duration": 16,
    "start_time": "2025-08-06T11:17:04.642Z"
   },
   {
    "duration": 2224,
    "start_time": "2025-08-06T11:17:04.660Z"
   },
   {
    "duration": 10,
    "start_time": "2025-08-06T11:17:06.885Z"
   },
   {
    "duration": 24,
    "start_time": "2025-08-06T11:17:06.897Z"
   },
   {
    "duration": 34,
    "start_time": "2025-08-06T11:17:06.922Z"
   },
   {
    "duration": 76,
    "start_time": "2025-08-06T11:17:06.958Z"
   },
   {
    "duration": 36,
    "start_time": "2025-08-06T11:17:07.036Z"
   },
   {
    "duration": 32,
    "start_time": "2025-08-06T11:17:07.074Z"
   },
   {
    "duration": 64,
    "start_time": "2025-08-06T11:17:07.108Z"
   },
   {
    "duration": 41,
    "start_time": "2025-08-06T11:17:07.174Z"
   },
   {
    "duration": 37,
    "start_time": "2025-08-06T11:17:07.217Z"
   },
   {
    "duration": 7,
    "start_time": "2025-08-06T11:17:07.256Z"
   },
   {
    "duration": 53,
    "start_time": "2025-08-06T11:17:07.264Z"
   },
   {
    "duration": 45,
    "start_time": "2025-08-06T11:17:07.319Z"
   },
   {
    "duration": 368,
    "start_time": "2025-08-06T11:17:07.366Z"
   },
   {
    "duration": 24,
    "start_time": "2025-08-06T11:17:07.739Z"
   },
   {
    "duration": 96,
    "start_time": "2025-08-06T11:17:07.765Z"
   },
   {
    "duration": 5,
    "start_time": "2025-08-06T11:17:07.863Z"
   },
   {
    "duration": 20,
    "start_time": "2025-08-06T11:17:07.869Z"
   },
   {
    "duration": 171,
    "start_time": "2025-08-06T11:17:07.890Z"
   },
   {
    "duration": 278,
    "start_time": "2025-08-06T11:17:08.063Z"
   },
   {
    "duration": 380,
    "start_time": "2025-08-06T11:17:08.343Z"
   },
   {
    "duration": 170,
    "start_time": "2025-08-06T11:17:08.725Z"
   },
   {
    "duration": 162,
    "start_time": "2025-08-06T11:17:08.897Z"
   },
   {
    "duration": 164,
    "start_time": "2025-08-06T11:17:09.061Z"
   },
   {
    "duration": 175,
    "start_time": "2025-08-06T11:17:09.229Z"
   },
   {
    "duration": 226,
    "start_time": "2025-08-06T11:17:09.406Z"
   },
   {
    "duration": 203,
    "start_time": "2025-08-06T11:17:09.639Z"
   },
   {
    "duration": 281,
    "start_time": "2025-08-06T11:17:09.844Z"
   },
   {
    "duration": 5,
    "start_time": "2025-08-06T11:17:10.126Z"
   },
   {
    "duration": 25,
    "start_time": "2025-08-06T11:17:10.140Z"
   },
   {
    "duration": 20,
    "start_time": "2025-08-06T11:17:10.167Z"
   },
   {
    "duration": 1130,
    "start_time": "2025-08-06T11:17:10.189Z"
   },
   {
    "duration": 6,
    "start_time": "2025-08-06T11:17:11.320Z"
   },
   {
    "duration": 1053,
    "start_time": "2025-08-06T11:17:11.340Z"
   },
   {
    "duration": 6,
    "start_time": "2025-08-06T11:17:12.394Z"
   },
   {
    "duration": 1070,
    "start_time": "2025-08-06T11:17:12.401Z"
   },
   {
    "duration": 6,
    "start_time": "2025-08-06T11:17:13.472Z"
   },
   {
    "duration": 1148,
    "start_time": "2025-08-06T11:17:13.480Z"
   },
   {
    "duration": 151,
    "start_time": "2025-08-06T11:17:14.629Z"
   },
   {
    "duration": 143,
    "start_time": "2025-08-06T11:17:14.782Z"
   },
   {
    "duration": 167,
    "start_time": "2025-08-06T11:17:14.927Z"
   },
   {
    "duration": 149,
    "start_time": "2025-08-06T11:17:15.095Z"
   },
   {
    "duration": 17,
    "start_time": "2025-08-06T11:17:15.245Z"
   },
   {
    "duration": 78,
    "start_time": "2025-08-06T11:17:15.264Z"
   },
   {
    "duration": 15,
    "start_time": "2025-08-06T11:17:15.344Z"
   },
   {
    "duration": 157,
    "start_time": "2025-08-06T11:17:15.360Z"
   },
   {
    "duration": 50,
    "start_time": "2025-08-06T12:06:16.082Z"
   },
   {
    "duration": 6,
    "start_time": "2025-08-06T12:09:35.551Z"
   },
   {
    "duration": 6,
    "start_time": "2025-08-06T12:11:12.285Z"
   },
   {
    "duration": 122,
    "start_time": "2025-08-06T12:14:17.714Z"
   },
   {
    "duration": 98,
    "start_time": "2025-08-06T12:16:18.869Z"
   }
  ],
  "colab": {
   "provenance": []
  },
  "kernelspec": {
   "display_name": "Python 3 (ipykernel)",
   "language": "python",
   "name": "python3"
  },
  "language_info": {
   "codemirror_mode": {
    "name": "ipython",
    "version": 3
   },
   "file_extension": ".py",
   "mimetype": "text/x-python",
   "name": "python",
   "nbconvert_exporter": "python",
   "pygments_lexer": "ipython3",
   "version": "3.9.5"
  },
  "toc": {
   "base_numbering": 1,
   "nav_menu": {},
   "number_sections": true,
   "sideBar": true,
   "skip_h1_title": true,
   "title_cell": "Table of Contents ",
   "title_sidebar": "Table of Contents ",
   "toc_cell": false,
   "toc_position": {
    "height": "calc(100% - 180px)",
    "left": "10px",
    "top": "150px",
    "width": "384px"
   },
   "toc_section_display": true,
   "toc_window_display": true
  }
 },
 "nbformat": 4,
 "nbformat_minor": 1
}
